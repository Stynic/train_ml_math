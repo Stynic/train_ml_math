{
 "cells": [
  {
   "cell_type": "markdown",
   "metadata": {
    "colab_type": "text",
    "id": "7n3JuiYu8izW"
   },
   "source": [
    "# Here is will be the practice for curse by statistics by week 1"
   ]
  },
  {
   "cell_type": "code",
   "execution_count": 3,
   "metadata": {},
   "outputs": [],
   "source": [
    "# create functino for stardart deviation\n",
    "import numpy as np\n",
    "\n",
    "def sd(_set):\n",
    "    mean = sum(_set) / len(_set)\n",
    "    print(f'mean:{mean}')\n",
    "    return np.sqrt(sum([(i - mean)**2 for i in _set]) / (len(_set) - 1))"
   ]
  },
  {
   "cell_type": "code",
   "execution_count": 4,
   "metadata": {},
   "outputs": [],
   "source": [
    "X1 = {1, 3, 2, 4, 5, 7, 1, 8}\n",
    "X2 = {100, 300, 250, 400, 230, 280, 320, 112}\n",
    "X3 = {15, 10, 13, 7, 28, 31, 20, 32}\n",
    "X4 = {1, 5, 2, 7, 1, 9, 3, 8, 5, 9}"
   ]
  },
  {
   "cell_type": "code",
   "execution_count": 5,
   "metadata": {},
   "outputs": [
    {
     "name": "stdout",
     "output_type": "stream",
     "text": [
      "mean:4.285714285714286\n"
     ]
    },
    {
     "data": {
      "text/plain": [
       "2.563479777846623"
      ]
     },
     "execution_count": 5,
     "metadata": {},
     "output_type": "execute_result"
    }
   ],
   "source": [
    "sd(X1)"
   ]
  },
  {
   "cell_type": "code",
   "execution_count": 6,
   "metadata": {},
   "outputs": [
    {
     "name": "stdout",
     "output_type": "stream",
     "text": [
      "mean:249.0\n"
     ]
    },
    {
     "data": {
      "text/plain": [
       "101.93555387036038"
      ]
     },
     "execution_count": 6,
     "metadata": {},
     "output_type": "execute_result"
    }
   ],
   "source": [
    "sd(X2)"
   ]
  },
  {
   "cell_type": "code",
   "execution_count": 7,
   "metadata": {},
   "outputs": [
    {
     "name": "stdout",
     "output_type": "stream",
     "text": [
      "mean:19.5\n"
     ]
    },
    {
     "data": {
      "text/plain": [
       "9.783367810436532"
      ]
     },
     "execution_count": 7,
     "metadata": {},
     "output_type": "execute_result"
    }
   ],
   "source": [
    "sd(X3)"
   ]
  },
  {
   "cell_type": "code",
   "execution_count": 8,
   "metadata": {},
   "outputs": [
    {
     "name": "stdout",
     "output_type": "stream",
     "text": [
      "mean:4.285714285714286\n",
      "mean:249.0\n",
      "mean:19.5\n"
     ]
    },
    {
     "data": {
      "text/plain": [
       "101.93555387036038"
      ]
     },
     "execution_count": 8,
     "metadata": {},
     "output_type": "execute_result"
    }
   ],
   "source": [
    "max(sd(X1), sd(X2), sd(X3))"
   ]
  },
  {
   "cell_type": "code",
   "execution_count": 9,
   "metadata": {},
   "outputs": [
    {
     "name": "stdout",
     "output_type": "stream",
     "text": [
      "mean:5.0\n"
     ]
    },
    {
     "data": {
      "text/plain": [
       "3.1091263510296048"
      ]
     },
     "execution_count": 9,
     "metadata": {},
     "output_type": "execute_result"
    }
   ],
   "source": [
    "sd(X4)"
   ]
  },
  {
   "cell_type": "code",
   "execution_count": 10,
   "metadata": {},
   "outputs": [
    {
     "data": {
      "text/plain": [
       "2.888888888888889"
      ]
     },
     "execution_count": 10,
     "metadata": {},
     "output_type": "execute_result"
    }
   ],
   "source": [
    "26/9"
   ]
  },
  {
   "cell_type": "code",
   "execution_count": 11,
   "metadata": {},
   "outputs": [
    {
     "data": {
      "text/plain": [
       "425"
      ]
     },
     "execution_count": 11,
     "metadata": {},
     "output_type": "execute_result"
    }
   ],
   "source": [
    "25*17"
   ]
  },
  {
   "cell_type": "code",
   "execution_count": 16,
   "metadata": {},
   "outputs": [
    {
     "data": {
      "text/plain": [
       "-7.807764064044152"
      ]
     },
     "execution_count": 16,
     "metadata": {},
     "output_type": "execute_result"
    }
   ],
   "source": [
    "x1 = (5 - 5 * np.sqrt(17)) / 2\n",
    "x1"
   ]
  },
  {
   "cell_type": "code",
   "execution_count": 17,
   "metadata": {},
   "outputs": [
    {
     "data": {
      "text/plain": [
       "12.807764064044152"
      ]
     },
     "execution_count": 17,
     "metadata": {},
     "output_type": "execute_result"
    }
   ],
   "source": [
    "x2 = (5 + 5 * np.sqrt(17)) / 2\n",
    "x2"
   ]
  },
  {
   "cell_type": "code",
   "execution_count": 18,
   "metadata": {},
   "outputs": [
    {
     "data": {
      "text/plain": [
       "-100.00000000000001"
      ]
     },
     "execution_count": 18,
     "metadata": {},
     "output_type": "execute_result"
    }
   ],
   "source": [
    "x1 * x2"
   ]
  },
  {
   "cell_type": "code",
   "execution_count": 21,
   "metadata": {},
   "outputs": [],
   "source": [
    "import numpy as np\n",
    "import pandas as pd\n",
    "import seaborn as sns"
   ]
  },
  {
   "cell_type": "code",
   "execution_count": 25,
   "metadata": {},
   "outputs": [],
   "source": [
    "set1 = np.random.sample(100)"
   ]
  },
  {
   "cell_type": "code",
   "execution_count": 26,
   "metadata": {},
   "outputs": [
    {
     "data": {
      "text/plain": [
       "<AxesSubplot:>"
      ]
     },
     "execution_count": 26,
     "metadata": {},
     "output_type": "execute_result"
    },
    {
     "data": {
      "image/png": "[encoded data removed]",
      "text/plain": [
       "<Figure size 432x288 with 1 Axes>"
      ]
     },
     "metadata": {
      "needs_background": "light"
     },
     "output_type": "display_data"
    }
   ],
   "source": [
    "df = pd.DataFrame({'price': set1})\n",
    "df.plot.box()"
   ]
  },
  {
   "cell_type": "code",
   "execution_count": 27,
   "metadata": {},
   "outputs": [
    {
     "data": {
      "text/plain": [
       "<AxesSubplot:>"
      ]
     },
     "execution_count": 27,
     "metadata": {},
     "output_type": "execute_result"
    },
    {
     "data": {
      "image/png": "[encoded data removed]",
      "text/plain": [
       "<Figure size 432x288 with 1 Axes>"
      ]
     },
     "metadata": {
      "needs_background": "light"
     },
     "output_type": "display_data"
    }
   ],
   "source": [
    "sns.boxplot(y=set1)"
   ]
  },
  {
   "cell_type": "code",
   "execution_count": 1,
   "metadata": {},
   "outputs": [],
   "source": [
    "import numpy as np"
   ]
  },
  {
   "cell_type": "code",
   "execution_count": 10,
   "metadata": {},
   "outputs": [
    {
     "data": {
      "text/plain": [
       "range(1, 1000000002)"
      ]
     },
     "execution_count": 10,
     "metadata": {},
     "output_type": "execute_result"
    }
   ],
   "source": [
    "positive_integers = range(1, 1_000_000_002)\n",
    "positive_integers"
   ]
  },
  {
   "cell_type": "markdown",
   "metadata": {},
   "source": [
    "## write the code which to calculate sum of the positive integers\n",
    "\n",
    "Написать код, который вычисляет сумму всех чисел, удовлетворяющих следующие условия:\n",
    "\n",
    "положительные целые числа от 1 до 1_000_000_002 (один миллиард два) включительно\n",
    "которые нацело (без остатка) делятся на 3 (пример: 3, 6, 9, ...)\n",
    "и которые не заканчиваются на 4 и 7 (пример заканчивающихся на 4 и 7: 24, 27, 54, 57 ...)"
   ]
  },
  {
   "cell_type": "code",
   "execution_count": 24,
   "metadata": {},
   "outputs": [],
   "source": [
    "def sum_positive_integers(start_range, end_range):\n",
    "    sum_integers = 0\n",
    "    positive_integers = range(start_range, end_range)\n",
    "    for integer in positive_integers:\n",
    "        if integer % 3 == 0 and integer % 10 not in (4, 7):\n",
    "            sum_integers += integer\n",
    "    print(sum_integers)"
   ]
  },
  {
   "cell_type": "code",
   "execution_count": 25,
   "metadata": {},
   "outputs": [
    {
     "name": "stdout",
     "output_type": "stream",
     "text": [
      "666\n"
     ]
    }
   ],
   "source": [
    "sum_positive_integers(1, 70)"
   ]
  },
  {
   "cell_type": "code",
   "execution_count": 26,
   "metadata": {},
   "outputs": [
    {
     "name": "stdout",
     "output_type": "stream",
     "text": [
      "133333333466666670\n"
     ]
    }
   ],
   "source": [
    "sum_positive_integers(1, 1_000_000_002)"
   ]
  },
  {
   "cell_type": "code",
   "execution_count": 8,
   "metadata": {},
   "outputs": [],
   "source": [
    "# calculate to value for z-standardization\n",
    "mean = 175\n",
    "sd = 8\n",
    "\n",
    "def standardization(x):\n",
    "    print(f'number z= {round((x - mean) / sd, 3)} for current x')"
   ]
  },
  {
   "cell_type": "code",
   "execution_count": 9,
   "metadata": {},
   "outputs": [
    {
     "name": "stdout",
     "output_type": "stream",
     "text": [
      "number z= 1.4 for current x\n"
     ]
    }
   ],
   "source": [
    "standardization(186.2)"
   ]
  },
  {
   "cell_type": "markdown",
   "metadata": {},
   "source": [
    "## task 2 for ods.ai\n",
    "\n",
    "На вход поступает текстовый файл из 3-х тысяч строк\n",
    "\n",
    "Формат файла:\n",
    "    \"арифметическая операция\"    \"целое число #1\"    \"целое число #2\"\n",
    "Разделитель - 4 пробела\n",
    "\n",
    "\n",
    "Нужно подготовить текстовый файл из 1 строки.\n",
    "Строка содержит набор из 3-х тысяч чисел, разделенных запятой. \n",
    "После последнего числа запятая не ставится.\n",
    "каждое число - результат операции: \n",
    "    \"результирующее целое число\" = \"целое число #1\" применить \"арифметическая операция\" \"целое число #2\"\n",
    "\n",
    "Пример входного файла:\n",
    "\n",
    "`+    5    4`<br>\n",
    "`-    -10449    -7623`<br>\n",
    "`**    2    10`<br>\n",
    "\n",
    "Пример выходного файла (для примера входного файла выше):\n",
    "\n",
    "`9,-2826,1024`\n",
    "    \n",
    "Допустимые операции:\n",
    "\n",
    "+ (сложение)\n",
    "- (вычитание)\n",
    "* (умножение)\n",
    "// (целочисленное деление) (для этой операции подаются только положительные числа)\n",
    "% (остаток от деления) (для этой операции подаются только положительные числа)\n",
    "** (возведение в степень) (для этой операции подаются только положительные числа)\n",
    "    \n",
    "Входные числа - только целые.\n",
    "Выходные числа - только целые"
   ]
  },
  {
   "cell_type": "code",
   "execution_count": 131,
   "metadata": {},
   "outputs": [],
   "source": [
    "import re\n",
    "\n",
    "\n",
    "def calculate_handler(path):\n",
    "\n",
    "    def calculate_expression(expression):\n",
    "        operation, f_integer, s_integer = [\n",
    "            symbol for symbol in re.split(r'\\s', expression) if bool(symbol)]\n",
    "        return str(eval(f'{f_integer} {operation} {s_integer}'))\n",
    "\n",
    "    with open(path, 'r') as rfile, open('result_file.txt', 'w') as wfile:\n",
    "        sfile = []\n",
    "        for expression in rfile.readlines():\n",
    "            sfile.append(calculate_expression(expression))\n",
    "        wfile.writelines([f'{line},' if len(\n",
    "            sfile)-1 != index else line for index, line in enumerate(sfile)])"
   ]
  },
  {
   "cell_type": "code",
   "execution_count": 132,
   "metadata": {},
   "outputs": [],
   "source": [
    "calculate_handler('test_input_file_1.txt')"
   ]
  },
  {
   "cell_type": "code",
   "execution_count": 133,
   "metadata": {},
   "outputs": [
    {
     "name": "stdout",
     "output_type": "stream",
     "text": [
      "True\n"
     ]
    }
   ],
   "source": [
    "with open('test_output_file_1.txt', 'r') as test_output, open('result_file.txt', 'r') as result_file:\n",
    "    print(test_output.readlines() == result_file.readlines())"
   ]
  },
  {
   "cell_type": "code",
   "execution_count": 143,
   "metadata": {},
   "outputs": [
    {
     "data": {
      "text/plain": [
       "[<matplotlib.lines.Line2D at 0x7fc37d9dc670>]"
      ]
     },
     "execution_count": 143,
     "metadata": {},
     "output_type": "execute_result"
    },
    {
     "data": {
      "image/png": "[encoded data removed]",
      "text/plain": [
       "<Figure size 432x288 with 1 Axes>"
      ]
     },
     "metadata": {
      "needs_background": "light"
     },
     "output_type": "display_data"
    }
   ],
   "source": [
    "import matplotlib.pyplot as plt\n",
    "import numpy as np\n",
    "import scipy.stats as stats\n",
    "\n",
    "mu = 0\n",
    "variance = 1\n",
    "sigma = np.sqrt(variance)\n",
    "x = np.linspace(mu - 3*sigma, mu + 3*sigma, 1000)\n",
    "plt.plot(x, stats.norm.pdf(x, mu, sigma))"
   ]
  },
  {
   "cell_type": "code",
   "execution_count": 159,
   "metadata": {},
   "outputs": [
    {
     "name": "stdout",
     "output_type": "stream",
     "text": [
      "number z = 1.667 for current 125\n",
      "in percent 4.776%\n"
     ]
    },
    {
     "data": {
      "image/png": "[encoded data removed]",
      "text/plain": [
       "<Figure size 432x288 with 1 Axes>"
      ]
     },
     "metadata": {
      "needs_background": "light"
     },
     "output_type": "display_data"
    }
   ],
   "source": [
    "import scipy.stats as stats\n",
    "def standardization(x):\n",
    "    z = round((x - mu) / sigma, 3)\n",
    "    print(f'number z = {z} for current {x}\\n'+ \n",
    "          f'in percent {round((1 - stats.norm.cdf(z)) * 100, 3)}%')\n",
    "\n",
    "mu = 100\n",
    "# variance = 25 \n",
    "# sigma = np.sqrt(variance)\n",
    "sigma = 15\n",
    "x = np.linspace(mu - 3*sigma, mu + 3*sigma, 1000)\n",
    "plt.plot(x, stats.norm.pdf(x, mu, sigma))\n"
   ]
  },
  {
   "cell_type": "markdown",
   "metadata": {},
   "source": [
    "##  task for statistics\n",
    "1) Считается, что значение IQ (уровень интеллекта) у людей имеет нормальное распределение со средним значением равным 100 и стандартным отклонением равным 15 (M = 100, sd = 15).\n",
    "Какой приблизительно процент людей обладает IQ > 125?\n",
    "\n",
    "2) Считается, что значение IQ (уровень интеллекта) у людей имеет нормальное распределение со средним значением равным 100 и стандартным отклонением равным 15 (M = 100, sd = 15).\n",
    "\n",
    "Какой приблизительно процент людей обладает IQ  на промежутке от 70 до 112 "
   ]
  },
  {
   "cell_type": "code",
   "execution_count": 163,
   "metadata": {},
   "outputs": [
    {
     "name": "stdout",
     "output_type": "stream",
     "text": [
      "number z = 1.667 for current 125\n",
      "in percent 4.776%\n"
     ]
    }
   ],
   "source": [
    "# first task\n",
    "x = 125\n",
    "standardization(x)"
   ]
  },
  {
   "cell_type": "code",
   "execution_count": 162,
   "metadata": {},
   "outputs": [],
   "source": [
    "# second task"
   ]
  },
  {
   "cell_type": "code",
   "execution_count": 166,
   "metadata": {},
   "outputs": [],
   "source": [
    "import scipy.stats as stats\n",
    "def standardization(x):\n",
    "    z = round((x - mu) / sigma, 3)\n",
    "    return round((1 - stats.norm.cdf(z)) * 100, 3)\n",
    "\n",
    "mu = 100\n",
    "# variance = 25 \n",
    "# sigma = np.sqrt(variance)\n",
    "sigma = 15\n"
   ]
  },
  {
   "cell_type": "code",
   "execution_count": 169,
   "metadata": {},
   "outputs": [
    {
     "data": {
      "text/plain": [
       "-76.53899999999999"
      ]
     },
     "execution_count": 169,
     "metadata": {},
     "output_type": "execute_result"
    }
   ],
   "source": [
    "standardization(112) - standardization(70)"
   ]
  },
  {
   "cell_type": "code",
   "execution_count": null,
   "metadata": {},
   "outputs": [],
   "source": []
  }
 ],
 "metadata": {
  "colab": {
   "collapsed_sections": [],
   "name": "stat_practice1_wo_answers.ipynb",
   "provenance": []
  },
  "kernelspec": {
   "display_name": "Python 3 (ipykernel)",
   "language": "python",
   "name": "python3"
  },
  "language_info": {
   "codemirror_mode": {
    "name": "ipython",
    "version": 3
   },
   "file_extension": ".py",
   "mimetype": "text/x-python",
   "name": "python",
   "nbconvert_exporter": "python",
   "pygments_lexer": "ipython3",
   "version": "3.10.2"
  },
  "toc": {
   "base_numbering": 1,
   "nav_menu": {},
   "number_sections": true,
   "sideBar": true,
   "skip_h1_title": false,
   "title_cell": "Table of Contents",
   "title_sidebar": "Contents",
   "toc_cell": false,
   "toc_position": {},
   "toc_section_display": true,
   "toc_window_display": false
  }
 },
 "nbformat": 4,
 "nbformat_minor": 1
}
