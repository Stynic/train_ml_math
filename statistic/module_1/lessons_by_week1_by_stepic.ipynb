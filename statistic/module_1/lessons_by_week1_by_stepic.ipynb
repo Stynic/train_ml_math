{
 "cells": [
  {
   "cell_type": "markdown",
   "metadata": {
    "colab_type": "text",
    "id": "7n3JuiYu8izW"
   },
   "source": [
    "# Here is will be the practice for curse by statistics by week 1"
   ]
  },
  {
   "cell_type": "code",
   "execution_count": 3,
   "metadata": {},
   "outputs": [],
   "source": [
    "# create functino for stardart deviation\n",
    "import numpy as np\n",
    "\n",
    "def sd(_set):\n",
    "    mean = sum(_set) / len(_set)\n",
    "    print(f'mean:{mean}')\n",
    "    return np.sqrt(sum([(i - mean)**2 for i in _set]) / (len(_set) - 1))"
   ]
  },
  {
   "cell_type": "code",
   "execution_count": 4,
   "metadata": {},
   "outputs": [],
   "source": [
    "X1 = {1, 3, 2, 4, 5, 7, 1, 8}\n",
    "X2 = {100, 300, 250, 400, 230, 280, 320, 112}\n",
    "X3 = {15, 10, 13, 7, 28, 31, 20, 32}\n",
    "X4 = {1, 5, 2, 7, 1, 9, 3, 8, 5, 9}"
   ]
  },
  {
   "cell_type": "code",
   "execution_count": 5,
   "metadata": {},
   "outputs": [
    {
     "name": "stdout",
     "output_type": "stream",
     "text": [
      "mean:4.285714285714286\n"
     ]
    },
    {
     "data": {
      "text/plain": [
       "2.563479777846623"
      ]
     },
     "execution_count": 5,
     "metadata": {},
     "output_type": "execute_result"
    }
   ],
   "source": [
    "sd(X1)"
   ]
  },
  {
   "cell_type": "code",
   "execution_count": 6,
   "metadata": {},
   "outputs": [
    {
     "name": "stdout",
     "output_type": "stream",
     "text": [
      "mean:249.0\n"
     ]
    },
    {
     "data": {
      "text/plain": [
       "101.93555387036038"
      ]
     },
     "execution_count": 6,
     "metadata": {},
     "output_type": "execute_result"
    }
   ],
   "source": [
    "sd(X2)"
   ]
  },
  {
   "cell_type": "code",
   "execution_count": 7,
   "metadata": {},
   "outputs": [
    {
     "name": "stdout",
     "output_type": "stream",
     "text": [
      "mean:19.5\n"
     ]
    },
    {
     "data": {
      "text/plain": [
       "9.783367810436532"
      ]
     },
     "execution_count": 7,
     "metadata": {},
     "output_type": "execute_result"
    }
   ],
   "source": [
    "sd(X3)"
   ]
  },
  {
   "cell_type": "code",
   "execution_count": 8,
   "metadata": {},
   "outputs": [
    {
     "name": "stdout",
     "output_type": "stream",
     "text": [
      "mean:4.285714285714286\n",
      "mean:249.0\n",
      "mean:19.5\n"
     ]
    },
    {
     "data": {
      "text/plain": [
       "101.93555387036038"
      ]
     },
     "execution_count": 8,
     "metadata": {},
     "output_type": "execute_result"
    }
   ],
   "source": [
    "max(sd(X1), sd(X2), sd(X3))"
   ]
  },
  {
   "cell_type": "code",
   "execution_count": 9,
   "metadata": {},
   "outputs": [
    {
     "name": "stdout",
     "output_type": "stream",
     "text": [
      "mean:5.0\n"
     ]
    },
    {
     "data": {
      "text/plain": [
       "3.1091263510296048"
      ]
     },
     "execution_count": 9,
     "metadata": {},
     "output_type": "execute_result"
    }
   ],
   "source": [
    "sd(X4)"
   ]
  },
  {
   "cell_type": "code",
   "execution_count": 10,
   "metadata": {},
   "outputs": [
    {
     "data": {
      "text/plain": [
       "2.888888888888889"
      ]
     },
     "execution_count": 10,
     "metadata": {},
     "output_type": "execute_result"
    }
   ],
   "source": [
    "26/9"
   ]
  },
  {
   "cell_type": "code",
   "execution_count": 11,
   "metadata": {},
   "outputs": [
    {
     "data": {
      "text/plain": [
       "425"
      ]
     },
     "execution_count": 11,
     "metadata": {},
     "output_type": "execute_result"
    }
   ],
   "source": [
    "25*17"
   ]
  },
  {
   "cell_type": "code",
   "execution_count": 16,
   "metadata": {},
   "outputs": [
    {
     "data": {
      "text/plain": [
       "-7.807764064044152"
      ]
     },
     "execution_count": 16,
     "metadata": {},
     "output_type": "execute_result"
    }
   ],
   "source": [
    "x1 = (5 - 5 * np.sqrt(17)) / 2\n",
    "x1"
   ]
  },
  {
   "cell_type": "code",
   "execution_count": 17,
   "metadata": {},
   "outputs": [
    {
     "data": {
      "text/plain": [
       "12.807764064044152"
      ]
     },
     "execution_count": 17,
     "metadata": {},
     "output_type": "execute_result"
    }
   ],
   "source": [
    "x2 = (5 + 5 * np.sqrt(17)) / 2\n",
    "x2"
   ]
  },
  {
   "cell_type": "code",
   "execution_count": 18,
   "metadata": {},
   "outputs": [
    {
     "data": {
      "text/plain": [
       "-100.00000000000001"
      ]
     },
     "execution_count": 18,
     "metadata": {},
     "output_type": "execute_result"
    }
   ],
   "source": [
    "x1 * x2"
   ]
  },
  {
   "cell_type": "code",
   "execution_count": 21,
   "metadata": {},
   "outputs": [],
   "source": [
    "import numpy as np\n",
    "import pandas as pd\n",
    "import seaborn as sns"
   ]
  },
  {
   "cell_type": "code",
   "execution_count": 25,
   "metadata": {},
   "outputs": [],
   "source": [
    "set1 = np.random.sample(100)"
   ]
  },
  {
   "cell_type": "code",
   "execution_count": 26,
   "metadata": {},
   "outputs": [
    {
     "data": {
      "text/plain": [
       "<AxesSubplot:>"
      ]
     },
     "execution_count": 26,
     "metadata": {},
     "output_type": "execute_result"
    },
    {
     "data": {
      "image/png": "[encoded data removed]",
      "text/plain": [
       "<Figure size 432x288 with 1 Axes>"
      ]
     },
     "metadata": {
      "needs_background": "light"
     },
     "output_type": "display_data"
    }
   ],
   "source": [
    "df = pd.DataFrame({'price': set1})\n",
    "df.plot.box()"
   ]
  },
  {
   "cell_type": "code",
   "execution_count": 27,
   "metadata": {},
   "outputs": [
    {
     "data": {
      "text/plain": [
       "<AxesSubplot:>"
      ]
     },
     "execution_count": 27,
     "metadata": {},
     "output_type": "execute_result"
    },
    {
     "data": {
      "image/png": "[encoded data removed]",
      "text/plain": [
       "<Figure size 432x288 with 1 Axes>"
      ]
     },
     "metadata": {
      "needs_background": "light"
     },
     "output_type": "display_data"
    }
   ],
   "source": [
    "sns.boxplot(y=set1)"
   ]
  },
  {
   "cell_type": "code",
   "execution_count": 1,
   "metadata": {},
   "outputs": [],
   "source": [
    "import numpy as np"
   ]
  },
  {
   "cell_type": "code",
   "execution_count": 10,
   "metadata": {},
   "outputs": [
    {
     "data": {
      "text/plain": [
       "range(1, 1000000002)"
      ]
     },
     "execution_count": 10,
     "metadata": {},
     "output_type": "execute_result"
    }
   ],
   "source": [
    "positive_integers = range(1, 1_000_000_002)\n",
    "positive_integers"
   ]
  },
  {
   "cell_type": "markdown",
   "metadata": {},
   "source": [
    "## write the code which to calculate sum of the positive integers\n",
    "\n",
    "Написать код, который вычисляет сумму всех чисел, удовлетворяющих следующие условия:\n",
    "\n",
    "положительные целые числа от 1 до 1_000_000_002 (один миллиард два) включительно\n",
    "которые нацело (без остатка) делятся на 3 (пример: 3, 6, 9, ...)\n",
    "и которые не заканчиваются на 4 и 7 (пример заканчивающихся на 4 и 7: 24, 27, 54, 57 ...)"
   ]
  },
  {
   "cell_type": "code",
   "execution_count": 24,
   "metadata": {},
   "outputs": [],
   "source": [
    "def sum_positive_integers(start_range, end_range):\n",
    "    sum_integers = 0\n",
    "    positive_integers = range(start_range, end_range)\n",
    "    for integer in positive_integers:\n",
    "        if integer % 3 == 0 and integer % 10 not in (4, 7):\n",
    "            sum_integers += integer\n",
    "    print(sum_integers)"
   ]
  },
  {
   "cell_type": "code",
   "execution_count": 25,
   "metadata": {},
   "outputs": [
    {
     "name": "stdout",
     "output_type": "stream",
     "text": [
      "666\n"
     ]
    }
   ],
   "source": [
    "sum_positive_integers(1, 70)"
   ]
  },
  {
   "cell_type": "code",
   "execution_count": 26,
   "metadata": {},
   "outputs": [
    {
     "name": "stdout",
     "output_type": "stream",
     "text": [
      "133333333466666670\n"
     ]
    }
   ],
   "source": [
    "sum_positive_integers(1, 1_000_000_002)"
   ]
  },
  {
   "cell_type": "code",
   "execution_count": 8,
   "metadata": {},
   "outputs": [],
   "source": [
    "# calculate to value for z-standardization\n",
    "mean = 175\n",
    "sd = 8\n",
    "\n",
    "def standardization(x):\n",
    "    print(f'number z= {round((x - mean) / sd, 3)} for current x')"
   ]
  },
  {
   "cell_type": "code",
   "execution_count": 9,
   "metadata": {},
   "outputs": [
    {
     "name": "stdout",
     "output_type": "stream",
     "text": [
      "number z= 1.4 for current x\n"
     ]
    }
   ],
   "source": [
    "standardization(186.2)"
   ]
  },
  {
   "cell_type": "markdown",
   "metadata": {},
   "source": [
    "## task 2 for ods.ai\n",
    "\n",
    "На вход поступает текстовый файл из 3-х тысяч строк\n",
    "\n",
    "Формат файла:\n",
    "    \"арифметическая операция\"    \"целое число #1\"    \"целое число #2\"\n",
    "Разделитель - 4 пробела\n",
    "\n",
    "\n",
    "Нужно подготовить текстовый файл из 1 строки.\n",
    "Строка содержит набор из 3-х тысяч чисел, разделенных запятой. \n",
    "После последнего числа запятая не ставится.\n",
    "каждое число - результат операции: \n",
    "    \"результирующее целое число\" = \"целое число #1\" применить \"арифметическая операция\" \"целое число #2\"\n",
    "\n",
    "Пример входного файла:\n",
    "\n",
    "`+    5    4`<br>\n",
    "`-    -10449    -7623`<br>\n",
    "`**    2    10`<br>\n",
    "\n",
    "Пример выходного файла (для примера входного файла выше):\n",
    "\n",
    "`9,-2826,1024`\n",
    "    \n",
    "Допустимые операции:\n",
    "\n",
    "+ (сложение)\n",
    "- (вычитание)\n",
    "* (умножение)\n",
    "// (целочисленное деление) (для этой операции подаются только положительные числа)\n",
    "% (остаток от деления) (для этой операции подаются только положительные числа)\n",
    "** (возведение в степень) (для этой операции подаются только положительные числа)\n",
    "    \n",
    "Входные числа - только целые.\n",
    "Выходные числа - только целые"
   ]
  },
  {
   "cell_type": "code",
   "execution_count": 131,
   "metadata": {},
   "outputs": [],
   "source": [
    "import re\n",
    "\n",
    "\n",
    "def calculate_handler(path):\n",
    "\n",
    "    def calculate_expression(expression):\n",
    "        operation, f_integer, s_integer = [\n",
    "            symbol for symbol in re.split(r'\\s', expression) if bool(symbol)]\n",
    "        return str(eval(f'{f_integer} {operation} {s_integer}'))\n",
    "\n",
    "    with open(path, 'r') as rfile, open('result_file.txt', 'w') as wfile:\n",
    "        sfile = []\n",
    "        for expression in rfile.readlines():\n",
    "            sfile.append(calculate_expression(expression))\n",
    "        wfile.writelines([f'{line},' if len(\n",
    "            sfile)-1 != index else line for index, line in enumerate(sfile)])"
   ]
  },
  {
   "cell_type": "code",
   "execution_count": 132,
   "metadata": {},
   "outputs": [],
   "source": [
    "calculate_handler('test_input_file_1.txt')"
   ]
  },
  {
   "cell_type": "code",
   "execution_count": 133,
   "metadata": {},
   "outputs": [
    {
     "name": "stdout",
     "output_type": "stream",
     "text": [
      "True\n"
     ]
    }
   ],
   "source": [
    "with open('test_output_file_1.txt', 'r') as test_output, open('result_file.txt', 'r') as result_file:\n",
    "    print(test_output.readlines() == result_file.readlines())"
   ]
  },
  {
   "cell_type": "code",
   "execution_count": 143,
   "metadata": {},
   "outputs": [
    {
     "data": {
      "text/plain": [
       "[<matplotlib.lines.Line2D at 0x7fc37d9dc670>]"
      ]
     },
     "execution_count": 143,
     "metadata": {},
     "output_type": "execute_result"
    },
    {
     "data": {
      "image/png": "[encoded data removed]",
      "text/plain": [
       "<Figure size 432x288 with 1 Axes>"
      ]
     },
     "metadata": {
      "needs_background": "light"
     },
     "output_type": "display_data"
    }
   ],
   "source": [
    "import matplotlib.pyplot as plt\n",
    "import numpy as np\n",
    "import scipy.stats as stats\n",
    "\n",
    "mu = 0\n",
    "variance = 1\n",
    "sigma = np.sqrt(variance)\n",
    "x = np.linspace(mu - 3*sigma, mu + 3*sigma, 1000)\n",
    "plt.plot(x, stats.norm.pdf(x, mu, sigma))"
   ]
  },
  {
   "cell_type": "code",
   "execution_count": 159,
   "metadata": {},
   "outputs": [
    {
     "name": "stdout",
     "output_type": "stream",
     "text": [
      "number z = 1.667 for current 125\n",
      "in percent 4.776%\n"
     ]
    },
    {
     "data": {
      "image/png": "[encoded data removed]",
      "text/plain": [
       "<Figure size 432x288 with 1 Axes>"
      ]
     },
     "metadata": {
      "needs_background": "light"
     },
     "output_type": "display_data"
    }
   ],
   "source": [
    "import scipy.stats as stats\n",
    "def standardization(x):\n",
    "    z = round((x - mu) / sigma, 3)\n",
    "    print(f'number z = {z} for current {x}\\n'+ \n",
    "          f'in percent {round((1 - stats.norm.cdf(z)) * 100, 3)}%')\n",
    "\n",
    "mu = 100\n",
    "# variance = 25 \n",
    "# sigma = np.sqrt(variance)\n",
    "sigma = 15\n",
    "x = np.linspace(mu - 3*sigma, mu + 3*sigma, 1000)\n",
    "plt.plot(x, stats.norm.pdf(x, mu, sigma))\n"
   ]
  },
  {
   "cell_type": "markdown",
   "metadata": {},
   "source": [
    "##  task for statistics\n",
    "1) Считается, что значение IQ (уровень интеллекта) у людей имеет нормальное распределение со средним значением равным 100 и стандартным отклонением равным 15 (M = 100, sd = 15).\n",
    "Какой приблизительно процент людей обладает IQ > 125?\n",
    "\n",
    "2) Считается, что значение IQ (уровень интеллекта) у людей имеет нормальное распределение со средним значением равным 100 и стандартным отклонением равным 15 (M = 100, sd = 15).\n",
    "\n",
    "Какой приблизительно процент людей обладает IQ  на промежутке от 70 до 112 "
   ]
  },
  {
   "cell_type": "code",
   "execution_count": 163,
   "metadata": {},
   "outputs": [
    {
     "name": "stdout",
     "output_type": "stream",
     "text": [
      "number z = 1.667 for current 125\n",
      "in percent 4.776%\n"
     ]
    }
   ],
   "source": [
    "# first task\n",
    "x = 125\n",
    "standardization(x)"
   ]
  },
  {
   "cell_type": "code",
   "execution_count": 162,
   "metadata": {},
   "outputs": [],
   "source": [
    "# second task"
   ]
  },
  {
   "cell_type": "code",
   "execution_count": 166,
   "metadata": {},
   "outputs": [],
   "source": [
    "import scipy.stats as stats\n",
    "def standardization(x):\n",
    "    z = round((x - mu) / sigma, 3)\n",
    "    return round((1 - stats.norm.cdf(z)) * 100, 3)\n",
    "\n",
    "mu = 100\n",
    "# variance = 25 \n",
    "# sigma = np.sqrt(variance)\n",
    "sigma = 15\n"
   ]
  },
  {
   "cell_type": "code",
   "execution_count": 169,
   "metadata": {},
   "outputs": [
    {
     "data": {
      "text/plain": [
       "-76.53899999999999"
      ]
     },
     "execution_count": 169,
     "metadata": {},
     "output_type": "execute_result"
    }
   ],
   "source": [
    "standardization(112) - standardization(70)"
   ]
  },
  {
   "cell_type": "code",
   "execution_count": 12,
   "metadata": {},
   "outputs": [
    {
     "data": {
      "text/plain": [
       "<AxesSubplot:ylabel='Frequency'>"
      ]
     },
     "execution_count": 12,
     "metadata": {},
     "output_type": "execute_result"
    },
    {
     "data": {
      "image/png": "[encoded data removed]",
      "text/plain": [
       "<Figure size 432x288 with 1 Axes>"
      ]
     },
     "metadata": {
      "needs_background": "light"
     },
     "output_type": "display_data"
    }
   ],
   "source": [
    "# I started writing code by statistics and about the main limit theorem\n",
    "import pandas as pd\n",
    "import numpy as np\n",
    "import matplotlib.pyplot as plt\n",
    "\n",
    "dice = [1, 2, 3, 4, 5, 6]\n",
    "count = 6\n",
    "sp_size = 10000\n",
    "\n",
    "sp = pd.Series(dtype=np.int64, index=range(sp_size))\n",
    "for i in range(sp_size):\n",
    "    value = 0\n",
    "    for _ in range(count):\n",
    "        value += np.random.choice(dice)\n",
    "    sp[i] = value\n",
    "sp.plot.hist(bins=28)"
   ]
  },
  {
   "cell_type": "code",
   "execution_count": 14,
   "metadata": {},
   "outputs": [
    {
     "data": {
      "image/png": "[encoded data removed]",
      "text/plain": [
       "<Figure size 1152x720 with 12 Axes>"
      ]
     },
     "metadata": {
      "needs_background": "light"
     },
     "output_type": "display_data"
    }
   ],
   "source": [
    "# количество выборок\n",
    "samples_count = 10\n",
    "# размер выборки\n",
    "sample_size = 200\n",
    "samples = pd.DataFrame([\n",
    "    [np.random.choice(sp) for _ in range(sample_size)] for __ in range(samples_count)\n",
    "]).T\n",
    "\n",
    "samples.hist(figsize=(16, 10), sharex=0)\n",
    "plt.subplots_adjust(hspace = 0.6)"
   ]
  },
  {
   "cell_type": "code",
   "execution_count": 21,
   "metadata": {},
   "outputs": [
    {
     "name": "stdout",
     "output_type": "stream",
     "text": [
      "сравним среднию ГС 21.0315 и среднию средних выборок 21.124000000000002\n",
      "разница: 0.09250000000000114, стандартная ошибка среднего: 0.293577549853149\n"
     ]
    }
   ],
   "source": [
    "means = samples.mean()\n",
    "print(f\"сравним среднию ГС {sp.mean()} и среднию средних выборок {means.mean()}\")\n",
    "print(f\"разница: {abs(means.mean() - sp.mean())}, стандартная ошибка среднего: {means.std()}\")"
   ]
  },
  {
   "cell_type": "code",
   "execution_count": 23,
   "metadata": {},
   "outputs": [
    {
     "name": "stdout",
     "output_type": "stream",
     "text": [
      "sample mean: 21.565\n",
      "sample se: 0.28244957748082306\n"
     ]
    }
   ],
   "source": [
    "# get random sample\n",
    "import math\n",
    "\n",
    "sample = samples[0]\n",
    "print(f\"sample mean: {sample.mean()}\")\n",
    "print(f\"sample se: {sample.std() / math.sqrt(sample.size)}\")"
   ]
  },
  {
   "cell_type": "code",
   "execution_count": 25,
   "metadata": {},
   "outputs": [
    {
     "data": {
      "text/plain": [
       "0.5"
      ]
     },
     "execution_count": 25,
     "metadata": {},
     "output_type": "execute_result"
    }
   ],
   "source": [
    "mean_s = 10\n",
    "sd = 5\n",
    "n = 100\n",
    "\n",
    "se = sd/np.sqrt(n)\n",
    "se"
   ]
  },
  {
   "cell_type": "code",
   "execution_count": 29,
   "metadata": {},
   "outputs": [
    {
     "name": "stdout",
     "output_type": "stream",
     "text": [
      "The mean for Generally population in the confidence interval of the 99 percent: from 8.71 to 11.29\n"
     ]
    }
   ],
   "source": [
    "print(f\"The mean for Generally population in the confidence interval of the 99 percent:\",\n",
    "      f'from {mean_s - 2.58*se} to {mean_s + 2.58*se}')"
   ]
  },
  {
   "cell_type": "code",
   "execution_count": 3,
   "metadata": {},
   "outputs": [
    {
     "data": {
      "text/plain": [
       "19.48"
      ]
     },
     "execution_count": 3,
     "metadata": {},
     "output_type": "execute_result"
    }
   ],
   "source": [
    "18.5 + 1.96 * 0.5"
   ]
  },
  {
   "cell_type": "markdown",
   "metadata": {},
   "source": [
    "## the lesson 3 or maybe 4 for course ods.ai\n",
    "\n",
    "task:\n",
    "\n",
    "На вход поступает два текстовый файл из 3-х тысяч строк каждый.\n",
    "\n",
    "Первый файл содержит строки текста.   \n",
    " \n",
    "Второй файл содержит строки из двух целых неотрицательных чисел.\n",
    "Первое число в строке всегда меньше или равно второму.\n",
    "Числа всегда меньше длины соответствующей строки первого файла.\n",
    "Соответствующей - это значит 1-ая строка из 1-го файла соответствует 1-ой строке из 2-го файла, а 123-я строка из 1-го файла соответствует 123-ей строке из 2-го файла.\n",
    " \n",
    "Подготовить выходной файл, который состоит из подстрок 1-го входного файла.\n",
    "Подстроки разделены пробелами.\n",
    "Какие брать подстроки - написано во втором файле.\n",
    "В конце файла пробела нет.\n",
    "Например:\n",
    "\n",
    "    120 строка в 1-ом файле: JBOljrfkrfjgikenfjerkrkvkfKUGlknc\n",
    "    120 строка во 2-ом файле: 13 27\n",
    "Это значит 120 подстрока в результирующем файле это символы с 13 по 27, включая 13-ый и 27-ой символы.\n",
    "Не забывайте, что нумерация символов в строке с 0.\n",
    "Пример требуемой подстроки: kenfjerkrkvkfKU\n",
    "\n",
    "Пример 1-го входного файла:\n",
    "QxBpXEeyDWHiuTttWjhFMGTlrCMqpSvrNOQoxUbyiZombbLaYqBHvydPJlvdspwwpgeLNlHMVYrZvPsQkcQgPpierYSahialdXlde\n",
    "rNsZEKdYYlKKRrYGNWEXTYXOpQqrdGANRfoyeVvRwLVhZDfzKhFQkuSYODIXFLYafnXbxuwqZKQKjSiFZAtSponvmulcjicIDhNaQ\n",
    "TttSFLqbNkHvOeHSKTTGEEGxwtXImLeCmcKjvsIkIIvvlsUSazNuEsdDYlOljweSubVJxHbSJkBpByFiUCFctgrLKhlYgEWWuDYqx\n",
    "Пример 2-го входного файла:\n",
    "```30 84\n",
    "5 79\n",
    "70 70```\n",
    "<br>\n",
    "Пример выходного файла:\n",
    "<br>\n",
    "`vrNOQoxUbyiZombbLaYqBHvydPJlvdspwwpgeLNlHMVYrZvPsQkcQgP KdYYlKKRrYGNWEXTYXOpQqrdGANRfoyeVvRwLVhZDfzKhFQkuSYODIXFLYafnXbxuwqZKQKjSiF b`"
   ]
  },
  {
   "cell_type": "code",
   "execution_count": 29,
   "metadata": {},
   "outputs": [],
   "source": [
    "def hadler_for_nature_number(tfile, nfile):\n",
    "    def slice_string(low, high):\n",
    "        return line[int(low):int(high)+1]\n",
    "\n",
    "    with open(tfile, 'r') as file_with_text, open(nfile, 'r') as file_with_number, open('result.txt', 'w') as wfile:\n",
    "        lines_numbers = file_with_number.readlines()\n",
    "        sfile = []\n",
    "        for index, line in enumerate(file_with_text.readlines()):\n",
    "            sfile.append(slice_string(*lines_numbers[index].split(' ')))\n",
    "\n",
    "        wfile.writelines([f'{line} ' if len(\n",
    "            sfile)-1 != index else line for index, line in enumerate(sfile)])"
   ]
  },
  {
   "cell_type": "code",
   "execution_count": 30,
   "metadata": {},
   "outputs": [],
   "source": [
    "hadler_for_nature_number('test_import_file_2_1.txt',\n",
    "                         'test_import_file_2_2.txt')"
   ]
  },
  {
   "cell_type": "code",
   "execution_count": 31,
   "metadata": {},
   "outputs": [
    {
     "name": "stdout",
     "output_type": "stream",
     "text": [
      "True\n"
     ]
    }
   ],
   "source": [
    "with open('test_output_file_2.txt', 'r') as test_output, open('result_2.txt', 'r') as result_file:\n",
    "    print(test_output.readlines() == result_file.readlines())"
   ]
  },
  {
   "cell_type": "code",
   "execution_count": 32,
   "metadata": {},
   "outputs": [],
   "source": [
    "hadler_for_nature_number('import_file_2_1.txt',\n",
    "                         'import_file_2_2.txt')"
   ]
  },
  {
   "cell_type": "code",
   "execution_count": 97,
   "metadata": {},
   "outputs": [],
   "source": [
    "import json\n",
    "import re\n",
    "\n",
    "\n",
    "def translate_chemical_elements(path):\n",
    "    periodic_table = dict(json.load(open('periodic_table.json')))\n",
    "    with open(path, 'r') as file:\n",
    "        formula_without_translate = [elem for elem in re.split(\n",
    "            r'([A-Z][^A-Z]*)', ''.join(file.readlines())) if elem]\n",
    "        formula_with_translate = [periodic_table[elem]\n",
    "                                  for elem in formula_without_translate]\n",
    "        print(''.join(formula_with_translate))"
   ]
  },
  {
   "cell_type": "code",
   "execution_count": 98,
   "metadata": {},
   "outputs": [
    {
     "name": "stdout",
     "output_type": "stream",
     "text": [
      "ХромКобальтРадийЛитийБорийМарганецМенделевийСамарийНихонийСвинецКальцийУранУранМолибденИридийПолонийЕвропийУглеродПрометийПолонийРубидийПлутонийОсмийЛоуренсийАргонКюрийПалладийЦерийАзотБерклийБарийЛантанМедьМышьякКалифорнийПразеодимКадмийБарийНеодимАлюминийАлюминийРутенийБарийТаллийФлеровийУнуненнийТеннессинРадонЦерийХромГафнийПрометийЛантанСвинецМенделевийКалифорнийБромБерклийПразеодимГадолинийЭйнштейнийУранКалифорнийНеонМагнийСамарийЛантанБорийЛютецийДармштадтийМолибденСамарийАлюминийКислородСвинецДубнийМедьЦерийЭйнштейнийЭйнштейнийКсенонКальцийМенделевийГелийСурьмаЛиверморийТорийАстатФторРутенийНиобийПразеодимЛитийМедьЛантанНикельИттербийМенделевийХлорАргонПрометийАктинийТулийГадолинийАстатЛиверморийСтронцийНеодимСкандийТулийФторМагнийУнуненнийТеннессинПалладийБромСамарийРутенийКислородТеллурАктинийЛютецийХассийТулийУнуненнийИттербийМарганецУглеродГафнийДиспрозийСвинецРадийСеленПрометийГафнийАлюминийКалийАзотИттрийРтутьПразеодимКсенонВольфрамВодородТеннессинАстатХассийГерманийМышьякРазерфордийПолонийТаллийСераМолибденЛиверморийРтутьМосковийРутенийУглеродТеннессинЛоуренсийХассийПолонийРодийИттербийМышьякЭрбийТулийЙодТитанАлюминийСиборгийАзотФторВанадийНептунийМедьКадмийСамарийАстатЖелезоНеодимГалийФторЛитийБромИндийБорийОсмийЕвропийНиобийЛитийИридийФлеровийМолибденФлеровийМедьЛантанМосковийКалийСеленНикельКадмийКюрийМышьякСераСеленТулийФранцийПолонийНикельТеллурСтронцийМолибденЭрбийПлатинаНобелийВанадийИндийГадолинийТулийТитанОсмийПразеодимБорийКюрийАмерицийКислородСиборгийСтронцийСтронцийТеллурНатрийСкандийКремнийЭрбийРубидийПразеодимТеллурХлорПолонийАргонСамарийАргонЛютецийОловоСтронцийЗолотоФосфорГафнийТанталНептунийОганесонАргонКоперницийДиспрозийЛантанСамарийКобальтСурьмаКремнийБорийТербийТербийКюрийСераЭрбийИттербийКобальтБорийЭйнштейнийКальцийЭрбийГольмийГелийАлюминийТеннессинХлорРадийБериллийРубидийРенийГольмийТулийОловоТехнецийГадолинийБерклийЖелезоНептунийКальцийНикельНобелийТаллийМагнийМагнийЛантанНиобийНикельАстатМейтнерийРадийНиобийОганесонХлорДармштадтийКриптонГелийТербийРадийФосфорКадмийАзотЛитийПалладийБромЦинкЦинкБерклийКремнийЙодЦерийВисмутВисмутКалийБорЭрбийФранцийБерклийКсенонЦинкГадолинийЭрбийНеонРенгенийГалийРенгенийГелийРенгенийФермийКоперницийТаллийРтутьГалийНиобийНихонийПалладийЛоуренсийКалийНатрийКриптонКоперницийАмерицийЭрбийГерманийГадолинийТорийТулийУглеродСеленРенгенийБорийДубнийДиспрозийВольфрамКалифорнийСамарийФлеровийБорНеонКислородБерклийПрометийУнуненнийПразеодимКоперницийЦерийТитанБерклийФторУнуненнийКадмийКислородИттербийИттербийЛитийЕвропийЭйнштейнийБерклийРтутьГадолинийЛитийМосковийНептунийИттрийГафнийХлорЖелезоМейтнерийКальцийКсенонНикельЭрбийРенгенийГольмийНикельТербийРадийЙодМедьТулийМагнийКобальтМагнийКадмийБорийЦерийКоперницийНеонУранАргонФранцийВанадийЭрбийРодийЗолотоНептунийНептунийНептунийГерманийКоперницийЛиверморийЛантанСтронцийИридийЛютецийКалифорнийИттербийФлеровийАктинийУранКалифорнийИндийБорСурьмаАмерицийСтронцийБромКобальтВанадийКремнийИндийСамарийОсмийТеллурПлатинаМолибденРазерфордийЦинкТанталВодородПалладийСеленЗолотоВанадийМышьякРтутьТеллурКсенонМагнийНиобийУнуненнийМейтнерийИттрийДубнийКислородГадолинийКриптонКсенонФермийФторГафнийРадонГелийМолибденДармштадтийКоперницийМейтнерийОсмийВисмутПолонийСтронцийАзотПалладийРенгенийКриптонКалийКриптонГафнийФтор\n"
     ]
    }
   ],
   "source": [
    "translate_chemical_elements('import_file_3.txt')"
   ]
  },
  {
   "cell_type": "code",
   "execution_count": null,
   "metadata": {},
   "outputs": [],
   "source": []
  }
 ],
 "metadata": {
  "colab": {
   "collapsed_sections": [],
   "name": "stat_practice1_wo_answers.ipynb",
   "provenance": []
  },
  "kernelspec": {
   "display_name": "Python 3 (ipykernel)",
   "language": "python",
   "name": "python3"
  },
  "language_info": {
   "codemirror_mode": {
    "name": "ipython",
    "version": 3
   },
   "file_extension": ".py",
   "mimetype": "text/x-python",
   "name": "python",
   "nbconvert_exporter": "python",
   "pygments_lexer": "ipython3",
   "version": "3.10.2"
  },
  "toc": {
   "base_numbering": 1,
   "nav_menu": {},
   "number_sections": true,
   "sideBar": true,
   "skip_h1_title": false,
   "title_cell": "Table of Contents",
   "title_sidebar": "Contents",
   "toc_cell": false,
   "toc_position": {},
   "toc_section_display": true,
   "toc_window_display": false
  }
 },
 "nbformat": 4,
 "nbformat_minor": 1
}
