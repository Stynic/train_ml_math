{
 "cells": [
  {
   "cell_type": "code",
   "execution_count": 1,
   "metadata": {
    "id": "q3J9DOECb5_2"
   },
   "outputs": [],
   "source": [
    "from sympy import *\n",
    "from sympy.plotting import plot\n",
    "init_printing(use_unicode=False, wrap_line=False, no_global=True)"
   ]
  },
  {
   "cell_type": "code",
   "execution_count": 2,
   "metadata": {
    "id": "jn-CkFvkb6AM"
   },
   "outputs": [],
   "source": [
    "import matplotlib.pyplot as plt\n",
    "import numpy as np"
   ]
  },
  {
   "cell_type": "code",
   "execution_count": 3,
   "metadata": {
    "id": "LaGJX0iLb6Ak"
   },
   "outputs": [],
   "source": [
    "x = Symbol('x')"
   ]
  },
  {
   "cell_type": "markdown",
   "metadata": {
    "id": "WCSmBqn-b6Ay"
   },
   "source": [
    "# Задание 1.\n",
    "## 1.\n",
    "### Получите значение MSE меньшее 0.75."
   ]
  },
  {
   "cell_type": "code",
   "execution_count": 4,
   "metadata": {
    "id": "8pE3GhS2b6A2"
   },
   "outputs": [],
   "source": [
    "def print_points_ands_function1(sympy_function):\n",
    "    def function(x_): return float(sympy_function.subs(x, x_))\n",
    "    \n",
    "    points_X = np.array([-2, -1, 0, 1, 2, 3, 3.5, 4, 4.5, 5])\n",
    "    points_Y = np.array([3, 1, -0.5, 1.2, 2.5, 0.8, -2, -3.5, -3, -5])\n",
    "    plt.xlim(-10, 10)\n",
    "    plt.ylim(-5, 5)\n",
    "    plt.axhline(0, color='black')\n",
    "    plt.axvline(0, color='black')\n",
    "    \n",
    "    plt.scatter(points_X, points_Y, c='r')\n",
    "    x_range = np.linspace(plt.xlim()[0], plt.xlim()[1], num=100)\n",
    "    function_Y = [function(x_) for x_ in x_range]\n",
    "    plt.plot(x_range, function_Y, 'b')\n",
    "    plt.show()\n",
    "    \n",
    "    MSE = sum([(points_Y[i] - function(points_X[i]))**2 for i in range(len(points_Y))]) / len(points_Y)\n",
    "    print(f'MSE = {MSE}')"
   ]
  },
  {
   "cell_type": "code",
   "execution_count": 264,
   "metadata": {
    "id": "q3jsbisXb6BF",
    "outputId": "4e7fcce6-4bba-42b0-d6ee-e4983bab2fda",
    "scrolled": true
   },
   "outputs": [
    {
     "data": {
      "image/png": "[encoded data removed]",
      "text/latex": [
       "$\\displaystyle 2 x \\sin{\\left(2 x + 5 \\right)} + 5 \\sin{\\left(2 x + 5 \\right)} + 2$"
      ],
      "text/plain": [
       "2*x*sin(2*x + 5) + 5*sin(2*x + 5) + 2"
      ]
     },
     "execution_count": 264,
     "metadata": {},
     "output_type": "execute_result"
    }
   ],
   "source": [
    "f1 = 2 * x * sin(2 * x + 5) + 5 * sin(2 * x + 5) + 2\n",
    "f1"
   ]
  },
  {
   "cell_type": "code",
   "execution_count": 344,
   "metadata": {
    "scrolled": true
   },
   "outputs": [
    {
     "data": {
      "image/png": "[encoded data removed]",
      "text/plain": [
       "<Figure size 432x288 with 1 Axes>"
      ]
     },
     "metadata": {
      "needs_background": "light"
     },
     "output_type": "display_data"
    },
    {
     "name": "stdout",
     "output_type": "stream",
     "text": [
      "MSE = 6.883\n"
     ]
    }
   ],
   "source": [
    "print_points_ands_function1(f1*0)"
   ]
  },
  {
   "cell_type": "code",
   "execution_count": 274,
   "metadata": {},
   "outputs": [
    {
     "data": {
      "image/png": "[encoded data removed]",
      "text/latex": [
       "$\\displaystyle 2 x \\sin{\\left(2 x + 5 \\right)} + 5 \\sin{\\left(2 x + 5 \\right)} - 1.5$"
      ],
      "text/plain": [
       "2*x*sin(2*x + 5) + 5*sin(2*x + 5) - 1.5"
      ]
     },
     "execution_count": 274,
     "metadata": {},
     "output_type": "execute_result"
    }
   ],
   "source": [
    "f1 = f1\n",
    "f1"
   ]
  },
  {
   "cell_type": "code",
   "execution_count": 285,
   "metadata": {},
   "outputs": [
    {
     "data": {
      "image/png": "[encoded data removed]",
      "text/latex": [
       "$\\displaystyle \\frac{2 x \\sin{\\left(2 x + 5 \\right)} + 5 \\sin{\\left(2 x + 5 \\right)} - 1.5}{k}$"
      ],
      "text/plain": [
       "2*x*sin(2*x + 5) + 5*sin(2*x + 5) - 1.5\n",
       "---------------------------------------\n",
       "                   k                   "
      ]
     },
     "execution_count": 285,
     "metadata": {},
     "output_type": "execute_result"
    }
   ],
   "source": [
    "k = Symbol('k')\n",
    "f1_k = f1 / k\n",
    "f1_k"
   ]
  },
  {
   "cell_type": "code",
   "execution_count": 286,
   "metadata": {
    "scrolled": true
   },
   "outputs": [
    {
     "data": {
      "image/png": "[encoded data removed]",
      "text/latex": [
       "$\\displaystyle 1.56988028269909 \\left(-0.883353993832552 - \\frac{1}{k}\\right)^{2} + 3.96222582334027 \\left(-0.794328952206104 + \\frac{1}{k}\\right)^{2} + \\frac{\\left(-0.5 - \\frac{5 \\sin{\\left(5 \\right)} - 1.5}{k}\\right)^{2}}{10} + 6.30257365197519 \\left(-0.251924862901593 + \\frac{1}{k}\\right)^{2} + 15.2979865959545 \\left(-0.242551584853637 - \\frac{1}{k}\\right)^{2} + 15.6247306813049 \\left(0.064000551571818 + \\frac{1}{k}\\right)^{2} + 0.960321958081351 \\left(0.387233406249242 - \\frac{1}{k}\\right)^{2} + 0.115915363753455 \\left(0.928815595239255 + \\frac{1}{k}\\right)^{2} + 0.625 \\left(1 - \\frac{0.883626546870324}{k}\\right)^{2} + 0.9 \\left(1 + \\frac{0.219509671730701}{k}\\right)^{2}$"
      ],
      "text/plain": [
       "                                                                                                                 2                                                                                                                                                                                                                                                                                                \n",
       "                                                                                          /       5*sin(5) - 1.5\\                                                                                                                                                                                                                                                                                                 \n",
       "                                         2                                            2   |-0.5 - --------------|                                             2                                            2                                           2                                            2                                            2                                2                              2\n",
       "                 /                     1\\                     /                     1\\    \\             k       /                     /                     1\\                     /                     1\\                     /                    1\\                      /                    1\\                      /                    1\\          /    0.883626546870324\\        /    0.219509671730701\\ \n",
       "1.56988028269909*|-0.883353993832552 - -|  + 3.96222582334027*|-0.794328952206104 + -|  + ------------------------ + 6.30257365197519*|-0.251924862901593 + -|  + 15.2979865959545*|-0.242551584853637 - -|  + 15.6247306813049*|0.064000551571818 + -|  + 0.960321958081351*|0.387233406249242 - -|  + 0.115915363753455*|0.928815595239255 + -|  + 0.625*|1 - -----------------|  + 0.9*|1 + -----------------| \n",
       "                 \\                     k/                     \\                     k/               10                               \\                     k/                     \\                     k/                     \\                    k/                      \\                    k/                      \\                    k/          \\            k        /        \\            k        / "
      ]
     },
     "execution_count": 286,
     "metadata": {},
     "output_type": "execute_result"
    }
   ],
   "source": [
    "points_X = np.array([-2, -1, 0, 1, 2, 3, 3.5, 4, 4.5, 5])\n",
    "points_Y = np.array([3, 1, -0.5, 1.2, 2.5, 0.8, -2, -3.5, -3, -5])\n",
    "\n",
    "MSE_f1 =        (\n",
    "                (points_Y[0] - f1_k.subs(x, points_X[0]))**2 +\n",
    "                (points_Y[1] - f1_k.subs(x, points_X[1]))**2 +\n",
    "                (points_Y[2] - f1_k.subs(x, points_X[2]))**2 +\n",
    "                (points_Y[3] - f1_k.subs(x, points_X[3]))**2 +\n",
    "                (points_Y[4] - f1_k.subs(x, points_X[4]))**2 +\n",
    "                (points_Y[5] - f1_k.subs(x, points_X[5]))**2 +\n",
    "                (points_Y[6] - f1_k.subs(x, points_X[6]))**2 +   \n",
    "                (points_Y[7] - f1_k.subs(x, points_X[7]))**2 +\n",
    "                (points_Y[8] - f1_k.subs(x, points_X[8]))**2 +\n",
    "                (points_Y[9] - f1_k.subs(x, points_Y[9]))**2\n",
    "                ) / len(points_Y)\n",
    "MSE_f1\n",
    "# create equation MSE"
   ]
  },
  {
   "cell_type": "code",
   "execution_count": 287,
   "metadata": {
    "scrolled": true
   },
   "outputs": [
    {
     "data": {
      "image/png": "[encoded data removed]",
      "text/latex": [
       "$\\displaystyle \\frac{3.13976056539818 \\left(-0.883353993832552 - \\frac{1}{k}\\right)}{k^{2}} - \\frac{7.92445164668055 \\left(-0.794328952206104 + \\frac{1}{k}\\right)}{k^{2}} + \\frac{\\left(-0.5 - \\frac{5 \\sin{\\left(5 \\right)} - 1.5}{k}\\right) \\left(5 \\sin{\\left(5 \\right)} - 1.5\\right)}{5 k^{2}} - \\frac{12.6051473039504 \\left(-0.251924862901593 + \\frac{1}{k}\\right)}{k^{2}} + \\frac{30.595973191909 \\left(-0.242551584853637 - \\frac{1}{k}\\right)}{k^{2}} - \\frac{31.2494613626098 \\left(0.064000551571818 + \\frac{1}{k}\\right)}{k^{2}} + \\frac{1.9206439161627 \\left(0.387233406249242 - \\frac{1}{k}\\right)}{k^{2}} - \\frac{0.23183072750691 \\left(0.928815595239255 + \\frac{1}{k}\\right)}{k^{2}} + \\frac{1.1045331835879 \\left(1 - \\frac{0.883626546870324}{k}\\right)}{k^{2}} - \\frac{0.395117409115262 \\left(1 + \\frac{0.219509671730701}{k}\\right)}{k^{2}}$"
      ],
      "text/plain": [
       "                 /                     1\\                    /                     1\\   /       5*sin(5) - 1.5\\                                     /                     1\\                   /                     1\\                    /                    1\\                   /                    1\\                    /                    1\\                   /    0.883626546870324\\                     /    0.219509671730701\\\n",
       "3.13976056539818*|-0.883353993832552 - -|   7.92445164668055*|-0.794328952206104 + -|   |-0.5 - --------------|*(5*sin(5) - 1.5)   12.6051473039504*|-0.251924862901593 + -|   30.595973191909*|-0.242551584853637 - -|   31.2494613626098*|0.064000551571818 + -|   1.9206439161627*|0.387233406249242 - -|   0.23183072750691*|0.928815595239255 + -|   1.1045331835879*|1 - -----------------|   0.395117409115262*|1 + -----------------|\n",
       "                 \\                     k/                    \\                     k/   \\             k       /                                     \\                     k/                   \\                     k/                    \\                    k/                   \\                    k/                    \\                    k/                   \\            k        /                     \\            k        /\n",
       "----------------------------------------- - ----------------------------------------- + ---------------------------------------- - ----------------------------------------- + ---------------------------------------- - ---------------------------------------- + --------------------------------------- - ---------------------------------------- + --------------------------------------- - -----------------------------------------\n",
       "                     2                                           2                                           2                                          2                                          2                                          2                                          2                                         2                                          2                                          2                   \n",
       "                    k                                           k                                         5*k                                          k                                          k                                          k                                          k                                         k                                          k                                          k                    "
      ]
     },
     "execution_count": 287,
     "metadata": {},
     "output_type": "execute_result"
    }
   ],
   "source": [
    "diff1 = diff(MSE_f1)\n",
    "diff1"
   ]
  },
  {
   "cell_type": "code",
   "execution_count": 288,
   "metadata": {},
   "outputs": [
    {
     "data": {
      "image/png": "[encoded data removed]",
      "text/latex": [
       "$\\displaystyle \\left[ -112.763134129115\\right]$"
      ],
      "text/plain": [
       "[-112.763134129115]"
      ]
     },
     "execution_count": 288,
     "metadata": {},
     "output_type": "execute_result"
    }
   ],
   "source": [
    "zero_points =solve(diff1)\n",
    "zero_points"
   ]
  },
  {
   "cell_type": "code",
   "execution_count": 291,
   "metadata": {},
   "outputs": [
    {
     "data": {
      "image/png": "[encoded data removed]",
      "text/latex": [
       "$\\displaystyle - 0.017736293119611 x \\sin{\\left(2 x + 5 \\right)} - 0.0443407327990275 \\sin{\\left(2 x + 5 \\right)} + 0.0133022198397082$"
      ],
      "text/plain": [
       "-0.017736293119611*x*sin(2*x + 5) - 0.0443407327990275*sin(2*x + 5) + 0.0133022198397082"
      ]
     },
     "execution_count": 291,
     "metadata": {},
     "output_type": "execute_result"
    }
   ],
   "source": [
    "f1_k = f1/ zero_points[0]\n",
    "f1_k"
   ]
  },
  {
   "cell_type": "code",
   "execution_count": 318,
   "metadata": {},
   "outputs": [
    {
     "data": {
      "image/png": "[encoded data removed]",
      "text/plain": [
       "<Figure size 432x288 with 1 Axes>"
      ]
     },
     "metadata": {
      "needs_background": "light"
     },
     "output_type": "display_data"
    },
    {
     "name": "stdout",
     "output_type": "stream",
     "text": [
      "MSE = 6.750401455480315\n"
     ]
    }
   ],
   "source": [
    "print_points_ands_function1((f1_k))"
   ]
  },
  {
   "cell_type": "markdown",
   "metadata": {
    "id": "zyEXM-ORb6Bi"
   },
   "source": [
    "## 2.\n",
    "### Получите значение MSE меньшее 0.1."
   ]
  },
  {
   "cell_type": "code",
   "execution_count": null,
   "metadata": {
    "id": "MS7lAOmRb6Bl"
   },
   "outputs": [],
   "source": [
    "def print_points_ands_function2(sympy_function):\n",
    "    def function(x_): return float(sympy_function.subs(x, x_))\n",
    "    \n",
    "    points_X = np.array([0, 1, 2, 3, 3.5, 4, 4.5, 5, 6, 6.5, 7, 8, 9])\n",
    "    points_Y = np.array([0.5, 1.2, 0.7, 1.2, 1.1, 0.7, 0.65, 0.9, 0.95, 0.3, 0.8, 0.5, 0.0])\n",
    "    plt.xlim(-1, 20)\n",
    "    plt.ylim(-2, 2)\n",
    "    \n",
    "    plt.scatter(points_X, points_Y, c='r')\n",
    "    x_range = np.linspace(plt.xlim()[0] + 1, plt.xlim()[1], num=100)\n",
    "    function_Y = [function(x_) for x_ in x_range]\n",
    "    plt.plot(x_range, function_Y, 'b')\n",
    "    plt.show()\n",
    "    \n",
    "    MSE = sum([(points_Y[i] - function(points_X[i]))**2 for i in range(len(points_Y))]) / len(points_Y)\n",
    "    print(f'MSE = {MSE}')"
   ]
  },
  {
   "cell_type": "code",
   "execution_count": null,
   "metadata": {
    "id": "ER0-pvhQb6Bw",
    "outputId": "5536a221-dfd6-4429-baf3-c445709e5cf4"
   },
   "outputs": [
    {
     "data": {
      "image/png": "[encoded data removed]",
      "text/latex": [
       "$\\displaystyle \\sin{\\left(\\sqrt{3} \\sqrt{x} \\right)} - 1$"
      ],
      "text/plain": [
       "   /  ___   ___\\    \n",
       "sin\\\\/ 3 *\\/ x / - 1"
      ]
     },
     "execution_count": 57,
     "metadata": {
      "tags": []
     },
     "output_type": "execute_result"
    }
   ],
   "source": [
    "f2 = sin(sqrt(3) *sqrt(x)) - 1\n",
    "f2"
   ]
  },
  {
   "cell_type": "code",
   "execution_count": null,
   "metadata": {
    "id": "VdD2dtF8b6B3",
    "outputId": "04cf5d1e-d7bf-4753-c0ff-a67021152aa7"
   },
   "outputs": [
    {
     "data": {
      "image/png": "[encoded data removed]",
      "text/plain": [
       "<Figure size 432x288 with 1 Axes>"
      ]
     },
     "metadata": {
      "needs_background": "light",
      "tags": []
     },
     "output_type": "display_data"
    },
    {
     "name": "stdout",
     "output_type": "stream",
     "text": [
      "MSE = 4.609003555572037\n"
     ]
    }
   ],
   "source": [
    "print_points_ands_function2(f2)"
   ]
  },
  {
   "cell_type": "markdown",
   "metadata": {
    "id": "SqRiUGFrcJzc"
   },
   "source": [
    "# Задание 2.\n",
    "\n",
    "Постройте графики функций 2 переменных. Найдите их нули и затем постройте графики их нулей, если они не представляют собой выражения вида {x: ...}. <br>\n",
    "а) $f(x,y)=xy^2$.\n",
    "б) $f(x,y)=y^2sin(\\pi x)$.\n",
    "в)$f(x,y)=x sin(x) sin(y)$."
   ]
  },
  {
   "cell_type": "code",
   "execution_count": null,
   "metadata": {
    "id": "Q2KTLMy0dBKk"
   },
   "outputs": [],
   "source": []
  },
  {
   "cell_type": "markdown",
   "metadata": {
    "id": "P5H2CoPmdBoo"
   },
   "source": [
    "# Задание 3.\n",
    "\n",
    "\n",
    "## а)\n",
    "\n",
    "Дана функция:\n",
    "$$f(x_1,x_2,x_3,x_4)=a_4x_4+a_3x_3+a_2x_2+a_1x_1+a_0$$\n",
    "Данная функция отвечает на вопрос: “является ли текст спамом или нет?”. Если является, функция возвращает 1, если нет – 0. Переменная $x_1$ равна количеству раз, которое в тексте встретилось в одной из своих форм слово “покупать”. Переменная $x_2$ равна 1, если в тексте есть слово “скидка” и 0 в противном случае. Переменная $x_3$ равна 1, если в тексте есть слово “акция” и 0 в противном случае. $x_4$ равна длине текста в словах.\n",
    "\n",
    "### 1. Запишите функцию в виде:\n",
    "``` название функции: область определения → область значений ```\n",
    "\n",
    "**Ответ:**\n",
    "\n",
    "\n"
   ]
  },
  {
   "cell_type": "markdown",
   "metadata": {
    "id": "r85U00YOe5p8"
   },
   "source": [
    "### 2. Какую размерность будет иметь задаваемая этой функцией гиперплоскость?\n",
    "\n",
    "**Ответ:**"
   ]
  },
  {
   "cell_type": "markdown",
   "metadata": {
    "id": "f6f0d8hse9sM"
   },
   "source": [
    "## б)\n",
    "\n",
    "Дана функция:\n",
    "$$f(x_1,x_2,x_3)=a_3x_3+a_2x_2+a_1x_1+a_0$$\n",
    "Данная функция отвечает на вопрос: “с какой вероятностью клиент сделает вклад?”. Переменная $x_1$ равна количеству раз, которое клиент делал вклады ранее. Переменная $x_2$ равна сумме всех этих вкладов. Переменная $x_3$ равна 1, если у клиента есть вклад в данный момент, и 0 в противном случае.\n",
    "\n",
    "### 1. Запишите функцию в виде:\n",
    "``` название функции: область определения → область значений ```\n",
    "\n",
    "**Ответ:**\n"
   ]
  },
  {
   "cell_type": "markdown",
   "metadata": {
    "id": "KIi-XtuYfdlU"
   },
   "source": [
    "### 2. Какую размерность будет иметь задаваемая этой функцией гиперплоскость?\n",
    "\n",
    "**Ответ:**"
   ]
  },
  {
   "cell_type": "markdown",
   "metadata": {
    "id": "Gl30Eu_QffLA"
   },
   "source": [
    "## в)\n",
    "\n",
    "Дана функция:\n",
    "$$f(x_1,x_2,x_3,x_4)=a_4x_4+a_3x_3+a_2x_2+a_1x_1+a_0$$\n",
    "\n",
    "Данная функция отвечает на вопрос: “болен ли пациент гриппом?”. Переменная $x_1$ равна 1, если пациент привит от гриппа, и 0 в противном случае. Переменная $x_2$ равна температуре пациента. Переменная $x_3$ равна 1, если у пациента есть кашель, и 0 в противном случае. $x_4$ равна 1, если у пациента есть насморк, и 0 в противном случае.\n",
    "\n",
    "### 1. Запишите функцию в виде:\n",
    "``` название функции: область определения → область значений ```\n",
    "\n",
    "**Ответ:**"
   ]
  },
  {
   "cell_type": "markdown",
   "metadata": {
    "id": "-bFsmyAtf_hi"
   },
   "source": [
    "### 2. Какую размерность будет иметь задаваемая этой функцией гиперплоскость?\n",
    "\n",
    "**Ответ:**"
   ]
  }
 ],
 "metadata": {
  "colab": {
   "name": " Функции нескольких переменных, их свойства и графики. Домашнее задание.ipynb",
   "provenance": []
  },
  "kernelspec": {
   "display_name": "Python 3 (ipykernel)",
   "language": "python",
   "name": "python3"
  },
  "language_info": {
   "codemirror_mode": {
    "name": "ipython",
    "version": 3
   },
   "file_extension": ".py",
   "mimetype": "text/x-python",
   "name": "python",
   "nbconvert_exporter": "python",
   "pygments_lexer": "ipython3",
   "version": "3.8.10"
  },
  "toc": {
   "base_numbering": 1,
   "nav_menu": {},
   "number_sections": true,
   "sideBar": true,
   "skip_h1_title": false,
   "title_cell": "Table of Contents",
   "title_sidebar": "Contents",
   "toc_cell": false,
   "toc_position": {
    "height": "calc(100% - 180px)",
    "left": "10px",
    "top": "150px",
    "width": "384px"
   },
   "toc_section_display": true,
   "toc_window_display": true
  }
 },
 "nbformat": 4,
 "nbformat_minor": 1
}
