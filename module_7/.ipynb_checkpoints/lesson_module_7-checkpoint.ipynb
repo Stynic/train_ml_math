{
 "cells": [
  {
   "cell_type": "markdown",
   "id": "aab883ea",
   "metadata": {},
   "source": [
    "# Math lessons module 7"
   ]
  },
  {
   "cell_type": "markdown",
   "id": "3b54ef34",
   "metadata": {},
   "source": [
    "##  homework of lesson 7.2\n",
    "<b>task:</b> \n",
    "<br>\n",
    "Функция f зависит от оценок (по пятибалльной шкале) трех членов экспертной группы и возвращает вероятность принятия положительного решения.\n",
    "\n",
    "Функция f зависит от вероятности того, что пойдет дождь, температуры за окном и оценки по десятибалльной шкале заинтересованности данного человека некоторым мероприятием. Возвращает значение 0, если человек не пойдет на это мероприятие, и 1, если пойдет. Температура может варьироваться от -30 до 35.\n"
   ]
  },
  {
   "cell_type": "markdown",
   "id": "6cad4041",
   "metadata": {},
   "source": [
    "### task 1: <br>\n",
    "f(a, b, c): [0;5]*[0;5]*[0;5] -> [0, 100] <br><br>\n",
    "### task 2: <br>\n",
    "P = [0; 100] - вероятность дождя <br>\n",
    "T = [-30; 35] - температура за окном  <br>\n",
    "G = [0; 10] - оценка заинтересованности <br>\n",
    "f(p, с, g): P*C*G -> {0, 1}"
   ]
  },
  {
   "cell_type": "code",
   "execution_count": null,
   "id": "2c19c3f9",
   "metadata": {},
   "outputs": [],
   "source": []
  }
 ],
 "metadata": {
  "gist": {
   "data": {
    "description": "module_6/lesson_module_6.ipynb",
    "public": false
   },
   "id": ""
  },
  "kernelspec": {
   "display_name": "Python 3 (ipykernel)",
   "language": "python",
   "name": "python3"
  },
  "language_info": {
   "codemirror_mode": {
    "name": "ipython",
    "version": 3
   },
   "file_extension": ".py",
   "mimetype": "text/x-python",
   "name": "python",
   "nbconvert_exporter": "python",
   "pygments_lexer": "ipython3",
   "version": "3.8.10"
  },
  "toc": {
   "base_numbering": 1,
   "nav_menu": {},
   "number_sections": true,
   "sideBar": true,
   "skip_h1_title": false,
   "title_cell": "Table of Contents",
   "title_sidebar": "Contents",
   "toc_cell": false,
   "toc_position": {},
   "toc_section_display": true,
   "toc_window_display": true
  }
 },
 "nbformat": 4,
 "nbformat_minor": 5
}
