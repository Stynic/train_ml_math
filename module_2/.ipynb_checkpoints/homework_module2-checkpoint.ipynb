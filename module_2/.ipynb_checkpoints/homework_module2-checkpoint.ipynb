{
 "cells": [
  {
   "cell_type": "markdown",
   "id": "efd2b28f",
   "metadata": {},
   "source": [
    "# The curse of math - module 2 "
   ]
  },
  {
   "cell_type": "code",
   "execution_count": 1,
   "id": "4f0226ce",
   "metadata": {},
   "outputs": [],
   "source": [
    "from sympy import *\n",
    "import math"
   ]
  },
  {
   "cell_type": "code",
   "execution_count": 2,
   "id": "0baabba1",
   "metadata": {},
   "outputs": [],
   "source": [
    "init_printing(use_unicode=False, wrap_line=False, no_global=True)"
   ]
  },
  {
   "cell_type": "code",
   "execution_count": 3,
   "id": "9c93d5ce",
   "metadata": {},
   "outputs": [
    {
     "data": {
      "text/latex": [
       "$\\displaystyle \\frac{\\left(\\sqrt{7} + \\sqrt{13}\\right)^{2}}{\\sqrt{91} + 10}$"
      ],
      "text/plain": [
       "                2\n",
       "/  ___     ____\\ \n",
       "\\\\/ 7  + \\/ 13 / \n",
       "-----------------\n",
       "     ____        \n",
       "   \\/ 91  + 10   "
      ]
     },
     "execution_count": 3,
     "metadata": {},
     "output_type": "execute_result"
    }
   ],
   "source": [
    "expression = ((sqrt(13) + sqrt(7))**2) / (10 + sqrt(91))\n",
    "expression"
   ]
  },
  {
   "cell_type": "code",
   "execution_count": 4,
   "id": "0367d7e4",
   "metadata": {},
   "outputs": [
    {
     "data": {
      "text/latex": [
       "$\\displaystyle 2$"
      ],
      "text/plain": [
       "2"
      ]
     },
     "execution_count": 4,
     "metadata": {},
     "output_type": "execute_result"
    }
   ],
   "source": [
    "simplify(expression)"
   ]
  },
  {
   "cell_type": "code",
   "execution_count": 5,
   "id": "63b56373",
   "metadata": {},
   "outputs": [],
   "source": [
    "b = Symbol('b')\n",
    "log_b = 10**5"
   ]
  },
  {
   "cell_type": "code",
   "execution_count": 6,
   "id": "33906064",
   "metadata": {},
   "outputs": [
    {
     "data": {
      "text/latex": [
       "$\\displaystyle -14.0$"
      ],
      "text/plain": [
       "-14.0"
      ]
     },
     "execution_count": 6,
     "metadata": {},
     "output_type": "execute_result"
    }
   ],
   "source": [
    "expression = math.log(10/((log_b)**3), 10)\n",
    "expression"
   ]
  },
  {
   "cell_type": "code",
   "execution_count": 7,
   "id": "44ce89d6",
   "metadata": {},
   "outputs": [
    {
     "data": {
      "text/latex": [
       "$\\displaystyle 4 \\sqrt[70]{a}$"
      ],
      "text/plain": [
       "  70___\n",
       "4*\\/ a "
      ]
     },
     "execution_count": 7,
     "metadata": {},
     "output_type": "execute_result"
    }
   ],
   "source": [
    "a = Symbol('a')\n",
    "expression_hard_1 = (15*Pow(Pow(a, S.Half/14), S.Half/5*2) - 7*Pow(Pow(a, S.Half/5), S.Half/14*2)) / 2*Pow(Pow(a, S.Half/2), S.Half/35*2)\n",
    "expression_hard_1"
   ]
  },
  {
   "cell_type": "code",
   "execution_count": 8,
   "id": "319d72f8",
   "metadata": {},
   "outputs": [],
   "source": [
    "def g(exp):\n",
    "    expression = Pow(exp*(4 - exp), S.Half/3*2)\n",
    "    return expression"
   ]
  },
  {
   "cell_type": "code",
   "execution_count": 9,
   "id": "23a83d4b",
   "metadata": {},
   "outputs": [
    {
     "data": {
      "text/latex": [
       "$\\displaystyle 1$"
      ],
      "text/plain": [
       "1"
      ]
     },
     "execution_count": 9,
     "metadata": {},
     "output_type": "execute_result"
    }
   ],
   "source": [
    "x = Symbol('x')\n",
    "exp_1 = (2-x)\n",
    "exp_2 = (2+x)\n",
    "\n",
    "expression_hard_2 = g(exp_1) / g(exp_2)\n",
    "expression_hard_2"
   ]
  },
  {
   "cell_type": "code",
   "execution_count": 10,
   "id": "1df89885",
   "metadata": {},
   "outputs": [
    {
     "data": {
      "text/latex": [
       "$\\displaystyle 5$"
      ],
      "text/plain": [
       "5"
      ]
     },
     "execution_count": 10,
     "metadata": {},
     "output_type": "execute_result"
    }
   ],
   "source": [
    "x = Symbol('x')\n",
    "expression_hard_3 = (((2*x**3)**4) -(x**2)**6) / (3*x**12)\n",
    "expression_hard_3\n"
   ]
  },
  {
   "cell_type": "code",
   "execution_count": 11,
   "id": "a1b987f9",
   "metadata": {
    "scrolled": true
   },
   "outputs": [
    {
     "data": {
      "text/latex": [
       "$\\displaystyle - \\frac{1}{2}$"
      ],
      "text/plain": [
       "-1/2"
      ]
     },
     "execution_count": 11,
     "metadata": {},
     "output_type": "execute_result"
    }
   ],
   "source": [
    "b = 2\n",
    "expression_hard_4 = ((11*a**6*b**3) - (3*a**2*b)**3) / (4*a**6*b**6)\n",
    "expression_hard_4"
   ]
  },
  {
   "cell_type": "markdown",
   "id": "b37553ec",
   "metadata": {},
   "source": []
  }
 ],
 "metadata": {
  "kernelspec": {
   "display_name": "Python 3 (ipykernel)",
   "language": "python",
   "name": "python3"
  },
  "language_info": {
   "codemirror_mode": {
    "name": "ipython",
    "version": 3
   },
   "file_extension": ".py",
   "mimetype": "text/x-python",
   "name": "python",
   "nbconvert_exporter": "python",
   "pygments_lexer": "ipython3",
   "version": "3.8.10"
  }
 },
 "nbformat": 4,
 "nbformat_minor": 5
}
