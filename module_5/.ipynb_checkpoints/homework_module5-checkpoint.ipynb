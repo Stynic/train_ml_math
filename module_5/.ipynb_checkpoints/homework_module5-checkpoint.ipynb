{
 "cells": [
  {
   "cell_type": "markdown",
   "id": "1a81703d",
   "metadata": {},
   "source": [
    "# The homework of math module 5"
   ]
  },
  {
   "cell_type": "markdown",
   "id": "b61c07e6",
   "metadata": {},
   "source": [
    "## Block 1"
   ]
  },
  {
   "cell_type": "markdown",
   "id": "7d050649",
   "metadata": {},
   "source": [
    "### exercise 1"
   ]
  },
  {
   "cell_type": "markdown",
   "id": "1c623e57",
   "metadata": {},
   "source": [
    "\n",
    "С помощью symPy найдите полиномы, описывающие данные наборы точек. Затем проведите полное исследование каждого полученного полинома: проверьте четность/нечетность, найдите нули, промежутки знакопостоянства. Постройте их графики. С помощью изменения промежутка для х добейтесь того, чтобы все нули были отображены на графике функции. <br><br><br>\n",
    "а) $(-4; -4268), (-3; -1227), (-1; -17), (1; 17), (3; 1227), (4; 4268)$<br><br>\n",
    "б)$ (-4; -16729), (-3; -3999), (-1; 5), (1; 1), (3; 4005), (4; 16735)$"
   ]
  },
  {
   "cell_type": "code",
   "execution_count": 1,
   "id": "2743a0c0",
   "metadata": {},
   "outputs": [],
   "source": [
    "from sympy import *\n",
    "from sympy.plotting import plot\n",
    "init_printing(use_unicode=False, wrap_line=False, no_global=True)\n",
    "# from IPython.core.interactiveshell import InteractiveShell\n",
    "\n",
    "# InteractiveShell.ast_node_interactivity = 'all'"
   ]
  },
  {
   "cell_type": "code",
   "execution_count": 2,
   "id": "a4c095d3",
   "metadata": {},
   "outputs": [],
   "source": [
    "a5, a4, a3, a2, a1, a0 = symbols('a5, a4, a3, a2, a1, a0')\n",
    "equation1_lp = -1024*a5 + 256*a4 - 64*a3 + 16*a2 - 4*a1 + a0 + 4268\n",
    "equation2_lp = -243*a5 + 81*a4 - 27*a3 + 9*a2 - 3*a1 + a0 + 1227\n",
    "equation3_lp = -a5 + a4 - a3 + a2 - a1 + a0 + 17\n",
    "equation4_lp = a5 + a4 + a3 + a2 + a1 + a0 - 17\n",
    "equation5_lp = 243*a5 + 81*a4 + 27*a3 + 9*a2 + 3*a1 + a0 - 1227\n",
    "equation6_lp = 1024*a5 + 256*a4 + 64*a3 + 16*a2 + 4*a1 + a0 - 4268"
   ]
  },
  {
   "cell_type": "code",
   "execution_count": 3,
   "id": "038d8a54",
   "metadata": {},
   "outputs": [
    {
     "data": {
      "image/png": "[encoded data removed]",
      "text/latex": [
       "$\\displaystyle \\left\\{\\left( 3, \\  0, \\  19, \\  0, \\  -5, \\  0\\right)\\right\\}$"
      ],
      "text/plain": [
       "{(3, 0, 19, 0, -5, 0)}"
      ]
     },
     "execution_count": 3,
     "metadata": {},
     "output_type": "execute_result"
    }
   ],
   "source": [
    "# founc coefficients\n",
    "nonlinsolve([\n",
    "    equation1_lp,\n",
    "    equation2_lp,\n",
    "    equation3_lp,\n",
    "    equation4_lp,\n",
    "    equation5_lp,\n",
    "    equation6_lp,\n",
    "], [a5, a4, a3, a2, a1, a0])"
   ]
  },
  {
   "cell_type": "code",
   "execution_count": 4,
   "id": "9640b70e",
   "metadata": {},
   "outputs": [
    {
     "data": {
      "image/png": "[encoded data removed]",
      "text/latex": [
       "$\\displaystyle 3 x^{5} + 19 x^{3} - 5 x$"
      ],
      "text/plain": [
       "   5       3      \n",
       "3*x  + 19*x  - 5*x"
      ]
     },
     "execution_count": 4,
     "metadata": {},
     "output_type": "execute_result"
    }
   ],
   "source": [
    "x = Symbol('x')\n",
    "f = 3*x**5 + 19*x**3 - 5*x\n",
    "f"
   ]
  },
  {
   "cell_type": "code",
   "execution_count": 5,
   "id": "f7ee0203",
   "metadata": {},
   "outputs": [
    {
     "data": {
      "image/png": "[encoded data removed]",
      "text/latex": [
       "$\\displaystyle \\left( -4268, \\  4268, \\  -1227, \\  1227, \\  -17, \\  17\\right)$"
      ],
      "text/plain": [
       "(-4268, 4268, -1227, 1227, -17, 17)"
      ]
     },
     "execution_count": 5,
     "metadata": {},
     "output_type": "execute_result"
    }
   ],
   "source": [
    "# check coefficients for function\n",
    "(f.subs(x, -4),\n",
    "f.subs(x, 4),\n",
    "f.subs(x, -3),\n",
    "f.subs(x, 3),\n",
    "f.subs(x, -1),\n",
    "f.subs(x, 1))\n",
    "# true"
   ]
  },
  {
   "cell_type": "code",
   "execution_count": 6,
   "id": "97b34027",
   "metadata": {},
   "outputs": [
    {
     "data": {
      "text/plain": [
       "False"
      ]
     },
     "execution_count": 6,
     "metadata": {},
     "output_type": "execute_result"
    }
   ],
   "source": [
    "# check parity function\n",
    "f == f.subs(x, -x)"
   ]
  },
  {
   "cell_type": "code",
   "execution_count": 7,
   "id": "c259bb53",
   "metadata": {},
   "outputs": [
    {
     "data": {
      "image/png": "[encoded data removed]",
      "text/latex": [
       "$\\displaystyle - 3 x^{5} - 19 x^{3} + 5 x$"
      ],
      "text/plain": [
       "     5       3      \n",
       "- 3*x  - 19*x  + 5*x"
      ]
     },
     "execution_count": 7,
     "metadata": {},
     "output_type": "execute_result"
    }
   ],
   "source": [
    "f.subs(x, -x)"
   ]
  },
  {
   "cell_type": "code",
   "execution_count": 8,
   "id": "0e5c55e9",
   "metadata": {},
   "outputs": [
    {
     "data": {
      "image/png": "[encoded data removed]",
      "text/latex": [
       "$\\displaystyle \\left[ 0, \\  - i \\sqrt{\\frac{19}{6} + \\frac{\\sqrt{421}}{6}}, \\  i \\sqrt{\\frac{19}{6} + \\frac{\\sqrt{421}}{6}}, \\  - \\sqrt{- \\frac{19}{6} + \\frac{\\sqrt{421}}{6}}, \\  \\sqrt{- \\frac{19}{6} + \\frac{\\sqrt{421}}{6}}\\right]$"
      ],
      "text/plain": [
       "            ______________         ______________        ________________       ________________ \n",
       "           /        _____         /        _____        /          _____       /          _____  \n",
       "          /  19   \\/ 421         /  19   \\/ 421        /    19   \\/ 421       /    19   \\/ 421   \n",
       "[0, -I*  /   -- + ------- , I*  /   -- + ------- , -  /   - -- + ------- ,   /   - -- + ------- ]\n",
       "       \\/    6       6        \\/    6       6       \\/      6       6      \\/      6       6     "
      ]
     },
     "execution_count": 8,
     "metadata": {},
     "output_type": "execute_result"
    }
   ],
   "source": [
    "# found zero points for function\n",
    "zero_points = solve(f)\n",
    "zero_points"
   ]
  },
  {
   "cell_type": "code",
   "execution_count": 9,
   "id": "72303413",
   "metadata": {},
   "outputs": [
    {
     "data": {
      "image/png": "[encoded data removed]",
      "text/latex": [
       "$\\displaystyle \\left( 0, \\  0, \\  0\\right)$"
      ],
      "text/plain": [
       "(0, 0, 0)"
      ]
     },
     "execution_count": 9,
     "metadata": {},
     "output_type": "execute_result"
    }
   ],
   "source": [
    "#check zero points\n",
    "(f.subs(x, zero_points[0]),\n",
    "expand(f.subs(x, zero_points[3])), # need to expand\n",
    " expand(f.subs(x, zero_points[4])))\n"
   ]
  },
  {
   "cell_type": "code",
   "execution_count": 10,
   "id": "c3428b5c",
   "metadata": {},
   "outputs": [
    {
     "data": {
      "image/png": "[encoded data removed]",
      "text/latex": [
       "$\\displaystyle \\left(x < 0 \\wedge - \\sqrt{- \\frac{19}{6} + \\frac{\\sqrt{421}}{6}} < x\\right) \\vee \\left(x < \\infty \\wedge \\sqrt{- \\frac{19}{6} + \\frac{\\sqrt{421}}{6}} < x\\right)$"
      ],
      "text/plain": [
       "  /   /             ________________    \\     /             ________________    \\\\\n",
       "  |   |            /          _____     |     |            /          _____     ||\n",
       "  |   |           /    19   \\/ 421      |     |           /    19   \\/ 421      ||\n",
       "Or|And|x < 0, -  /   - -- + -------  < x|, And|x < oo,   /   - -- + -------  < x||\n",
       "  \\   \\        \\/      6       6        /     \\        \\/      6       6        //"
      ]
     },
     "execution_count": 10,
     "metadata": {},
     "output_type": "execute_result"
    }
   ],
   "source": [
    "# found interval for f>0\n",
    "solve_univariate_inequality(f>0, x)"
   ]
  },
  {
   "cell_type": "code",
   "execution_count": 11,
   "id": "70c169d9",
   "metadata": {},
   "outputs": [
    {
     "data": {
      "image/png": "[encoded data removed]",
      "text/latex": [
       "$\\displaystyle \\left(-\\infty < x \\wedge x < - \\sqrt{- \\frac{19}{6} + \\frac{\\sqrt{421}}{6}}\\right) \\vee \\left(0 < x \\wedge x < \\sqrt{- \\frac{19}{6} + \\frac{\\sqrt{421}}{6}}\\right)$"
      ],
      "text/plain": [
       "  /   /                   ________________\\     /                ________________\\\\\n",
       "  |   |                  /          _____ |     |               /          _____ ||\n",
       "  |   |                 /    19   \\/ 421  |     |              /    19   \\/ 421  ||\n",
       "Or|And|-oo < x, x < -  /   - -- + ------- |, And|0 < x, x <   /   - -- + ------- ||\n",
       "  \\   \\              \\/      6       6    /     \\           \\/      6       6    //"
      ]
     },
     "execution_count": 11,
     "metadata": {},
     "output_type": "execute_result"
    }
   ],
   "source": [
    "# found interval for f<0\n",
    "solve_univariate_inequality(f<0, x)"
   ]
  },
  {
   "cell_type": "code",
   "execution_count": 12,
   "id": "f70fd087",
   "metadata": {},
   "outputs": [
    {
     "data": {
      "text/plain": [
       "[<matplotlib.lines.Line2D at 0x7f634c236f40>]"
      ]
     },
     "execution_count": 12,
     "metadata": {},
     "output_type": "execute_result"
    },
    {
     "data": {
      "image/png": "[encoded data removed]",
      "text/plain": [
       "<Figure size 432x288 with 1 Axes>"
      ]
     },
     "metadata": {
      "needs_background": "light"
     },
     "output_type": "display_data"
    }
   ],
   "source": [
    "import numpy as np\n",
    "import matplotlib.pyplot as plt\n",
    "\n",
    "plt.scatter([zero_points[0], zero_points[3], zero_points[4]], [0, 0, 0], c='r')\n",
    "x_range = np.linspace(-1, 1, num=100)\n",
    "plt.axhline(0, color='black')\n",
    "plt.axvline(0, color='black')\n",
    "f = lambda x : 3*x**5 + 19*x**3 - 5*x\n",
    "plt.plot(x_range, f(x_range))\n",
    "\n",
    "# drew our fuction on the plot"
   ]
  },
  {
   "cell_type": "markdown",
   "id": "462950d6",
   "metadata": {},
   "source": [
    "### exercise 2 - module 1\n",
    "\n",
    "б)$ (-4; -16729), (-3; -3999), (-1; 5), (1; 1), (3; 4005), (4; 16735)$"
   ]
  },
  {
   "cell_type": "code",
   "execution_count": 13,
   "id": "c00eba25",
   "metadata": {},
   "outputs": [],
   "source": [
    "from sympy import *\n",
    "from sympy.plotting import plot\n",
    "init_printing(use_unicode=False, wrap_line=False, no_global=True)"
   ]
  },
  {
   "cell_type": "code",
   "execution_count": 14,
   "id": "a4a07c47",
   "metadata": {},
   "outputs": [],
   "source": [
    "a5, a4, a3, a2, a1, a0 = symbols('a5, a4, a3, a2, a1, a0')"
   ]
  },
  {
   "cell_type": "code",
   "execution_count": 15,
   "id": "7439984e",
   "metadata": {},
   "outputs": [
    {
     "data": {
      "image/png": "[encoded data removed]",
      "text/latex": [
       "$\\displaystyle a_{0} + a_{1} x + a_{2} x^{2} + a_{3} x^{3} + a_{4} x^{4} + a_{5} x^{5} - y$"
      ],
      "text/plain": [
       "                2       3       4       5    \n",
       "a0 + a1*x + a2*x  + a3*x  + a4*x  + a5*x  - y"
      ]
     },
     "execution_count": 15,
     "metadata": {},
     "output_type": "execute_result"
    }
   ],
   "source": [
    "x, y = symbols('x, y')\n",
    "equation = a5*x**5 + a4*x**4 + a3*x**3 + a2*x**2 + a1*x + a0 - y\n",
    "equation\n",
    "\n",
    "# create blank of function to double other fucntion from its"
   ]
  },
  {
   "cell_type": "code",
   "execution_count": 16,
   "id": "9399750e",
   "metadata": {},
   "outputs": [],
   "source": [
    "x_points = [-4, -3, -1, 1, 3, 4]\n",
    "y_points = [-16729, -3999, 5, 1, 4005, 16735]\n",
    "equation1_lp = equation.subs(x, x_points[0]).subs(y, y_points[0])\n",
    "equation2_lp = equation.subs(x, x_points[1]).subs(y, y_points[1])\n",
    "equation3_lp = equation.subs(x, x_points[2]).subs(y, y_points[2])\n",
    "equation4_lp = equation.subs(x, x_points[3]).subs(y, y_points[3])\n",
    "equation5_lp = equation.subs(x, x_points[4]).subs(y, y_points[4])\n",
    "equation6_lp = equation.subs(x, x_points[5]).subs(y, y_points[5])\n",
    "\n",
    "# inherited"
   ]
  },
  {
   "cell_type": "code",
   "execution_count": 17,
   "id": "52ae0af4",
   "metadata": {},
   "outputs": [
    {
     "data": {
      "image/png": "[encoded data removed]",
      "text/latex": [
       "$\\displaystyle \\left\\{\\left( 16, \\  0, \\  7, \\  0, \\  -25, \\  3\\right)\\right\\}$"
      ],
      "text/plain": [
       "{(16, 0, 7, 0, -25, 3)}"
      ]
     },
     "execution_count": 17,
     "metadata": {},
     "output_type": "execute_result"
    }
   ],
   "source": [
    "coefficients = nonlinsolve([\n",
    "    equation1_lp,\n",
    "    equation2_lp,\n",
    "    equation3_lp,\n",
    "    equation4_lp,\n",
    "    equation5_lp,\n",
    "    equation6_lp,\n",
    "], [a5, a4, a3, a2, a1, a0])\n",
    "coefficients\n",
    "\n",
    "# found coefficients"
   ]
  },
  {
   "cell_type": "code",
   "execution_count": 18,
   "id": "bd8a0407",
   "metadata": {},
   "outputs": [
    {
     "data": {
      "image/png": "[encoded data removed]",
      "text/latex": [
       "$\\displaystyle 16 x^{5} + 7 x^{3} - 25 x + 3$"
      ],
      "text/plain": [
       "    5      3           \n",
       "16*x  + 7*x  - 25*x + 3"
      ]
     },
     "execution_count": 18,
     "metadata": {},
     "output_type": "execute_result"
    }
   ],
   "source": [
    "# create main fuction. Substitute coefficients in function\n",
    "f = 16*x**5 + 7*x**3 - 25*x + 3\n",
    "f"
   ]
  },
  {
   "cell_type": "code",
   "execution_count": 19,
   "id": "ada07658",
   "metadata": {},
   "outputs": [],
   "source": [
    "# check function to substitute x from x_points\n",
    "def check_y_function(pointsx, pointsy):\n",
    "    check_y = [f.subs(x, x_) for x_ in pointsx]\n",
    "    return check_y == pointsy"
   ]
  },
  {
   "cell_type": "code",
   "execution_count": 20,
   "id": "f33e86fc",
   "metadata": {},
   "outputs": [
    {
     "data": {
      "text/plain": [
       "True"
      ]
     },
     "execution_count": 20,
     "metadata": {},
     "output_type": "execute_result"
    }
   ],
   "source": [
    "# check value function\n",
    "check_y_function(x_points, y_points)"
   ]
  },
  {
   "cell_type": "code",
   "execution_count": 21,
   "id": "10a6c4d0",
   "metadata": {},
   "outputs": [
    {
     "data": {
      "text/plain": [
       "False"
      ]
     },
     "execution_count": 21,
     "metadata": {},
     "output_type": "execute_result"
    }
   ],
   "source": [
    "# check parity function\n",
    "f==f.subs(x, -x)"
   ]
  },
  {
   "cell_type": "code",
   "execution_count": 22,
   "id": "a153dcca",
   "metadata": {},
   "outputs": [
    {
     "data": {
      "image/png": "[encoded data removed]",
      "text/latex": [
       "$\\displaystyle - 16 x^{5} - 7 x^{3} + 25 x + 3$"
      ],
      "text/plain": [
       "      5      3           \n",
       "- 16*x  - 7*x  + 25*x + 3"
      ]
     },
     "execution_count": 22,
     "metadata": {},
     "output_type": "execute_result"
    }
   ],
   "source": [
    "f.subs(x, -x)"
   ]
  },
  {
   "cell_type": "code",
   "execution_count": 23,
   "id": "bb1f1769",
   "metadata": {},
   "outputs": [
    {
     "data": {
      "image/png": "[encoded data removed]",
      "text/latex": [
       "$\\displaystyle \\left[ \\operatorname{CRootOf} {\\left(16 x^{5} + 7 x^{3} - 25 x + 3, 0\\right)}, \\  \\operatorname{CRootOf} {\\left(16 x^{5} + 7 x^{3} - 25 x + 3, 1\\right)}, \\  \\operatorname{CRootOf} {\\left(16 x^{5} + 7 x^{3} - 25 x + 3, 2\\right)}, \\  \\operatorname{CRootOf} {\\left(16 x^{5} + 7 x^{3} - 25 x + 3, 3\\right)}, \\  \\operatorname{CRootOf} {\\left(16 x^{5} + 7 x^{3} - 25 x + 3, 4\\right)}\\right]$"
      ],
      "text/plain": [
       "        /    5      3              \\         /    5      3              \\         /    5      3              \\         /    5      3              \\         /    5      3              \\ \n",
       "[CRootOf\\16*x  + 7*x  - 25*x + 3, 0/, CRootOf\\16*x  + 7*x  - 25*x + 3, 1/, CRootOf\\16*x  + 7*x  - 25*x + 3, 2/, CRootOf\\16*x  + 7*x  - 25*x + 3, 3/, CRootOf\\16*x  + 7*x  - 25*x + 3, 4/]"
      ]
     },
     "execution_count": 23,
     "metadata": {},
     "output_type": "execute_result"
    }
   ],
   "source": [
    "# found zero points\n",
    "zero_points = solve(f)\n",
    "zero_points"
   ]
  },
  {
   "cell_type": "code",
   "execution_count": 24,
   "id": "e9339d95",
   "metadata": {},
   "outputs": [
    {
     "data": {
      "image/png": "[encoded data removed]",
      "text/latex": [
       "$\\displaystyle \\left( 16 \\operatorname{CRootOf} {\\left(16 x^{5} + 7 x^{3} - 25 x + 3, 0\\right)}^{5} + 7 \\operatorname{CRootOf} {\\left(16 x^{5} + 7 x^{3} - 25 x + 3, 0\\right)}^{3} + 3 - 25 \\operatorname{CRootOf} {\\left(16 x^{5} + 7 x^{3} - 25 x + 3, 0\\right)}, \\  - 25 \\operatorname{CRootOf} {\\left(16 x^{5} + 7 x^{3} - 25 x + 3, 1\\right)} + 16 \\operatorname{CRootOf} {\\left(16 x^{5} + 7 x^{3} - 25 x + 3, 1\\right)}^{5} + 7 \\operatorname{CRootOf} {\\left(16 x^{5} + 7 x^{3} - 25 x + 3, 1\\right)}^{3} + 3, \\  - 25 \\operatorname{CRootOf} {\\left(16 x^{5} + 7 x^{3} - 25 x + 3, 2\\right)} + 3 + 7 \\operatorname{CRootOf} {\\left(16 x^{5} + 7 x^{3} - 25 x + 3, 2\\right)}^{3} + 16 \\operatorname{CRootOf} {\\left(16 x^{5} + 7 x^{3} - 25 x + 3, 2\\right)}^{5}\\right)$"
      ],
      "text/plain": [
       "                                       5                                        3                                                                                                                                5                                        3                                                                                          3                                         5 \n",
       "           /    5      3              \\             /    5      3              \\                  /    5      3              \\              /    5      3              \\             /    5      3              \\             /    5      3              \\                   /    5      3              \\                /    5      3              \\              /    5      3              \\  \n",
       "(16*CRootOf\\16*x  + 7*x  - 25*x + 3, 0/  + 7*CRootOf\\16*x  + 7*x  - 25*x + 3, 0/  + 3 - 25*CRootOf\\16*x  + 7*x  - 25*x + 3, 0/, - 25*CRootOf\\16*x  + 7*x  - 25*x + 3, 1/ + 16*CRootOf\\16*x  + 7*x  - 25*x + 3, 1/  + 7*CRootOf\\16*x  + 7*x  - 25*x + 3, 1/  + 3, - 25*CRootOf\\16*x  + 7*x  - 25*x + 3, 2/ + 3 + 7*CRootOf\\16*x  + 7*x  - 25*x + 3, 2/  + 16*CRootOf\\16*x  + 7*x  - 25*x + 3, 2/ )"
      ]
     },
     "execution_count": 24,
     "metadata": {},
     "output_type": "execute_result"
    }
   ],
   "source": [
    "# check zero points\n",
    "(\n",
    "    f.subs(x, zero_points[0]),\n",
    "    f.subs(x, zero_points[1]),\n",
    "    f.subs(x, zero_points[2])\n",
    ")"
   ]
  },
  {
   "cell_type": "code",
   "execution_count": 25,
   "id": "0dc042f5",
   "metadata": {},
   "outputs": [
    {
     "data": {
      "image/png": "[encoded data removed]",
      "text/latex": [
       "$\\displaystyle \\left(x < \\infty \\wedge \\operatorname{CRootOf} {\\left(16 x^{5} + 7 x^{3} - 25 x + 3, 2\\right)} < x\\right) \\vee \\left(x < \\operatorname{CRootOf} {\\left(16 x^{5} + 7 x^{3} - 25 x + 3, 1\\right)} \\wedge \\operatorname{CRootOf} {\\left(16 x^{5} + 7 x^{3} - 25 x + 3, 0\\right)} < x\\right)$"
      ],
      "text/plain": [
       "  /   /               /    5      3              \\    \\     /           /    5      3              \\         /    5      3              \\    \\\\\n",
       "Or\\And\\x < oo, CRootOf\\16*x  + 7*x  - 25*x + 3, 2/ < x/, And\\x < CRootOf\\16*x  + 7*x  - 25*x + 3, 1/, CRootOf\\16*x  + 7*x  - 25*x + 3, 0/ < x//"
      ]
     },
     "execution_count": 25,
     "metadata": {},
     "output_type": "execute_result"
    }
   ],
   "source": [
    "solve_univariate_inequality(f>0, x)"
   ]
  },
  {
   "cell_type": "code",
   "execution_count": 26,
   "id": "1e07aa57",
   "metadata": {},
   "outputs": [
    {
     "data": {
      "image/png": "[encoded data removed]",
      "text/latex": [
       "$\\displaystyle \\left(-\\infty < x \\wedge x < \\operatorname{CRootOf} {\\left(16 x^{5} + 7 x^{3} - 25 x + 3, 0\\right)}\\right) \\vee \\left(x < \\operatorname{CRootOf} {\\left(16 x^{5} + 7 x^{3} - 25 x + 3, 2\\right)} \\wedge \\operatorname{CRootOf} {\\left(16 x^{5} + 7 x^{3} - 25 x + 3, 1\\right)} < x\\right)$"
      ],
      "text/plain": [
       "  /   /                    /    5      3              \\\\     /           /    5      3              \\         /    5      3              \\    \\\\\n",
       "Or\\And\\-oo < x, x < CRootOf\\16*x  + 7*x  - 25*x + 3, 0//, And\\x < CRootOf\\16*x  + 7*x  - 25*x + 3, 2/, CRootOf\\16*x  + 7*x  - 25*x + 3, 1/ < x//"
      ]
     },
     "execution_count": 26,
     "metadata": {},
     "output_type": "execute_result"
    }
   ],
   "source": [
    "solve_univariate_inequality(f<0, x)"
   ]
  },
  {
   "cell_type": "code",
   "execution_count": 27,
   "id": "0bff8668",
   "metadata": {},
   "outputs": [
    {
     "data": {
      "image/png": "[encoded data removed]",
      "text/plain": [
       "<Figure size 432x288 with 1 Axes>"
      ]
     },
     "metadata": {
      "needs_background": "light"
     },
     "output_type": "display_data"
    },
    {
     "data": {
      "text/plain": [
       "<sympy.plotting.plot.Plot at 0x7f634c8bcd30>"
      ]
     },
     "execution_count": 27,
     "metadata": {},
     "output_type": "execute_result"
    }
   ],
   "source": [
    "plot(f)"
   ]
  },
  {
   "cell_type": "code",
   "execution_count": 28,
   "id": "d144cde4",
   "metadata": {},
   "outputs": [
    {
     "data": {
      "text/plain": [
       "[<matplotlib.lines.Line2D at 0x7f6349f1bd30>]"
      ]
     },
     "execution_count": 28,
     "metadata": {},
     "output_type": "execute_result"
    },
    {
     "data": {
      "image/png": "[encoded data removed]",
      "text/plain": [
       "<Figure size 432x288 with 1 Axes>"
      ]
     },
     "metadata": {
      "needs_background": "light"
     },
     "output_type": "display_data"
    }
   ],
   "source": [
    "import numpy as np\n",
    "import matplotlib.pyplot as plt\n",
    "\n",
    "plt.scatter([zero_points[0], zero_points[1], zero_points[2]], [0, 0, 0], c='r')\n",
    "x_range = np.linspace(-1.2, 1.2, num=100)\n",
    "plt.axhline(0, color='black')\n",
    "plt.axvline(0, color='black')\n",
    "y_function = lambda x: 16*x**5 + 7*x**3 - 25*x + 3\n",
    "plt.plot(x_range, y_function(x_range))"
   ]
  },
  {
   "cell_type": "markdown",
   "id": "f2c61371",
   "metadata": {},
   "source": [
    "## block 2\n",
    "### exercise 1\n",
    "#### Need to get MSE less than 5"
   ]
  },
  {
   "cell_type": "code",
   "execution_count": 29,
   "id": "5d8c687c",
   "metadata": {},
   "outputs": [],
   "source": [
    "import numpy as np\n",
    "import matplotlib.pyplot as plt\n",
    "\n",
    "def print_points_its_function(sympy_function):\n",
    "    def function(x_): return float(sympy_function.subs(x, x_))\n",
    "    x_points = np.array([-2, -1, 0, 1, 2, 3, 3.5, 4, 4.5, 5])\n",
    "    y_points = np.array([2, -4, 1, 8, 21, 40, 47, 65, 75, 92])\n",
    "    plt.xlim(-6, 10)\n",
    "    plt.ylim(-1, 100)\n",
    "    plt.axhline(0, color='black')\n",
    "    plt.axvline(0, color='black')\n",
    "    plt.scatter(x_points, y_points, c='r')\n",
    "    x_range = np.linspace(plt.xlim()[0], plt.xlim()[1], num=100)\n",
    "    y_function = [function(x_) for x_ in x_range]\n",
    "    plt.plot(x_range, y_function, 'b')\n",
    "    plt.show()\n",
    "    \n",
    "    MSE = sum([(y_points[i] - function(x_points[i]))**2 for i in range(len(y_points))]) / len(y_points)\n",
    "    print(f'MSE = {MSE}')"
   ]
  },
  {
   "cell_type": "code",
   "execution_count": 30,
   "id": "92cd55df",
   "metadata": {},
   "outputs": [
    {
     "data": {
      "image/png": "[encoded data removed]",
      "text/latex": [
       "$\\displaystyle 48 x^{2} - 128 x + 83$"
      ],
      "text/plain": [
       "    2             \n",
       "48*x  - 128*x + 83"
      ]
     },
     "execution_count": 30,
     "metadata": {},
     "output_type": "execute_result"
    }
   ],
   "source": [
    "f1 = 48 * x**2 - 128 * x + 83\n",
    "f1"
   ]
  },
  {
   "cell_type": "code",
   "execution_count": 31,
   "id": "45eb4c1b",
   "metadata": {},
   "outputs": [
    {
     "data": {
      "image/png": "[encoded data removed]",
      "text/plain": [
       "<Figure size 432x288 with 1 Axes>"
      ]
     },
     "metadata": {
      "needs_background": "light"
     },
     "output_type": "display_data"
    },
    {
     "name": "stdout",
     "output_type": "stream",
     "text": [
      "MSE = 93691.3\n"
     ]
    }
   ],
   "source": [
    "print_points_its_function(f1)"
   ]
  },
  {
   "cell_type": "code",
   "execution_count": 32,
   "id": "8f876e72",
   "metadata": {},
   "outputs": [
    {
     "data": {
      "image/png": "[encoded data removed]",
      "text/plain": [
       "<Figure size 432x288 with 1 Axes>"
      ]
     },
     "metadata": {
      "needs_background": "light"
     },
     "output_type": "display_data"
    },
    {
     "name": "stdout",
     "output_type": "stream",
     "text": [
      "MSE = 4.931498356555079\n"
     ]
    }
   ],
   "source": [
    "print_points_its_function(f1.subs(x, (x+5.91)/3.97))"
   ]
  },
  {
   "cell_type": "code",
   "execution_count": 33,
   "id": "98b61037",
   "metadata": {},
   "outputs": [
    {
     "data": {
      "image/png": "[encoded data removed]",
      "text/plain": [
       "<Figure size 432x288 with 1 Axes>"
      ]
     },
     "metadata": {
      "needs_background": "light"
     },
     "output_type": "display_data"
    },
    {
     "name": "stdout",
     "output_type": "stream",
     "text": [
      "MSE = 4.931498356555079\n"
     ]
    }
   ],
   "source": [
    "print_points_its_function(f1.subs(x, (x+5.91)/3.97))"
   ]
  },
  {
   "cell_type": "markdown",
   "id": "8f7f8b5d",
   "metadata": {},
   "source": [
    "### exercise 2"
   ]
  },
  {
   "cell_type": "markdown",
   "id": "77724181",
   "metadata": {},
   "source": [
    "#### Need to get value less than 35"
   ]
  },
  {
   "cell_type": "code",
   "execution_count": 34,
   "id": "7f3c20e5",
   "metadata": {},
   "outputs": [],
   "source": [
    "def print_points_ands_function2(sympy_function):\n",
    "    def function(x_): return float(sympy_function.subs(x, x_))\n",
    "    \n",
    "    points_X = np.array([-2, -1, 0, 1, 2, 3, 3.5, 4, 4.5, 5])\n",
    "    points_Y = np.array([-31, -9, 4, -1, 9, 24, 47, 92, 120, 170])\n",
    "    plt.xlim(-3, 6)\n",
    "    plt.ylim(-35, 200)\n",
    "    plt.axhline(0, color='black')\n",
    "    plt.axvline(0, color='black')\n",
    "    \n",
    "    plt.scatter(points_X, points_Y, c='r')\n",
    "    x_range = np.linspace(plt.xlim()[0], plt.xlim()[1], num=100)\n",
    "    function_Y = [function(x_) for x_ in x_range]\n",
    "    plt.plot(x_range, function_Y, 'b')\n",
    "    plt.show()\n",
    "    \n",
    "    MSE = sum([(points_Y[i] - function(points_X[i]))**2 for i in range(len(points_Y))]) / len(points_Y)\n",
    "    print(f'MSE = {MSE}')"
   ]
  },
  {
   "cell_type": "code",
   "execution_count": 35,
   "id": "03a45967",
   "metadata": {},
   "outputs": [
    {
     "data": {
      "image/png": "[encoded data removed]",
      "text/latex": [
       "$\\displaystyle 4 x^{3} + 30 x^{2} + 74 x + 62$"
      ],
      "text/plain": [
       "   3       2            \n",
       "4*x  + 30*x  + 74*x + 62"
      ]
     },
     "execution_count": 35,
     "metadata": {},
     "output_type": "execute_result"
    }
   ],
   "source": [
    "f2 = 4 * x**3 + 30 * x**2 + 74 * x + 62\n",
    "f2"
   ]
  },
  {
   "cell_type": "code",
   "execution_count": 36,
   "id": "56e45130",
   "metadata": {},
   "outputs": [
    {
     "data": {
      "image/png": "[encoded data removed]",
      "text/plain": [
       "<Figure size 432x288 with 1 Axes>"
      ]
     },
     "metadata": {
      "needs_background": "light"
     },
     "output_type": "display_data"
    },
    {
     "name": "stdout",
     "output_type": "stream",
     "text": [
      "MSE = 607200.2\n"
     ]
    }
   ],
   "source": [
    "print_points_ands_function2(f2)"
   ]
  },
  {
   "cell_type": "code",
   "execution_count": 86,
   "id": "516f366b",
   "metadata": {},
   "outputs": [
    {
     "data": {
      "image/png": "[encoded data removed]",
      "text/plain": [
       "<Figure size 432x288 with 1 Axes>"
      ]
     },
     "metadata": {
      "needs_background": "light"
     },
     "output_type": "display_data"
    },
    {
     "name": "stdout",
     "output_type": "stream",
     "text": [
      "MSE = 31.15259742873608\n"
     ]
    }
   ],
   "source": [
    "print_points_ands_function2(f2.subs(x, x-3.12)/2)\n",
    "# I can got desired result, it's 31 less than 35 "
   ]
  },
  {
   "cell_type": "code",
   "execution_count": 87,
   "id": "638f610a",
   "metadata": {},
   "outputs": [
    {
     "data": {
      "image/png": "[encoded data removed]",
      "text/plain": [
       "<Figure size 432x288 with 1 Axes>"
      ]
     },
     "metadata": {
      "needs_background": "light"
     },
     "output_type": "display_data"
    },
    {
     "name": "stdout",
     "output_type": "stream",
     "text": [
      "MSE = 20.99952627302395\n"
     ]
    }
   ],
   "source": [
    "print_points_ands_function2(f2.subs(x, x-3.06)/2)\n",
    "# better than past result"
   ]
  },
  {
   "cell_type": "markdown",
   "id": "25318550",
   "metadata": {},
   "source": [
    "### exercise 3"
   ]
  },
  {
   "cell_type": "markdown",
   "id": "4924cda0",
   "metadata": {},
   "source": [
    "#### Need to get MSE less than 3300"
   ]
  },
  {
   "cell_type": "code",
   "execution_count": 95,
   "id": "8e2b777a",
   "metadata": {},
   "outputs": [],
   "source": [
    "def print_points_ands_function3(sympy_function):\n",
    "    def function(x_): return float(sympy_function.subs(x, x_))\n",
    "    \n",
    "    points_X = np.array([-2, -1, 0, 1, 2, 3, 3.5, 4, 4.5, 5])\n",
    "    points_Y = np.array([60, 25, 4, -0, -57, -195, -295, -540, -700, -760])\n",
    "    plt.xlim(-10, 6)\n",
    "    plt.ylim(-850, 100)\n",
    "    plt.axhline(0, color='black')\n",
    "    plt.axvline(0, color='black')\n",
    "    \n",
    "    \n",
    "    plt.scatter(points_X, points_Y, c='r')\n",
    "    x_range = np.linspace(plt.xlim()[0], plt.xlim()[1], num=100)\n",
    "    function_Y = [function(x_) for x_ in x_range]\n",
    "    plt.plot(x_range, function_Y, 'b')\n",
    "    plt.show()\n",
    "    \n",
    "    MSE = sum([(points_Y[i] - function(points_X[i]))**2 for i in range(len(points_Y))]) / len(points_Y)\n",
    "    print(f'MSE = {MSE}')"
   ]
  },
  {
   "cell_type": "code",
   "execution_count": 89,
   "id": "78db72fc",
   "metadata": {},
   "outputs": [
    {
     "data": {
      "image/png": "[encoded data removed]",
      "text/latex": [
       "$\\displaystyle - 36 x^{3} - 756 x^{2} - 5334 x - 12636$"
      ],
      "text/plain": [
       "      3        2                 \n",
       "- 36*x  - 756*x  - 5334*x - 12636"
      ]
     },
     "execution_count": 89,
     "metadata": {},
     "output_type": "execute_result"
    }
   ],
   "source": [
    "f3 = -36 * x**3 - 756 * x**2 - 5334 * x - 12636\n",
    "f3"
   ]
  },
  {
   "cell_type": "code",
   "execution_count": 125,
   "id": "2891235a",
   "metadata": {},
   "outputs": [
    {
     "data": {
      "image/png": "[encoded data removed]",
      "text/plain": [
       "<Figure size 432x288 with 1 Axes>"
      ]
     },
     "metadata": {
      "needs_background": "light"
     },
     "output_type": "display_data"
    },
    {
     "name": "stdout",
     "output_type": "stream",
     "text": [
      "MSE = 1346344545.35\n"
     ]
    }
   ],
   "source": [
    "print_points_ands_function3(f3)\n",
    "# Check points of the function and we need to think about where to move it..\n",
    "# on the right, because you need subtract from the fuction -7"
   ]
  },
  {
   "cell_type": "code",
   "execution_count": 127,
   "id": "5d18f084",
   "metadata": {},
   "outputs": [
    {
     "data": {
      "image/png": "[encoded data removed]",
      "text/plain": [
       "<Figure size 432x288 with 1 Axes>"
      ]
     },
     "metadata": {
      "needs_background": "light"
     },
     "output_type": "display_data"
    },
    {
     "name": "stdout",
     "output_type": "stream",
     "text": [
      "MSE = 2299.3752066115817\n"
     ]
    }
   ],
   "source": [
    "# install the function in a needed position\n",
    "print_points_ands_function3(f3.subs(x, x-7)/5.5)"
   ]
  },
  {
   "cell_type": "markdown",
   "id": "24439780",
   "metadata": {},
   "source": [
    "### exercise 4"
   ]
  },
  {
   "cell_type": "markdown",
   "id": "5133d3d2",
   "metadata": {},
   "source": [
    "####  Neen to get MSE less than 25"
   ]
  },
  {
   "cell_type": "code",
   "execution_count": 129,
   "id": "5ef91c4a",
   "metadata": {},
   "outputs": [],
   "source": [
    "def print_points_ands_function4(sympy_function):\n",
    "    def function(x_): return float(sympy_function.subs(x, x_))\n",
    "    \n",
    "    points_X = np.array([-2, -1, 0, 1, 2, 3, 3.5, 4, 4.5, 5])\n",
    "    points_Y = np.array([-42, -37, -23, -36, -45, -80, -83, -110, -131, -155])\n",
    "    plt.xlim(-4, 20)\n",
    "    plt.ylim(-160, -10)\n",
    "    plt.axhline(0, color='black')\n",
    "    plt.axvline(0, color='black')\n",
    "    \n",
    "    \n",
    "    plt.scatter(points_X, points_Y, c='r')\n",
    "    x_range = np.linspace(plt.xlim()[0], plt.xlim()[1], num=100)\n",
    "    function_Y = [function(x_) for x_ in x_range]\n",
    "    plt.plot(x_range, function_Y, 'b')\n",
    "    plt.show()\n",
    "    \n",
    "    MSE = sum([(points_Y[i] - function(points_X[i]))**2 for i in range(len(points_Y))]) / len(points_Y)\n",
    "    print(f'MSE = {MSE}')"
   ]
  },
  {
   "cell_type": "code",
   "execution_count": 130,
   "id": "6afe7c45",
   "metadata": {},
   "outputs": [
    {
     "data": {
      "image/png": "[encoded data removed]",
      "text/latex": [
       "$\\displaystyle - 1.25 x^{2} + 25 x - 152$"
      ],
      "text/plain": [
       "        2             \n",
       "- 1.25*x  + 25*x - 152"
      ]
     },
     "execution_count": 130,
     "metadata": {},
     "output_type": "execute_result"
    }
   ],
   "source": [
    "f4 = - 5 / 4 * x**2 + 25 * x - 152\n",
    "f4"
   ]
  },
  {
   "cell_type": "code",
   "execution_count": 132,
   "id": "0c84dd0a",
   "metadata": {},
   "outputs": [
    {
     "data": {
      "image/png": "[encoded data removed]",
      "text/plain": [
       "<Figure size 432x288 with 1 Axes>"
      ]
     },
     "metadata": {
      "needs_background": "light"
     },
     "output_type": "display_data"
    },
    {
     "name": "stdout",
     "output_type": "stream",
     "text": [
      "MSE = 9143.51953125\n"
     ]
    }
   ],
   "source": [
    "print_points_ands_function4(f4)"
   ]
  },
  {
   "cell_type": "code",
   "execution_count": 142,
   "id": "a0240f6c",
   "metadata": {},
   "outputs": [
    {
     "data": {
      "image/png": "[encoded data removed]",
      "text/plain": [
       "<Figure size 432x288 with 1 Axes>"
      ]
     },
     "metadata": {
      "needs_background": "light"
     },
     "output_type": "display_data"
    },
    {
     "name": "stdout",
     "output_type": "stream",
     "text": [
      "MSE = 20.3125\n"
     ]
    }
   ],
   "source": [
    "print_points_ands_function4(f4.subs(x, x*2+10))\n",
    "# Got needed MSE, it's less than 25"
   ]
  },
  {
   "cell_type": "code",
   "execution_count": null,
   "id": "8580706c",
   "metadata": {},
   "outputs": [],
   "source": []
  }
 ],
 "metadata": {
  "kernelspec": {
   "display_name": "Python 3 (ipykernel)",
   "language": "python",
   "name": "python3"
  },
  "language_info": {
   "codemirror_mode": {
    "name": "ipython",
    "version": 3
   },
   "file_extension": ".py",
   "mimetype": "text/x-python",
   "name": "python",
   "nbconvert_exporter": "python",
   "pygments_lexer": "ipython3",
   "version": "3.8.10"
  },
  "toc": {
   "base_numbering": 1,
   "nav_menu": {
    "height": "157.986px",
    "width": "407.691px"
   },
   "number_sections": true,
   "sideBar": true,
   "skip_h1_title": false,
   "title_cell": "Table of Contents",
   "title_sidebar": "Contents",
   "toc_cell": false,
   "toc_position": {
    "height": "calc(100% - 180px)",
    "left": "10px",
    "top": "150px",
    "width": "426.667px"
   },
   "toc_section_display": true,
   "toc_window_display": true
  }
 },
 "nbformat": 4,
 "nbformat_minor": 5
}
