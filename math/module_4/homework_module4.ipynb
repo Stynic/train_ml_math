{
 "cells": [
  {
   "cell_type": "markdown",
   "id": "efd2b28f",
   "metadata": {},
   "source": [
    "# The homework for the course of math  - module 4\n"
   ]
  },
  {
   "cell_type": "markdown",
   "id": "5c94a019",
   "metadata": {},
   "source": [
    "## Преобразования функций и полиномы. Домашнее задание\n",
    "\n",
    "С помощью SymPy найдите полиномы, описывающие данные наборы точек. Затем проведите полное исследование каждого полученного полинома: проверьте четность/нечетность, найдите нули, промежутки знакопостоянства. Постройте их графики. С помощью изменения промежутка для х добейтесь того, чтобы все нули были отображены на графике функции.<br><br>\n",
    "Средний уровень <br><br>\n",
    "$(-2, 2), (-1, 1), (0, 0), (1, 1), (2, 2)$<br><br>\n",
    "Сложный уровень <br><br>\n",
    "$(-3, 33), (-2, 31), (-1, 18), (1, -18), (2, -31), (3, -33)$\n"
   ]
  },
  {
   "cell_type": "code",
   "execution_count": 1,
   "id": "f19a9b8f",
   "metadata": {},
   "outputs": [],
   "source": [
    "from sympy import *\n",
    "from sympy.plotting import plot\n",
    "init_printing(use_unicode=False, wrap_line=False, no_global=True)"
   ]
  },
  {
   "cell_type": "code",
   "execution_count": 2,
   "id": "0969756c",
   "metadata": {},
   "outputs": [],
   "source": [
    "a4, a3, a2, a1, a0 = symbols('a4, a3, a2, a1, a0')"
   ]
  },
  {
   "cell_type": "code",
   "execution_count": 3,
   "id": "0dfa001c",
   "metadata": {},
   "outputs": [],
   "source": [
    "equation1_lp = 16*a4 - 8*a3 + 4*a2 - 2*a1 + a0 - 2\n",
    "equation2_lp = a4 - a3 + a2 -a1 + a0 - 1\n",
    "equation3_lp = a0\n",
    "equation4_lp = a4 + a3 + a2 + a1 + a0 -1\n",
    "equation5_lp = 16*a4 + 8*a3 + 4*a2 + 2*a1 + a0 - 2\n",
    "\n",
    "# create equations left part bacause count on coefficients for fuction "
   ]
  },
  {
   "cell_type": "code",
   "execution_count": 4,
   "id": "5b1e7202",
   "metadata": {},
   "outputs": [
    {
     "data": {
      "image/png": "[encoded data removed]",
      "text/latex": [
       "$\\displaystyle \\left\\{\\left( - \\frac{1}{6}, \\  0, \\  \\frac{7}{6}, \\  0, \\  0\\right)\\right\\}$"
      ],
      "text/plain": [
       "{(-1/6, 0, 7/6, 0, 0)}"
      ]
     },
     "execution_count": 4,
     "metadata": {},
     "output_type": "execute_result"
    }
   ],
   "source": [
    "nonlinsolve([\n",
    "            equation1_lp,\n",
    "            equation2_lp,\n",
    "            equation3_lp,\n",
    "            equation4_lp,\n",
    "            equation5_lp,\n",
    "            ], [a4, a3, a2, a1, a0])\n",
    "\n",
    "#find coefficients"
   ]
  },
  {
   "cell_type": "code",
   "execution_count": 5,
   "id": "d4866e46",
   "metadata": {},
   "outputs": [
    {
     "data": {
      "image/png": "[encoded data removed]",
      "text/latex": [
       "$\\displaystyle - 0.166666666666667 x^{4} + 1.16666666666667 x^{2}$"
      ],
      "text/plain": [
       "                     4                     2\n",
       "- 0.166666666666667*x  + 1.16666666666667*x "
      ]
     },
     "execution_count": 5,
     "metadata": {},
     "output_type": "execute_result"
    }
   ],
   "source": [
    "x = symbols('x')\n",
    "function_polinom4 = -1/6*x**4 + 7/6*x**2\n",
    "function_polinom4\n",
    "\n",
    "# install our coefficients in fuction of polinom degree five"
   ]
  },
  {
   "cell_type": "code",
   "execution_count": 6,
   "id": "2b8b26f6",
   "metadata": {},
   "outputs": [
    {
     "data": {
      "image/png": "[encoded data removed]",
      "text/latex": [
       "$\\displaystyle \\left( 2.0, \\  1.0, \\  0, \\  1.0, \\  2.0\\right)$"
      ],
      "text/plain": [
       "(2.0, 1.0, 0, 1.0, 2.0)"
      ]
     },
     "execution_count": 6,
     "metadata": {},
     "output_type": "execute_result"
    }
   ],
   "source": [
    "(function_polinom4.subs(x, -2),\n",
    "function_polinom4.subs(x, -1),\n",
    "function_polinom4.subs(x, 0),\n",
    "function_polinom4.subs(x, 1),\n",
    "function_polinom4.subs(x, 2))\n",
    "\n",
    "# these value is correct!"
   ]
  },
  {
   "cell_type": "code",
   "execution_count": 7,
   "id": "f164337f",
   "metadata": {},
   "outputs": [
    {
     "data": {
      "image/png": "[encoded data removed]",
      "text/latex": [
       "$\\displaystyle \\left( -174.0, \\  -174.0\\right)$"
      ],
      "text/plain": [
       "(-174.0, -174.0)"
      ]
     },
     "execution_count": 7,
     "metadata": {},
     "output_type": "execute_result"
    }
   ],
   "source": [
    "# check parity\n",
    "function_polinom4.subs(x, 6), function_polinom4.subs(x, -6)\n",
    "# The parity for our function is true"
   ]
  },
  {
   "cell_type": "code",
   "execution_count": 8,
   "id": "5de8b9db",
   "metadata": {},
   "outputs": [
    {
     "data": {
      "image/png": "[encoded data removed]",
      "text/latex": [
       "$\\displaystyle \\left[ -2.64575131106459, \\  0.0, \\  2.64575131106459\\right]$"
      ],
      "text/plain": [
       "[-2.64575131106459, 0.0, 2.64575131106459]"
      ]
     },
     "execution_count": 8,
     "metadata": {},
     "output_type": "execute_result"
    }
   ],
   "source": [
    "zp = solve(function_polinom4)\n",
    "zp\n",
    "#found zero points"
   ]
  },
  {
   "cell_type": "code",
   "execution_count": 9,
   "id": "670a8d59",
   "metadata": {},
   "outputs": [
    {
     "data": {
      "image/png": "[encoded data removed]",
      "text/latex": [
       "$\\displaystyle \\left( 0, \\  0, \\  0\\right)$"
      ],
      "text/plain": [
       "(0, 0, 0)"
      ]
     },
     "execution_count": 9,
     "metadata": {},
     "output_type": "execute_result"
    }
   ],
   "source": [
    "#check zero points\n",
    "\n",
    "function_polinom4.subs(x, zp[0]), function_polinom4.subs(x, zp[1]), function_polinom4.subs(x, zp[2])  \n",
    "\n",
    "#truth"
   ]
  },
  {
   "cell_type": "code",
   "execution_count": 10,
   "id": "b5b17c18",
   "metadata": {},
   "outputs": [
    {
     "data": {
      "image/png": "[encoded data removed]",
      "text/latex": [
       "$\\displaystyle x > -2.64575131106459 \\wedge x < 2.64575131106459 \\wedge x \\neq 0$"
      ],
      "text/plain": [
       "And(x > -2.64575131106459, x < 2.64575131106459, x != 0)"
      ]
     },
     "execution_count": 10,
     "metadata": {},
     "output_type": "execute_result"
    }
   ],
   "source": [
    "solve_univariate_inequality(function_polinom4>0, x)"
   ]
  },
  {
   "cell_type": "code",
   "execution_count": 11,
   "id": "391ab600",
   "metadata": {},
   "outputs": [
    {
     "data": {
      "image/png": "[encoded data removed]",
      "text/latex": [
       "$\\displaystyle \\left(-\\infty < x \\wedge x < -2.64575131106459\\right) \\vee \\left(2.64575131106459 < x \\wedge x < \\infty\\right)$"
      ],
      "text/plain": [
       "Or(And(-oo < x, x < -2.64575131106459), And(2.64575131106459 < x, x < oo))"
      ]
     },
     "execution_count": 11,
     "metadata": {},
     "output_type": "execute_result"
    }
   ],
   "source": [
    "solve_univariate_inequality(function_polinom4<0, x)"
   ]
  },
  {
   "cell_type": "code",
   "execution_count": 12,
   "id": "bef986d4",
   "metadata": {},
   "outputs": [
    {
     "data": {
      "image/png": "[encoded data removed]",
      "text/plain": [
       "<Figure size 432x288 with 1 Axes>"
      ]
     },
     "metadata": {
      "needs_background": "light"
     },
     "output_type": "display_data"
    },
    {
     "data": {
      "text/plain": [
       "<sympy.plotting.plot.Plot at 0x7fa291378fd0>"
      ]
     },
     "execution_count": 12,
     "metadata": {},
     "output_type": "execute_result"
    }
   ],
   "source": [
    "plot(function_polinom4)"
   ]
  },
  {
   "cell_type": "code",
   "execution_count": 13,
   "id": "aa8c2fc9",
   "metadata": {},
   "outputs": [
    {
     "data": {
      "image/png": "[encoded data removed]",
      "text/latex": [
       "$\\displaystyle \\left( 0.781250000000001, \\  0.781250000000001\\right)$"
      ],
      "text/plain": [
       "(0.781250000000001, 0.781250000000001)"
      ]
     },
     "execution_count": 13,
     "metadata": {},
     "output_type": "execute_result"
    }
   ],
   "source": [
    "function_polinom4.subs(x, 2.5), function_polinom4.subs(x, -2.5)"
   ]
  },
  {
   "cell_type": "code",
   "execution_count": 14,
   "id": "2e0c7a19",
   "metadata": {},
   "outputs": [
    {
     "data": {
      "image/png": "[encoded data removed]",
      "text/latex": [
       "$\\displaystyle \\left( -3.0, \\  -3.0\\right)$"
      ],
      "text/plain": [
       "(-3.0, -3.0)"
      ]
     },
     "execution_count": 14,
     "metadata": {},
     "output_type": "execute_result"
    }
   ],
   "source": [
    "function_polinom4.subs(x, 3), function_polinom4.subs(x, -3)"
   ]
  },
  {
   "cell_type": "code",
   "execution_count": 15,
   "id": "8da3d50c",
   "metadata": {},
   "outputs": [
    {
     "data": {
      "text/plain": [
       "[<matplotlib.lines.Line2D at 0x7fa28ec89a00>]"
      ]
     },
     "execution_count": 15,
     "metadata": {},
     "output_type": "execute_result"
    },
    {
     "data": {
      "image/png": "[encoded data removed]",
      "text/plain": [
       "<Figure size 432x288 with 1 Axes>"
      ]
     },
     "metadata": {
      "needs_background": "light"
     },
     "output_type": "display_data"
    }
   ],
   "source": [
    "# show zero point in the plot\n",
    "\n",
    "import numpy as np\n",
    "import matplotlib.pyplot as plt\n",
    "\n",
    "x_range = np.linspace(-10, 10, num=100)\n",
    "f = lambda x: -1/6*x**4 + 7/6*x**2\n",
    "plt.scatter([zp[0], zp[1], zp[2]], [0, 0, 0], c='r')\n",
    "plt.axhline(0, color='black')\n",
    "plt.axvline(0, color='black')\n",
    "plt.plot(x_range, f(x_range))"
   ]
  },
  {
   "cell_type": "code",
   "execution_count": 16,
   "id": "58b6b845",
   "metadata": {},
   "outputs": [
    {
     "data": {
      "image/png": "[encoded data removed]",
      "text/latex": [
       "$\\displaystyle 243$"
      ],
      "text/plain": [
       "243"
      ]
     },
     "execution_count": 16,
     "metadata": {},
     "output_type": "execute_result"
    }
   ],
   "source": [
    "3**5"
   ]
  },
  {
   "cell_type": "code",
   "execution_count": 45,
   "id": "3f07c4b8",
   "metadata": {},
   "outputs": [],
   "source": [
    "from sympy import *\n",
    "from sympy.plotting import plot\n",
    "init_printing(use_unicode=False, wrap_line=False, no_global=True)"
   ]
  },
  {
   "cell_type": "code",
   "execution_count": 46,
   "id": "af95e1a6",
   "metadata": {},
   "outputs": [],
   "source": [
    "a5, a4, a3, a2, a1, a0 = symbols('a5, a4, a3, a2, a1, a0')"
   ]
  },
  {
   "cell_type": "code",
   "execution_count": 47,
   "id": "13107181",
   "metadata": {},
   "outputs": [],
   "source": [
    "equation1_lp = -243*a5 + 81*a4 - 27*a3 +9*a2 - 3*a1 + a0 - 33\n",
    "equation2_lp = -32*a5 + 16*a4 - 8*a3 + 4*a2 - 2*a1 + a0 -31\n",
    "equation3_lp = -a5 + a4 - a3 + a2 - a1 + a0 - 18\n",
    "equation4_lp = a5 + a4 + a3 + a2 + a1 +a0 + 18\n",
    "equation5_lp = 32*a5 + 16*a4 + 8*a3 + 4*a2 + 2*a1 + a0 + 31\n",
    "equation6_lp = 243*a5 + 81*a4 + 27*a3 + 9*a2 + 3*a1 + a0 + 33"
   ]
  },
  {
   "cell_type": "code",
   "execution_count": 48,
   "id": "c27f7d0a",
   "metadata": {},
   "outputs": [
    {
     "data": {
      "image/png": "[encoded data removed]",
      "text/latex": [
       "$\\displaystyle \\left\\{\\left( \\frac{1}{120}, \\  0, \\  \\frac{19}{24}, \\  0, \\  - \\frac{94}{5}, \\  0\\right)\\right\\}$"
      ],
      "text/plain": [
       "            19               \n",
       "{(1/120, 0, --, 0, -94/5, 0)}\n",
       "            24               "
      ]
     },
     "execution_count": 48,
     "metadata": {},
     "output_type": "execute_result"
    }
   ],
   "source": [
    "coefficients_f5 = nonlinsolve([\n",
    "    equation1_lp,\n",
    "    equation2_lp,\n",
    "    equation3_lp,\n",
    "    equation4_lp,\n",
    "    equation5_lp,\n",
    "    equation6_lp\n",
    "], [a5, a4, a3, a2, a1, a0])\n",
    "coefficients_f5\n",
    "\n",
    "# found coefficients for our fuction"
   ]
  },
  {
   "cell_type": "code",
   "execution_count": 49,
   "id": "c7bbfc16",
   "metadata": {},
   "outputs": [
    {
     "data": {
      "image/png": "[encoded data removed]",
      "text/latex": [
       "$\\displaystyle \\frac{x^{5}}{120} + \\frac{19 x^{3}}{24} - \\frac{94 x}{5}$"
      ],
      "text/plain": [
       "  5       3       \n",
       " x    19*x    94*x\n",
       "--- + ----- - ----\n",
       "120     24     5  "
      ]
     },
     "execution_count": 49,
     "metadata": {},
     "output_type": "execute_result"
    }
   ],
   "source": [
    "x = Symbol('x')\n",
    "funtion_polinom5 = coefficients_f5.args[0][0]*x**5 + coefficients_f5.args[0][2]*x**3 + coefficients_f5.args[0][4]*x\n",
    "funtion_polinom5\n",
    "\n",
    "# install all coefficients"
   ]
  },
  {
   "cell_type": "code",
   "execution_count": 50,
   "id": "c24cf89c",
   "metadata": {},
   "outputs": [
    {
     "data": {
      "image/png": "[encoded data removed]",
      "text/latex": [
       "$\\displaystyle \\left( 33, \\  31, \\  18, \\  -18, \\  -31, \\  -33\\right)$"
      ],
      "text/plain": [
       "(33, 31, 18, -18, -31, -33)"
      ]
     },
     "execution_count": 50,
     "metadata": {},
     "output_type": "execute_result"
    }
   ],
   "source": [
    "# Check coefficients\n",
    "\n",
    "(funtion_polinom5.subs(x, -3),\n",
    " funtion_polinom5.subs(x, -2),\n",
    " funtion_polinom5.subs(x, -1), \n",
    " funtion_polinom5.subs(x, 1), \n",
    " funtion_polinom5.subs(x, 2),\n",
    " funtion_polinom5.subs(x, 3))"
   ]
  },
  {
   "cell_type": "code",
   "execution_count": 63,
   "id": "b715e11c",
   "metadata": {},
   "outputs": [
    {
     "data": {
      "image/png": "[encoded data removed]",
      "text/latex": [
       "$\\displaystyle \\left( -528, \\  528\\right)$"
      ],
      "text/plain": [
       "(-528, 528)"
      ]
     },
     "execution_count": 63,
     "metadata": {},
     "output_type": "execute_result"
    }
   ],
   "source": [
    "# check parity for fuction \n",
    "funtion_polinom5.subs(x, -8), funtion_polinom5.subs(x, 8)\n",
    "# The property of parity is false"
   ]
  },
  {
   "cell_type": "code",
   "execution_count": 52,
   "id": "4fae985c",
   "metadata": {},
   "outputs": [
    {
     "data": {
      "image/png": "[encoded data removed]",
      "text/latex": [
       "$\\displaystyle \\left[ 0, \\  - i \\sqrt{\\frac{95}{2} + \\frac{\\sqrt{18049}}{2}}, \\  i \\sqrt{\\frac{95}{2} + \\frac{\\sqrt{18049}}{2}}, \\  - \\sqrt{- \\frac{95}{2} + \\frac{\\sqrt{18049}}{2}}, \\  \\sqrt{- \\frac{95}{2} + \\frac{\\sqrt{18049}}{2}}\\right]$"
      ],
      "text/plain": [
       "            ________________         ________________        __________________       __________________ \n",
       "           /        _______         /        _______        /          _______       /          _______  \n",
       "          /  95   \\/ 18049         /  95   \\/ 18049        /    95   \\/ 18049       /    95   \\/ 18049   \n",
       "[0, -I*  /   -- + --------- , I*  /   -- + --------- , -  /   - -- + --------- ,   /   - -- + --------- ]\n",
       "       \\/    2        2         \\/    2        2        \\/      2        2       \\/      2        2      "
      ]
     },
     "execution_count": 52,
     "metadata": {},
     "output_type": "execute_result"
    }
   ],
   "source": [
    "# found zero points\n",
    "\n",
    "zero_points = solve(funtion_polinom5)\n",
    "zero_points"
   ]
  },
  {
   "cell_type": "code",
   "execution_count": 53,
   "id": "b6fe1c54",
   "metadata": {},
   "outputs": [
    {
     "data": {
      "image/png": "[encoded data removed]",
      "text/latex": [
       "$\\displaystyle \\left( 0, \\  - \\frac{19 \\left(- \\frac{95}{2} + \\frac{\\sqrt{18049}}{2}\\right)^{\\frac{3}{2}}}{24} - \\frac{\\left(- \\frac{95}{2} + \\frac{\\sqrt{18049}}{2}\\right)^{\\frac{5}{2}}}{120} + \\frac{94 \\sqrt{- \\frac{95}{2} + \\frac{\\sqrt{18049}}{2}}}{5}, \\  - \\frac{94 \\sqrt{- \\frac{95}{2} + \\frac{\\sqrt{18049}}{2}}}{5} + \\frac{\\left(- \\frac{95}{2} + \\frac{\\sqrt{18049}}{2}\\right)^{\\frac{5}{2}}}{120} + \\frac{19 \\left(- \\frac{95}{2} + \\frac{\\sqrt{18049}}{2}\\right)^{\\frac{3}{2}}}{24}\\right)$"
      ],
      "text/plain": [
       "                           3/2                     5/2           __________________            __________________                     5/2                        3/2 \n",
       "         /         _______\\      /         _______\\             /          _______            /          _______    /         _______\\         /         _______\\    \n",
       "         |  95   \\/ 18049 |      |  95   \\/ 18049 |            /    95   \\/ 18049            /    95   \\/ 18049     |  95   \\/ 18049 |         |  95   \\/ 18049 |    \n",
       "      19*|- -- + ---------|      |- -- + ---------|      94*  /   - -- + ---------     94*  /   - -- + ---------    |- -- + ---------|      19*|- -- + ---------|    \n",
       "         \\  2        2    /      \\  2        2    /         \\/      2        2            \\/      2        2        \\  2        2    /         \\  2        2    /    \n",
       "(0, - ------------------------ - --------------------- + --------------------------, - -------------------------- + --------------------- + ------------------------)\n",
       "                 24                       120                        5                             5                         120                       24            "
      ]
     },
     "execution_count": 53,
     "metadata": {},
     "output_type": "execute_result"
    }
   ],
   "source": [
    "# check zero points\n",
    "\n",
    "(funtion_polinom5.subs(x, zero_points[0]), # true\n",
    " funtion_polinom5.subs(x, zero_points[3]), # false:(\n",
    " funtion_polinom5.subs(x, zero_points[4])) # understand why"
   ]
  },
  {
   "cell_type": "code",
   "execution_count": 61,
   "id": "36faecd7",
   "metadata": {
    "scrolled": true
   },
   "outputs": [
    {
     "data": {
      "image/png": "[encoded data removed]",
      "text/latex": [
       "$\\displaystyle \\left(x < 0 \\wedge - \\sqrt{- \\frac{95}{2} + \\frac{\\sqrt{18049}}{2}} < x\\right) \\vee \\left(x < \\infty \\wedge \\sqrt{- \\frac{95}{2} + \\frac{\\sqrt{18049}}{2}} < x\\right)$"
      ],
      "text/plain": [
       "  /   /             __________________    \\     /             __________________    \\\\\n",
       "  |   |            /          _______     |     |            /          _______     ||\n",
       "  |   |           /    95   \\/ 18049      |     |           /    95   \\/ 18049      ||\n",
       "Or|And|x < 0, -  /   - -- + ---------  < x|, And|x < oo,   /   - -- + ---------  < x||\n",
       "  \\   \\        \\/      2        2         /     \\        \\/      2        2         //"
      ]
     },
     "execution_count": 61,
     "metadata": {},
     "output_type": "execute_result"
    }
   ],
   "source": [
    "# found interval for function>0\n",
    "\n",
    "solve_univariate_inequality(funtion_polinom5>0, x)"
   ]
  },
  {
   "cell_type": "code",
   "execution_count": 62,
   "id": "e3a72cd0",
   "metadata": {},
   "outputs": [
    {
     "data": {
      "image/png": "[encoded data removed]",
      "text/latex": [
       "$\\displaystyle \\left(-\\infty < x \\wedge x < - \\sqrt{- \\frac{95}{2} + \\frac{\\sqrt{18049}}{2}}\\right) \\vee \\left(0 < x \\wedge x < \\sqrt{- \\frac{95}{2} + \\frac{\\sqrt{18049}}{2}}\\right)$"
      ],
      "text/plain": [
       "  /   /                   __________________\\     /                __________________\\\\\n",
       "  |   |                  /          _______ |     |               /          _______ ||\n",
       "  |   |                 /    95   \\/ 18049  |     |              /    95   \\/ 18049  ||\n",
       "Or|And|-oo < x, x < -  /   - -- + --------- |, And|0 < x, x <   /   - -- + --------- ||\n",
       "  \\   \\              \\/      2        2     /     \\           \\/      2        2     //"
      ]
     },
     "execution_count": 62,
     "metadata": {},
     "output_type": "execute_result"
    }
   ],
   "source": [
    "# found interval for function<0\n",
    "solve_univariate_inequality(funtion_polinom5<0, x)"
   ]
  },
  {
   "cell_type": "code",
   "execution_count": 58,
   "id": "e3098941",
   "metadata": {},
   "outputs": [
    {
     "data": {
      "text/plain": [
       "[<matplotlib.lines.Line2D at 0x7fa28dcae610>]"
      ]
     },
     "execution_count": 58,
     "metadata": {},
     "output_type": "execute_result"
    },
    {
     "data": {
      "image/png": "[encoded data removed]",
      "text/plain": [
       "<Figure size 432x288 with 1 Axes>"
      ]
     },
     "metadata": {
      "needs_background": "light"
     },
     "output_type": "display_data"
    }
   ],
   "source": [
    "# show zero point in the plot\n",
    "\n",
    "import numpy as np\n",
    "import matplotlib.pyplot as plt\n",
    "\n",
    "x_range = np.linspace(-10, 10, num=100)\n",
    "f = lambda x: coefficients_f5.args[0][0]*x**5 + coefficients_f5.args[0][2]*x**3 + coefficients_f5.args[0][4]*x\n",
    "plt.scatter([zero_points[0], zero_points[3], zero_points[4]], [0, 0, 0], c='r')\n",
    "plt.axhline(0, color='black')\n",
    "plt.axvline(0, color='black')\n",
    "plt.plot(x_range, f(x_range))"
   ]
  },
  {
   "cell_type": "code",
   "execution_count": null,
   "id": "89ea8e91",
   "metadata": {},
   "outputs": [],
   "source": []
  }
 ],
 "metadata": {
  "kernelspec": {
   "display_name": "Python 3 (ipykernel)",
   "language": "python",
   "name": "python3"
  },
  "language_info": {
   "codemirror_mode": {
    "name": "ipython",
    "version": 3
   },
   "file_extension": ".py",
   "mimetype": "text/x-python",
   "name": "python",
   "nbconvert_exporter": "python",
   "pygments_lexer": "ipython3",
   "version": "3.8.10"
  }
 },
 "nbformat": 4,
 "nbformat_minor": 5
}
