{
 "cells": [
  {
   "cell_type": "markdown",
   "id": "895578a6",
   "metadata": {},
   "source": [
    "# The curse of math - module 4: exersices from lessons"
   ]
  },
  {
   "cell_type": "markdown",
   "id": "82789197",
   "metadata": {},
   "source": [
    "### Полиномы и интерполяция. Практика\n",
    "Ниже приведены визуализации некоторых наборов точек. Определите, полиномом какой\n",
    "степени можно гарантированно решить задачу интерполяции для данного набора точек\n",
    "(т.е. полином какой степени гарантированно окажется достаточно гибким для того, чтобы\n",
    "пройти через все данные точки).\n"
   ]
  },
  {
   "cell_type": "markdown",
   "id": "9b58eba4",
   "metadata": {},
   "source": [
    "Решение: <br>\n",
    "    1-a1 - линейная функция <br>\n",
    "    2-a2 - параболла <br>\n",
    "    3-а4 - полином 4 степени <br>\n",
    "    4-а11 - полином 12 степени <br>"
   ]
  },
  {
   "cell_type": "markdown",
   "id": "2f217a58",
   "metadata": {},
   "source": [
    "### Homework is lesson 4-5"
   ]
  },
  {
   "cell_type": "code",
   "execution_count": 1,
   "id": "5dc913bf",
   "metadata": {},
   "outputs": [],
   "source": [
    "%matplotlib inline\n",
    "from ipywidgets import interactive\n",
    "import matplotlib.pyplot as plt\n",
    "import numpy as np"
   ]
  },
  {
   "cell_type": "code",
   "execution_count": 2,
   "id": "5c254a56",
   "metadata": {},
   "outputs": [],
   "source": [
    "def get_polyfunc_title(koefs):\n",
    "    s_koefs = ''.join([f'+{koefs[i]}x^{len(koefs)-i-1}' if koefs[i]>0 \n",
    "                       else f'{koefs[i]}x^{len(koefs)-i-1}' if koefs[i]<0 \n",
    "                       else ''\n",
    "                       for i in range(len(koefs))])\n",
    "    expr = s_koefs.replace('x^0', '') \\\n",
    "                  .replace('+', ' + ') \\\n",
    "                  .replace('-', ' - ') \\\n",
    "                  .replace('x^1', 'x') \\\n",
    "                  .replace(' 1x', ' x')\n",
    "\n",
    "    if expr[:3]==' + ':\n",
    "        expr = expr[3:]\n",
    "    if expr:\n",
    "        return '$f(x) = ' + expr + '$'\n",
    "    \n",
    "def check(f, x, y):\n",
    "    check = False not in [f(x[i])==y[i] for i in range(len(x))]\n",
    "    if not check:\n",
    "        print('Пока не получилось')\n",
    "    else:\n",
    "        print('Ура! Получилось!')"
   ]
  },
  {
   "cell_type": "code",
   "execution_count": 3,
   "id": "e409a357",
   "metadata": {},
   "outputs": [],
   "source": [
    "def parabola(a, b, c):\n",
    "    plt.figure(3)\n",
    "    plt.axhline(0, color='black')\n",
    "    plt.axvline(0, color='black')\n",
    "\n",
    "    x, y = [x for x, y in points], [y for x, y in points]\n",
    "    plt.scatter(x, y, c='r')\n",
    "\n",
    "\n",
    "    \n",
    "    if a != 0:\n",
    "        f = lambda x: a * x**2 + b * x + c\n",
    "        check(f, x, y)\n",
    "        \n",
    "        x = np.linspace(-15, 15, num=1000)\n",
    "        plt.plot(x, a * x**2 + b * x + c)\n",
    "    \n",
    "    plt.ylim(-35, 35)\n",
    "    plt.xlim(-10, 10)\n",
    "        \n",
    "    plt.title(get_polyfunc_title([a,b,c]))\n",
    "    plt.show()"
   ]
  },
  {
   "cell_type": "code",
   "execution_count": 4,
   "id": "82032884",
   "metadata": {},
   "outputs": [],
   "source": [
    "# points = [[-2.5, 15.0], \n",
    "#           [-2, 10], \n",
    "#           [-1.5, 7.0], \n",
    "#           [-1, 6], \n",
    "#           [-0.5, 7.0], \n",
    "#           [0, 10], \n",
    "#           [0.5, 15.0], \n",
    "#           [1, 22], \n",
    "#           [1.5, 31.0]]\n",
    "\n",
    "# interactive_plot = interactive(parabola, a=(-5, 5, 1), b=(-100, 100, 1), c=(-20, 20, 1))\n",
    "# output = interactive_plot.children[-1]\n",
    "# output.layout.height = '300px'\n",
    "# interactive_plot"
   ]
  },
  {
   "cell_type": "code",
   "execution_count": 5,
   "id": "ceff6b63",
   "metadata": {},
   "outputs": [],
   "source": [
    "# points = [[-5.0, -68.0], \n",
    "#           [-3.75, -42.375], \n",
    "#           [-2.5, -23.0], \n",
    "#           [-1.25, -9.875], \n",
    "#           [0.0, -3.0], \n",
    "#           [1.25, -2.375], \n",
    "#           [2.5, -8.0], \n",
    "#           [3.75, -19.875], \n",
    "#           [5.0, -38.0]]\n",
    "\n",
    "# interactive_plot = interactive(parabola, a=(-5, 5, 1), b=(-100, 100, 1), c=(-20, 20, 1))\n",
    "# output = interactive_plot.children[-1]\n",
    "# output.layout.height = '300px'\n",
    "# interactive_plot"
   ]
  },
  {
   "cell_type": "markdown",
   "id": "f770674c",
   "metadata": {},
   "source": [
    "### Homework 4.6 - 4.7"
   ]
  },
  {
   "cell_type": "code",
   "execution_count": 6,
   "id": "3f2b4995",
   "metadata": {},
   "outputs": [],
   "source": [
    "def cubic_parabola(a, b, c, d):\n",
    "    plt.figure(3)\n",
    "    plt.axhline(0, color='black')\n",
    "    plt.axvline(0, color='black')\n",
    "\n",
    "    x, y = [x for x, y in points], [y for x, y in points]\n",
    "    plt.scatter(x, y, c='r')\n",
    "    \n",
    "    if a!=0:\n",
    "        f = lambda x: a * x**3 + b * x**2 + c * x + d\n",
    "        check(f, x, y)\n",
    "        \n",
    "        x = np.linspace(-15, 15, num=1000)\n",
    "        plt.plot(x, a * x**3 + b * x**2 + c * x + d)\n",
    "        \n",
    "    plt.ylim(-35, 35)\n",
    "    plt.xlim(-5, 5)\n",
    "    \n",
    "    plt.title(get_polyfunc_title([a,b,c,d]))\n",
    "    \n",
    "    plt.show()"
   ]
  },
  {
   "cell_type": "code",
   "execution_count": 7,
   "id": "1ee29142",
   "metadata": {},
   "outputs": [],
   "source": [
    "# points = [[-0.5, -15.0],\n",
    "#           [-1, -31],\n",
    "#           [0, -7],\n",
    "#           [0.5, -4.0],\n",
    "#           [1, -3],\n",
    "#           [2, 5],\n",
    "#           [2.5, 18.0],\n",
    "#           [3, 41]]\n",
    "\n",
    "# interactive_plot = interactive(cubic_parabola, a=(-15, 15, 1), b=(-10, 10, 1), c=(-10, 10, 1), d=(-10, 10, 1))\n",
    "# output = interactive_plot.children[-1]\n",
    "# output.layout.height = '300px'\n",
    "# interactive_plot"
   ]
  },
  {
   "cell_type": "code",
   "execution_count": 8,
   "id": "c865668e",
   "metadata": {},
   "outputs": [
    {
     "data": {
      "application/vnd.jupyter.widget-view+json": {
       "model_id": "2f06d6af41b24ebda752aceabd92d928",
       "version_major": 2,
       "version_minor": 0
      },
      "text/plain": [
       "interactive(children=(IntSlider(value=0, description='a', max=15, min=-15), IntSlider(value=0, description='b'…"
      ]
     },
     "metadata": {},
     "output_type": "display_data"
    }
   ],
   "source": [
    "points = [[-5.0, -68.0],\n",
    "          [-3.75, -8.234375],\n",
    "          [-2.5, 16.375],\n",
    "          [-1.25, 17.546875],\n",
    "          [0.0, 7.0],\n",
    "          [1.25, -3.546875],\n",
    "          [2.5, -2.375],\n",
    "          [3.75, 22.234375],\n",
    "          [5.0, 82.0]]\n",
    "\n",
    "interactive_plot = interactive(cubic_parabola, a=(-15, 15, 1), b=(-10, 10, 1), c=(-10, 10, 1), d=(-10, 10, 1))\n",
    "output = interactive_plot.children[-1]\n",
    "output.layout.height = '300px'\n",
    "interactive_plot"
   ]
  },
  {
   "cell_type": "markdown",
   "id": "3ee5459c",
   "metadata": {},
   "source": [
    "### Lesson 4.8"
   ]
  },
  {
   "cell_type": "code",
   "execution_count": 9,
   "id": "a95ee287",
   "metadata": {},
   "outputs": [],
   "source": [
    "from sympy import *\n",
    "from sympy.plotting import plot\n",
    "init_printing(use_unicode=False, wrap_line=False, no_global=True)"
   ]
  },
  {
   "cell_type": "code",
   "execution_count": 10,
   "id": "b020adb8",
   "metadata": {},
   "outputs": [],
   "source": [
    "a2, a1, a0 = symbols('a2,a1,a0')"
   ]
  },
  {
   "cell_type": "code",
   "execution_count": 11,
   "id": "aa93b15c",
   "metadata": {},
   "outputs": [],
   "source": [
    "equation1_left_part = a2 - a1 + a0 + 1\n",
    "equation2_left_part = 4*a2 + 2*a1 + a0 - 8\n",
    "equation3_left_part = 4*a2 -2*a1 + a0 + 8"
   ]
  },
  {
   "cell_type": "code",
   "execution_count": 12,
   "id": "9340952a",
   "metadata": {},
   "outputs": [
    {
     "data": {
      "image/png": "[encoded data removed]",
      "text/latex": [
       "$\\displaystyle \\left\\{\\left( -1, \\  4, \\  4\\right)\\right\\}$"
      ],
      "text/plain": [
       "{(-1, 4, 4)}"
      ]
     },
     "execution_count": 12,
     "metadata": {},
     "output_type": "execute_result"
    }
   ],
   "source": [
    "nonlinsolve([equation1_left_part,\n",
    "             equation2_left_part,\n",
    "             equation3_left_part],[a2, a1, a0])"
   ]
  },
  {
   "cell_type": "code",
   "execution_count": 13,
   "id": "913e7565",
   "metadata": {},
   "outputs": [],
   "source": [
    "x = Symbol('x')"
   ]
  },
  {
   "cell_type": "code",
   "execution_count": 14,
   "id": "bb2bbb81",
   "metadata": {},
   "outputs": [
    {
     "data": {
      "image/png": "[encoded data removed]",
      "text/latex": [
       "$\\displaystyle - x^{2} + 4 x + 4$"
      ],
      "text/plain": [
       "   2          \n",
       "- x  + 4*x + 4"
      ]
     },
     "execution_count": 14,
     "metadata": {},
     "output_type": "execute_result"
    }
   ],
   "source": [
    "f_eq = -1*x**2 + 4*x + 4\n",
    "f_eq"
   ]
  },
  {
   "cell_type": "code",
   "execution_count": 15,
   "id": "a3df7cab",
   "metadata": {},
   "outputs": [
    {
     "data": {
      "image/png": "[encoded data removed]",
      "text/latex": [
       "$\\displaystyle \\left( -8, \\  8, \\  -1\\right)$"
      ],
      "text/plain": [
       "(-8, 8, -1)"
      ]
     },
     "execution_count": 15,
     "metadata": {},
     "output_type": "execute_result"
    }
   ],
   "source": [
    "f_eq.subs(x, -2), f_eq.subs(x, 2), f_eq.subs(x, -1)"
   ]
  },
  {
   "cell_type": "code",
   "execution_count": 16,
   "id": "95467991",
   "metadata": {},
   "outputs": [
    {
     "data": {
      "text/plain": [
       "[<matplotlib.lines.Line2D at 0x7fb4dac6bac0>]"
      ]
     },
     "execution_count": 16,
     "metadata": {},
     "output_type": "execute_result"
    },
    {
     "data": {
      "image/png": "[encoded data removed]",
      "text/plain": [
       "<Figure size 432x288 with 1 Axes>"
      ]
     },
     "metadata": {
      "needs_background": "light"
     },
     "output_type": "display_data"
    }
   ],
   "source": [
    "import numpy as np\n",
    "import matplotlib.pyplot as plt\n",
    "\n",
    "x_range = np.linspace(-3, 7, num=100)\n",
    "f = lambda x: -x**2 + 4*x + 4\n",
    "plt.scatter([-1, 2, -2], [-1, 8, -8], c='r')\n",
    "plt.axhline(0, color='black')\n",
    "plt.axvline(0, color='black')\n",
    "plt.plot(x_range, f(x_range))"
   ]
  },
  {
   "cell_type": "markdown",
   "id": "e304b466",
   "metadata": {},
   "source": [
    "### the homework for the lesson 4.8\n",
    "\n",
    "## Нахождение коэффициентов полиномов аналитически. Практика\n",
    "\n",
    "Для закрепления пройденного материала найдите коэффициенты функции для данного набора точек, и затем проверьте с помощью подстановки, правильный ли у вас получился результат. Степень полинома для составления системы выберите сами, исходя из пройденного в первом уроке правила.\n",
    "\n",
    "1. $(-2.5, 15.0), (-2, 10), (-1.5, 7.0)$\n",
    "2. $(-0.5, -15.0), (-1, -31), (0, -7), (0.5, -4.0)$"
   ]
  },
  {
   "cell_type": "code",
   "execution_count": 17,
   "id": "cf6a5f3d",
   "metadata": {},
   "outputs": [],
   "source": [
    "from sympy import *\n",
    "from matplotlib.pyplot import plot\n",
    "init_printing(use_unicode=False, wrap_line=False, no_global=True)"
   ]
  },
  {
   "cell_type": "code",
   "execution_count": 18,
   "id": "3ad54d0d",
   "metadata": {},
   "outputs": [],
   "source": [
    "a2, a1, a0 = symbols('a2,a1,a0')"
   ]
  },
  {
   "cell_type": "code",
   "execution_count": 19,
   "id": "f27370ab",
   "metadata": {},
   "outputs": [],
   "source": [
    "equation1_left_part = 6.25*a2 - 2.5*a1 + a0 - 15\n",
    "equation2_left_part = 4*a2 - 2*a1 + a0 - 10\n",
    "equation3_left_part = 2.25*a2 - 1.5*a1 + a0 - 7"
   ]
  },
  {
   "cell_type": "code",
   "execution_count": 20,
   "id": "6d81b39a",
   "metadata": {},
   "outputs": [
    {
     "data": {
      "image/png": "[encoded data removed]",
      "text/latex": [
       "$\\displaystyle \\left\\{\\left( 4.0, \\  8.00000000000002, \\  10.0\\right)\\right\\}$"
      ],
      "text/plain": [
       "{(4.0, 8.00000000000002, 10.0)}"
      ]
     },
     "execution_count": 20,
     "metadata": {},
     "output_type": "execute_result"
    }
   ],
   "source": [
    "nonlinsolve([equation1_left_part,\n",
    "             equation2_left_part,\n",
    "             equation3_left_part], [a2, a1, a0])"
   ]
  },
  {
   "cell_type": "code",
   "execution_count": 21,
   "id": "45f18d29",
   "metadata": {},
   "outputs": [
    {
     "data": {
      "image/png": "[encoded data removed]",
      "text/latex": [
       "$\\displaystyle 4 x^{2} + 8 x + 10$"
      ],
      "text/plain": [
       "   2           \n",
       "4*x  + 8*x + 10"
      ]
     },
     "execution_count": 21,
     "metadata": {},
     "output_type": "execute_result"
    }
   ],
   "source": [
    "function_check_nonlinsolve = 4*x**2 + 8*x + 10\n",
    "function_check_nonlinsolve\n"
   ]
  },
  {
   "cell_type": "code",
   "execution_count": 22,
   "id": "51176639",
   "metadata": {},
   "outputs": [
    {
     "data": {
      "image/png": "[encoded data removed]",
      "text/latex": [
       "$\\displaystyle \\left( 15.0, \\  10, \\  7.0\\right)$"
      ],
      "text/plain": [
       "(15.0, 10, 7.0)"
      ]
     },
     "execution_count": 22,
     "metadata": {},
     "output_type": "execute_result"
    }
   ],
   "source": [
    "function_check_nonlinsolve.subs(x, -2.5), function_check_nonlinsolve.subs(x, -2), function_check_nonlinsolve.subs(x, -1.5)"
   ]
  },
  {
   "cell_type": "code",
   "execution_count": 23,
   "id": "8e7efc42",
   "metadata": {},
   "outputs": [
    {
     "data": {
      "image/png": "[encoded data removed]",
      "text/latex": [
       "$\\displaystyle \\left( 0.125, \\  0.25\\right)$"
      ],
      "text/plain": [
       "(0.125, 0.25)"
      ]
     },
     "execution_count": 23,
     "metadata": {},
     "output_type": "execute_result"
    }
   ],
   "source": [
    "x = 0.5\n",
    "x**3, x**2"
   ]
  },
  {
   "cell_type": "code",
   "execution_count": 24,
   "id": "a45fa5c8",
   "metadata": {},
   "outputs": [],
   "source": [
    "from sympy import *\n",
    "from sympy.plotting import plot\n",
    "init_printing(use_unicode=False, wrap_line=False, no_global=True)"
   ]
  },
  {
   "cell_type": "code",
   "execution_count": 25,
   "id": "aeb39d46",
   "metadata": {},
   "outputs": [],
   "source": [
    "a3, a2, a1, a0 = symbols('a3,a2,a1,a0')\n",
    "\n"
   ]
  },
  {
   "cell_type": "code",
   "execution_count": 26,
   "id": "9cb14a71",
   "metadata": {},
   "outputs": [],
   "source": [
    "equation1_lp = -0.125*a3 + 0.25*a2 - 0.5*a1 + a0 + 15\n",
    "equation2_lp = -a3 + a2 -a1 + a0 + 31\n",
    "equation3_lp = a0 + 7\n",
    "equation4_lp = 0.125*a3 + 0.25*a2 + 0,5*a1 + a0 + 4"
   ]
  },
  {
   "cell_type": "code",
   "execution_count": 27,
   "id": "71898ffc",
   "metadata": {},
   "outputs": [
    {
     "data": {
      "image/png": "[encoded data removed]",
      "text/latex": [
       "$\\displaystyle \\left\\{\\left( a_{3}, \\  1.5 a_{3} - 16.0, \\  0.5 a_{3} + 8.0, \\  -7.0\\right)\\right\\}$"
      ],
      "text/plain": [
       "{(a3, 1.5*a3 - 16.0, 0.5*a3 + 8.0, -7.0)}"
      ]
     },
     "execution_count": 27,
     "metadata": {},
     "output_type": "execute_result"
    }
   ],
   "source": [
    "nonlinsolve([equation1_lp,\n",
    "            equation2_lp,\n",
    "            equation3_lp,\n",
    "            equation4_lp], [a3, a2, a1, a0])\n",
    "\n",
    "# bag with symbol over point, what??!!"
   ]
  },
  {
   "cell_type": "code",
   "execution_count": 28,
   "id": "148154df",
   "metadata": {},
   "outputs": [],
   "source": [
    "x1, x2, x3, x4, x5 = -0.125, 0.125, 0.25, -0.5, 0.5\n",
    "# fixed of created variables for our symbols"
   ]
  },
  {
   "cell_type": "code",
   "execution_count": 29,
   "id": "dcc63b87",
   "metadata": {},
   "outputs": [],
   "source": [
    "equation1_lp = x1*a3 + x3*a2 - x5*a1 + a0 +15\n",
    "equation2_lp = -a3 + a2 -a1 + a0 + 31\n",
    "equation3_lp = a0 + 7\n",
    "equation4_lp = x2*a3 + x3*a2 + x5*a1 + a0 + 4"
   ]
  },
  {
   "cell_type": "code",
   "execution_count": 30,
   "id": "a9cfc0b2",
   "metadata": {},
   "outputs": [
    {
     "data": {
      "image/png": "[encoded data removed]",
      "text/latex": [
       "$\\displaystyle \\left\\{\\left( 4.0, \\  -10.0, \\  10.0, \\  -7.0\\right)\\right\\}$"
      ],
      "text/plain": [
       "{(4.0, -10.0, 10.0, -7.0)}"
      ]
     },
     "execution_count": 30,
     "metadata": {},
     "output_type": "execute_result"
    }
   ],
   "source": [
    "nonlinsolve([equation1_lp,\n",
    "            equation2_lp,\n",
    "            equation3_lp,\n",
    "            equation4_lp], [a3, a2, a1, a0])"
   ]
  },
  {
   "cell_type": "code",
   "execution_count": null,
   "id": "53fa4b28",
   "metadata": {},
   "outputs": [],
   "source": []
  },
  {
   "cell_type": "code",
   "execution_count": null,
   "id": "c49817d2",
   "metadata": {},
   "outputs": [],
   "source": []
  }
 ],
 "metadata": {
  "kernelspec": {
   "display_name": "Python 3 (ipykernel)",
   "language": "python",
   "name": "python3"
  },
  "language_info": {
   "codemirror_mode": {
    "name": "ipython",
    "version": 3
   },
   "file_extension": ".py",
   "mimetype": "text/x-python",
   "name": "python",
   "nbconvert_exporter": "python",
   "pygments_lexer": "ipython3",
   "version": "3.8.10"
  }
 },
 "nbformat": 4,
 "nbformat_minor": 5
}
