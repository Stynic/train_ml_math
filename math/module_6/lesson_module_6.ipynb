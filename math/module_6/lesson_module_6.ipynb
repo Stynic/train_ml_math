{
 "cells": [
  {
   "cell_type": "markdown",
   "id": "aab883ea",
   "metadata": {},
   "source": [
    "# Math lessons module 6"
   ]
  },
  {
   "cell_type": "markdown",
   "id": "3b54ef34",
   "metadata": {},
   "source": [
    "##  lesson 6.2\n",
    "### exercise 1"
   ]
  },
  {
   "cell_type": "code",
   "execution_count": 8,
   "id": "e033ec91",
   "metadata": {},
   "outputs": [],
   "source": [
    "from sympy import *\n",
    "from sympy.plotting import plot\n",
    "init_printing(use_unicode=False, wrap_line=False, no_global=True)"
   ]
  },
  {
   "cell_type": "code",
   "execution_count": 9,
   "id": "00504d58",
   "metadata": {},
   "outputs": [],
   "source": [
    "import numpy as np\n",
    "import matplotlib.pyplot as plt "
   ]
  },
  {
   "cell_type": "code",
   "execution_count": 10,
   "id": "16d6b646",
   "metadata": {},
   "outputs": [
    {
     "data": {
      "image/png": "[encoded data removed]",
      "text/latex": [
       "$\\displaystyle x^{2} + 3 x - 4$"
      ],
      "text/plain": [
       " 2          \n",
       "x  + 3*x - 4"
      ]
     },
     "execution_count": 10,
     "metadata": {},
     "output_type": "execute_result"
    }
   ],
   "source": [
    "x = Symbol('x')\n",
    "f = x**2 + 3*x -4\n",
    "f"
   ]
  },
  {
   "cell_type": "code",
   "execution_count": 11,
   "id": "6a7eb9fd",
   "metadata": {},
   "outputs": [
    {
     "data": {
      "image/png": "[encoded data removed]",
      "text/latex": [
       "$\\displaystyle 2 x + 3$"
      ],
      "text/plain": [
       "2*x + 3"
      ]
     },
     "execution_count": 11,
     "metadata": {},
     "output_type": "execute_result"
    }
   ],
   "source": [
    "derivative_f = 2*x+3\n",
    "derivative_f"
   ]
  },
  {
   "cell_type": "code",
   "execution_count": 12,
   "id": "47db4040",
   "metadata": {},
   "outputs": [
    {
     "data": {
      "image/png": "[encoded data removed]",
      "text/latex": [
       "$\\displaystyle -6.25$"
      ],
      "text/plain": [
       "-6.25000000000000"
      ]
     },
     "execution_count": 12,
     "metadata": {},
     "output_type": "execute_result"
    }
   ],
   "source": [
    "f.subs(x, -1.5)"
   ]
  },
  {
   "cell_type": "code",
   "execution_count": 13,
   "id": "a85808b8",
   "metadata": {},
   "outputs": [
    {
     "data": {
      "text/plain": [
       "[<matplotlib.lines.Line2D at 0x7f3a1d1761c0>]"
      ]
     },
     "execution_count": 13,
     "metadata": {},
     "output_type": "execute_result"
    },
    {
     "data": {
      "image/png": "[encoded data removed]",
      "text/plain": [
       "<Figure size 432x288 with 1 Axes>"
      ]
     },
     "metadata": {
      "needs_background": "light"
     },
     "output_type": "display_data"
    }
   ],
   "source": [
    "plt.scatter([-1.5], [-6.25], c='r')\n",
    "plt.axhline(0, color='black')\n",
    "plt.axvline(0, color='black')\n",
    "x_range = np.linspace(-5, 5, num=100)\n",
    "y_function = lambda x: x**2 + 3*x -4 \n",
    "plt.plot(x_range, y_function(x_range))"
   ]
  },
  {
   "cell_type": "code",
   "execution_count": 10,
   "id": "44f24eca",
   "metadata": {},
   "outputs": [
    {
     "data": {
      "image/png": "[encoded data removed]",
      "text/plain": [
       "<Figure size 432x288 with 1 Axes>"
      ]
     },
     "metadata": {
      "needs_background": "light"
     },
     "output_type": "display_data"
    },
    {
     "data": {
      "text/plain": [
       "<sympy.plotting.plot.Plot at 0x7f3eec66e670>"
      ]
     },
     "execution_count": 10,
     "metadata": {},
     "output_type": "execute_result"
    }
   ],
   "source": [
    "plot(derivative_f)"
   ]
  },
  {
   "cell_type": "code",
   "execution_count": 11,
   "id": "2a4d59c4",
   "metadata": {},
   "outputs": [
    {
     "data": {
      "image/png": "[encoded data removed]",
      "text/latex": [
       "$\\displaystyle 0$"
      ],
      "text/plain": [
       "0"
      ]
     },
     "execution_count": 11,
     "metadata": {},
     "output_type": "execute_result"
    }
   ],
   "source": [
    "derivative_f.subs(x, -1.5)"
   ]
  },
  {
   "cell_type": "code",
   "execution_count": 16,
   "id": "54434e68",
   "metadata": {},
   "outputs": [
    {
     "data": {
      "image/png": "[encoded data removed]",
      "text/latex": [
       "$\\displaystyle \\left[ - \\frac{3}{2}\\right]$"
      ],
      "text/plain": [
       "[-3/2]"
      ]
     },
     "execution_count": 16,
     "metadata": {},
     "output_type": "execute_result"
    }
   ],
   "source": [
    "min_max_f = solve(derivative_f)\n",
    "min_max_f"
   ]
  },
  {
   "cell_type": "code",
   "execution_count": 14,
   "id": "91f17421",
   "metadata": {},
   "outputs": [],
   "source": [
    "# Answer : function grow up (- 1,5; + inf) but frow down (-inf; -1,5). The point min is -1,5"
   ]
  },
  {
   "cell_type": "markdown",
   "id": "818ac9d6",
   "metadata": {},
   "source": [
    "### exercise 2"
   ]
  },
  {
   "cell_type": "code",
   "execution_count": 17,
   "id": "d11e6e8f",
   "metadata": {},
   "outputs": [
    {
     "data": {
      "image/png": "[encoded data removed]",
      "text/latex": [
       "$\\displaystyle x^{3} - 2 x^{2} + x - 6$"
      ],
      "text/plain": [
       " 3      2        \n",
       "x  - 2*x  + x - 6"
      ]
     },
     "execution_count": 17,
     "metadata": {},
     "output_type": "execute_result"
    }
   ],
   "source": [
    "f_2 = x**3 - 2*x**2 + x - 6\n",
    "f_2"
   ]
  },
  {
   "cell_type": "code",
   "execution_count": 18,
   "id": "af1b1d38",
   "metadata": {
    "scrolled": true
   },
   "outputs": [
    {
     "data": {
      "image/png": "[encoded data removed]",
      "text/plain": [
       "<Figure size 432x288 with 1 Axes>"
      ]
     },
     "metadata": {
      "needs_background": "light"
     },
     "output_type": "display_data"
    },
    {
     "data": {
      "text/plain": [
       "<sympy.plotting.plot.Plot at 0x7f3a1d0f2d00>"
      ]
     },
     "execution_count": 18,
     "metadata": {},
     "output_type": "execute_result"
    }
   ],
   "source": [
    "plot(f_2)"
   ]
  },
  {
   "cell_type": "code",
   "execution_count": 19,
   "id": "4bb12594",
   "metadata": {},
   "outputs": [
    {
     "data": {
      "image/png": "[encoded data removed]",
      "text/latex": [
       "$\\displaystyle -6$"
      ],
      "text/plain": [
       "-6"
      ]
     },
     "execution_count": 19,
     "metadata": {},
     "output_type": "execute_result"
    }
   ],
   "source": [
    "f_2.subs(x, 1)"
   ]
  },
  {
   "cell_type": "code",
   "execution_count": 32,
   "id": "3cfc0957",
   "metadata": {},
   "outputs": [
    {
     "data": {
      "image/png": "[encoded data removed]",
      "text/latex": [
       "$\\displaystyle 3 x^{2} - 4 x + 1$"
      ],
      "text/plain": [
       "   2          \n",
       "3*x  - 4*x + 1"
      ]
     },
     "execution_count": 32,
     "metadata": {},
     "output_type": "execute_result"
    }
   ],
   "source": [
    "derivative_f2 = 3*x**2 - 4*x + 1\n",
    "derivative_f2"
   ]
  },
  {
   "cell_type": "code",
   "execution_count": 33,
   "id": "4caff64f",
   "metadata": {},
   "outputs": [
    {
     "data": {
      "image/png": "[encoded data removed]",
      "text/latex": [
       "$\\displaystyle \\left[ \\frac{1}{3}, \\  1\\right]$"
      ],
      "text/plain": [
       "[1/3, 1]"
      ]
     },
     "execution_count": 33,
     "metadata": {},
     "output_type": "execute_result"
    }
   ],
   "source": [
    "min_maxl = solve(derivative_f2)\n",
    "min_maxl"
   ]
  },
  {
   "cell_type": "code",
   "execution_count": 48,
   "id": "e40e729b",
   "metadata": {
    "scrolled": true
   },
   "outputs": [
    {
     "data": {
      "text/plain": [
       "[<matplotlib.lines.Line2D at 0x7f3a1a0cef70>]"
      ]
     },
     "execution_count": 48,
     "metadata": {},
     "output_type": "execute_result"
    },
    {
     "data": {
      "image/png": "[encoded data removed]",
      "text/plain": [
       "<Figure size 432x288 with 1 Axes>"
      ]
     },
     "metadata": {
      "needs_background": "light"
     },
     "output_type": "display_data"
    }
   ],
   "source": [
    "import numpy as np\n",
    "import matplotlib.pyplot as plt\n",
    "\n",
    "plt.axhline(0, color='black')\n",
    "plt.axvline(0, color='black')\n",
    "plt.scatter([min_maxl[0], min_maxl[1]], [f_2.subs(x,min_maxl[0]), f_2.subs(x, min_maxl[1])], c='r')\n",
    "x_range = np.linspace(-4, 4, num=100)\n",
    "y_range = [f_2.subs(x, x_) for x_ in x_range]\n",
    "plt.plot(x_range, y_range, 'b')"
   ]
  },
  {
   "cell_type": "code",
   "execution_count": 78,
   "id": "7fd940ee",
   "metadata": {
    "scrolled": true
   },
   "outputs": [
    {
     "data": {
      "image/png": "[encoded data removed]",
      "text/plain": [
       "<Figure size 432x288 with 1 Axes>"
      ]
     },
     "metadata": {
      "needs_background": "light"
     },
     "output_type": "display_data"
    },
    {
     "data": {
      "text/plain": [
       "<sympy.plotting.plot.Plot at 0x7f3a157f21c0>"
      ]
     },
     "execution_count": 78,
     "metadata": {},
     "output_type": "execute_result"
    }
   ],
   "source": [
    "plot(f_2, (x, -0.5, 1.5))"
   ]
  },
  {
   "cell_type": "code",
   "execution_count": 80,
   "id": "3a1d5d54",
   "metadata": {},
   "outputs": [
    {
     "data": {
      "image/png": "[encoded data removed]",
      "text/latex": [
       "$\\displaystyle \\left(-\\infty < x \\wedge x < \\frac{1}{3}\\right) \\vee \\left(1 < x \\wedge x < \\infty\\right)$"
      ],
      "text/plain": [
       "Or(And(-oo < x, x < 1/3), And(1 < x, x < oo))"
      ]
     },
     "execution_count": 80,
     "metadata": {},
     "output_type": "execute_result"
    }
   ],
   "source": [
    "solve_univariate_inequality(derivative_f2>0, x)"
   ]
  },
  {
   "cell_type": "code",
   "execution_count": 81,
   "id": "b55aac5c",
   "metadata": {},
   "outputs": [
    {
     "data": {
      "image/png": "[encoded data removed]",
      "text/latex": [
       "$\\displaystyle \\frac{1}{3} < x \\wedge x < 1$"
      ],
      "text/plain": [
       "And(1/3 < x, x < 1)"
      ]
     },
     "execution_count": 81,
     "metadata": {},
     "output_type": "execute_result"
    }
   ],
   "source": [
    "solve_univariate_inequality(derivative_f2<0, x)"
   ]
  },
  {
   "cell_type": "code",
   "execution_count": 53,
   "id": "14ec8ac5",
   "metadata": {},
   "outputs": [],
   "source": [
    "# Answer: The fuctin grows up (-inf; 1/3) and (1; +inf), but grows down (1/3; 1)"
   ]
  },
  {
   "cell_type": "markdown",
   "id": "6761fcd8",
   "metadata": {},
   "source": [
    "### exercise 3"
   ]
  },
  {
   "cell_type": "code",
   "execution_count": 54,
   "id": "a617c9db",
   "metadata": {},
   "outputs": [
    {
     "data": {
      "image/png": "[encoded data removed]",
      "text/latex": [
       "$\\displaystyle e^{- x^{2} + 2 x}$"
      ],
      "text/plain": [
       "    2      \n",
       " - x  + 2*x\n",
       "e          "
      ]
     },
     "execution_count": 54,
     "metadata": {},
     "output_type": "execute_result"
    }
   ],
   "source": [
    "f_3 = exp(2*x-x**2)\n",
    "f_3"
   ]
  },
  {
   "cell_type": "code",
   "execution_count": 56,
   "id": "84546314",
   "metadata": {},
   "outputs": [
    {
     "data": {
      "image/png": "[encoded data removed]",
      "text/latex": [
       "$\\displaystyle \\left(2 - 2 x\\right) e^{- x^{2} + 2 x}$"
      ],
      "text/plain": [
       "              2      \n",
       "           - x  + 2*x\n",
       "(2 - 2*x)*e          "
      ]
     },
     "execution_count": 56,
     "metadata": {},
     "output_type": "execute_result"
    }
   ],
   "source": [
    "derivative_f3 = (2 - 2*x)*f_3\n",
    "derivative_f3"
   ]
  },
  {
   "cell_type": "code",
   "execution_count": 60,
   "id": "90e2c436",
   "metadata": {},
   "outputs": [
    {
     "data": {
      "image/png": "[encoded data removed]",
      "text/latex": [
       "$\\displaystyle \\left[ 1\\right]$"
      ],
      "text/plain": [
       "[1]"
      ]
     },
     "execution_count": 60,
     "metadata": {},
     "output_type": "execute_result"
    }
   ],
   "source": [
    "min_maxl3 = solve(derivative_f3)\n",
    "min_maxl3\n",
    "\n",
    "# found min and max points in fuction derivative from f_3"
   ]
  },
  {
   "cell_type": "code",
   "execution_count": 72,
   "id": "3b5f0573",
   "metadata": {},
   "outputs": [
    {
     "data": {
      "text/plain": [
       "[<matplotlib.lines.Line2D at 0x7f3a19cf8a60>]"
      ]
     },
     "execution_count": 72,
     "metadata": {},
     "output_type": "execute_result"
    },
    {
     "data": {
      "image/png": "[encoded data removed]",
      "text/plain": [
       "<Figure size 432x288 with 1 Axes>"
      ]
     },
     "metadata": {
      "needs_background": "light"
     },
     "output_type": "display_data"
    }
   ],
   "source": [
    "import numpy as np\n",
    "import matplotlib.pyplot as plt\n",
    "\n",
    "plt.axhline(0, color='black')\n",
    "plt.axvline(0, color='black')\n",
    "plt.scatter([min_maxl3[0]], [f_3.subs(x, min_maxl3[0])], c='r')\n",
    "x_range = np.linspace(-4, 4, num=100)\n",
    "plt.plot(x_range, [f_3.subs(x, x_) for x_ in x_range])"
   ]
  },
  {
   "cell_type": "code",
   "execution_count": 73,
   "id": "6d49f423",
   "metadata": {},
   "outputs": [],
   "source": [
    "# Answer: function grows up (-inf; 1) but grow down (1; +inf). Max point = 1"
   ]
  },
  {
   "cell_type": "code",
   "execution_count": null,
   "id": "edff8978",
   "metadata": {},
   "outputs": [],
   "source": []
  }
 ],
 "metadata": {
  "gist": {
   "data": {
    "description": "module_6/lesson_module_6.ipynb",
    "public": false
   },
   "id": ""
  },
  "kernelspec": {
   "display_name": "Python 3 (ipykernel)",
   "language": "python",
   "name": "python3"
  },
  "language_info": {
   "codemirror_mode": {
    "name": "ipython",
    "version": 3
   },
   "file_extension": ".py",
   "mimetype": "text/x-python",
   "name": "python",
   "nbconvert_exporter": "python",
   "pygments_lexer": "ipython3",
   "version": "3.8.10"
  },
  "toc": {
   "base_numbering": 1,
   "nav_menu": {},
   "number_sections": true,
   "sideBar": true,
   "skip_h1_title": false,
   "title_cell": "Table of Contents",
   "title_sidebar": "Contents",
   "toc_cell": false,
   "toc_position": {},
   "toc_section_display": true,
   "toc_window_display": true
  }
 },
 "nbformat": 4,
 "nbformat_minor": 5
}
