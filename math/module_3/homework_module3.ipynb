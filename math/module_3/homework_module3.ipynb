{
 "cells": [
  {
   "cell_type": "markdown",
   "id": "efd2b28f",
   "metadata": {},
   "source": [
    "# The curse of math - module 3\n"
   ]
  },
  {
   "cell_type": "markdown",
   "id": "5c94a019",
   "metadata": {},
   "source": [
    "## Домашнее задание. Функции одной переменной, их свойства и графики.\n",
    "\n",
    "\n",
    "Домашнее задание к модулю состоит из двух частей. В первой части вы найдете пять графиков и 5 функций. Укажите, какой функции какой график соответствует.\n",
    "\tВо второй части дан набор функций. Исследуйте их на четность/нечетность, найдите их нули и промежутки знакопостоянства. Также, с помощью графиков, определите промежутки возрастания/убывания этих функций. Это легко сделать для линейной и показательной функций, для корня и логарифма немного сложнее, а для решения задачи с параболой нужно будет немного подумать. Если у вас нет желания поломать голову, находить промежутки возрастания/убывания параболы необязательно. Для тех, кто решит этим заняться, есть подсказка в текстовом описании под видео. <br><br>\n",
    "\tНа проверку пришлите ноутбук с выполненным исследованием. <br>\n"
   ]
  },
  {
   "cell_type": "markdown",
   "id": "b1d9a1ac",
   "metadata": {},
   "source": [
    "### Задание 1. \n",
    "\n",
    "а. $4x+5$ <br>\n",
    "б. $4x^2+4x+10$ <br>\n",
    "в. $100log(x)$ <br>\n",
    "г. $200\\sqrt x$ <br>\n",
    "д. $100e^{0.2x}$ <br>\n",
    "\n",
    "1. ![pic1.png](https://sun9-25.userapi.com/c858228/v858228580/11d685/oGV4QRM4g-I.jpg)\n",
    "2. ![pic2.png](https://sun9-13.userapi.com/c858228/v858228580/11d68c/aX9VkpWVosY.jpg)\n",
    "3. ![pic3.png](https://sun9-24.userapi.com/c858228/v858228580/11d693/Gzu0kXLECfg.jpg)\n",
    "4. ![pic4.png](https://sun9-45.userapi.com/c858228/v858228580/11d69a/sK-lypj-1Ik.jpg)\n",
    "5. ![pic5.png](https://sun9-3.userapi.com/c858228/v858228580/11d6a1/JpoMah5Jv0s.jpg)"
   ]
  },
  {
   "cell_type": "markdown",
   "id": "32856865",
   "metadata": {},
   "source": [
    "**Ответ:** <br>\n",
    "a-5(Линейная функция), <br> \n",
    "б-3(Квадратичная функция), <br>\n",
    "в-1(Логорифмическая функция), <br>\n",
    "г-4(Корневая функция), <br>\n",
    "д-2(Экспоненциальная функция) <br>"
   ]
  },
  {
   "cell_type": "markdown",
   "id": "3c302735",
   "metadata": {},
   "source": [
    "### Задание 2. Проведите исследование полученных функций. \n",
    "\n",
    "1. $5x + 1.5$\n",
    "2. $2e^{0.2x}-1$\n",
    "3. $3\\sqrt x - 15$\n",
    "4. $2\\log(x) + 5$\n",
    "5. $-5x^2 - 10x + 100$"
   ]
  },
  {
   "cell_type": "code",
   "execution_count": 1,
   "id": "60743263",
   "metadata": {},
   "outputs": [],
   "source": [
    "%matplotlib inline\n",
    "from sympy import *\n",
    "from sympy.plotting import plot\n",
    "from sympy.solvers.inequalities import solve_univariate_inequality"
   ]
  },
  {
   "cell_type": "code",
   "execution_count": 2,
   "id": "8f7c1c17",
   "metadata": {},
   "outputs": [],
   "source": [
    "from matplotlib import *"
   ]
  },
  {
   "cell_type": "code",
   "execution_count": 3,
   "id": "ff60084c",
   "metadata": {},
   "outputs": [],
   "source": [
    "init_printing(use_unicode=False, wrap_line=False, no_global=True)"
   ]
  },
  {
   "cell_type": "code",
   "execution_count": 4,
   "id": "5c759b5f",
   "metadata": {},
   "outputs": [],
   "source": [
    "x = Symbol('x')"
   ]
  },
  {
   "cell_type": "code",
   "execution_count": 5,
   "id": "5b68b208",
   "metadata": {
    "scrolled": true
   },
   "outputs": [
    {
     "data": {
      "image/png": "[encoded data removed]",
      "text/latex": [
       "$\\displaystyle 5 x + 1.5$"
      ],
      "text/plain": [
       "5*x + 1.5"
      ]
     },
     "execution_count": 5,
     "metadata": {},
     "output_type": "execute_result"
    }
   ],
   "source": [
    "f_line = 5*x + 1.5\n",
    "f_line"
   ]
  },
  {
   "cell_type": "code",
   "execution_count": 6,
   "id": "a2e2f7ff",
   "metadata": {},
   "outputs": [
    {
     "data": {
      "image/png": "[encoded data removed]",
      "text/plain": [
       "<Figure size 432x288 with 1 Axes>"
      ]
     },
     "metadata": {
      "needs_background": "light"
     },
     "output_type": "display_data"
    },
    {
     "data": {
      "text/plain": [
       "<sympy.plotting.plot.Plot at 0x7fcebc7f4cd0>"
      ]
     },
     "execution_count": 6,
     "metadata": {},
     "output_type": "execute_result"
    }
   ],
   "source": [
    "plot(f_line)"
   ]
  },
  {
   "cell_type": "code",
   "execution_count": 7,
   "id": "5dfae9da",
   "metadata": {},
   "outputs": [
    {
     "data": {
      "image/png": "[encoded data removed]",
      "text/latex": [
       "$\\displaystyle \\left( 16.5, \\  -13.5\\right)$"
      ],
      "text/plain": [
       "(16.5, -13.5)"
      ]
     },
     "execution_count": 7,
     "metadata": {},
     "output_type": "execute_result"
    }
   ],
   "source": [
    "# check parity\n",
    "f_line.subs(x, 3), f_line.subs(x, -3)\n",
    "# line function is not parity"
   ]
  },
  {
   "cell_type": "code",
   "execution_count": 8,
   "id": "55293b64",
   "metadata": {},
   "outputs": [
    {
     "data": {
      "image/png": "[encoded data removed]",
      "text/latex": [
       "$\\displaystyle \\left[ -0.3\\right]$"
      ],
      "text/plain": [
       "[-0.3]"
      ]
     },
     "execution_count": 8,
     "metadata": {},
     "output_type": "execute_result"
    }
   ],
   "source": [
    "# found zero points\n",
    "solve(f_line)\n",
    "# one zero point"
   ]
  },
  {
   "cell_type": "code",
   "execution_count": 9,
   "id": "9d22d5be",
   "metadata": {},
   "outputs": [
    {
     "data": {
      "image/png": "[encoded data removed]",
      "text/latex": [
       "$\\displaystyle 0$"
      ],
      "text/plain": [
       "0"
      ]
     },
     "execution_count": 9,
     "metadata": {},
     "output_type": "execute_result"
    }
   ],
   "source": [
    "# check point - zero\n",
    "f_line.subs(x, -0.3)"
   ]
  },
  {
   "cell_type": "code",
   "execution_count": 10,
   "id": "c20771b6",
   "metadata": {},
   "outputs": [
    {
     "data": {
      "image/png": "[encoded data removed]",
      "text/latex": [
       "$\\displaystyle -0.3 < x \\wedge x < \\infty$"
      ],
      "text/plain": [
       "And(-0.3 < x, x < oo)"
      ]
     },
     "execution_count": 10,
     "metadata": {},
     "output_type": "execute_result"
    }
   ],
   "source": [
    "# found the intervals of constans\n",
    "solve_univariate_inequality(f_line > 0, x) # when the value: f > 0"
   ]
  },
  {
   "cell_type": "code",
   "execution_count": 11,
   "id": "2dae95b5",
   "metadata": {},
   "outputs": [
    {
     "data": {
      "image/png": "[encoded data removed]",
      "text/latex": [
       "$\\displaystyle -\\infty < x \\wedge x < -0.3$"
      ],
      "text/plain": [
       "And(-oo < x, x < -0.3)"
      ]
     },
     "execution_count": 11,
     "metadata": {},
     "output_type": "execute_result"
    }
   ],
   "source": [
    "solve_univariate_inequality(f_line < 0, x) # when the value: f < 0"
   ]
  },
  {
   "cell_type": "markdown",
   "id": "ee369afa",
   "metadata": {},
   "source": [
    "### function line only grows up"
   ]
  },
  {
   "cell_type": "code",
   "execution_count": 12,
   "id": "56b565c5",
   "metadata": {},
   "outputs": [
    {
     "data": {
      "image/png": "[encoded data removed]",
      "text/latex": [
       "$\\displaystyle 2 e^{0.2 x} - 1$"
      ],
      "text/plain": [
       "   0.2*x    \n",
       "2*e      - 1"
      ]
     },
     "execution_count": 12,
     "metadata": {},
     "output_type": "execute_result"
    }
   ],
   "source": [
    "f_exponetial = 2* exp(0.2*x) -1\n",
    "f_exponetial"
   ]
  },
  {
   "cell_type": "code",
   "execution_count": 13,
   "id": "de3e5a4b",
   "metadata": {},
   "outputs": [
    {
     "data": {
      "image/png": "[encoded data removed]",
      "text/plain": [
       "<Figure size 432x288 with 1 Axes>"
      ]
     },
     "metadata": {
      "needs_background": "light"
     },
     "output_type": "display_data"
    },
    {
     "data": {
      "text/plain": [
       "<sympy.plotting.plot.Plot at 0x7fceba74a0d0>"
      ]
     },
     "execution_count": 13,
     "metadata": {},
     "output_type": "execute_result"
    }
   ],
   "source": [
    "plot(f_exponetial)"
   ]
  },
  {
   "cell_type": "code",
   "execution_count": 14,
   "id": "3be1899b",
   "metadata": {},
   "outputs": [
    {
     "data": {
      "image/png": "[encoded data removed]",
      "text/latex": [
       "$\\displaystyle \\left( 4.43656365691809, \\  -0.264241117657115\\right)$"
      ],
      "text/plain": [
       "(4.43656365691809, -0.264241117657115)"
      ]
     },
     "execution_count": 14,
     "metadata": {},
     "output_type": "execute_result"
    }
   ],
   "source": [
    "# check parity\n",
    "f_exponetial.subs(x, 5), f_exponetial.subs(x, -5)\n",
    "# function is not parity"
   ]
  },
  {
   "cell_type": "code",
   "execution_count": 15,
   "id": "d9b592d5",
   "metadata": {},
   "outputs": [
    {
     "data": {
      "image/png": "[encoded data removed]",
      "text/latex": [
       "$\\displaystyle \\left[ -3.46573590279973\\right]$"
      ],
      "text/plain": [
       "[-3.46573590279973]"
      ]
     },
     "execution_count": 15,
     "metadata": {},
     "output_type": "execute_result"
    }
   ],
   "source": [
    "# found zero points\n",
    "solve(f_exponetial)\n",
    "# one zero point"
   ]
  },
  {
   "cell_type": "code",
   "execution_count": 16,
   "id": "916ce5e6",
   "metadata": {},
   "outputs": [
    {
     "data": {
      "image/png": "[encoded data removed]",
      "text/latex": [
       "$\\displaystyle x < \\infty \\wedge - 5.0 \\log{\\left(2 \\right)} < x$"
      ],
      "text/plain": [
       "And(x < oo, -5.0*log(2) < x)"
      ]
     },
     "execution_count": 16,
     "metadata": {},
     "output_type": "execute_result"
    }
   ],
   "source": [
    "# found the intervals of constants\n",
    "solve_univariate_inequality(f_exponetial>0, x) # interval, when f>0\n"
   ]
  },
  {
   "cell_type": "code",
   "execution_count": 17,
   "id": "a69d334e",
   "metadata": {},
   "outputs": [
    {
     "data": {
      "image/png": "[encoded data removed]",
      "text/latex": [
       "$\\displaystyle 0.000147191391535184$"
      ],
      "text/plain": [
       "0.000147191391535184"
      ]
     },
     "execution_count": 17,
     "metadata": {},
     "output_type": "execute_result"
    }
   ],
   "source": [
    "#check zero point\n",
    "f_exponetial.subs(x, -5*log(2)), f_exponetial.subs(x, -3.46573590279973), \n",
    "f_exponetial.subs(x, -3.465) # hm\n",
    "# true ; false ?"
   ]
  },
  {
   "cell_type": "code",
   "execution_count": 18,
   "id": "b4cdfbbf",
   "metadata": {},
   "outputs": [
    {
     "data": {
      "image/png": "[encoded data removed]",
      "text/latex": [
       "$\\displaystyle -\\infty < x \\wedge x < - 5.0 \\log{\\left(2 \\right)}$"
      ],
      "text/plain": [
       "And(-oo < x, x < -5.0*log(2))"
      ]
     },
     "execution_count": 18,
     "metadata": {},
     "output_type": "execute_result"
    }
   ],
   "source": [
    "solve_univariate_inequality(f_exponetial<0, x) # interval, when f<0"
   ]
  },
  {
   "cell_type": "markdown",
   "id": "b0a3d6da",
   "metadata": {},
   "source": [
    "### The function only grows up"
   ]
  },
  {
   "cell_type": "code",
   "execution_count": 19,
   "id": "8946c6b3",
   "metadata": {},
   "outputs": [
    {
     "data": {
      "image/png": "[encoded data removed]",
      "text/latex": [
       "$\\displaystyle 3 \\sqrt{x} - 15$"
      ],
      "text/plain": [
       "    ___     \n",
       "3*\\/ x  - 15"
      ]
     },
     "execution_count": 19,
     "metadata": {},
     "output_type": "execute_result"
    }
   ],
   "source": [
    "f_root = 3 * sqrt(x) -15\n",
    "f_root"
   ]
  },
  {
   "cell_type": "code",
   "execution_count": 20,
   "id": "c13186df",
   "metadata": {},
   "outputs": [
    {
     "data": {
      "image/png": "[encoded data removed]",
      "text/plain": [
       "<Figure size 432x288 with 1 Axes>"
      ]
     },
     "metadata": {
      "needs_background": "light"
     },
     "output_type": "display_data"
    },
    {
     "data": {
      "text/plain": [
       "<sympy.plotting.plot.Plot at 0x7fceba5cf370>"
      ]
     },
     "execution_count": 20,
     "metadata": {},
     "output_type": "execute_result"
    }
   ],
   "source": [
    "plot(f_root, (x, 0, 100))\n",
    "#root function in area initialization is limeted because you need to send args - the intervals of constans"
   ]
  },
  {
   "cell_type": "code",
   "execution_count": 21,
   "id": "ab573240",
   "metadata": {},
   "outputs": [
    {
     "data": {
      "image/png": "[encoded data removed]",
      "text/latex": [
       "$\\displaystyle \\left( -15 + 3 \\sqrt{2}, \\  -15 + 3 \\sqrt{2} i\\right)$"
      ],
      "text/plain": [
       "           ___            ___   \n",
       "(-15 + 3*\\/ 2 , -15 + 3*\\/ 2 *I)"
      ]
     },
     "execution_count": 21,
     "metadata": {},
     "output_type": "execute_result"
    }
   ],
   "source": [
    "# check parity function root\n",
    "f_root.subs(x, 2), f_root.subs(x, -2)\n",
    "# function is not parity"
   ]
  },
  {
   "cell_type": "code",
   "execution_count": 22,
   "id": "49446080",
   "metadata": {},
   "outputs": [
    {
     "data": {
      "image/png": "[encoded data removed]",
      "text/latex": [
       "$\\displaystyle \\left[ 25\\right]$"
      ],
      "text/plain": [
       "[25]"
      ]
     },
     "execution_count": 22,
     "metadata": {},
     "output_type": "execute_result"
    }
   ],
   "source": [
    "# found zero points\n",
    "solve(f_root)"
   ]
  },
  {
   "cell_type": "code",
   "execution_count": 23,
   "id": "3306e6b7",
   "metadata": {},
   "outputs": [
    {
     "data": {
      "image/png": "[encoded data removed]",
      "text/latex": [
       "$\\displaystyle 0$"
      ],
      "text/plain": [
       "0"
      ]
     },
     "execution_count": 23,
     "metadata": {},
     "output_type": "execute_result"
    }
   ],
   "source": [
    "# check zero point\n",
    "f_root.subs(x, 25)"
   ]
  },
  {
   "cell_type": "code",
   "execution_count": 24,
   "id": "158437ec",
   "metadata": {},
   "outputs": [
    {
     "data": {
      "image/png": "[encoded data removed]",
      "text/latex": [
       "$\\displaystyle 25 < x \\wedge x < \\infty$"
      ],
      "text/plain": [
       "And(25 < x, x < oo)"
      ]
     },
     "execution_count": 24,
     "metadata": {},
     "output_type": "execute_result"
    }
   ],
   "source": [
    "# check the intervals of constants\n",
    "solve_univariate_inequality(f_root>0, x) # when f>0"
   ]
  },
  {
   "cell_type": "code",
   "execution_count": 25,
   "id": "8a47df76",
   "metadata": {},
   "outputs": [
    {
     "data": {
      "image/png": "[encoded data removed]",
      "text/latex": [
       "$\\displaystyle 0 \\leq x \\wedge x < 25$"
      ],
      "text/plain": [
       "And(0 <= x, x < 25)"
      ]
     },
     "execution_count": 25,
     "metadata": {},
     "output_type": "execute_result"
    }
   ],
   "source": [
    "solve_univariate_inequality(f_root<0, x)  # when f<0"
   ]
  },
  {
   "cell_type": "markdown",
   "id": "e1a2a442",
   "metadata": {},
   "source": [
    "### the function grows up"
   ]
  },
  {
   "cell_type": "code",
   "execution_count": 26,
   "id": "edc74757",
   "metadata": {},
   "outputs": [
    {
     "data": {
      "image/png": "[encoded data removed]",
      "text/latex": [
       "$\\displaystyle 2 \\log{\\left(x \\right)} + 5$"
      ],
      "text/plain": [
       "2*log(x) + 5"
      ]
     },
     "execution_count": 26,
     "metadata": {},
     "output_type": "execute_result"
    }
   ],
   "source": [
    "f_log = 2*log(x)+5\n",
    "f_log"
   ]
  },
  {
   "cell_type": "code",
   "execution_count": 27,
   "id": "41a95dc7",
   "metadata": {},
   "outputs": [
    {
     "data": {
      "image/png": "[encoded data removed]",
      "text/plain": [
       "<Figure size 432x288 with 1 Axes>"
      ]
     },
     "metadata": {
      "needs_background": "light"
     },
     "output_type": "display_data"
    },
    {
     "data": {
      "text/plain": [
       "<sympy.plotting.plot.Plot at 0x7fceba5c2730>"
      ]
     },
     "execution_count": 27,
     "metadata": {},
     "output_type": "execute_result"
    }
   ],
   "source": [
    "plot(f_log, (x, 1, 100))"
   ]
  },
  {
   "cell_type": "code",
   "execution_count": 28,
   "id": "83e7b7ed",
   "metadata": {},
   "outputs": [
    {
     "data": {
      "image/png": "[encoded data removed]",
      "text/latex": [
       "$\\displaystyle \\left( 2 \\log{\\left(9 \\right)} + 5, \\  2 \\log{\\left(9 \\right)} + 5 + 2 i \\pi\\right)$"
      ],
      "text/plain": [
       "(2*log(9) + 5, 2*log(9) + 5 + 2*I*pi)"
      ]
     },
     "execution_count": 28,
     "metadata": {},
     "output_type": "execute_result"
    }
   ],
   "source": [
    "#check parity the function\n",
    "f_log.subs(x, 9), f_log.subs(x, -9)"
   ]
  },
  {
   "cell_type": "code",
   "execution_count": 29,
   "id": "074bf9a7",
   "metadata": {},
   "outputs": [
    {
     "data": {
      "image/png": "[encoded data removed]",
      "text/latex": [
       "$\\displaystyle \\left[ e^{- \\frac{5}{2}}\\right]$"
      ],
      "text/plain": [
       "  -5/2 \n",
       "[e    ]"
      ]
     },
     "execution_count": 29,
     "metadata": {},
     "output_type": "execute_result"
    }
   ],
   "source": [
    "# found zero points\n",
    "solve(f_log)"
   ]
  },
  {
   "cell_type": "code",
   "execution_count": 30,
   "id": "b3a04b68",
   "metadata": {},
   "outputs": [
    {
     "data": {
      "image/png": "[encoded data removed]",
      "text/latex": [
       "$\\displaystyle 0$"
      ],
      "text/plain": [
       "0"
      ]
     },
     "execution_count": 30,
     "metadata": {},
     "output_type": "execute_result"
    }
   ],
   "source": [
    "#check zero point\n",
    "f_log.subs(x, solve(f_log)[0])"
   ]
  },
  {
   "cell_type": "code",
   "execution_count": 31,
   "id": "55545c48",
   "metadata": {},
   "outputs": [
    {
     "data": {
      "image/png": "[encoded data removed]",
      "text/latex": [
       "$\\displaystyle x < \\infty \\wedge e^{- \\frac{5}{2}} < x$"
      ],
      "text/plain": [
       "   /         -5/2    \\\n",
       "And\\x < oo, e     < x/"
      ]
     },
     "execution_count": 31,
     "metadata": {},
     "output_type": "execute_result"
    }
   ],
   "source": [
    "solve_univariate_inequality(f_log>0, x)   # when f>0"
   ]
  },
  {
   "cell_type": "code",
   "execution_count": 32,
   "id": "75344c93",
   "metadata": {},
   "outputs": [
    {
     "data": {
      "image/png": "[encoded data removed]",
      "text/latex": [
       "$\\displaystyle 0 < x \\wedge x < e^{- \\frac{5}{2}}$"
      ],
      "text/plain": [
       "   /            -5/2\\\n",
       "And\\0 < x, x < e    /"
      ]
     },
     "execution_count": 32,
     "metadata": {},
     "output_type": "execute_result"
    }
   ],
   "source": [
    "solve_univariate_inequality(f_log<0, x)   # when f<0"
   ]
  },
  {
   "cell_type": "markdown",
   "id": "2bea488f",
   "metadata": {},
   "source": [
    "## the function only grows up"
   ]
  },
  {
   "cell_type": "code",
   "execution_count": 33,
   "id": "7ee89888",
   "metadata": {},
   "outputs": [
    {
     "data": {
      "image/png": "[encoded data removed]",
      "text/latex": [
       "$\\displaystyle - 5 x^{2} - 10 x + 100$"
      ],
      "text/plain": [
       "     2             \n",
       "- 5*x  - 10*x + 100"
      ]
     },
     "execution_count": 33,
     "metadata": {},
     "output_type": "execute_result"
    }
   ],
   "source": [
    "f_square = -5*x**2-10*x+100\n",
    "f_square"
   ]
  },
  {
   "cell_type": "code",
   "execution_count": 34,
   "id": "9eb938bd",
   "metadata": {},
   "outputs": [
    {
     "data": {
      "image/png": "[encoded data removed]",
      "text/plain": [
       "<Figure size 432x288 with 1 Axes>"
      ]
     },
     "metadata": {
      "needs_background": "light"
     },
     "output_type": "display_data"
    },
    {
     "data": {
      "text/plain": [
       "<sympy.plotting.plot.Plot at 0x7fceba3acd90>"
      ]
     },
     "execution_count": 34,
     "metadata": {},
     "output_type": "execute_result"
    }
   ],
   "source": [
    "plot(f_square, title=f\"{f_square}\\n\")"
   ]
  },
  {
   "cell_type": "code",
   "execution_count": 35,
   "id": "4ea06aae",
   "metadata": {},
   "outputs": [
    {
     "data": {
      "image/png": "[encoded data removed]",
      "text/latex": [
       "$\\displaystyle \\left( -75, \\  25\\right)$"
      ],
      "text/plain": [
       "(-75, 25)"
      ]
     },
     "execution_count": 35,
     "metadata": {},
     "output_type": "execute_result"
    }
   ],
   "source": [
    "# check parity the function\n",
    "f_square.subs(x, 5), f_square.subs(x, -5)\n",
    "#false, because Off-center from coeff b"
   ]
  },
  {
   "cell_type": "code",
   "execution_count": 36,
   "id": "6e609810",
   "metadata": {},
   "outputs": [
    {
     "data": {
      "image/png": "[encoded data removed]",
      "text/latex": [
       "$\\displaystyle \\left[ -1 + \\sqrt{21}, \\  - \\sqrt{21} - 1\\right]$"
      ],
      "text/plain": [
       "        ____      ____     \n",
       "[-1 + \\/ 21 , - \\/ 21  - 1]"
      ]
     },
     "execution_count": 36,
     "metadata": {},
     "output_type": "execute_result"
    }
   ],
   "source": [
    "# found zero points\n",
    "zero_points_square_f = solve(f_square)\n",
    "zero_points_square_f"
   ]
  },
  {
   "cell_type": "code",
   "execution_count": 37,
   "id": "dff69d7d",
   "metadata": {},
   "outputs": [
    {
     "data": {
      "image/png": "[encoded data removed]",
      "text/latex": [
       "$\\displaystyle - 5 \\left(-1 + \\sqrt{21}\\right)^{2} - 10 \\sqrt{21} + 110$"
      ],
      "text/plain": [
       "                 2                  \n",
       "    /       ____\\         ____      \n",
       "- 5*\\-1 + \\/ 21 /  - 10*\\/ 21  + 110"
      ]
     },
     "execution_count": 37,
     "metadata": {},
     "output_type": "execute_result"
    }
   ],
   "source": [
    "# check zero points\n",
    "f_square.subs(x, zero_points_square_f[0])\n",
    "# false, why?"
   ]
  },
  {
   "cell_type": "code",
   "execution_count": 38,
   "id": "ec9a2665",
   "metadata": {},
   "outputs": [
    {
     "data": {
      "image/png": "[encoded data removed]",
      "text/latex": [
       "$\\displaystyle -0.0194450000000188$"
      ],
      "text/plain": [
       "-0.0194450000000188"
      ]
     },
     "execution_count": 38,
     "metadata": {},
     "output_type": "execute_result"
    }
   ],
   "source": [
    "f_square.subs(x, -5.583) # hmm"
   ]
  },
  {
   "cell_type": "code",
   "execution_count": 39,
   "id": "3e7bc534",
   "metadata": {},
   "outputs": [
    {
     "data": {
      "image/png": "[encoded data removed]",
      "text/latex": [
       "$\\displaystyle -1 + \\sqrt{21}$"
      ],
      "text/plain": [
       "       ____\n",
       "-1 + \\/ 21 "
      ]
     },
     "execution_count": 39,
     "metadata": {},
     "output_type": "execute_result"
    }
   ],
   "source": [
    "simplify(zero_points_square_f[0])"
   ]
  },
  {
   "cell_type": "code",
   "execution_count": 40,
   "id": "edfc5d4c",
   "metadata": {},
   "outputs": [
    {
     "data": {
      "image/png": "[encoded data removed]",
      "text/latex": [
       "$\\displaystyle x < -1 + \\sqrt{21} \\wedge - \\sqrt{21} - 1 < x$"
      ],
      "text/plain": [
       "   /           ____      ____        \\\n",
       "And\\x < -1 + \\/ 21 , - \\/ 21  - 1 < x/"
      ]
     },
     "execution_count": 40,
     "metadata": {},
     "output_type": "execute_result"
    }
   ],
   "source": [
    "solve_univariate_inequality(f_square>0, x) # when f>0"
   ]
  },
  {
   "cell_type": "code",
   "execution_count": 41,
   "id": "b4146c2c",
   "metadata": {},
   "outputs": [
    {
     "data": {
      "image/png": "[encoded data removed]",
      "text/latex": [
       "$\\displaystyle \\left(-\\infty < x \\wedge x < - \\sqrt{21} - 1\\right) \\vee \\left(x < \\infty \\wedge -1 + \\sqrt{21} < x\\right)$"
      ],
      "text/plain": [
       "  /   /                 ____    \\     /               ____    \\\\\n",
       "Or\\And\\-oo < x, x < - \\/ 21  - 1/, And\\x < oo, -1 + \\/ 21  < x//"
      ]
     },
     "execution_count": 41,
     "metadata": {},
     "output_type": "execute_result"
    }
   ],
   "source": [
    "solve_univariate_inequality(f_square<0, x) # when f<0"
   ]
  },
  {
   "cell_type": "markdown",
   "id": "c29b238a",
   "metadata": {},
   "source": [
    "### the function increases to (-inf; -1) and descreases after (-1; +inf) "
   ]
  },
  {
   "cell_type": "code",
   "execution_count": 47,
   "id": "cff9ee5d",
   "metadata": {},
   "outputs": [
    {
     "data": {
      "image/png": "[encoded data removed]",
      "text/latex": [
       "$\\displaystyle -1$"
      ],
      "text/plain": [
       "-1"
      ]
     },
     "execution_count": 47,
     "metadata": {},
     "output_type": "execute_result"
    }
   ],
   "source": [
    "top_function = (zero_points_square_f[0] + zero_points_square_f[1]) /2\n",
    "top_function"
   ]
  },
  {
   "cell_type": "code",
   "execution_count": null,
   "id": "ff19418c",
   "metadata": {},
   "outputs": [],
   "source": []
  }
 ],
 "metadata": {
  "kernelspec": {
   "display_name": "Python 3 (ipykernel)",
   "language": "python",
   "name": "python3"
  },
  "language_info": {
   "codemirror_mode": {
    "name": "ipython",
    "version": 3
   },
   "file_extension": ".py",
   "mimetype": "text/x-python",
   "name": "python",
   "nbconvert_exporter": "python",
   "pygments_lexer": "ipython3",
   "version": "3.8.10"
  }
 },
 "nbformat": 4,
 "nbformat_minor": 5
}
