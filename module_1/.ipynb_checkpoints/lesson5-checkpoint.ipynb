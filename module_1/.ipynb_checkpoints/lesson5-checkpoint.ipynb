{
 "cells": [
  {
   "cell_type": "code",
   "execution_count": 4,
   "id": "13a74acd",
   "metadata": {},
   "outputs": [],
   "source": [
    "from sympy import *"
   ]
  },
  {
   "cell_type": "code",
   "execution_count": 5,
   "id": "59ce0f7c",
   "metadata": {},
   "outputs": [],
   "source": [
    "init_printing(use_unicode=False, wrap_line=False, no_global=True)"
   ]
  },
  {
   "cell_type": "code",
   "execution_count": 6,
   "id": "2ada9c5d",
   "metadata": {},
   "outputs": [],
   "source": [
    "x = Symbol('x')"
   ]
  },
  {
   "cell_type": "code",
   "execution_count": 7,
   "id": "1ba4f2b6",
   "metadata": {},
   "outputs": [
    {
     "data": {
      "text/latex": [
       "$\\displaystyle \\frac{x^{2}}{2}$"
      ],
      "text/plain": [
       " 2\n",
       "x \n",
       "--\n",
       "2 "
      ]
     },
     "execution_count": 7,
     "metadata": {},
     "output_type": "execute_result"
    }
   ],
   "source": [
    "x**2/2"
   ]
  },
  {
   "cell_type": "code",
   "execution_count": 8,
   "id": "e3f7283d",
   "metadata": {},
   "outputs": [
    {
     "data": {
      "text/latex": [
       "$\\displaystyle y$"
      ],
      "text/plain": [
       "y"
      ]
     },
     "execution_count": 8,
     "metadata": {},
     "output_type": "execute_result"
    }
   ],
   "source": [
    "y = Symbol('y')\n",
    "y"
   ]
  },
  {
   "cell_type": "code",
   "execution_count": 9,
   "id": "910f580f",
   "metadata": {},
   "outputs": [],
   "source": [
    "expression = (x**2-y**2)/(x**2+2*x*y+y**2)"
   ]
  },
  {
   "cell_type": "code",
   "execution_count": 10,
   "id": "392ecdae",
   "metadata": {},
   "outputs": [
    {
     "data": {
      "text/latex": [
       "$\\displaystyle \\frac{x^{2} - y^{2}}{x^{2} + 2 x y + y^{2}}$"
      ],
      "text/plain": [
       "     2    2    \n",
       "    x  - y     \n",
       "---------------\n",
       " 2            2\n",
       "x  + 2*x*y + y "
      ]
     },
     "execution_count": 10,
     "metadata": {},
     "output_type": "execute_result"
    }
   ],
   "source": [
    "expression"
   ]
  },
  {
   "cell_type": "code",
   "execution_count": 11,
   "id": "c5b659b1",
   "metadata": {},
   "outputs": [
    {
     "data": {
      "text/latex": [
       "$\\displaystyle \\frac{x - y}{x + y}$"
      ],
      "text/plain": [
       "x - y\n",
       "-----\n",
       "x + y"
      ]
     },
     "execution_count": 11,
     "metadata": {},
     "output_type": "execute_result"
    }
   ],
   "source": [
    "simplify(expression)"
   ]
  },
  {
   "cell_type": "code",
   "execution_count": 12,
   "id": "1a821522",
   "metadata": {},
   "outputs": [
    {
     "data": {
      "text/latex": [
       "$\\displaystyle m$"
      ],
      "text/plain": [
       "m"
      ]
     },
     "execution_count": 12,
     "metadata": {},
     "output_type": "execute_result"
    }
   ],
   "source": [
    "m = Symbol('m')\n",
    "m"
   ]
  },
  {
   "cell_type": "code",
   "execution_count": 13,
   "id": "f9b9f677",
   "metadata": {},
   "outputs": [
    {
     "data": {
      "text/latex": [
       "$\\displaystyle \\frac{\\left(8 m^{3} + 27\\right) \\left(\\frac{10 m^{2}}{2 m + 3} - 5 m\\right)}{30 m^{2} - 15 m}$"
      ],
      "text/plain": [
       "            /     2       \\\n",
       "/   3     \\ | 10*m        |\n",
       "\\8*m  + 27/*|------- - 5*m|\n",
       "            \\2*m + 3      /\n",
       "---------------------------\n",
       "            2              \n",
       "        30*m  - 15*m       "
      ]
     },
     "execution_count": 13,
     "metadata": {},
     "output_type": "execute_result"
    }
   ],
   "source": [
    "expression = (((10*m**2)/(3+2*m)-5*m))/(((30*m**2-15*m)/(8*m**3+27)))\n",
    "expression"
   ]
  },
  {
   "cell_type": "code",
   "execution_count": 14,
   "id": "552612b6",
   "metadata": {},
   "outputs": [
    {
     "data": {
      "text/latex": [
       "$\\displaystyle \\frac{- 4 m^{2} + 6 m - 9}{2 m - 1}$"
      ],
      "text/plain": [
       "     2          \n",
       "- 4*m  + 6*m - 9\n",
       "----------------\n",
       "    2*m - 1     "
      ]
     },
     "execution_count": 14,
     "metadata": {},
     "output_type": "execute_result"
    }
   ],
   "source": [
    "simplify(expression)"
   ]
  },
  {
   "cell_type": "code",
   "execution_count": null,
   "id": "8e4a5402",
   "metadata": {},
   "outputs": [],
   "source": []
  },
  {
   "cell_type": "code",
   "execution_count": null,
   "id": "1be35a73",
   "metadata": {},
   "outputs": [],
   "source": []
  }
 ],
 "metadata": {
  "kernelspec": {
   "display_name": "Python 3 (ipykernel)",
   "language": "python",
   "name": "python3"
  },
  "language_info": {
   "codemirror_mode": {
    "name": "ipython",
    "version": 3
   },
   "file_extension": ".py",
   "mimetype": "text/x-python",
   "name": "python",
   "nbconvert_exporter": "python",
   "pygments_lexer": "ipython3",
   "version": "3.8.10"
  }
 },
 "nbformat": 4,
 "nbformat_minor": 5
}
