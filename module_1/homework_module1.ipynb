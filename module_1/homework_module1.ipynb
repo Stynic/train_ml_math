{
 "cells": [
  {
   "cell_type": "code",
   "execution_count": 2,
   "id": "c0752600",
   "metadata": {},
   "outputs": [],
   "source": [
    "from sympy import *"
   ]
  },
  {
   "cell_type": "code",
   "execution_count": 3,
   "id": "8e0307a4",
   "metadata": {},
   "outputs": [],
   "source": [
    "init_printing(use_unicode=False, wrap_line=False, no_global=True)"
   ]
  },
  {
   "cell_type": "code",
   "execution_count": 4,
   "id": "d0c3e27b",
   "metadata": {},
   "outputs": [
    {
     "data": {
      "text/latex": [
       "$\\displaystyle \\left( x, \\  y\\right)$"
      ],
      "text/plain": [
       "(x, y)"
      ]
     },
     "execution_count": 4,
     "metadata": {},
     "output_type": "execute_result"
    }
   ],
   "source": [
    "x = Symbol('x')\n",
    "y = Symbol('y')\n",
    "x, y"
   ]
  },
  {
   "cell_type": "code",
   "execution_count": 5,
   "id": "975ae852",
   "metadata": {},
   "outputs": [
    {
     "data": {
      "text/latex": [
       "$\\displaystyle - 3 x \\left(1.33333333333333 x + 4 y\\right) + \\left(2 x + 3 y\\right)^{2}$"
      ],
      "text/plain": [
       "                                             2\n",
       "-3*x*(1.33333333333333*x + 4*y) + (2*x + 3*y) "
      ]
     },
     "execution_count": 5,
     "metadata": {},
     "output_type": "execute_result"
    }
   ],
   "source": [
    "expression = ((2*x+3*y)**2)-3*x*((4/3)*x+4*y)\n",
    "expression"
   ]
  },
  {
   "cell_type": "code",
   "execution_count": 6,
   "id": "8b6cb7be",
   "metadata": {},
   "outputs": [
    {
     "data": {
      "text/latex": [
       "$\\displaystyle 9 y^{2}$"
      ],
      "text/plain": [
       "   2\n",
       "9*y "
      ]
     },
     "execution_count": 6,
     "metadata": {},
     "output_type": "execute_result"
    }
   ],
   "source": [
    "simplify(expression)"
   ]
  },
  {
   "cell_type": "code",
   "execution_count": 7,
   "id": "fce38d7c",
   "metadata": {},
   "outputs": [
    {
     "data": {
      "text/latex": [
       "$\\displaystyle \\left( a, \\  b\\right)$"
      ],
      "text/plain": [
       "(a, b)"
      ]
     },
     "execution_count": 7,
     "metadata": {},
     "output_type": "execute_result"
    }
   ],
   "source": [
    "a = Symbol('a')\n",
    "b = Symbol('b')\n",
    "a, b"
   ]
  },
  {
   "cell_type": "code",
   "execution_count": 8,
   "id": "ce265b68",
   "metadata": {},
   "outputs": [
    {
     "data": {
      "text/latex": [
       "$\\displaystyle 28 a b + \\left(2 a - 7 b\\right)^{2}$"
      ],
      "text/plain": [
       "                    2\n",
       "28*a*b + (2*a - 7*b) "
      ]
     },
     "execution_count": 8,
     "metadata": {},
     "output_type": "execute_result"
    }
   ],
   "source": [
    "expression = 28*a*b+(2*a-7*b)**2\n",
    "expression"
   ]
  },
  {
   "cell_type": "code",
   "execution_count": 9,
   "id": "230da84e",
   "metadata": {},
   "outputs": [
    {
     "data": {
      "text/latex": [
       "$\\displaystyle 4 a^{2} + 49 b^{2}$"
      ],
      "text/plain": [
       "   2       2\n",
       "4*a  + 49*b "
      ]
     },
     "execution_count": 9,
     "metadata": {},
     "output_type": "execute_result"
    }
   ],
   "source": [
    "simplify(expression)"
   ]
  },
  {
   "cell_type": "code",
   "execution_count": 10,
   "id": "77573b0d",
   "metadata": {},
   "outputs": [
    {
     "data": {
      "text/latex": [
       "$\\displaystyle \\frac{7}{10 a}$"
      ],
      "text/plain": [
       " 7  \n",
       "----\n",
       "10*a"
      ]
     },
     "execution_count": 10,
     "metadata": {},
     "output_type": "execute_result"
    }
   ],
   "source": [
    "expression = (a/2 + a/5)*1/a**2\n",
    "simplify(expression)"
   ]
  },
  {
   "cell_type": "code",
   "execution_count": 11,
   "id": "ff14910c",
   "metadata": {},
   "outputs": [
    {
     "data": {
      "text/latex": [
       "$\\displaystyle \\frac{\\left(x + 2\\right) \\left(x - \\frac{6 x}{x + 2}\\right)}{x - 4}$"
      ],
      "text/plain": [
       "        /     6*x \\\n",
       "(x + 2)*|x - -----|\n",
       "        \\    x + 2/\n",
       "-------------------\n",
       "       x - 4       "
      ]
     },
     "execution_count": 11,
     "metadata": {},
     "output_type": "execute_result"
    }
   ],
   "source": [
    "expression = ((x - (6*x)/(x+2)))/((x-4)/(x+2))\n",
    "expression"
   ]
  },
  {
   "cell_type": "code",
   "execution_count": 12,
   "id": "18eb9755",
   "metadata": {},
   "outputs": [
    {
     "data": {
      "text/latex": [
       "$\\displaystyle x$"
      ],
      "text/plain": [
       "x"
      ]
     },
     "execution_count": 12,
     "metadata": {},
     "output_type": "execute_result"
    }
   ],
   "source": [
    "simplify(expression)"
   ]
  },
  {
   "cell_type": "code",
   "execution_count": 13,
   "id": "082fd8c3",
   "metadata": {},
   "outputs": [
    {
     "data": {
      "text/latex": [
       "$\\displaystyle a^{2} b^{2} \\left(\\frac{9}{b^{2}} + \\frac{4}{a^{2}}\\right)$"
      ],
      "text/plain": [
       " 2  2 /9    4 \\\n",
       "a *b *|-- + --|\n",
       "      | 2    2|\n",
       "      \\b    a /"
      ]
     },
     "execution_count": 13,
     "metadata": {},
     "output_type": "execute_result"
    }
   ],
   "source": [
    "expression = ((4/a**2)+(9/b**2)) * (a*b)**2\n",
    "expression"
   ]
  },
  {
   "cell_type": "code",
   "execution_count": 14,
   "id": "f3d549c0",
   "metadata": {},
   "outputs": [
    {
     "data": {
      "text/latex": [
       "$\\displaystyle 9 a^{2} + 4 b^{2}$"
      ],
      "text/plain": [
       "   2      2\n",
       "9*a  + 4*b "
      ]
     },
     "execution_count": 14,
     "metadata": {},
     "output_type": "execute_result"
    }
   ],
   "source": [
    "simplify(expression)"
   ]
  },
  {
   "cell_type": "code",
   "execution_count": 15,
   "id": "b5dbea84",
   "metadata": {},
   "outputs": [
    {
     "data": {
      "text/latex": [
       "$\\displaystyle - \\frac{1}{2}$"
      ],
      "text/plain": [
       "-1/2"
      ]
     },
     "execution_count": 15,
     "metadata": {},
     "output_type": "execute_result"
    }
   ],
   "source": [
    "c = Symbol('c')\n",
    "k = Symbol('k')\n",
    "expression_6 = (5/(c*(k**2))) * (k**3)*c - ((10*k+1)/2)\n",
    "expression_6"
   ]
  },
  {
   "cell_type": "code",
   "execution_count": 16,
   "id": "f30a33ec",
   "metadata": {},
   "outputs": [
    {
     "data": {
      "text/latex": [
       "$\\displaystyle - \\frac{1}{2}$"
      ],
      "text/plain": [
       "-1/2"
      ]
     },
     "execution_count": 16,
     "metadata": {},
     "output_type": "execute_result"
    }
   ],
   "source": [
    "simplify(expression_6)"
   ]
  },
  {
   "cell_type": "code",
   "execution_count": 17,
   "id": "a03886e8",
   "metadata": {},
   "outputs": [
    {
     "data": {
      "text/latex": [
       "$\\displaystyle \\frac{3 x^{2} + 4 x}{x^{2} - 2 x} - \\frac{x + 8}{x - 2} - \\frac{2 x + 7}{x}$"
      ],
      "text/plain": [
       "   2                        \n",
       "3*x  + 4*x   x + 8   2*x + 7\n",
       "---------- - ----- - -------\n",
       "  2          x - 2      x   \n",
       " x  - 2*x                   "
      ]
     },
     "execution_count": 17,
     "metadata": {},
     "output_type": "execute_result"
    }
   ],
   "source": [
    "expression_7 = (((3*x**2) + 4*x)/((x**2)-2*x)) - ((2*x + 7)/x) - ((x+8)/(x-2))\n",
    "expression_7"
   ]
  },
  {
   "cell_type": "code",
   "execution_count": 18,
   "id": "3353e963",
   "metadata": {},
   "outputs": [
    {
     "data": {
      "text/latex": [
       "$\\displaystyle - \\frac{7}{x}$"
      ],
      "text/plain": [
       "-7 \n",
       "---\n",
       " x "
      ]
     },
     "execution_count": 18,
     "metadata": {},
     "output_type": "execute_result"
    }
   ],
   "source": [
    "simplify(expression_7)"
   ]
  },
  {
   "cell_type": "code",
   "execution_count": 23,
   "id": "be699dd1",
   "metadata": {},
   "outputs": [
    {
     "data": {
      "text/latex": [
       "$\\displaystyle - 2 x + \\frac{7 x + 14}{x^{2}}$"
      ],
      "text/plain": [
       "       7*x + 14\n",
       "-2*x + --------\n",
       "           2   \n",
       "          x    "
      ]
     },
     "execution_count": 23,
     "metadata": {},
     "output_type": "execute_result"
    }
   ],
   "source": [
    "expression = ((7*x + 14) / (x**2)-2*x)\n",
    "expression"
   ]
  },
  {
   "cell_type": "code",
   "execution_count": 24,
   "id": "6336dc03",
   "metadata": {},
   "outputs": [
    {
     "data": {
      "text/latex": [
       "$\\displaystyle - 2 x + \\frac{7}{x} + \\frac{14}{x^{2}}$"
      ],
      "text/plain": [
       "       7   14\n",
       "-2*x + - + --\n",
       "       x    2\n",
       "           x "
      ]
     },
     "execution_count": 24,
     "metadata": {},
     "output_type": "execute_result"
    }
   ],
   "source": [
    "simplify(expression)"
   ]
  },
  {
   "cell_type": "code",
   "execution_count": null,
   "id": "7da5cd76",
   "metadata": {},
   "outputs": [],
   "source": []
  }
 ],
 "metadata": {
  "kernelspec": {
   "display_name": "Python 3 (ipykernel)",
   "language": "python",
   "name": "python3"
  },
  "language_info": {
   "codemirror_mode": {
    "name": "ipython",
    "version": 3
   },
   "file_extension": ".py",
   "mimetype": "text/x-python",
   "name": "python",
   "nbconvert_exporter": "python",
   "pygments_lexer": "ipython3",
   "version": "3.8.10"
  }
 },
 "nbformat": 4,
 "nbformat_minor": 5
}
