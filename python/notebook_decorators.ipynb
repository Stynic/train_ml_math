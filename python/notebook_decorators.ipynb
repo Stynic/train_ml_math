{
 "cells": [
  {
   "cell_type": "markdown",
   "id": "9d0edd91-cc9e-4f78-97fc-c9699b0e11db",
   "metadata": {
    "tags": []
   },
   "source": [
    "## File for train with decorators in python"
   ]
  },
  {
   "cell_type": "markdown",
   "id": "ad6f1f90-6c7a-409a-81e4-47beb022f9c6",
   "metadata": {},
   "source": [
    "### simple decorator"
   ]
  },
  {
   "cell_type": "code",
   "execution_count": null,
   "id": "88fd6962-1a62-425f-a70d-9adb580c75f2",
   "metadata": {},
   "outputs": [
    {
     "name": "stdout",
     "output_type": "stream",
     "text": [
      "I wrap <function print_df at 0x7f84ec2ab700> object\n"
     ]
    }
   ],
   "source": [
    "import pandas as pd\n",
    "\n",
    "def decorator(function):\n",
    "    print(f'I wrap {function} object')\n",
    "    return print\n",
    "\n",
    "@decorator\n",
    "def print_df(data):\n",
    "    print('Hi')"
   ]
  },
  {
   "cell_type": "code",
   "execution_count": null,
   "id": "345ea5be-2de3-4d9a-ac60-aed55d2fd8be",
   "metadata": {},
   "outputs": [
    {
     "name": "stdout",
     "output_type": "stream",
     "text": [
      "I wrap the function <function cool at 0x7f84ec2a7550>\n"
     ]
    }
   ],
   "source": [
    "def decorator(function):\n",
    "    print(f'I wrap the function {function}')\n",
    "    return function\n",
    "\n",
    "\n",
    "@decorator\n",
    "def cool(string):\n",
    "    return f'cool {string}'\n"
   ]
  },
  {
   "cell_type": "code",
   "execution_count": null,
   "id": "16974e36-d424-4b56-b268-4f1e2c12db9f",
   "metadata": {},
   "outputs": [
    {
     "name": "stdout",
     "output_type": "stream",
     "text": [
      "cool python\n"
     ]
    }
   ],
   "source": [
    "print(cool('python'))"
   ]
  },
  {
   "cell_type": "code",
   "execution_count": null,
   "id": "89b3a638-978b-4657-a25b-7eded8fcdbae",
   "metadata": {},
   "outputs": [
    {
     "name": "stdout",
     "output_type": "stream",
     "text": [
      "   0\n",
      "0  1\n",
      "1  2\n",
      "2  3\n"
     ]
    }
   ],
   "source": [
    "data = pd.DataFrame([1, 2, 3])\n",
    "print_df(data)"
   ]
  },
  {
   "cell_type": "markdown",
   "id": "a4cc6aa4-1000-4da0-aa31-66ab8ff52589",
   "metadata": {},
   "source": [
    "## more difficult decorator"
   ]
  },
  {
   "cell_type": "code",
   "execution_count": null,
   "id": "e0490406-833a-4179-8b85-a4f940c06f58",
   "metadata": {},
   "outputs": [
    {
     "name": "stdin",
     "output_type": "stream",
     "text": [
      "Введите пароль:  12fge\n"
     ]
    }
   ],
   "source": [
    "def check(password):\n",
    "    def decorator(function):\n",
    "        if len(password) < 8:\n",
    "            return lambda: 'password length is at least 8 characters'\n",
    "        return function\n",
    "    return decorator\n",
    "\n",
    "\n",
    "@check(input('Введите пароль: '))\n",
    "def password():\n",
    "    return 'correct'"
   ]
  },
  {
   "cell_type": "code",
   "execution_count": null,
   "id": "0f419476-891e-41c1-a08c-d1730596b6d9",
   "metadata": {},
   "outputs": [
    {
     "name": "stdout",
     "output_type": "stream",
     "text": [
      "password length is at least 8 characters\n"
     ]
    }
   ],
   "source": [
    "print(password())"
   ]
  },
  {
   "cell_type": "code",
   "execution_count": null,
   "id": "1ac8240e-664c-4a9a-88d5-6f84c785a75f",
   "metadata": {},
   "outputs": [
    {
     "name": "stdout",
     "output_type": "stream",
     "text": [
      "I wrap the class <class '__main__.Cool'>\n"
     ]
    }
   ],
   "source": [
    "def decorator(class_link):\n",
    "    print(f'I wrap the class {class_link}')\n",
    "    return class_link\n",
    "\n",
    "@decorator\n",
    "class Cool:\n",
    "    def __init__(self, string):\n",
    "        self.string = string\n",
    "\n",
    "    def __str__(self):\n",
    "        return f'cool {self.string}'\n"
   ]
  },
  {
   "cell_type": "code",
   "execution_count": null,
   "id": "9d358a87-9aed-4a8c-8f99-46023face852",
   "metadata": {},
   "outputs": [
    {
     "name": "stdout",
     "output_type": "stream",
     "text": [
      "cool python\n"
     ]
    }
   ],
   "source": [
    "cool = Cool('python')\n",
    "print(cool)"
   ]
  },
  {
   "cell_type": "code",
   "execution_count": null,
   "id": "279d151e-d76c-4fd1-9167-8dc0bbae8d80",
   "metadata": {},
   "outputs": [
    {
     "data": {
      "text/plain": [
       "1"
      ]
     },
     "execution_count": 54,
     "metadata": {},
     "output_type": "execute_result"
    }
   ],
   "source": [
    "sum([1, -2, -5, 1, 4, 3, -3, 2])"
   ]
  },
  {
   "cell_type": "code",
   "execution_count": null,
   "id": "48072d58-e4d2-4e8f-b049-529b00f41a70",
   "metadata": {},
   "outputs": [
    {
     "name": "stdout",
     "output_type": "stream",
     "text": [
      "there is no balance, dude"
     ]
    }
   ],
   "source": [
    "digits = [1, -2, -5, 1, 4, 3, -3, 2]\n",
    "\n",
    "\n",
    "def balance(a):\n",
    "    def wrapper(f):\n",
    "        if sum(a) != 0:\n",
    "            return lambda: 'there is no balance, dude'\n",
    "        return f\n",
    "    return wrapper\n",
    "\n",
    "\n",
    "@balance(digits)\n",
    "def check():\n",
    "    return 'cool, we have balance'\n",
    "\n",
    "\n",
    "print(check(), end='')"
   ]
  },
  {
   "cell_type": "code",
   "execution_count": null,
   "id": "ca286b4e-9891-44f3-853a-1dc48d37a79d",
   "metadata": {},
   "outputs": [
    {
     "name": "stdout",
     "output_type": "stream",
     "text": [
      "ok,ok,okey fine!"
     ]
    }
   ],
   "source": [
    "class Ok:\n",
    "    def __str__(self):\n",
    "        return 'ok'\n",
    "\n",
    "ok = Ok()\n",
    "\n",
    "def wrapper(class_link):\n",
    "    print('ok', ok, sep=',', end=',')\n",
    "    return class_link\n",
    "\n",
    "@wrapper\n",
    "class Fine(Ok):\n",
    "    def __str__(self):\n",
    "        return super().__str__() + 'ey ' + 'fine!'\n",
    "\n",
    "fine = Fine()\n",
    "print(fine, end='')"
   ]
  },
  {
   "cell_type": "code",
   "execution_count": null,
   "id": "2ef8c5d9-e237-4649-9dd5-fcae22f59e08",
   "metadata": {},
   "outputs": [
    {
     "name": "stdout",
     "output_type": "stream",
     "text": [
      "okey fine!"
     ]
    }
   ],
   "source": []
  }
 ],
 "metadata": {
  "kernelspec": {
   "display_name": "Python 3 (ipykernel)",
   "language": "python",
   "name": "python3"
  },
  "language_info": {
   "codemirror_mode": {
    "name": "ipython",
    "version": 3
   },
   "file_extension": ".py",
   "mimetype": "text/x-python",
   "name": "python",
   "nbconvert_exporter": "python",
   "pygments_lexer": "ipython3",
   "version": "3.9.10"
  },
  "toc": {
   "base_numbering": 1,
   "nav_menu": {},
   "number_sections": true,
   "sideBar": true,
   "skip_h1_title": false,
   "title_cell": "Table of Contents",
   "title_sidebar": "Contents",
   "toc_cell": false,
   "toc_position": {},
   "toc_section_display": true,
   "toc_window_display": false
  }
 },
 "nbformat": 4,
 "nbformat_minor": 5
}
