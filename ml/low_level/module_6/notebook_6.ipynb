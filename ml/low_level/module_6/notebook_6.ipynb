{
 "cells": [
  {
   "cell_type": "markdown",
   "id": "fbc2a36a-2155-4d27-a68d-c28d67eb6149",
   "metadata": {
    "tags": []
   },
   "source": [
    "## The model 6 about Metrics for Classification model and Multiclassification"
   ]
  },
  {
   "cell_type": "markdown",
   "id": "d6846ed5-09f1-4711-b833-7adaefb348a4",
   "metadata": {},
   "source": [
    "## homework by matrix error and metrics for classification"
   ]
  },
  {
   "cell_type": "code",
   "execution_count": 108,
   "id": "6caf3c87-91e3-405c-8892-39be76dc2758",
   "metadata": {},
   "outputs": [],
   "source": [
    "import pandas as pd\n",
    "import numpy as np"
   ]
  },
  {
   "cell_type": "code",
   "execution_count": 109,
   "id": "19aa250a-c4e4-4b58-bda3-31b68ebf0a4e",
   "metadata": {
    "tags": []
   },
   "outputs": [],
   "source": [
    "from sklearn.model_selection import train_test_split\n",
    "\n",
    "from sklearn.neighbors import KNeighborsClassifier\n",
    "from sklearn.naive_bayes import GaussianNB\n",
    "from sklearn.tree import DecisionTreeClassifier\n",
    "from sklearn.linear_model import LogisticRegression"
   ]
  },
  {
   "cell_type": "code",
   "execution_count": 110,
   "id": "4470fb99-9d86-44b1-b4f4-0eb85f97428c",
   "metadata": {},
   "outputs": [],
   "source": [
    "from sklearn.metrics import confusion_matrix, \\\n",
    "                            recall_score, \\\n",
    "                            precision_score, \\\n",
    "                            accuracy_score, \\\n",
    "                            f1_score"
   ]
  },
  {
   "cell_type": "code",
   "execution_count": 111,
   "id": "a1df7d4c-dcb8-4b79-9325-5e7a795ca1a2",
   "metadata": {
    "tags": []
   },
   "outputs": [
    {
     "name": "stdout",
     "output_type": "stream",
     "text": [
      "\n",
      "Form: (891, 12)\n",
      "\n",
      "Name_features: Index(['PassengerId', 'Survived', 'Pclass', 'Name', 'Sex', 'Age', 'SibSp',\n",
      "       'Parch', 'Ticket', 'Fare', 'Cabin', 'Embarked'],\n",
      "      dtype='object')\n",
      "\n",
      "Type: PassengerId      int64\n",
      "Survived         int64\n",
      "Pclass           int64\n",
      "Name            object\n",
      "Sex             object\n",
      "Age            float64\n",
      "SibSp            int64\n",
      "Parch            int64\n",
      "Ticket          object\n",
      "Fare           float64\n",
      "Cabin           object\n",
      "Embarked        object\n",
      "dtype: object\n"
     ]
    },
    {
     "data": {
      "text/html": [
       "<div>\n",
       "<style scoped>\n",
       "    .dataframe tbody tr th:only-of-type {\n",
       "        vertical-align: middle;\n",
       "    }\n",
       "\n",
       "    .dataframe tbody tr th {\n",
       "        vertical-align: top;\n",
       "    }\n",
       "\n",
       "    .dataframe thead th {\n",
       "        text-align: right;\n",
       "    }\n",
       "</style>\n",
       "<table border=\"1\" class=\"dataframe\">\n",
       "  <thead>\n",
       "    <tr style=\"text-align: right;\">\n",
       "      <th></th>\n",
       "      <th>PassengerId</th>\n",
       "      <th>Survived</th>\n",
       "      <th>Pclass</th>\n",
       "      <th>Name</th>\n",
       "      <th>Sex</th>\n",
       "      <th>Age</th>\n",
       "      <th>SibSp</th>\n",
       "      <th>Parch</th>\n",
       "      <th>Ticket</th>\n",
       "      <th>Fare</th>\n",
       "      <th>Cabin</th>\n",
       "      <th>Embarked</th>\n",
       "    </tr>\n",
       "  </thead>\n",
       "  <tbody>\n",
       "    <tr>\n",
       "      <th>0</th>\n",
       "      <td>1</td>\n",
       "      <td>0</td>\n",
       "      <td>3</td>\n",
       "      <td>Braund, Mr. Owen Harris</td>\n",
       "      <td>male</td>\n",
       "      <td>22.0</td>\n",
       "      <td>1</td>\n",
       "      <td>0</td>\n",
       "      <td>A/5 21171</td>\n",
       "      <td>7.2500</td>\n",
       "      <td>NaN</td>\n",
       "      <td>S</td>\n",
       "    </tr>\n",
       "    <tr>\n",
       "      <th>1</th>\n",
       "      <td>2</td>\n",
       "      <td>1</td>\n",
       "      <td>1</td>\n",
       "      <td>Cumings, Mrs. John Bradley (Florence Briggs Th...</td>\n",
       "      <td>female</td>\n",
       "      <td>38.0</td>\n",
       "      <td>1</td>\n",
       "      <td>0</td>\n",
       "      <td>PC 17599</td>\n",
       "      <td>71.2833</td>\n",
       "      <td>C85</td>\n",
       "      <td>C</td>\n",
       "    </tr>\n",
       "    <tr>\n",
       "      <th>2</th>\n",
       "      <td>3</td>\n",
       "      <td>1</td>\n",
       "      <td>3</td>\n",
       "      <td>Heikkinen, Miss. Laina</td>\n",
       "      <td>female</td>\n",
       "      <td>26.0</td>\n",
       "      <td>0</td>\n",
       "      <td>0</td>\n",
       "      <td>STON/O2. 3101282</td>\n",
       "      <td>7.9250</td>\n",
       "      <td>NaN</td>\n",
       "      <td>S</td>\n",
       "    </tr>\n",
       "    <tr>\n",
       "      <th>3</th>\n",
       "      <td>4</td>\n",
       "      <td>1</td>\n",
       "      <td>1</td>\n",
       "      <td>Futrelle, Mrs. Jacques Heath (Lily May Peel)</td>\n",
       "      <td>female</td>\n",
       "      <td>35.0</td>\n",
       "      <td>1</td>\n",
       "      <td>0</td>\n",
       "      <td>113803</td>\n",
       "      <td>53.1000</td>\n",
       "      <td>C123</td>\n",
       "      <td>S</td>\n",
       "    </tr>\n",
       "    <tr>\n",
       "      <th>4</th>\n",
       "      <td>5</td>\n",
       "      <td>0</td>\n",
       "      <td>3</td>\n",
       "      <td>Allen, Mr. William Henry</td>\n",
       "      <td>male</td>\n",
       "      <td>35.0</td>\n",
       "      <td>0</td>\n",
       "      <td>0</td>\n",
       "      <td>373450</td>\n",
       "      <td>8.0500</td>\n",
       "      <td>NaN</td>\n",
       "      <td>S</td>\n",
       "    </tr>\n",
       "    <tr>\n",
       "      <th>5</th>\n",
       "      <td>6</td>\n",
       "      <td>0</td>\n",
       "      <td>3</td>\n",
       "      <td>Moran, Mr. James</td>\n",
       "      <td>male</td>\n",
       "      <td>NaN</td>\n",
       "      <td>0</td>\n",
       "      <td>0</td>\n",
       "      <td>330877</td>\n",
       "      <td>8.4583</td>\n",
       "      <td>NaN</td>\n",
       "      <td>Q</td>\n",
       "    </tr>\n",
       "    <tr>\n",
       "      <th>6</th>\n",
       "      <td>7</td>\n",
       "      <td>0</td>\n",
       "      <td>1</td>\n",
       "      <td>McCarthy, Mr. Timothy J</td>\n",
       "      <td>male</td>\n",
       "      <td>54.0</td>\n",
       "      <td>0</td>\n",
       "      <td>0</td>\n",
       "      <td>17463</td>\n",
       "      <td>51.8625</td>\n",
       "      <td>E46</td>\n",
       "      <td>S</td>\n",
       "    </tr>\n",
       "    <tr>\n",
       "      <th>7</th>\n",
       "      <td>8</td>\n",
       "      <td>0</td>\n",
       "      <td>3</td>\n",
       "      <td>Palsson, Master. Gosta Leonard</td>\n",
       "      <td>male</td>\n",
       "      <td>2.0</td>\n",
       "      <td>3</td>\n",
       "      <td>1</td>\n",
       "      <td>349909</td>\n",
       "      <td>21.0750</td>\n",
       "      <td>NaN</td>\n",
       "      <td>S</td>\n",
       "    </tr>\n",
       "    <tr>\n",
       "      <th>8</th>\n",
       "      <td>9</td>\n",
       "      <td>1</td>\n",
       "      <td>3</td>\n",
       "      <td>Johnson, Mrs. Oscar W (Elisabeth Vilhelmina Berg)</td>\n",
       "      <td>female</td>\n",
       "      <td>27.0</td>\n",
       "      <td>0</td>\n",
       "      <td>2</td>\n",
       "      <td>347742</td>\n",
       "      <td>11.1333</td>\n",
       "      <td>NaN</td>\n",
       "      <td>S</td>\n",
       "    </tr>\n",
       "    <tr>\n",
       "      <th>9</th>\n",
       "      <td>10</td>\n",
       "      <td>1</td>\n",
       "      <td>2</td>\n",
       "      <td>Nasser, Mrs. Nicholas (Adele Achem)</td>\n",
       "      <td>female</td>\n",
       "      <td>14.0</td>\n",
       "      <td>1</td>\n",
       "      <td>0</td>\n",
       "      <td>237736</td>\n",
       "      <td>30.0708</td>\n",
       "      <td>NaN</td>\n",
       "      <td>C</td>\n",
       "    </tr>\n",
       "  </tbody>\n",
       "</table>\n",
       "</div>"
      ],
      "text/plain": [
       "   PassengerId  Survived  Pclass  \\\n",
       "0            1         0       3   \n",
       "1            2         1       1   \n",
       "2            3         1       3   \n",
       "3            4         1       1   \n",
       "4            5         0       3   \n",
       "5            6         0       3   \n",
       "6            7         0       1   \n",
       "7            8         0       3   \n",
       "8            9         1       3   \n",
       "9           10         1       2   \n",
       "\n",
       "                                                Name     Sex   Age  SibSp  \\\n",
       "0                            Braund, Mr. Owen Harris    male  22.0      1   \n",
       "1  Cumings, Mrs. John Bradley (Florence Briggs Th...  female  38.0      1   \n",
       "2                             Heikkinen, Miss. Laina  female  26.0      0   \n",
       "3       Futrelle, Mrs. Jacques Heath (Lily May Peel)  female  35.0      1   \n",
       "4                           Allen, Mr. William Henry    male  35.0      0   \n",
       "5                                   Moran, Mr. James    male   NaN      0   \n",
       "6                            McCarthy, Mr. Timothy J    male  54.0      0   \n",
       "7                     Palsson, Master. Gosta Leonard    male   2.0      3   \n",
       "8  Johnson, Mrs. Oscar W (Elisabeth Vilhelmina Berg)  female  27.0      0   \n",
       "9                Nasser, Mrs. Nicholas (Adele Achem)  female  14.0      1   \n",
       "\n",
       "   Parch            Ticket     Fare Cabin Embarked  \n",
       "0      0         A/5 21171   7.2500   NaN        S  \n",
       "1      0          PC 17599  71.2833   C85        C  \n",
       "2      0  STON/O2. 3101282   7.9250   NaN        S  \n",
       "3      0            113803  53.1000  C123        S  \n",
       "4      0            373450   8.0500   NaN        S  \n",
       "5      0            330877   8.4583   NaN        Q  \n",
       "6      0             17463  51.8625   E46        S  \n",
       "7      1            349909  21.0750   NaN        S  \n",
       "8      2            347742  11.1333   NaN        S  \n",
       "9      0            237736  30.0708   NaN        C  "
      ]
     },
     "execution_count": 111,
     "metadata": {},
     "output_type": "execute_result"
    }
   ],
   "source": [
    "titanic = pd.read_csv('train.csv')\n",
    "print('\\nForm:', titanic.shape)\n",
    "print('\\nName_features:', titanic.columns)\n",
    "print('\\nType:', titanic.dtypes)\n",
    "titanic.head(10)"
   ]
  },
  {
   "cell_type": "markdown",
   "id": "c75ac7b4-34ad-4d56-ac07-b28f53e27a72",
   "metadata": {},
   "source": [
    "## Check data for NULL values"
   ]
  },
  {
   "cell_type": "code",
   "execution_count": 112,
   "id": "425be320-2e8c-4dd4-a0c4-dc53e1d11817",
   "metadata": {},
   "outputs": [
    {
     "data": {
      "text/plain": [
       "PassengerId      0\n",
       "Survived         0\n",
       "Pclass           0\n",
       "Name             0\n",
       "Sex              0\n",
       "Age            177\n",
       "SibSp            0\n",
       "Parch            0\n",
       "Ticket           0\n",
       "Fare             0\n",
       "Cabin          687\n",
       "Embarked         2\n",
       "dtype: int64"
      ]
     },
     "execution_count": 112,
     "metadata": {},
     "output_type": "execute_result"
    }
   ],
   "source": [
    "titanic.isnull().sum()"
   ]
  },
  {
   "cell_type": "code",
   "execution_count": 113,
   "id": "17ea8b46-5926-461c-8535-e250f72c31f5",
   "metadata": {},
   "outputs": [
    {
     "data": {
      "text/plain": [
       "Index(['PassengerId', 'Survived', 'Pclass', 'Name', 'Sex', 'Age', 'SibSp',\n",
       "       'Parch', 'Ticket', 'Fare', 'Cabin', 'Embarked'],\n",
       "      dtype='object')"
      ]
     },
     "execution_count": 113,
     "metadata": {},
     "output_type": "execute_result"
    }
   ],
   "source": [
    "titanic.columns"
   ]
  },
  {
   "cell_type": "code",
   "execution_count": 114,
   "id": "5f0699b2-429e-4419-ab9f-a02d6d1688f6",
   "metadata": {},
   "outputs": [],
   "source": [
    "def preprocess_data(data):\n",
    "    # fill all fills with none in column age\n",
    "    mean_age_sex = (data\n",
    "                    .groupby('Sex')\n",
    "                    .agg({'Age': 'mean'}))\n",
    "\n",
    "    mean_age_condition = np.where(data['Age'].isnull() == True,\n",
    "                                  mean_age_sex.loc[data['Sex'], 'Age'],\n",
    "                                  data['Age'])\n",
    "    data['Age'] = mean_age_condition\n",
    "    \n",
    "    # fill all with none columns cabin embarked\n",
    "    data.fillna('U', inplace=True)\n",
    "    data.drop(['PassengerId', 'Name', 'Ticket', 'Cabin'], axis=1, inplace=True)\n",
    "    data['Sex'].replace(['male', 'female'], [0, 1], inplace=True)\n",
    "    data['Embarked'].replace([\"U\", \"S\", \"C\", \"Q\" ], [0, 1, 2, 3], inplace=True)\n",
    "    \n",
    "    return data"
   ]
  },
  {
   "cell_type": "code",
   "execution_count": 115,
   "id": "063ffa53-83b9-48ed-979b-202ed53126f0",
   "metadata": {},
   "outputs": [],
   "source": [
    "titanic = preprocess_data(titanic)"
   ]
  },
  {
   "cell_type": "code",
   "execution_count": 116,
   "id": "26218750-17ba-4f93-968d-c2e8d61c113a",
   "metadata": {},
   "outputs": [],
   "source": [
    "y = titanic['Survived']\n",
    "titanic.drop(['Survived'], axis=1, inplace=True)"
   ]
  },
  {
   "cell_type": "code",
   "execution_count": 117,
   "id": "2c764e79-9549-4fc9-a8c8-7eb73bca61c6",
   "metadata": {},
   "outputs": [],
   "source": [
    "x_train, x_valid, y_train, y_valid = train_test_split(titanic, y, random_state=17)"
   ]
  },
  {
   "cell_type": "code",
   "execution_count": 118,
   "id": "4fb4934f-7914-4456-b915-4139fd651edc",
   "metadata": {},
   "outputs": [
    {
     "data": {
      "text/plain": [
       "((668, 7), (223, 7))"
      ]
     },
     "execution_count": 118,
     "metadata": {},
     "output_type": "execute_result"
    }
   ],
   "source": [
    "x_train.shape, x_valid.shape"
   ]
  },
  {
   "cell_type": "code",
   "execution_count": 119,
   "id": "2611d4fa-4f7a-4fe1-8072-c021a44ec242",
   "metadata": {
    "tags": []
   },
   "outputs": [
    {
     "data": {
      "text/plain": [
       "0    418\n",
       "1    250\n",
       "Name: Survived, dtype: int64"
      ]
     },
     "execution_count": 119,
     "metadata": {},
     "output_type": "execute_result"
    }
   ],
   "source": [
    "y_train.value_counts()"
   ]
  },
  {
   "cell_type": "code",
   "execution_count": 120,
   "id": "59bf1085-2668-4394-8a6a-28919d91c59e",
   "metadata": {},
   "outputs": [],
   "source": [
    "mean_fare_pclass_3 = (x_valid\n",
    "                    .query('Pclass == 3')\n",
    "                    ['Fare'].mean())"
   ]
  },
  {
   "cell_type": "code",
   "execution_count": 121,
   "id": "a73a33f3-3601-4f07-83ab-ecfa15b301e2",
   "metadata": {},
   "outputs": [],
   "source": [
    "y_test = pd.read_csv('gender_submission.csv')\n",
    "x_test = preprocess_data(pd.read_csv('test.csv'))\n",
    "\n",
    "x_test['Fare'].replace('U', mean_fare_pclass_3, inplace=True)"
   ]
  },
  {
   "cell_type": "code",
   "execution_count": 122,
   "id": "1cee79de-c3bf-4242-9db3-c5af98bc0caa",
   "metadata": {},
   "outputs": [],
   "source": [
    "y_test.drop('PassengerId', axis=1, inplace=True)"
   ]
  },
  {
   "cell_type": "code",
   "execution_count": 123,
   "id": "435d0499-806a-4de1-bf0d-da56de6a1a0b",
   "metadata": {},
   "outputs": [
    {
     "data": {
      "text/html": [
       "<div>\n",
       "<style scoped>\n",
       "    .dataframe tbody tr th:only-of-type {\n",
       "        vertical-align: middle;\n",
       "    }\n",
       "\n",
       "    .dataframe tbody tr th {\n",
       "        vertical-align: top;\n",
       "    }\n",
       "\n",
       "    .dataframe thead th {\n",
       "        text-align: right;\n",
       "    }\n",
       "</style>\n",
       "<table border=\"1\" class=\"dataframe\">\n",
       "  <thead>\n",
       "    <tr style=\"text-align: right;\">\n",
       "      <th></th>\n",
       "      <th>Survived</th>\n",
       "    </tr>\n",
       "  </thead>\n",
       "  <tbody>\n",
       "    <tr>\n",
       "      <th>0</th>\n",
       "      <td>0</td>\n",
       "    </tr>\n",
       "    <tr>\n",
       "      <th>1</th>\n",
       "      <td>1</td>\n",
       "    </tr>\n",
       "    <tr>\n",
       "      <th>2</th>\n",
       "      <td>0</td>\n",
       "    </tr>\n",
       "    <tr>\n",
       "      <th>3</th>\n",
       "      <td>0</td>\n",
       "    </tr>\n",
       "    <tr>\n",
       "      <th>4</th>\n",
       "      <td>1</td>\n",
       "    </tr>\n",
       "  </tbody>\n",
       "</table>\n",
       "</div>"
      ],
      "text/plain": [
       "   Survived\n",
       "0         0\n",
       "1         1\n",
       "2         0\n",
       "3         0\n",
       "4         1"
      ]
     },
     "execution_count": 123,
     "metadata": {},
     "output_type": "execute_result"
    }
   ],
   "source": [
    "y_test.head()"
   ]
  },
  {
   "cell_type": "code",
   "execution_count": 124,
   "id": "b64367b6-0cec-4719-b193-e2388508ddd2",
   "metadata": {},
   "outputs": [],
   "source": [
    "from sklearn.linear_model import LogisticRegressionCV"
   ]
  },
  {
   "cell_type": "code",
   "execution_count": 125,
   "id": "1e02bb2a-b750-482d-ab13-2e340af1c041",
   "metadata": {},
   "outputs": [],
   "source": [
    "knn_cls = KNeighborsClassifier(n_neighbors=5).fit(x_train, y_train)\n",
    "naive_cls = GaussianNB().fit(x_train, y_train)\n",
    "tree_cls = DecisionTreeClassifier().fit(x_train, y_train)\n",
    "\n",
    "\n",
    "log_cls = LogisticRegression(max_iter=200).fit(x_train, y_train)"
   ]
  },
  {
   "cell_type": "code",
   "execution_count": 126,
   "id": "b9c45a68-4bae-4a55-b45b-59a5ca29c71a",
   "metadata": {},
   "outputs": [
    {
     "name": "stdout",
     "output_type": "stream",
     "text": [
      "(223, 7)\n",
      "[0 1]\n",
      "[3 1 2]\n"
     ]
    },
    {
     "data": {
      "text/html": [
       "<div>\n",
       "<style scoped>\n",
       "    .dataframe tbody tr th:only-of-type {\n",
       "        vertical-align: middle;\n",
       "    }\n",
       "\n",
       "    .dataframe tbody tr th {\n",
       "        vertical-align: top;\n",
       "    }\n",
       "\n",
       "    .dataframe thead th {\n",
       "        text-align: right;\n",
       "    }\n",
       "</style>\n",
       "<table border=\"1\" class=\"dataframe\">\n",
       "  <thead>\n",
       "    <tr style=\"text-align: right;\">\n",
       "      <th></th>\n",
       "      <th>Pclass</th>\n",
       "      <th>Sex</th>\n",
       "      <th>Age</th>\n",
       "      <th>SibSp</th>\n",
       "      <th>Parch</th>\n",
       "      <th>Fare</th>\n",
       "      <th>Embarked</th>\n",
       "    </tr>\n",
       "  </thead>\n",
       "  <tbody>\n",
       "    <tr>\n",
       "      <th>890</th>\n",
       "      <td>3</td>\n",
       "      <td>0</td>\n",
       "      <td>32.0</td>\n",
       "      <td>0</td>\n",
       "      <td>0</td>\n",
       "      <td>7.7500</td>\n",
       "      <td>3</td>\n",
       "    </tr>\n",
       "    <tr>\n",
       "      <th>498</th>\n",
       "      <td>1</td>\n",
       "      <td>1</td>\n",
       "      <td>25.0</td>\n",
       "      <td>1</td>\n",
       "      <td>2</td>\n",
       "      <td>151.5500</td>\n",
       "      <td>1</td>\n",
       "    </tr>\n",
       "    <tr>\n",
       "      <th>664</th>\n",
       "      <td>3</td>\n",
       "      <td>0</td>\n",
       "      <td>20.0</td>\n",
       "      <td>1</td>\n",
       "      <td>0</td>\n",
       "      <td>7.9250</td>\n",
       "      <td>1</td>\n",
       "    </tr>\n",
       "    <tr>\n",
       "      <th>261</th>\n",
       "      <td>3</td>\n",
       "      <td>0</td>\n",
       "      <td>3.0</td>\n",
       "      <td>4</td>\n",
       "      <td>2</td>\n",
       "      <td>31.3875</td>\n",
       "      <td>1</td>\n",
       "    </tr>\n",
       "    <tr>\n",
       "      <th>716</th>\n",
       "      <td>1</td>\n",
       "      <td>1</td>\n",
       "      <td>38.0</td>\n",
       "      <td>0</td>\n",
       "      <td>0</td>\n",
       "      <td>227.5250</td>\n",
       "      <td>2</td>\n",
       "    </tr>\n",
       "  </tbody>\n",
       "</table>\n",
       "</div>"
      ],
      "text/plain": [
       "     Pclass  Sex   Age  SibSp  Parch      Fare  Embarked\n",
       "890       3    0  32.0      0      0    7.7500         3\n",
       "498       1    1  25.0      1      2  151.5500         1\n",
       "664       3    0  20.0      1      0    7.9250         1\n",
       "261       3    0   3.0      4      2   31.3875         1\n",
       "716       1    1  38.0      0      0  227.5250         2"
      ]
     },
     "execution_count": 126,
     "metadata": {},
     "output_type": "execute_result"
    }
   ],
   "source": [
    "print(x_valid.shape)\n",
    "print(x_valid['Sex'].unique())\n",
    "print(x_valid['Embarked'].unique())\n",
    "x_valid.head()"
   ]
  },
  {
   "cell_type": "code",
   "execution_count": 127,
   "id": "beed1251-1614-4a21-9793-e50a44fbde06",
   "metadata": {},
   "outputs": [
    {
     "data": {
      "text/html": [
       "<div>\n",
       "<style scoped>\n",
       "    .dataframe tbody tr th:only-of-type {\n",
       "        vertical-align: middle;\n",
       "    }\n",
       "\n",
       "    .dataframe tbody tr th {\n",
       "        vertical-align: top;\n",
       "    }\n",
       "\n",
       "    .dataframe thead th {\n",
       "        text-align: right;\n",
       "    }\n",
       "</style>\n",
       "<table border=\"1\" class=\"dataframe\">\n",
       "  <thead>\n",
       "    <tr style=\"text-align: right;\">\n",
       "      <th></th>\n",
       "      <th>Pclass</th>\n",
       "      <th>Sex</th>\n",
       "      <th>Age</th>\n",
       "      <th>SibSp</th>\n",
       "      <th>Parch</th>\n",
       "      <th>Fare</th>\n",
       "      <th>Embarked</th>\n",
       "    </tr>\n",
       "  </thead>\n",
       "  <tbody>\n",
       "  </tbody>\n",
       "</table>\n",
       "</div>"
      ],
      "text/plain": [
       "Empty DataFrame\n",
       "Columns: [Pclass, Sex, Age, SibSp, Parch, Fare, Embarked]\n",
       "Index: []"
      ]
     },
     "execution_count": 127,
     "metadata": {},
     "output_type": "execute_result"
    }
   ],
   "source": [
    "x_test.query('Fare == \"U\"')"
   ]
  },
  {
   "cell_type": "code",
   "execution_count": 128,
   "id": "c459b13a-6e5f-4d23-bec6-4bb3e15210fe",
   "metadata": {},
   "outputs": [
    {
     "data": {
      "text/plain": [
       "15.132541322314049"
      ]
     },
     "execution_count": 128,
     "metadata": {},
     "output_type": "execute_result"
    }
   ],
   "source": [
    "(x_valid\n",
    " .query('Pclass == 3')\n",
    " ['Fare'].mean())"
   ]
  },
  {
   "cell_type": "code",
   "execution_count": 129,
   "id": "0f392008-2d2c-4e03-b061-585e4b905549",
   "metadata": {},
   "outputs": [
    {
     "name": "stdout",
     "output_type": "stream",
     "text": [
      "(418, 7)\n",
      "[0 1]\n",
      "[3 1 2]\n",
      "[  7.8292       7.           9.6875       8.6625      12.2875\n",
      "   9.225        7.6292      29.           7.2292      24.15\n",
      "   7.8958      26.          82.2667      61.175       27.7208\n",
      "  12.35         7.225        7.925       59.4          3.1708\n",
      "  31.6833      61.3792     262.375       14.5         61.9792\n",
      "  30.5         21.6792      31.5         20.575       23.45\n",
      "  57.75         8.05         9.5         56.4958      13.4167\n",
      "  26.55         7.85        13.          52.5542      29.7\n",
      "   7.75        76.2917      15.9         60.          15.0333\n",
      "  23.         263.          15.5792      29.125        7.65\n",
      "  16.1         13.5          7.725       21.           7.8792\n",
      "  42.4         28.5375     211.5         25.7         15.2458\n",
      " 221.7792      10.7083      14.4542      13.9          7.775\n",
      "  52.           7.7958      78.85         7.8542      55.4417\n",
      "   8.5167      22.525        7.8208       8.7125      15.0458\n",
      "   7.7792      31.6792       7.2833       6.4375      16.7\n",
      "  75.2417      15.75         7.25        23.25        28.5\n",
      "  25.4667      46.9        151.55        18.          51.8625\n",
      "  83.1583      15.13254132  12.1833      31.3875       7.55\n",
      "  13.775        7.7333      22.025       50.4958      34.375\n",
      "   8.9625      39.          36.75        53.1        247.5208\n",
      "  16.          69.55        32.5        134.5         10.5\n",
      "   8.1125      15.5         14.4        227.525       25.7417\n",
      "   7.05        73.5         42.5        164.8667      13.8583\n",
      "  27.4458      15.1         65.           6.4958      71.2833\n",
      "  75.25       106.425       30.           7.8875      27.75\n",
      " 136.7792       9.325       17.4         12.7375       0.\n",
      "  20.2125      39.6          6.95        81.8583      41.5792\n",
      "  45.5          9.35        93.5         14.1083       7.575\n",
      " 135.6333     146.5208     211.3375      79.2         15.7417\n",
      "   7.5792     512.3292      63.3583      51.4792      15.55\n",
      "  37.0042      14.4583      39.6875      11.5         50.\n",
      "  12.875       21.075       39.4         20.25        47.1\n",
      "  13.8625       7.7208      90.         108.9         22.3583    ]\n"
     ]
    }
   ],
   "source": [
    "print(x_test.shape)\n",
    "print(x_test['Sex'].unique())\n",
    "print(x_test['Embarked'].unique())\n",
    "print(x_test['Fare'].unique())"
   ]
  },
  {
   "cell_type": "code",
   "execution_count": 130,
   "id": "2571afc2-d2a3-4619-b84d-b082d42154cb",
   "metadata": {},
   "outputs": [],
   "source": [
    "pred_knn = knn_cls.predict(x_valid)\n",
    "pred_naive = naive_cls.predict(x_valid)\n",
    "pred_tree = tree_cls.predict(x_valid)\n",
    "pred_log = log_cls.predict(x_valid)"
   ]
  },
  {
   "cell_type": "code",
   "execution_count": 131,
   "id": "f7167f0b-f391-4dc0-a277-5eee95425681",
   "metadata": {},
   "outputs": [],
   "source": [
    "test_pred_knn = knn_cls.predict(x_test)\n",
    "test_pred_naive = naive_cls.predict(x_test)\n",
    "test_pred_tree = tree_cls.predict(x_test)\n",
    "test_pred_log = log_cls.predict(x_test)"
   ]
  },
  {
   "cell_type": "code",
   "execution_count": 132,
   "id": "b3431445-ddbc-4a36-b10e-8756eecc99aa",
   "metadata": {},
   "outputs": [],
   "source": [
    "def f_score(actual, pred):\n",
    "    from sklearn.metrics import confusion_matrix\n",
    "    possitive, negative = confusion_matrix(actual, pred, labels=actual.unique()[::-1])\n",
    "    \n",
    "    def precision():\n",
    "        return possitive[0] / (possitive[0] + possitive[1])\n",
    "    def recall():\n",
    "        return possitive[0] / (possitive[0] + negative[0])\n",
    "    \n",
    "    f_score = 2 * ((precision()*recall()) / (precision()+recall()))\n",
    "    return f_score\n",
    "    "
   ]
  },
  {
   "cell_type": "code",
   "execution_count": 133,
   "id": "ccf483b0-7dbe-446d-b7ef-467231b0e864",
   "metadata": {},
   "outputs": [
    {
     "data": {
      "text/plain": [
       "array([1, 0])"
      ]
     },
     "execution_count": 133,
     "metadata": {},
     "output_type": "execute_result"
    }
   ],
   "source": [
    "y_valid.unique()[::-1]"
   ]
  },
  {
   "cell_type": "code",
   "execution_count": 134,
   "id": "f4632568-01d5-4e57-ae73-028b844caded",
   "metadata": {},
   "outputs": [
    {
     "name": "stdout",
     "output_type": "stream",
     "text": [
      "[46 46]\n",
      "[ 18 113]\n"
     ]
    }
   ],
   "source": [
    "possitive, negative = confusion_matrix(y_valid, pred_knn, labels=[1, 0])\n",
    "print(possitive)\n",
    "print(negative)"
   ]
  },
  {
   "cell_type": "code",
   "execution_count": 135,
   "id": "34429460-e4a7-42c6-b517-18939ec1680c",
   "metadata": {},
   "outputs": [
    {
     "data": {
      "text/plain": [
       "0.5897435897435898"
      ]
     },
     "execution_count": 135,
     "metadata": {},
     "output_type": "execute_result"
    }
   ],
   "source": [
    "f_score(y_valid, pred_knn)"
   ]
  },
  {
   "cell_type": "code",
   "execution_count": 136,
   "id": "8ebaf27d-541a-434e-91e4-47f5043689bb",
   "metadata": {},
   "outputs": [
    {
     "data": {
      "text/plain": [
       "0.5897435897435898"
      ]
     },
     "execution_count": 136,
     "metadata": {},
     "output_type": "execute_result"
    }
   ],
   "source": [
    "f1_score(y_valid, pred_knn)"
   ]
  },
  {
   "cell_type": "code",
   "execution_count": 137,
   "id": "8ebb3a3a-71fa-41bb-b207-799483d508dd",
   "metadata": {},
   "outputs": [
    {
     "data": {
      "text/plain": [
       "array([[ 46,  46],\n",
       "       [ 18, 113]])"
      ]
     },
     "execution_count": 137,
     "metadata": {},
     "output_type": "execute_result"
    }
   ],
   "source": [
    "confusion_matrix(y_valid, pred_knn, labels=[1, 0])"
   ]
  },
  {
   "cell_type": "code",
   "execution_count": 138,
   "id": "6de3bbef-8b2c-4274-bff7-78e2443e32cc",
   "metadata": {},
   "outputs": [
    {
     "name": "stdout",
     "output_type": "stream",
     "text": [
      "[[ 46  46]\n",
      " [ 18 113]]\n",
      "valid:\n",
      "knn precision: 0.71875\n",
      "knn recall: 0.5\n",
      "knn accuracy: 0.7130044843049327\n",
      "\n",
      "test:\n",
      "knn test recall: 0.3684210526315789\n",
      "knn test accuracy: 0.6172248803827751\n"
     ]
    }
   ],
   "source": [
    "# matrix confusion for K-nearest neighbor \n",
    "print(confusion_matrix(y_valid, pred_knn, labels=[1, 0]))\n",
    "print('valid:')\n",
    "print(f'knn precision: {precision_score(y_valid, pred_knn)}')\n",
    "print(f'knn recall: {recall_score(y_valid, pred_knn)}')\n",
    "print(f'knn accuracy: {accuracy_score(y_valid, pred_knn)}')\n",
    "\n",
    "print('\\ntest:')\n",
    "# print(confusion_matrix(y_test, pred_knn))\n",
    "print(f'knn test recall: {recall_score(y_test, test_pred_knn)}')\n",
    "print(f'knn test accuracy: {accuracy_score(y_test, test_pred_knn)}')"
   ]
  },
  {
   "cell_type": "code",
   "execution_count": 139,
   "id": "df66a49a-48cd-470b-8126-d192a537371c",
   "metadata": {},
   "outputs": [
    {
     "name": "stdout",
     "output_type": "stream",
     "text": [
      "valid:\n",
      "[[ 65  27]\n",
      " [ 20 111]]\n",
      "naive recall: 0.7065217391304348\n",
      "naive accuracy: 0.7892376681614349\n",
      "\n",
      "test:\n",
      "[[146   6]\n",
      " [ 25 241]]\n",
      "naive test recall: 0.9605263157894737\n",
      "naive test precision: 0.8538011695906432\n",
      "naive test accuracy: 0.9258373205741627\n"
     ]
    }
   ],
   "source": [
    "# matrix confusion for naive bayse classifier\n",
    "print('valid:')\n",
    "print(confusion_matrix(y_valid, pred_naive, labels=[1, 0]))\n",
    "print(f'naive recall: {recall_score(y_valid, pred_naive)}')\n",
    "print(f'naive accuracy: {accuracy_score(y_valid, pred_naive)}')\n",
    "\n",
    "print('\\ntest:')\n",
    "print(confusion_matrix(y_test, test_pred_naive, labels=[1, 0]))\n",
    "print(f'naive test recall: {recall_score(y_test, test_pred_naive)}')\n",
    "print(f'naive test precision: {precision_score(y_test, test_pred_naive)}')\n",
    "print(f'naive test accuracy: {accuracy_score(y_test, test_pred_naive)}')"
   ]
  },
  {
   "cell_type": "code",
   "execution_count": 140,
   "id": "be405a0a-42d9-4fa3-aac8-ebb2daa2131b",
   "metadata": {},
   "outputs": [
    {
     "name": "stdout",
     "output_type": "stream",
     "text": [
      "valid:\n",
      "[[ 67  25]\n",
      " [ 20 111]]\n",
      "tree recall: 0.7282608695652174\n",
      "tree accuracy: 0.7982062780269058\n",
      "\n",
      "test:\n",
      "[[102  50]\n",
      " [ 52 214]]\n",
      "tree test recall: 0.6710526315789473\n",
      "tree test accuracy: 0.7559808612440191\n"
     ]
    }
   ],
   "source": [
    "# matrix confusion for decision tree\n",
    "print('valid:')\n",
    "print(confusion_matrix(y_valid, pred_tree, labels=[1, 0]))\n",
    "print(f'tree recall: {recall_score(y_valid, pred_tree)}')\n",
    "print(f'tree accuracy: {accuracy_score(y_valid, pred_tree)}')\n",
    "\n",
    "print('\\ntest:')\n",
    "print(confusion_matrix(y_test, test_pred_tree, labels=[1, 0]))\n",
    "print(f'tree test recall: {recall_score(y_test, test_pred_tree)}')\n",
    "print(f'tree test accuracy: {accuracy_score(y_test, test_pred_tree)}')"
   ]
  },
  {
   "cell_type": "code",
   "execution_count": 141,
   "id": "5e9e47ab-5190-4da3-8066-d114103f88f6",
   "metadata": {},
   "outputs": [
    {
     "name": "stdout",
     "output_type": "stream",
     "text": [
      "valid:\n",
      "[[ 67  25]\n",
      " [ 20 111]]\n",
      "log recall: 0.6956521739130435\n",
      "log accuracy: 0.7937219730941704\n",
      "\n",
      "test:\n",
      "[[139  13]\n",
      " [ 13 253]]\n",
      "log test recall: 0.9144736842105263\n",
      "log test precision: 0.9144736842105263\n",
      "log test accuracy: 0.937799043062201\n"
     ]
    }
   ],
   "source": [
    "# matrix confusion for logistic regression\n",
    "print('valid:')\n",
    "print(confusion_matrix(y_valid, pred_tree, labels=[1, 0]))\n",
    "print(f'log recall: {recall_score(y_valid, pred_log)}')\n",
    "print(f'log accuracy: {accuracy_score(y_valid, pred_log)}')\n",
    "\n",
    "print('\\ntest:')\n",
    "print(confusion_matrix(y_test, test_pred_log, labels=[1, 0]))\n",
    "print(f'log test recall: {recall_score(y_test, test_pred_log)}')\n",
    "print(f'log test precision: {precision_score(y_test, test_pred_log)}')\n",
    "print(f'log test accuracy: {accuracy_score(y_test, test_pred_log)}')"
   ]
  },
  {
   "cell_type": "markdown",
   "id": "f5755b04-ce27-4f01-a27f-9a095c55934b",
   "metadata": {},
   "source": [
    "## homework two connected with metrics about F-score, AUC-ROC and logross"
   ]
  },
  {
   "cell_type": "code",
   "execution_count": 142,
   "id": "aab60dbc-6db8-4ffb-9043-928b2e633709",
   "metadata": {},
   "outputs": [],
   "source": [
    "from sklearn.metrics import classification_report, precision_recall_fscore_support"
   ]
  },
  {
   "cell_type": "code",
   "execution_count": 143,
   "id": "185ff182-5e55-492f-bce6-75d45f31898e",
   "metadata": {},
   "outputs": [
    {
     "name": "stdout",
     "output_type": "stream",
     "text": [
      "[[ 46  46]\n",
      " [ 18 113]]\n",
      "valid:\n",
      "knn precision: 0.71875\n",
      "knn recall: 0.5\n",
      "knn accuracy: 0.7130044843049327\n",
      "\n",
      "test:\n",
      "knn test recall: 0.3684210526315789\n",
      "knn test accuracy: 0.6172248803827751\n"
     ]
    }
   ],
   "source": [
    "# matrix confusion for K-nearest neighbor \n",
    "print(confusion_matrix(y_valid, pred_knn, labels=[1, 0]))\n",
    "print('valid:')\n",
    "print(f'knn precision: {precision_score(y_valid, pred_knn)}')\n",
    "print(f'knn recall: {recall_score(y_valid, pred_knn)}')\n",
    "print(f'knn accuracy: {accuracy_score(y_valid, pred_knn)}')\n",
    "\n",
    "print('\\ntest:')\n",
    "# print(confusion_matrix(y_test, pred_knn))\n",
    "print(f'knn test recall: {recall_score(y_test, test_pred_knn)}')\n",
    "print(f'knn test accuracy: {accuracy_score(y_test, test_pred_knn)}')"
   ]
  },
  {
   "cell_type": "code",
   "execution_count": null,
   "id": "6f8871a1-ca42-4fb6-91e2-5b78b3b0eb85",
   "metadata": {},
   "outputs": [],
   "source": []
  },
  {
   "cell_type": "code",
   "execution_count": 144,
   "id": "92cc74d9-9d1b-4bfc-a042-ce0fdbcc782a",
   "metadata": {},
   "outputs": [
    {
     "name": "stdout",
     "output_type": "stream",
     "text": [
      "              precision    recall  f1-score   support\n",
      "\n",
      "           1       0.72      0.50      0.59        92\n",
      "           0       0.71      0.86      0.78       131\n",
      "\n",
      "    accuracy                           0.71       223\n",
      "   macro avg       0.71      0.68      0.68       223\n",
      "weighted avg       0.71      0.71      0.70       223\n",
      "\n"
     ]
    }
   ],
   "source": [
    "print(classification_report(y_valid, pred_knn, labels=[1, 0]))"
   ]
  },
  {
   "cell_type": "code",
   "execution_count": 145,
   "id": "50b532ea-9c00-4667-a630-4b8dec227082",
   "metadata": {},
   "outputs": [
    {
     "data": {
      "text/plain": [
       "(array([0.71875   , 0.71069182]),\n",
       " array([0.5       , 0.86259542]),\n",
       " array([0.58974359, 0.77931034]),\n",
       " array([ 92, 131]))"
      ]
     },
     "execution_count": 145,
     "metadata": {},
     "output_type": "execute_result"
    }
   ],
   "source": [
    "# cool to way to use this method for calculate based metrics in classification\n",
    "precision_recall_fscore_support(y_valid, pred_knn, labels=[1, 0])"
   ]
  },
  {
   "cell_type": "code",
   "execution_count": 146,
   "id": "29be3976-60ef-4f69-9c28-361a64963bcc",
   "metadata": {},
   "outputs": [
    {
     "name": "stdout",
     "output_type": "stream",
     "text": [
      "              precision    recall  f1-score   support\n",
      "\n",
      "           1       0.78      0.70      0.74        92\n",
      "           0       0.80      0.86      0.83       131\n",
      "\n",
      "    accuracy                           0.79       223\n",
      "   macro avg       0.79      0.78      0.78       223\n",
      "weighted avg       0.79      0.79      0.79       223\n",
      "\n"
     ]
    }
   ],
   "source": [
    "# calculate all based metrics for log\n",
    "print(classification_report(y_valid, pred_log, labels=[1, 0]))"
   ]
  },
  {
   "cell_type": "code",
   "execution_count": 147,
   "id": "0fbbd23e-5e0f-4a17-b128-9392293c3e61",
   "metadata": {},
   "outputs": [],
   "source": [
    "from sklearn.model_selection import StratifiedKFold\n",
    "from sklearn.linear_model import LogisticRegressionCV\n",
    "import numpy as np"
   ]
  },
  {
   "cell_type": "code",
   "execution_count": 148,
   "id": "638cd1bb-eab6-427b-8e4c-c93ed9348b2f",
   "metadata": {},
   "outputs": [],
   "source": [
    "skf = StratifiedKFold(n_splits=5, random_state=17, shuffle=True)"
   ]
  },
  {
   "cell_type": "code",
   "execution_count": 149,
   "id": "c4f01e9d-b730-4a86-9613-1bd75580ea6e",
   "metadata": {},
   "outputs": [],
   "source": [
    "cs = np.logspace(-1, 2, num=500)"
   ]
  },
  {
   "cell_type": "code",
   "execution_count": 150,
   "id": "60ad9e7f-879e-49e2-a8b4-08f0d7362279",
   "metadata": {},
   "outputs": [
    {
     "name": "stderr",
     "output_type": "stream",
     "text": [
      "/home/stynic/.local/lib/python3.9/site-packages/sklearn/linear_model/_logistic.py:814: ConvergenceWarning: lbfgs failed to converge (status=1):\n",
      "STOP: TOTAL NO. of ITERATIONS REACHED LIMIT.\n",
      "\n",
      "Increase the number of iterations (max_iter) or scale the data as shown in:\n",
      "    https://scikit-learn.org/stable/modules/preprocessing.html\n",
      "Please also refer to the documentation for alternative solver options:\n",
      "    https://scikit-learn.org/stable/modules/linear_model.html#logistic-regression\n",
      "  n_iter_i = _check_optimize_result(\n",
      "/home/stynic/.local/lib/python3.9/site-packages/sklearn/linear_model/_logistic.py:814: ConvergenceWarning: lbfgs failed to converge (status=1):\n",
      "STOP: TOTAL NO. of ITERATIONS REACHED LIMIT.\n",
      "\n",
      "Increase the number of iterations (max_iter) or scale the data as shown in:\n",
      "    https://scikit-learn.org/stable/modules/preprocessing.html\n",
      "Please also refer to the documentation for alternative solver options:\n",
      "    https://scikit-learn.org/stable/modules/linear_model.html#logistic-regression\n",
      "  n_iter_i = _check_optimize_result(\n",
      "/home/stynic/.local/lib/python3.9/site-packages/sklearn/linear_model/_logistic.py:814: ConvergenceWarning: lbfgs failed to converge (status=1):\n",
      "STOP: TOTAL NO. of ITERATIONS REACHED LIMIT.\n",
      "\n",
      "Increase the number of iterations (max_iter) or scale the data as shown in:\n",
      "    https://scikit-learn.org/stable/modules/preprocessing.html\n",
      "Please also refer to the documentation for alternative solver options:\n",
      "    https://scikit-learn.org/stable/modules/linear_model.html#logistic-regression\n",
      "  n_iter_i = _check_optimize_result(\n",
      "/home/stynic/.local/lib/python3.9/site-packages/sklearn/linear_model/_logistic.py:814: ConvergenceWarning: lbfgs failed to converge (status=1):\n",
      "STOP: TOTAL NO. of ITERATIONS REACHED LIMIT.\n",
      "\n",
      "Increase the number of iterations (max_iter) or scale the data as shown in:\n",
      "    https://scikit-learn.org/stable/modules/preprocessing.html\n",
      "Please also refer to the documentation for alternative solver options:\n",
      "    https://scikit-learn.org/stable/modules/linear_model.html#logistic-regression\n",
      "  n_iter_i = _check_optimize_result(\n"
     ]
    }
   ],
   "source": [
    "model_log_cv = LogisticRegressionCV(Cs=c, cv=skf, scoring='roc_auc').fit(x_train, y_train)"
   ]
  },
  {
   "cell_type": "code",
   "execution_count": 151,
   "id": "0abf9947-c43b-42dc-8634-193764fdc1c2",
   "metadata": {},
   "outputs": [],
   "source": [
    "pred_log_cv = model_log_cv.predict(x_valid)"
   ]
  },
  {
   "cell_type": "code",
   "execution_count": 152,
   "id": "a376aab2-e00e-4c85-8876-2755bd6be331",
   "metadata": {},
   "outputs": [
    {
     "name": "stdout",
     "output_type": "stream",
     "text": [
      "              precision    recall  f1-score   support\n",
      "\n",
      "           1       0.78      0.70      0.74        92\n",
      "           0       0.80      0.86      0.83       131\n",
      "\n",
      "    accuracy                           0.79       223\n",
      "   macro avg       0.79      0.78      0.78       223\n",
      "weighted avg       0.79      0.79      0.79       223\n",
      "\n"
     ]
    }
   ],
   "source": [
    "# calculate all based metrics for log\n",
    "print(classification_report(y_valid, pred_log, labels=[1, 0]))"
   ]
  },
  {
   "cell_type": "code",
   "execution_count": 153,
   "id": "c3a063be-5aac-4e0c-8570-3c869207838f",
   "metadata": {},
   "outputs": [
    {
     "name": "stdout",
     "output_type": "stream",
     "text": [
      "              precision    recall  f1-score   support\n",
      "\n",
      "           1       0.78      0.70      0.74        92\n",
      "           0       0.80      0.86      0.83       131\n",
      "\n",
      "    accuracy                           0.79       223\n",
      "   macro avg       0.79      0.78      0.78       223\n",
      "weighted avg       0.79      0.79      0.79       223\n",
      "\n"
     ]
    }
   ],
   "source": [
    "print(classification_report(y_valid, pred_log_cv, labels=[1, 0]))"
   ]
  },
  {
   "cell_type": "code",
   "execution_count": 154,
   "id": "43add89a-2a24-4fdf-ad81-635b8dfdcda7",
   "metadata": {},
   "outputs": [],
   "source": [
    "import matplotlib.pyplot as plt"
   ]
  },
  {
   "cell_type": "code",
   "execution_count": 167,
   "id": "ea94a9c3-8f6d-47b6-aeab-0015c91bcf4f",
   "metadata": {},
   "outputs": [
    {
     "data": {
      "text/plain": [
       "array([[0.91916667, 0.91916667, 0.91940476, ..., 0.92297619, 0.92297619,\n",
       "        0.92297619],\n",
       "       [0.8475    , 0.8475    , 0.8475    , ..., 0.85202381, 0.85202381,\n",
       "        0.85202381],\n",
       "       [0.87857143, 0.87857143, 0.87904762, ..., 0.87809524, 0.87809524,\n",
       "        0.87809524],\n",
       "       [0.7246988 , 0.7246988 , 0.7246988 , ..., 0.72927711, 0.72927711,\n",
       "        0.72927711],\n",
       "       [0.86626506, 0.86650602, 0.86650602, ..., 0.86506024, 0.86506024,\n",
       "        0.86506024]])"
      ]
     },
     "execution_count": 167,
     "metadata": {},
     "output_type": "execute_result"
    }
   ],
   "source": [
    "model_log_cv.scores_[1]"
   ]
  },
  {
   "cell_type": "code",
   "execution_count": 191,
   "id": "accc8dd6-044f-4b0c-8309-bf9a4e42f6df",
   "metadata": {},
   "outputs": [
    {
     "data": {
      "text/plain": [
       "(500,)"
      ]
     },
     "execution_count": 191,
     "metadata": {},
     "output_type": "execute_result"
    }
   ],
   "source": [
    "model_log_cv.scores_[1].reshape(-1, 5).mean(axis=1)"
   ]
  },
  {
   "cell_type": "code",
   "execution_count": 196,
   "id": "bc8099c1-34a4-467d-8010-e394c7ff2f36",
   "metadata": {},
   "outputs": [
    {
     "data": {
      "text/plain": [
       "array([8.50863158])"
      ]
     },
     "execution_count": 196,
     "metadata": {},
     "output_type": "execute_result"
    }
   ],
   "source": [
    "model_log_cv.C_"
   ]
  },
  {
   "cell_type": "code",
   "execution_count": 198,
   "id": "f3114924-b609-4eae-ab32-f3cf6168cc5b",
   "metadata": {},
   "outputs": [
    {
     "data": {
      "text/plain": [
       "[<matplotlib.lines.Line2D at 0x7f995674b0a0>]"
      ]
     },
     "execution_count": 198,
     "metadata": {},
     "output_type": "execute_result"
    },
    {
     "data": {
      "image/png": "[encoded data removed]",
      "text/plain": [
       "<Figure size 432x288 with 1 Axes>"
      ]
     },
     "metadata": {
      "needs_background": "light"
     },
     "output_type": "display_data"
    }
   ],
   "source": [
    "plt.plot(cs, model_log_cv.scores_[1].reshape(-1, 5).mean(axis=1))"
   ]
  },
  {
   "cell_type": "code",
   "execution_count": 2,
   "id": "6b78df7a-ed56-4763-a1a5-5c8f7b3cac94",
   "metadata": {},
   "outputs": [],
   "source": [
    "# Work with multyclassification\n",
    "from sklearn.linear_model import LogisticRegression\n",
    "from sklearn.model_selection import train_test_split\n",
    "from sklearn.metrics import accuracy_score\n",
    "\n",
    "from sklearn.datasets import load_iris"
   ]
  },
  {
   "cell_type": "code",
   "execution_count": 44,
   "id": "96b73fff-a689-403a-a2ac-d5156ae73e09",
   "metadata": {},
   "outputs": [
    {
     "name": "stdout",
     "output_type": "stream",
     "text": [
      "Accuracy: 1.0\n"
     ]
    }
   ],
   "source": [
    "# look at the binary classification for one\n",
    "iris_data = load_iris()\n",
    "\n",
    "features_binary = iris_data['data'][:100]\n",
    "target_binary = iris_data['target'][:100]\n",
    "\n",
    "x_train, x_valid, y_train, y_valid = train_test_split(features_binary, target_binary, random_state=0)\n",
    "\n",
    "# train Logistic regression\n",
    "log_cls_model = LogisticRegression(solver='lbfgs', random_state=0).fit(x_train, y_train)\n",
    "pred_log = log_cls_model.predict(x_valid)\n",
    "print('Accuracy:', accuracy_score(y_valid, pred_log))"
   ]
  },
  {
   "cell_type": "code",
   "execution_count": 45,
   "id": "0aa4fd02-2e07-4bd0-99e1-631c554fbe84",
   "metadata": {},
   "outputs": [
    {
     "data": {
      "text/plain": [
       "array([0])"
      ]
     },
     "execution_count": 45,
     "metadata": {},
     "output_type": "execute_result"
    }
   ],
   "source": [
    "log_cls_model.predict([[.5, 0.2, 0.5, 0.2]])"
   ]
  },
  {
   "cell_type": "code",
   "execution_count": 48,
   "id": "ef3697b6-9f04-4cc7-91ef-5e5b9f4d36de",
   "metadata": {},
   "outputs": [
    {
     "data": {
      "text/plain": [
       "array([[9.98348945e-01, 1.65101425e-03, 4.02718428e-08]])"
      ]
     },
     "execution_count": 48,
     "metadata": {},
     "output_type": "execute_result"
    }
   ],
   "source": [
    "log_cls_model.predict_proba([[.5, .5, .5, .5]])"
   ]
  },
  {
   "cell_type": "code",
   "execution_count": 47,
   "id": "a9385785-a592-448d-88f5-c7adb1afff36",
   "metadata": {
    "tags": []
   },
   "outputs": [
    {
     "name": "stdout",
     "output_type": "stream",
     "text": [
      "Accuracy: 0.9736842105263158\n"
     ]
    },
    {
     "name": "stderr",
     "output_type": "stream",
     "text": [
      "/home/stynic/.local/lib/python3.9/site-packages/sklearn/linear_model/_logistic.py:814: ConvergenceWarning: lbfgs failed to converge (status=1):\n",
      "STOP: TOTAL NO. of ITERATIONS REACHED LIMIT.\n",
      "\n",
      "Increase the number of iterations (max_iter) or scale the data as shown in:\n",
      "    https://scikit-learn.org/stable/modules/preprocessing.html\n",
      "Please also refer to the documentation for alternative solver options:\n",
      "    https://scikit-learn.org/stable/modules/linear_model.html#logistic-regression\n",
      "  n_iter_i = _check_optimize_result(\n"
     ]
    }
   ],
   "source": [
    "# look at the multi-classification for one\n",
    "iris_data = load_iris()\n",
    "\n",
    "features_binary = iris_data['data']\n",
    "target_binary = iris_data['target']\n",
    "\n",
    "x_train, x_valid, y_train, y_valid = train_test_split(features_binary, target_binary, random_state=0)\n",
    "\n",
    "# train Logistic regression\n",
    "log_cls_model = LogisticRegression(random_state=0).fit(x_train, y_train)\n",
    "pred_log = log_cls_model.predict(x_valid)\n",
    "print('Accuracy:', accuracy_score(y_valid, pred_log))"
   ]
  },
  {
   "cell_type": "code",
   "execution_count": 6,
   "id": "d248631f-b89d-4966-ba53-854edef881e5",
   "metadata": {},
   "outputs": [
    {
     "data": {
      "text/plain": [
       "dict_keys(['data', 'target', 'frame', 'target_names', 'DESCR', 'feature_names', 'filename', 'data_module'])"
      ]
     },
     "execution_count": 6,
     "metadata": {},
     "output_type": "execute_result"
    }
   ],
   "source": [
    "load_iris().keys()"
   ]
  },
  {
   "cell_type": "markdown",
   "id": "50115cce-1a11-42ee-9834-ccf0a590e21f",
   "metadata": {},
   "source": [
    "## homework for multi-classification"
   ]
  },
  {
   "cell_type": "code",
   "execution_count": 105,
   "id": "6d37f664-5644-42e8-9175-6c1a83010b4a",
   "metadata": {},
   "outputs": [],
   "source": [
    "from sklearn.datasets import load_wine\n",
    "from sklearn.model_selection import train_test_split\n",
    "from sklearn.model_selection import StratifiedKFold, cross_val_score\n",
    "from sklearn.linear_model import LogisticRegression\n",
    "from sklearn.svm import SVC\n",
    "from sklearn.metrics import accuracy_score\n",
    "from sklearn.metrics import classification_report, confusion_matrix\n",
    "\n",
    "import pandas as pd\n",
    "import numpy as np"
   ]
  },
  {
   "cell_type": "code",
   "execution_count": 72,
   "id": "42616967-fbf5-4b96-9bd9-4cc84aa702da",
   "metadata": {},
   "outputs": [],
   "source": [
    "X = pd.DataFrame(load_wine()['data']).iloc[:, [9, 11, 12]]\n",
    "y = load_wine()['target']"
   ]
  },
  {
   "cell_type": "code",
   "execution_count": 73,
   "id": "9531fc7e-53c7-4403-9326-8185405b9d3a",
   "metadata": {},
   "outputs": [],
   "source": [
    "x_train, x_valid, y_train, y_valid = train_test_split(X, y, random_state=17)"
   ]
  },
  {
   "cell_type": "code",
   "execution_count": 74,
   "id": "49f6404e-c93e-40e0-8108-146578d61d40",
   "metadata": {},
   "outputs": [],
   "source": [
    "scv = StratifiedKFold(n_splits=5, random_state=17, shuffle=True)"
   ]
  },
  {
   "cell_type": "code",
   "execution_count": 117,
   "id": "c5b8f2c9-772b-4a80-b534-a0c061a092f3",
   "metadata": {},
   "outputs": [],
   "source": [
    "# train logistic regression\n",
    "log_cls_model = LogisticRegression(random_state=17, multi_class='ovr')\n",
    "# traind SVC\n",
    "svc_model = SVC(random_state=17, decision_function_shape='ovo')"
   ]
  },
  {
   "cell_type": "code",
   "execution_count": 118,
   "id": "539846cf-e7c0-4583-bd01-efb6c4be1ba4",
   "metadata": {},
   "outputs": [
    {
     "name": "stdout",
     "output_type": "stream",
     "text": [
      "log test: [0.96296296 0.85185185 0.92592593 0.92307692 0.88461538]\n",
      "log test mean: 0.9096866096866097\n",
      "\n",
      "\n",
      "svc test: [0.7037037  0.59259259 0.7037037  0.73076923 0.73076923]\n",
      "svc test mean: 0.6923076923076923\n"
     ]
    }
   ],
   "source": [
    "test_log_cv = cross_val_score(log_cls_model, x_train, y_train, cv=scv)\n",
    "print('log test:', test_log_cv)\n",
    "print('log test mean:', test_log_cv.mean())\n",
    "\n",
    "print('\\n')\n",
    "\n",
    "test_svc_cv = cross_val_score(svc_model, x_train, y_train, cv=scv)\n",
    "print('svc test:', test_svc_cv)\n",
    "print('svc test mean:', test_svc_cv.mean())"
   ]
  },
  {
   "cell_type": "code",
   "execution_count": 119,
   "id": "abb80ebe-db1c-445c-bd44-74cb893f5be7",
   "metadata": {},
   "outputs": [
    {
     "name": "stdout",
     "output_type": "stream",
     "text": [
      "log valid: [1.         0.88888889 1.         1.         0.88888889]\n",
      "log valid mean: 0.9555555555555555\n",
      "\n",
      "\n",
      "svc valid: [0.88888889 0.66666667 0.66666667 0.77777778 0.77777778]\n",
      "svc valid mean: 0.7555555555555554\n"
     ]
    }
   ],
   "source": [
    "valid_log_cv = cross_val_score(log_cls_model, x_valid, y_valid, cv=scv)\n",
    "print('log valid:', valid_log_cv)\n",
    "print('log valid mean:', valid_log_cv.mean())\n",
    "\n",
    "print('\\n')\n",
    "\n",
    "valid_svc_cv = cross_val_score(svc_model, x_valid, y_valid, cv=scv)\n",
    "print('svc valid:', valid_svc_cv)\n",
    "print('svc valid mean:', valid_svc_cv.mean())"
   ]
  },
  {
   "cell_type": "code",
   "execution_count": 120,
   "id": "6bb0b7b7-a0e3-410f-b044-e459cfa667ef",
   "metadata": {},
   "outputs": [
    {
     "name": "stdout",
     "output_type": "stream",
     "text": [
      "[[ 9  0  0]\n",
      " [ 0 19  0]\n",
      " [ 0  4 13]]\n",
      "              precision    recall  f1-score   support\n",
      "\n",
      "           0       1.00      1.00      1.00         9\n",
      "           1       0.83      1.00      0.90        19\n",
      "           2       1.00      0.76      0.87        17\n",
      "\n",
      "    accuracy                           0.91        45\n",
      "   macro avg       0.94      0.92      0.92        45\n",
      "weighted avg       0.93      0.91      0.91        45\n",
      "\n"
     ]
    }
   ],
   "source": [
    "pred_log = log_cls_model.fit(x_train, y_train).predict(x_valid)\n",
    "pred_svc = svc_model.fit(x_train, y_train).predict(x_valid)\n",
    "\n",
    "error_matrix_log = confusion_matrix(y_valid, pred_log)\n",
    "print(error_matrix_log)\n",
    "print(classification_report(y_valid, pred_log))"
   ]
  },
  {
   "cell_type": "code",
   "execution_count": 121,
   "id": "2ea463d7-7f34-432a-a865-3d79f2729d27",
   "metadata": {},
   "outputs": [
    {
     "name": "stdout",
     "output_type": "stream",
     "text": [
      "[[ 9  0  0]\n",
      " [ 0 19  0]\n",
      " [ 2 15  0]]\n",
      "              precision    recall  f1-score   support\n",
      "\n",
      "           0       0.82      1.00      0.90         9\n",
      "           1       0.56      1.00      0.72        19\n",
      "           2       0.00      0.00      0.00        17\n",
      "\n",
      "    accuracy                           0.62        45\n",
      "   macro avg       0.46      0.67      0.54        45\n",
      "weighted avg       0.40      0.62      0.48        45\n",
      "\n"
     ]
    },
    {
     "name": "stderr",
     "output_type": "stream",
     "text": [
      "/home/stynic/.local/lib/python3.9/site-packages/sklearn/metrics/_classification.py:1318: UndefinedMetricWarning: Precision and F-score are ill-defined and being set to 0.0 in labels with no predicted samples. Use `zero_division` parameter to control this behavior.\n",
      "  _warn_prf(average, modifier, msg_start, len(result))\n",
      "/home/stynic/.local/lib/python3.9/site-packages/sklearn/metrics/_classification.py:1318: UndefinedMetricWarning: Precision and F-score are ill-defined and being set to 0.0 in labels with no predicted samples. Use `zero_division` parameter to control this behavior.\n",
      "  _warn_prf(average, modifier, msg_start, len(result))\n",
      "/home/stynic/.local/lib/python3.9/site-packages/sklearn/metrics/_classification.py:1318: UndefinedMetricWarning: Precision and F-score are ill-defined and being set to 0.0 in labels with no predicted samples. Use `zero_division` parameter to control this behavior.\n",
      "  _warn_prf(average, modifier, msg_start, len(result))\n"
     ]
    }
   ],
   "source": [
    "error_matrix_svc = confusion_matrix(y_valid, pred_svc)\n",
    "print(error_matrix_svc)\n",
    "print(classification_report(y_valid, pred_svc))"
   ]
  },
  {
   "cell_type": "code",
   "execution_count": null,
   "id": "d3ff52f2-a645-4f44-90c1-0668fd5a815f",
   "metadata": {},
   "outputs": [],
   "source": []
  }
 ],
 "metadata": {
  "kernelspec": {
   "display_name": "Python 3 (ipykernel)",
   "language": "python",
   "name": "python3"
  },
  "language_info": {
   "codemirror_mode": {
    "name": "ipython",
    "version": 3
   },
   "file_extension": ".py",
   "mimetype": "text/x-python",
   "name": "python",
   "nbconvert_exporter": "python",
   "pygments_lexer": "ipython3",
   "version": "3.9.10"
  },
  "toc": {
   "base_numbering": 1,
   "nav_menu": {},
   "number_sections": true,
   "sideBar": true,
   "skip_h1_title": false,
   "title_cell": "Table of Contents",
   "title_sidebar": "Contents",
   "toc_cell": false,
   "toc_position": {},
   "toc_section_display": true,
   "toc_window_display": false
  },
  "toc-showcode": false,
  "toc-showmarkdowntxt": false
 },
 "nbformat": 4,
 "nbformat_minor": 5
}
