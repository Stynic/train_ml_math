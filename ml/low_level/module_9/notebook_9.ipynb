{
 "cells": [
  {
   "cell_type": "markdown",
   "id": "d6b4355a-e8e0-4032-b317-cefc55886a4d",
   "metadata": {},
   "source": [
    "## This module about methods of ensamble: Boosting and Stacking"
   ]
  },
  {
   "cell_type": "code",
   "execution_count": 42,
   "id": "84f06d5e-2ba8-4014-872f-b08a4eca5226",
   "metadata": {},
   "outputs": [],
   "source": [
    "import pandas as pd\n",
    "import numpy as np\n",
    "import matplotlib.pyplot as plt\n",
    "\n",
    "from sklearn.ensemble import AdaBoostClassifier, GradientBoostingClassifier\n",
    "from xgboost import XGBClassifier\n",
    "\n",
    "from sklearn.model_selection import cross_val_score"
   ]
  },
  {
   "cell_type": "code",
   "execution_count": 11,
   "id": "7e00378e-01ba-40ac-8fb4-14c08d1cd0de",
   "metadata": {},
   "outputs": [
    {
     "data": {
      "text/html": [
       "<div>\n",
       "<style scoped>\n",
       "    .dataframe tbody tr th:only-of-type {\n",
       "        vertical-align: middle;\n",
       "    }\n",
       "\n",
       "    .dataframe tbody tr th {\n",
       "        vertical-align: top;\n",
       "    }\n",
       "\n",
       "    .dataframe thead th {\n",
       "        text-align: right;\n",
       "    }\n",
       "</style>\n",
       "<table border=\"1\" class=\"dataframe\">\n",
       "  <thead>\n",
       "    <tr style=\"text-align: right;\">\n",
       "      <th></th>\n",
       "      <th>Survived</th>\n",
       "      <th>Pclass</th>\n",
       "      <th>Sex</th>\n",
       "      <th>Age</th>\n",
       "      <th>SibSp</th>\n",
       "      <th>Parch</th>\n",
       "      <th>Fare</th>\n",
       "      <th>Embarked</th>\n",
       "    </tr>\n",
       "  </thead>\n",
       "  <tbody>\n",
       "    <tr>\n",
       "      <th>0</th>\n",
       "      <td>0</td>\n",
       "      <td>3</td>\n",
       "      <td>1</td>\n",
       "      <td>22.0</td>\n",
       "      <td>1</td>\n",
       "      <td>0</td>\n",
       "      <td>7.2500</td>\n",
       "      <td>1</td>\n",
       "    </tr>\n",
       "    <tr>\n",
       "      <th>1</th>\n",
       "      <td>1</td>\n",
       "      <td>1</td>\n",
       "      <td>0</td>\n",
       "      <td>38.0</td>\n",
       "      <td>1</td>\n",
       "      <td>0</td>\n",
       "      <td>71.2833</td>\n",
       "      <td>2</td>\n",
       "    </tr>\n",
       "    <tr>\n",
       "      <th>2</th>\n",
       "      <td>1</td>\n",
       "      <td>3</td>\n",
       "      <td>0</td>\n",
       "      <td>26.0</td>\n",
       "      <td>0</td>\n",
       "      <td>0</td>\n",
       "      <td>7.9250</td>\n",
       "      <td>1</td>\n",
       "    </tr>\n",
       "    <tr>\n",
       "      <th>3</th>\n",
       "      <td>1</td>\n",
       "      <td>1</td>\n",
       "      <td>0</td>\n",
       "      <td>35.0</td>\n",
       "      <td>1</td>\n",
       "      <td>0</td>\n",
       "      <td>53.1000</td>\n",
       "      <td>1</td>\n",
       "    </tr>\n",
       "    <tr>\n",
       "      <th>4</th>\n",
       "      <td>0</td>\n",
       "      <td>3</td>\n",
       "      <td>1</td>\n",
       "      <td>35.0</td>\n",
       "      <td>0</td>\n",
       "      <td>0</td>\n",
       "      <td>8.0500</td>\n",
       "      <td>1</td>\n",
       "    </tr>\n",
       "  </tbody>\n",
       "</table>\n",
       "</div>"
      ],
      "text/plain": [
       "   Survived  Pclass  Sex   Age  SibSp  Parch     Fare  Embarked\n",
       "0         0       3    1  22.0      1      0   7.2500         1\n",
       "1         1       1    0  38.0      1      0  71.2833         2\n",
       "2         1       3    0  26.0      0      0   7.9250         1\n",
       "3         1       1    0  35.0      1      0  53.1000         1\n",
       "4         0       3    1  35.0      0      0   8.0500         1"
      ]
     },
     "execution_count": 11,
     "metadata": {},
     "output_type": "execute_result"
    }
   ],
   "source": [
    "titanic = pd.read_csv('titanic.csv')\n",
    "titanic.head()"
   ]
  },
  {
   "cell_type": "code",
   "execution_count": 19,
   "id": "b9523ac8-e261-475f-a77c-e6d2912d4fbc",
   "metadata": {},
   "outputs": [],
   "source": [
    "y = titanic['Survived']\n",
    "X = titanic.drop(columns='Survived')\n",
    "trees = [1] + list(range(10, 100, 10))"
   ]
  },
  {
   "cell_type": "code",
   "execution_count": 37,
   "id": "5f108bae-dd68-4022-b812-6abecf27f499",
   "metadata": {},
   "outputs": [],
   "source": [
    "def evaluate(model):\n",
    "    scoring = []\n",
    "    for tree in trees:\n",
    "        this_model = model(n_estimators=tree)\n",
    "        score = cross_val_score(this_model, X, y, \n",
    "                                scoring='roc_auc', cv=3)\n",
    "        scoring.append(score)\n",
    "    return np.asmatrix(scoring)"
   ]
  },
  {
   "cell_type": "code",
   "execution_count": 38,
   "id": "645b69f0-5862-47db-99de-dc4eb82edb75",
   "metadata": {},
   "outputs": [],
   "source": [
    "boosts = [AdaBoostClassifier, GradientBoostingClassifier, XGBClassifier]"
   ]
  },
  {
   "cell_type": "code",
   "execution_count": 58,
   "id": "7a46a704-e363-496d-ad66-3273f45c6eab",
   "metadata": {},
   "outputs": [
    {
     "name": "stdout",
     "output_type": "stream",
     "text": [
      "CPU times: user 1.61 s, sys: 9.83 ms, total: 1.62 s\n",
      "Wall time: 1.62 s\n"
     ]
    },
    {
     "data": {
      "text/plain": [
       "matrix([[0.77164222, 0.78587863, 0.7430975 ],\n",
       "        [0.79997124, 0.85557473, 0.86624005],\n",
       "        [0.80560349, 0.85092513, 0.88447896],\n",
       "        [0.79925223, 0.84766561, 0.88562937],\n",
       "        [0.80236794, 0.84502924, 0.87553926],\n",
       "        [0.80059438, 0.8420094 , 0.87553926],\n",
       "        [0.80040265, 0.84112262, 0.88050043],\n",
       "        [0.80136133, 0.84210526, 0.88203432],\n",
       "        [0.80299108, 0.84385486, 0.87340619],\n",
       "        [0.8038539 , 0.84450197, 0.87824753]])"
      ]
     },
     "execution_count": 58,
     "metadata": {},
     "output_type": "execute_result"
    }
   ],
   "source": [
    "%%time\n",
    "ada_scoring = evaluate(boosts[0])\n",
    "ada_scoring"
   ]
  },
  {
   "cell_type": "code",
   "execution_count": 59,
   "id": "f3497c9b-6bba-42cd-9278-44ae97e71684",
   "metadata": {},
   "outputs": [
    {
     "name": "stdout",
     "output_type": "stream",
     "text": [
      "CPU times: user 1.11 s, sys: 0 ns, total: 1.11 s\n",
      "Wall time: 1.1 s\n"
     ]
    },
    {
     "data": {
      "text/plain": [
       "matrix([[0.81430352, 0.84991851, 0.87491612],\n",
       "        [0.81763493, 0.87117726, 0.88677979],\n",
       "        [0.83247052, 0.87364586, 0.88179465],\n",
       "        [0.81703576, 0.8781996 , 0.8825616 ],\n",
       "        [0.81777874, 0.87407727, 0.88186655],\n",
       "        [0.81451922, 0.87117726, 0.88730707],\n",
       "        [0.81375228, 0.8694037 , 0.88349631],\n",
       "        [0.80998945, 0.86983511, 0.88117151],\n",
       "        [0.80982169, 0.87141693, 0.87635414],\n",
       "        [0.81341674, 0.87177644, 0.87501198]])"
      ]
     },
     "execution_count": 59,
     "metadata": {},
     "output_type": "execute_result"
    }
   ],
   "source": [
    "%%time\n",
    "gbc_scoring = evaluate(boosts[1])\n",
    "gbc_scoring"
   ]
  },
  {
   "cell_type": "code",
   "execution_count": 60,
   "id": "1f443e75-0310-4957-8727-1bf917b4d759",
   "metadata": {},
   "outputs": [
    {
     "name": "stdout",
     "output_type": "stream",
     "text": [
      "CPU times: user 27.3 s, sys: 138 ms, total: 27.5 s\n",
      "Wall time: 3.7 s\n"
     ]
    },
    {
     "data": {
      "text/plain": [
       "matrix([[0.8108283 , 0.86564088, 0.87714505],\n",
       "        [0.80967788, 0.89497651, 0.86614419],\n",
       "        [0.81658039, 0.88625252, 0.86156648],\n",
       "        [0.8127936 , 0.88191449, 0.8582111 ],\n",
       "        [0.81324897, 0.87800786, 0.85694085],\n",
       "        [0.81125971, 0.87865497, 0.85698878],\n",
       "        [0.81056466, 0.87760042, 0.85646151],\n",
       "        [0.81032499, 0.87386157, 0.86183012],\n",
       "        [0.80816796, 0.8758748 , 0.85881028],\n",
       "        [0.80792829, 0.87395743, 0.85665325]])"
      ]
     },
     "execution_count": 60,
     "metadata": {},
     "output_type": "execute_result"
    }
   ],
   "source": [
    "%%time\n",
    "xgb_scroing = evaluate(boosts[2])\n",
    "xgb_scroing"
   ]
  },
  {
   "cell_type": "code",
   "execution_count": 57,
   "id": "49deaa78-f4d0-4967-96eb-0eed756621c2",
   "metadata": {},
   "outputs": [
    {
     "data": {
      "image/png": "[encoded data removed]",
      "text/plain": [
       "<Figure size 432x288 with 1 Axes>"
      ]
     },
     "metadata": {
      "needs_background": "light"
     },
     "output_type": "display_data"
    }
   ],
   "source": [
    "plt.plot(trees, ada_scoring.mean(axis=1), label='AdaBoost')\n",
    "plt.plot(trees, gbc_scoring.mean(axis=1), label='GradientBoosting')\n",
    "plt.plot(trees, xgb_scroing.mean(axis=1), label='XgBoost')\n",
    "plt.grid(True)\n",
    "plt.legend()\n",
    "plt.xlabel('trees')\n",
    "plt.ylabel('Auc ROC')\n",
    "plt.show()"
   ]
  },
  {
   "cell_type": "code",
   "execution_count": null,
   "id": "4eb989c5-490b-4c26-ab83-2695aa7b4124",
   "metadata": {},
   "outputs": [],
   "source": []
  }
 ],
 "metadata": {
  "kernelspec": {
   "display_name": "Python 3 (ipykernel)",
   "language": "python",
   "name": "python3"
  },
  "language_info": {
   "codemirror_mode": {
    "name": "ipython",
    "version": 3
   },
   "file_extension": ".py",
   "mimetype": "text/x-python",
   "name": "python",
   "nbconvert_exporter": "python",
   "pygments_lexer": "ipython3",
   "version": "3.9.10"
  },
  "toc": {
   "base_numbering": 1,
   "nav_menu": {},
   "number_sections": true,
   "sideBar": true,
   "skip_h1_title": false,
   "title_cell": "Table of Contents",
   "title_sidebar": "Contents",
   "toc_cell": false,
   "toc_position": {},
   "toc_section_display": true,
   "toc_window_display": false
  },
  "toc-showcode": false,
  "toc-showmarkdowntxt": false
 },
 "nbformat": 4,
 "nbformat_minor": 5
}
