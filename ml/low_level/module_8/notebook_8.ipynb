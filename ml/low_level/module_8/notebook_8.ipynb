{
 "cells": [
  {
   "cell_type": "markdown",
   "id": "82e2ac38-7e5c-49d6-812c-7f94bd4c1305",
   "metadata": {},
   "source": [
    "## This notebook for solve task about decrease dimensional"
   ]
  },
  {
   "cell_type": "code",
   "execution_count": 16,
   "id": "ba866e23-90d5-4c41-bfd9-70a28890f985",
   "metadata": {},
   "outputs": [],
   "source": [
    "import numpy as np\n",
    "import matplotlib.pyplot as plt\n",
    "import pandas as pd\n",
    "import pickle\n",
    "\n",
    "from sklearn.decomposition import PCA\n",
    "\n",
    "with open('eigen.pkl', 'br') as file:\n",
    "    X = pickle.load(file)"
   ]
  },
  {
   "cell_type": "code",
   "execution_count": 17,
   "id": "9938fb9a-517b-4371-babe-f4eaec7fd103",
   "metadata": {},
   "outputs": [
    {
     "data": {
      "text/plain": [
       "<function matplotlib.pyplot.show(close=None, block=None)>"
      ]
     },
     "execution_count": 17,
     "metadata": {},
     "output_type": "execute_result"
    },
    {
     "data": {
      "image/png": "[encoded data removed]",
      "text/plain": [
       "<Figure size 432x288 with 1 Axes>"
      ]
     },
     "metadata": {
      "needs_background": "light"
     },
     "output_type": "display_data"
    }
   ],
   "source": [
    "plt.scatter(X[:,0], X[:,1], marker='x')\n",
    "plt.axis('equal')\n",
    "plt.show"
   ]
  },
  {
   "cell_type": "code",
   "execution_count": 25,
   "id": "56f3a0fe-f4da-4514-9a10-06f538842d47",
   "metadata": {},
   "outputs": [
    {
     "data": {
      "text/plain": [
       "array([[5.28331909],\n",
       "       [3.84284422],\n",
       "       [5.88859559],\n",
       "       [8.07409089],\n",
       "       [4.16799935],\n",
       "       [3.8592636 ],\n",
       "       [4.17040423],\n",
       "       [3.86884344],\n",
       "       [5.65483844],\n",
       "       [3.16278418]])"
      ]
     },
     "execution_count": 25,
     "metadata": {},
     "output_type": "execute_result"
    }
   ],
   "source": [
    "pca = PCA(n_components=1).fit(X)\n",
    "X_pca = pca.transform(X)\n",
    "X_pca[:10]"
   ]
  },
  {
   "cell_type": "code",
   "execution_count": null,
   "id": "f6e7f41b-e858-414b-92dc-96e5642d1e0f",
   "metadata": {},
   "outputs": [
    {
     "data": {
      "text/plain": [
       "array([[-3.        ,  1.1474225 ],\n",
       "       [-2.79591837,  2.91847142],\n",
       "       [-2.59183673, -0.05209246],\n",
       "       [-2.3877551 , -3.2127219 ],\n",
       "       [-2.18367347,  1.91180977],\n",
       "       [-1.97959184,  2.14358145],\n",
       "       [-1.7755102 ,  1.53225988],\n",
       "       [-1.57142857,  1.75427292],\n",
       "       [-1.36734694, -0.86299657],\n",
       "       [-1.16326531,  2.33830441]])"
      ]
     },
     "execution_count": 26,
     "metadata": {},
     "output_type": "execute_result"
    }
   ],
   "source": [
    "X[:10]"
   ]
  },
  {
   "cell_type": "code",
   "execution_count": 27,
   "id": "f0ad6511-ad2e-47a4-a405-7b1ce6ccc953",
   "metadata": {},
   "outputs": [],
   "source": [
    "X_new = pca.inverse_transform(X_pca)"
   ]
  },
  {
   "cell_type": "code",
   "execution_count": 41,
   "id": "6449a379-ca90-4948-b797-3b7c3558088a",
   "metadata": {},
   "outputs": [
    {
     "data": {
      "image/png": "[encoded data removed]",
      "text/plain": [
       "<Figure size 432x288 with 1 Axes>"
      ]
     },
     "metadata": {
      "needs_background": "light"
     },
     "output_type": "display_data"
    }
   ],
   "source": [
    "plt.plot(X[:, 0], X[:, 1], 'o', alpha=0.3)\n",
    "plt.plot(X_new[:, 0], X_new[:, 1], 'x', alpha=0.7)\n",
    "plt.axis('equal')\n",
    "plt.show()"
   ]
  },
  {
   "cell_type": "code",
   "execution_count": null,
   "id": "e99009f3-a638-4cc7-afe0-59119250bd00",
   "metadata": {},
   "outputs": [],
   "source": []
  }
 ],
 "metadata": {
  "kernelspec": {
   "display_name": "Python 3 (ipykernel)",
   "language": "python",
   "name": "python3"
  },
  "language_info": {
   "codemirror_mode": {
    "name": "ipython",
    "version": 3
   },
   "file_extension": ".py",
   "mimetype": "text/x-python",
   "name": "python",
   "nbconvert_exporter": "python",
   "pygments_lexer": "ipython3",
   "version": "3.9.10"
  },
  "toc": {
   "base_numbering": 1,
   "nav_menu": {},
   "number_sections": true,
   "sideBar": true,
   "skip_h1_title": false,
   "title_cell": "Table of Contents",
   "title_sidebar": "Contents",
   "toc_cell": false,
   "toc_position": {},
   "toc_section_display": true,
   "toc_window_display": false
  },
  "toc-showcode": false,
  "toc-showmarkdowntxt": false
 },
 "nbformat": 4,
 "nbformat_minor": 5
}
