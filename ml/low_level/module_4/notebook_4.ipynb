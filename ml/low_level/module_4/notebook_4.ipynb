{
 "cells": [
  {
   "cell_type": "markdown",
   "id": "ead26605",
   "metadata": {},
   "source": [
    "# This is a notebook for module 4 - ML - Regalization, Ridge/Lasson Regression\n",
    "\n",
    "### Домашняя работа\n",
    "\n",
    "**Задание простого уровня** Загрузите данные из файла `non_linear.csv` и сгенерируйте данные до степени *degree = 8* включительно. Обучите модель `sklearn.linear_model.Lasso` и модель `sklearn.linear_model.Ridge` на полученных данных, используйте коэффициент регуляризации $\\alpha=0.8$ для обеих моделей. Постройте два столбчатых графика, на которых отобразите величину коэффициентов для Ridge регрессии и Lasso регрессии в виде столбиков.\n",
    "\n",
    "Пример графиков для 3-й степени (просто для примера, у вас может по-другому выглядеть). Какой можно сделать в вывод по величине коэффициентов?:\n",
    "![coeff_example](https://pp.userapi.com/c850136/v850136613/19282c/OfwruuxOkPw.jpg)"
   ]
  },
  {
   "cell_type": "code",
   "execution_count": null,
   "id": "7fb20da4",
   "metadata": {},
   "outputs": [],
   "source": []
  },
  {
   "cell_type": "code",
   "execution_count": null,
   "id": "0a9d5be5",
   "metadata": {},
   "outputs": [],
   "source": []
  },
  {
   "cell_type": "code",
   "execution_count": 6,
   "id": "aed19333",
   "metadata": {},
   "outputs": [
    {
     "data": {
      "text/plain": [
       "<matplotlib.legend.Legend at 0x7f263cf53940>"
      ]
     },
     "execution_count": 6,
     "metadata": {},
     "output_type": "execute_result"
    },
    {
     "data": {
      "image/png": "[encoded data removed]",
      "text/plain": [
       "<Figure size 1008x648 with 2 Axes>"
      ]
     },
     "metadata": {
      "needs_background": "light"
     },
     "output_type": "display_data"
    }
   ],
   "source": [
    "figure, (ax1, ax2) = plt.subplots(nrows=1, ncols=2, figsize=(14, 9))\n",
    "box_plot1 = ax1.boxplot([df['area'], df['price']],\n",
    "                        vert=True,\n",
    "                        patch_artist=True,\n",
    "                        labels=['area', 'price'])\n",
    "plt.legend('Boxplot for feater Area and price')"
   ]
  },
  {
   "cell_type": "code",
   "execution_count": 7,
   "id": "4e8b31ed",
   "metadata": {},
   "outputs": [
    {
     "data": {
      "text/plain": [
       "0     50\n",
       "1     60\n",
       "2     70\n",
       "3    100\n",
       "Name: area, dtype: int64"
      ]
     },
     "execution_count": 7,
     "metadata": {},
     "output_type": "execute_result"
    }
   ],
   "source": [
    "df['area']"
   ]
  },
  {
   "cell_type": "code",
   "execution_count": 8,
   "id": "64176d78",
   "metadata": {
    "scrolled": true
   },
   "outputs": [
    {
     "data": {
      "text/plain": [
       "<AxesSubplot:>"
      ]
     },
     "execution_count": 8,
     "metadata": {},
     "output_type": "execute_result"
    },
    {
     "data": {
      "image/png": "[encoded data removed]",
      "text/plain": [
       "<Figure size 432x288 with 1 Axes>"
      ]
     },
     "metadata": {
      "needs_background": "light"
     },
     "output_type": "display_data"
    }
   ],
   "source": [
    "df['area'].hist()"
   ]
  },
  {
   "cell_type": "code",
   "execution_count": 9,
   "id": "8ad178da",
   "metadata": {
    "scrolled": true
   },
   "outputs": [
    {
     "data": {
      "image/png": "[encoded data removed]",
      "text/plain": [
       "<Figure size 432x288 with 1 Axes>"
      ]
     },
     "metadata": {
      "needs_background": "light"
     },
     "output_type": "display_data"
    }
   ],
   "source": [
    "# visulation our features\n",
    "plt.scatter(df['area'], df['price'])\n",
    "\n",
    "margin = 10\n",
    "X_min = X[:, 1].min()-margin\n",
    "X_max = X[:, 1].max()+margin\n",
    "X_support = np.linspace(X_min, X_max, num=100)\n",
    "\n",
    "Y_model = w1 + w2 * X_support\n",
    "\n",
    "plt.plot(X_support, Y_model)\n",
    "plt.show()"
   ]
  },
  {
   "cell_type": "code",
   "execution_count": 10,
   "id": "473c74e6",
   "metadata": {},
   "outputs": [
    {
     "data": {
      "text/latex": [
       "$\\displaystyle - 17.5 x_{0} + 0.714285714285714 x_{1}$"
      ],
      "text/plain": [
       "-17.5*x0 + 0.714285714285714*x1"
      ]
     },
     "execution_count": 10,
     "metadata": {},
     "output_type": "execute_result"
    }
   ],
   "source": [
    "x1, x0 = symbols('x1, x0')\n",
    "yf = w1 * x0 + w2 * x1\n",
    "yf"
   ]
  },
  {
   "cell_type": "code",
   "execution_count": 11,
   "id": "74ff02fc",
   "metadata": {},
   "outputs": [],
   "source": [
    "from sklearn.datasets import load_boston\n",
    "data_boston = load_boston()\n",
    "features = data_boston.data\n",
    "y = data_boston.target"
   ]
  },
  {
   "cell_type": "code",
   "execution_count": 13,
   "id": "b759f7bd",
   "metadata": {
    "scrolled": true
   },
   "outputs": [
    {
     "data": {
      "text/plain": [
       "(506, 13)"
      ]
     },
     "execution_count": 13,
     "metadata": {},
     "output_type": "execute_result"
    }
   ],
   "source": [
    "features.shape"
   ]
  },
  {
   "cell_type": "code",
   "execution_count": 14,
   "id": "569c211a",
   "metadata": {},
   "outputs": [
    {
     "data": {
      "text/plain": [
       "(506,)"
      ]
     },
     "execution_count": 14,
     "metadata": {},
     "output_type": "execute_result"
    }
   ],
   "source": [
    "y.shape"
   ]
  },
  {
   "cell_type": "code",
   "execution_count": 15,
   "id": "90ebda0d",
   "metadata": {},
   "outputs": [],
   "source": [
    "def ndprint(a, format_string='{0:.2f}'):\n",
    "    \"\"\"Функция, которая распечатывает список в красивом виде\"\"\"\n",
    "    return [format_string.format(v, i) for i, v in enumerate(a)]"
   ]
  },
  {
   "cell_type": "code",
   "execution_count": 16,
   "id": "9f2d6622",
   "metadata": {},
   "outputs": [
    {
     "name": "stdout",
     "output_type": "stream",
     "text": [
      "Аналитически определённые коэффициенты \n",
      "['-0.09', '0.05', '-0.00', '2.85', '-2.87', '5.93', '-0.01', '-0.97', '0.17', '-0.01', '-0.39', '0.01', '-0.42']\n"
     ]
    }
   ],
   "source": [
    "from numpy.linalg import inv\n",
    "\n",
    "# вычисляем к-ты линейной регрессии\n",
    "w_analytic = inv(\n",
    "    features.T.dot(features)\n",
    ").dot(\n",
    "    features.T\n",
    ").dot(\n",
    "    y\n",
    ")\n",
    "print(f\"Аналитически определённые коэффициенты \\n{ndprint(w_analytic)}\")"
   ]
  },
  {
   "cell_type": "code",
   "execution_count": 17,
   "id": "27e64364",
   "metadata": {},
   "outputs": [
    {
     "name": "stdout",
     "output_type": "stream",
     "text": [
      "Коэффициенты, вычисленные моделью sklearn \n",
      " ['-0.11', '0.05', '0.02', '2.69', '-17.77', '3.81', '0.00', '-1.48', '0.31', '-0.01', '-0.95', '0.01', '-0.52']\n"
     ]
    }
   ],
   "source": [
    "from sklearn.linear_model import LinearRegression\n",
    "\n",
    "# обучаем модель \"из коробки\"\n",
    "reg = LinearRegression().fit(features, y)\n",
    "print(f\"Коэффициенты, вычисленные моделью sklearn \\n {ndprint(reg.coef_)}\")"
   ]
  },
  {
   "cell_type": "code",
   "execution_count": 56,
   "id": "9689be7b-7c06-4274-86fc-d6f06f8df2a4",
   "metadata": {},
   "outputs": [],
   "source": [
    "import numpy as np\n",
    "import pandas as pd\n",
    "import matplotlib.pyplot as plt\n",
    "from sklearn.linear_model import Lasso, Ridge\n",
    "from sklearn.metrics import mean_squared_error\n",
    "from sklearn.model_selection import train_test_split"
   ]
  },
  {
   "cell_type": "code",
   "execution_count": 57,
   "id": "af8b9be7-1cf3-4c6c-9a10-309164e230b3",
   "metadata": {},
   "outputs": [],
   "source": [
    "def generate_degrees(source_data: list, degree: int):\n",
    "    \"\"\"Функция, которая принимает на вход одномерный массив, а возвращает n-мерный\n",
    "    Для каждой степени от 1 до  degree возводим x в эту степень\n",
    "    \"\"\"\n",
    "    return np.array([\n",
    "          source_data**n for n in range(1, degree + 1)  \n",
    "    ]).T"
   ]
  },
  {
   "cell_type": "code",
   "execution_count": 58,
   "id": "2d48adfb-7915-44c1-bcc7-4385b0a4872d",
   "metadata": {
    "tags": []
   },
   "outputs": [],
   "source": [
    "data = pd.read_csv('3.10_non_linear.csv', sep=',')\n",
    "data.head()\n",
    "X = generate_degrees(data['x_train'], degree=8)\n",
    "y = data['y_train']"
   ]
  },
  {
   "cell_type": "code",
   "execution_count": 59,
   "id": "1ce5f20f-c664-4fe2-b64f-a13300db5f59",
   "metadata": {},
   "outputs": [
    {
     "data": {
      "text/plain": [
       "((50, 8), (50,))"
      ]
     },
     "execution_count": 59,
     "metadata": {},
     "output_type": "execute_result"
    }
   ],
   "source": [
    "X.shape, y.shape"
   ]
  },
  {
   "cell_type": "code",
   "execution_count": 60,
   "id": "188f1bc4-efe0-4359-b845-b63724026291",
   "metadata": {},
   "outputs": [],
   "source": [
    "x_train, x_test, y_train, y_test = train_test_split(X, y, test_size=0.2, random_state=10)"
   ]
  },
  {
   "cell_type": "code",
   "execution_count": 61,
   "id": "6c5fe8a0-26c5-4dfa-a9cc-727131d97569",
   "metadata": {},
   "outputs": [
    {
     "data": {
      "text/plain": [
       "((40, 8), (10, 8))"
      ]
     },
     "execution_count": 61,
     "metadata": {},
     "output_type": "execute_result"
    }
   ],
   "source": [
    "x_train.shape, x_test.shape"
   ]
  },
  {
   "cell_type": "code",
   "execution_count": 62,
   "id": "38ea5442-88ad-4839-a872-09c54fcc04c2",
   "metadata": {},
   "outputs": [
    {
     "name": "stderr",
     "output_type": "stream",
     "text": [
      "/home/stynic/.local/lib/python3.9/site-packages/sklearn/linear_model/_coordinate_descent.py:647: ConvergenceWarning: Objective did not converge. You might want to increase the number of iterations, check the scale of the features or consider increasing regularisation. Duality gap: 3.713e+00, tolerance: 2.448e-03\n",
      "  model = cd_fast.enet_coordinate_descent(\n"
     ]
    }
   ],
   "source": [
    "lasso = Lasso(alpha=0.8).fit(x_train, y_train)\n",
    "ridge = Ridge(alpha=0.8).fit(x_train, y_train)"
   ]
  },
  {
   "cell_type": "code",
   "execution_count": 63,
   "id": "0ee4d84e-2ef6-4ba5-a066-54b9a46490dd",
   "metadata": {},
   "outputs": [
    {
     "data": {
      "image/png": "[encoded data removed]",
      "text/plain": [
       "<Figure size 432x288 with 1 Axes>"
      ]
     },
     "metadata": {
      "needs_background": "light"
     },
     "output_type": "display_data"
    }
   ],
   "source": [
    "plt.hist((lasso.coef_, ridge.coef_), bins=8)\n",
    "plt.xlabel('value coef regression')\n",
    "plt.ylabel('count')\n",
    "plt.show()"
   ]
  },
  {
   "cell_type": "code",
   "execution_count": 64,
   "id": "c2836c72-ad81-4edf-8d7c-cb5e957c581f",
   "metadata": {},
   "outputs": [],
   "source": [
    "pre_y_train_lasso = lasso.predict(x_train)\n",
    "pre_y_test_lasso = lasso.predict(x_test)\n",
    "\n",
    "pre_y_train_ridge = ridge.predict(x_train)\n",
    "pre_y_test_ridge = ridge.predict(x_test)"
   ]
  },
  {
   "cell_type": "code",
   "execution_count": 65,
   "id": "91301774-3706-4b1f-a536-917365244c5e",
   "metadata": {},
   "outputs": [
    {
     "name": "stdout",
     "output_type": "stream",
     "text": [
      "mse_train_lasso=0.15517204462175066\n",
      "mse_train_ridge=0.07021038264651934\n",
      "\n",
      "mse_test_lasso=0.09284713448746969\n",
      "mse_test_ridge=0.07852416449022559\n"
     ]
    }
   ],
   "source": [
    "mse_train_lasso = mean_squared_error(y_train, pre_y_train_lasso)\n",
    "mse_train_ridge = mean_squared_error(y_train, pre_y_train_ridge)\n",
    "\n",
    "mse_test_lasso = mean_squared_error(y_test, pre_y_test_lasso)\n",
    "mse_test_ridge = mean_squared_error(y_test, pre_y_test_ridge)\n",
    "\n",
    "print(f'mse_train_lasso={mse_train_lasso}')\n",
    "print(f'mse_train_ridge={mse_train_ridge}\\n')\n",
    "\n",
    "print(f'mse_test_lasso={mse_test_lasso}')\n",
    "print(f'mse_test_ridge={mse_test_ridge}')"
   ]
  },
  {
   "cell_type": "code",
   "execution_count": null,
   "id": "50481b83-8b77-474b-be7b-79aaac8f5942",
   "metadata": {},
   "outputs": [],
   "source": []
  }
 ],
 "metadata": {
  "kernelspec": {
   "display_name": "Python 3 (ipykernel)",
   "language": "python",
   "name": "python3"
  },
  "language_info": {
   "codemirror_mode": {
    "name": "ipython",
    "version": 3
   },
   "file_extension": ".py",
   "mimetype": "text/x-python",
   "name": "python",
   "nbconvert_exporter": "python",
   "pygments_lexer": "ipython3",
   "version": "3.9.10"
  },
  "toc": {
   "base_numbering": 1,
   "nav_menu": {},
   "number_sections": true,
   "sideBar": true,
   "skip_h1_title": false,
   "title_cell": "Table of Contents",
   "title_sidebar": "Contents",
   "toc_cell": false,
   "toc_position": {},
   "toc_section_display": true,
   "toc_window_display": false
  }
 },
 "nbformat": 4,
 "nbformat_minor": 5
}
