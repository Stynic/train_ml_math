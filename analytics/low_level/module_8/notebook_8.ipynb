{
 "cells": [
  {
   "cell_type": "markdown",
   "id": "06213b9d",
   "metadata": {},
   "source": [
    "# The module 8 by analytics : Class in the python"
   ]
  },
  {
   "cell_type": "code",
   "execution_count": 476,
   "id": "9e9b87f1",
   "metadata": {},
   "outputs": [],
   "source": [
    "from faker import Faker\n",
    "from random import randrange\n",
    "\n",
    "\n",
    "class Extension:\n",
    "    def __init__(self, name=None, power=None, cost=None):\n",
    "        self.name = None or Faker().name()\n",
    "        self.power = None or randrange(1000)\n",
    "        self.cost = None or self.power * 10 + randrange(1000)\n",
    "        \n",
    "    def __str__(self):\n",
    "        return f'{self.name.title()}' + \\\n",
    "               f'have following attribute: \\n' + \\\n",
    "               f'Power: {self.power} \\n'\\\n",
    "               f'Cost: {self.cost}'\n",
    "\n",
    "class Robot:\n",
    "    def __init__(self, name=None):\n",
    "        self.name = name\n",
    "        self.free = False\n",
    "        self.extensions = set()\n",
    "        self.id = f'ID: {id(self.name)}'\n",
    "        self.price = '1000'\n",
    "        self.color = 'green'\n",
    "        self.speed = 0\n",
    "        \n",
    "        \n",
    "    def __str__(self):\n",
    "        return f'My name is {self.name} and my id {self.id}'\n",
    "    \n",
    "    def __bool__(self):\n",
    "        return self.free == True \n",
    "    \n",
    "    def __len__(self):\n",
    "        return len(self.extensions)\n",
    "    \n",
    "    def __del__(self):\n",
    "        print(f'Believe in the world..Goodbye life')\n",
    "        \n",
    "    def __add__(self, other):\n",
    "        new_robot = Robot()\n",
    "        new_robot.extensions.update({*self.extensions, *other.extensions})\n",
    "        return new_robot\n",
    "    \n",
    "    def __iadd__(self, other):\n",
    "        self.relatives.update({*other.extensions})\n",
    "\n",
    "    def go(self):\n",
    "        print('Start to go')\n",
    "        self.speed = 1\n",
    "\n",
    "    def increase_speed(self):\n",
    "        print('Speed increased')\n",
    "        self.speed += 1\n",
    "        print(f'Speed equal to {self.speed}')\n",
    "\n",
    "    def stop(self):\n",
    "        print('I am stoping')\n",
    "        self.speed = 0\n",
    "        print('My speed equal to 10')\n",
    "\n",
    "    def set_name(self, new_name: str):\n",
    "        setattr(self, 'default_name', getattr(self, 'name'))\n",
    "        setattr(self, 'name', new_name)\n",
    "\n",
    "    def revert_default_name(self):\n",
    "        setattr(self, 'name', self.default_name)\n",
    "\n",
    "    def add_attr(self, name_attr: str, value_attr: str):\n",
    "        setattr(self, name_attr, value_attr)\n",
    "\n",
    "    def del_attr(self, name_attr: str):\n",
    "        delattr(self, name_attr)\n",
    "\n",
    "    def check_value_attr(self, name_attr, check_value):\n",
    "        if hasattr(self, name_attr):\n",
    "            return getattr(self, name_attr) == check_value\n",
    "        else:\n",
    "            print('Attribute not found')\n",
    "            \n",
    "    def add_extension(self, extension:object):\n",
    "        self.extensions.add(extension)"
   ]
  },
  {
   "cell_type": "code",
   "execution_count": 477,
   "id": "787f104b",
   "metadata": {},
   "outputs": [
    {
     "name": "stdout",
     "output_type": "stream",
     "text": [
      "Believe in the world..Goodbye life\n"
     ]
    }
   ],
   "source": [
    "r2d2 = Robot('r2d2')"
   ]
  },
  {
   "cell_type": "code",
   "execution_count": 478,
   "id": "c81026b9",
   "metadata": {},
   "outputs": [
    {
     "data": {
      "text/plain": [
       "'r2d2'"
      ]
     },
     "execution_count": 478,
     "metadata": {},
     "output_type": "execute_result"
    }
   ],
   "source": [
    "r2d2.name"
   ]
  },
  {
   "cell_type": "code",
   "execution_count": 479,
   "id": "43387c34",
   "metadata": {},
   "outputs": [
    {
     "data": {
      "text/plain": [
       "['__add__',\n",
       " '__bool__',\n",
       " '__class__',\n",
       " '__del__',\n",
       " '__delattr__',\n",
       " '__dict__',\n",
       " '__dir__',\n",
       " '__doc__',\n",
       " '__eq__',\n",
       " '__format__',\n",
       " '__ge__',\n",
       " '__getattribute__',\n",
       " '__gt__',\n",
       " '__hash__',\n",
       " '__iadd__',\n",
       " '__init__',\n",
       " '__init_subclass__',\n",
       " '__le__',\n",
       " '__len__',\n",
       " '__lt__',\n",
       " '__module__',\n",
       " '__ne__',\n",
       " '__new__',\n",
       " '__reduce__',\n",
       " '__reduce_ex__',\n",
       " '__repr__',\n",
       " '__setattr__',\n",
       " '__sizeof__',\n",
       " '__str__',\n",
       " '__subclasshook__',\n",
       " '__weakref__',\n",
       " 'add_attr',\n",
       " 'add_extension',\n",
       " 'check_value_attr',\n",
       " 'color',\n",
       " 'del_attr',\n",
       " 'extensions',\n",
       " 'free',\n",
       " 'go',\n",
       " 'id',\n",
       " 'increase_speed',\n",
       " 'name',\n",
       " 'price',\n",
       " 'revert_default_name',\n",
       " 'set_name',\n",
       " 'speed',\n",
       " 'stop']"
      ]
     },
     "execution_count": 479,
     "metadata": {},
     "output_type": "execute_result"
    }
   ],
   "source": [
    "dir(r2d2)"
   ]
  },
  {
   "cell_type": "code",
   "execution_count": 480,
   "id": "b2927183",
   "metadata": {},
   "outputs": [
    {
     "data": {
      "text/plain": [
       "'ID: 139625901609712'"
      ]
     },
     "execution_count": 480,
     "metadata": {},
     "output_type": "execute_result"
    }
   ],
   "source": [
    "r2d2.id"
   ]
  },
  {
   "cell_type": "code",
   "execution_count": 481,
   "id": "15de8182",
   "metadata": {},
   "outputs": [
    {
     "name": "stdout",
     "output_type": "stream",
     "text": [
      "Start to go\n"
     ]
    }
   ],
   "source": [
    "r2d2.go()"
   ]
  },
  {
   "cell_type": "code",
   "execution_count": 482,
   "id": "ab3d3547",
   "metadata": {},
   "outputs": [
    {
     "name": "stdout",
     "output_type": "stream",
     "text": [
      "Speed increased\n",
      "Speed equal to 2\n"
     ]
    }
   ],
   "source": [
    "r2d2.increase_speed()"
   ]
  },
  {
   "cell_type": "code",
   "execution_count": 483,
   "id": "88ecceac",
   "metadata": {},
   "outputs": [],
   "source": [
    "r2d2.set_name('r2d3')"
   ]
  },
  {
   "cell_type": "code",
   "execution_count": 484,
   "id": "fb2454f3",
   "metadata": {},
   "outputs": [
    {
     "data": {
      "text/plain": [
       "'r2d3'"
      ]
     },
     "execution_count": 484,
     "metadata": {},
     "output_type": "execute_result"
    }
   ],
   "source": [
    "r2d2.name"
   ]
  },
  {
   "cell_type": "code",
   "execution_count": 485,
   "id": "92c2c8df",
   "metadata": {},
   "outputs": [],
   "source": [
    "r2d2.revert_default_name()"
   ]
  },
  {
   "cell_type": "code",
   "execution_count": 486,
   "id": "0fa811ef",
   "metadata": {},
   "outputs": [
    {
     "data": {
      "text/plain": [
       "'r2d2'"
      ]
     },
     "execution_count": 486,
     "metadata": {},
     "output_type": "execute_result"
    }
   ],
   "source": [
    "r2d2.name"
   ]
  },
  {
   "cell_type": "code",
   "execution_count": 487,
   "id": "38c4f2de",
   "metadata": {},
   "outputs": [],
   "source": [
    "r2d2.add_attr('mind', 'Dog')"
   ]
  },
  {
   "cell_type": "code",
   "execution_count": 488,
   "id": "bd8e7803",
   "metadata": {},
   "outputs": [
    {
     "data": {
      "text/plain": [
       "'Dog'"
      ]
     },
     "execution_count": 488,
     "metadata": {},
     "output_type": "execute_result"
    }
   ],
   "source": [
    "r2d2.mind"
   ]
  },
  {
   "cell_type": "code",
   "execution_count": 489,
   "id": "e02262c4",
   "metadata": {},
   "outputs": [],
   "source": [
    "def say_hello(self:object):\n",
    "    print(f'Hello, my name {self.name}')"
   ]
  },
  {
   "cell_type": "code",
   "execution_count": 490,
   "id": "ce0f82b5",
   "metadata": {},
   "outputs": [],
   "source": [
    "r2d2.say_hello = say_hello"
   ]
  },
  {
   "cell_type": "code",
   "execution_count": 491,
   "id": "9b7ab49f",
   "metadata": {},
   "outputs": [
    {
     "data": {
      "text/plain": [
       "<function __main__.say_hello(self: object)>"
      ]
     },
     "execution_count": 491,
     "metadata": {},
     "output_type": "execute_result"
    }
   ],
   "source": [
    "r2d2.say_hello"
   ]
  },
  {
   "cell_type": "code",
   "execution_count": 492,
   "id": "b5a6b289",
   "metadata": {},
   "outputs": [
    {
     "name": "stdout",
     "output_type": "stream",
     "text": [
      "Hello, my name r2d2\n"
     ]
    }
   ],
   "source": [
    "r2d2.say_hello(r2d2)"
   ]
  },
  {
   "cell_type": "code",
   "execution_count": 493,
   "id": "25c1be08",
   "metadata": {},
   "outputs": [
    {
     "data": {
      "text/plain": [
       "True"
      ]
     },
     "execution_count": 493,
     "metadata": {},
     "output_type": "execute_result"
    }
   ],
   "source": [
    "r2d2.check_value_attr('say_hello', r2d2.say_hello)"
   ]
  },
  {
   "cell_type": "code",
   "execution_count": 494,
   "id": "13d847f4",
   "metadata": {},
   "outputs": [
    {
     "name": "stdout",
     "output_type": "stream",
     "text": [
      "My name is r2d2 and my id ID: 139625901609712\n"
     ]
    }
   ],
   "source": [
    "print(r2d2)"
   ]
  },
  {
   "cell_type": "code",
   "execution_count": 495,
   "id": "3cc43ab6",
   "metadata": {},
   "outputs": [
    {
     "data": {
      "text/plain": [
       "'My name is r2d2 and my id ID: 139625901609712'"
      ]
     },
     "execution_count": 495,
     "metadata": {},
     "output_type": "execute_result"
    }
   ],
   "source": [
    "# explicit call\n",
    "r2d2.__str__()"
   ]
  },
  {
   "cell_type": "code",
   "execution_count": 496,
   "id": "f3377aa1",
   "metadata": {},
   "outputs": [
    {
     "data": {
      "text/plain": [
       "False"
      ]
     },
     "execution_count": 496,
     "metadata": {},
     "output_type": "execute_result"
    }
   ],
   "source": [
    "bool(r2d2)"
   ]
  },
  {
   "cell_type": "code",
   "execution_count": 497,
   "id": "4807e7f8",
   "metadata": {},
   "outputs": [
    {
     "name": "stdout",
     "output_type": "stream",
     "text": [
      "Believe in the world..Goodbye life\n"
     ]
    }
   ],
   "source": [
    "r3d3 = Robot('r3d3')"
   ]
  },
  {
   "cell_type": "code",
   "execution_count": 498,
   "id": "66098d23",
   "metadata": {},
   "outputs": [
    {
     "name": "stdout",
     "output_type": "stream",
     "text": [
      "My name is r3d3 and my id ID: 139625901625200\n"
     ]
    }
   ],
   "source": [
    "print(r3d3)"
   ]
  },
  {
   "cell_type": "code",
   "execution_count": 499,
   "id": "7c9195be",
   "metadata": {},
   "outputs": [
    {
     "data": {
      "text/plain": [
       "set()"
      ]
     },
     "execution_count": 499,
     "metadata": {},
     "output_type": "execute_result"
    }
   ],
   "source": [
    "r2d2.extensions"
   ]
  },
  {
   "cell_type": "code",
   "execution_count": 500,
   "id": "de4848be",
   "metadata": {},
   "outputs": [],
   "source": [
    "# r2d2.add_relative(r3d3)"
   ]
  },
  {
   "cell_type": "code",
   "execution_count": 501,
   "id": "cb48dd65",
   "metadata": {
    "scrolled": true
   },
   "outputs": [
    {
     "data": {
      "text/plain": [
       "0"
      ]
     },
     "execution_count": 501,
     "metadata": {},
     "output_type": "execute_result"
    }
   ],
   "source": [
    "len(r2d2)"
   ]
  },
  {
   "cell_type": "code",
   "execution_count": 502,
   "id": "6a9403b0",
   "metadata": {},
   "outputs": [],
   "source": [
    "boot_lazy = Extension()"
   ]
  },
  {
   "cell_type": "code",
   "execution_count": 503,
   "id": "35727ceb",
   "metadata": {},
   "outputs": [
    {
     "name": "stdout",
     "output_type": "stream",
     "text": [
      "Kyle Meyerhave following attribute: \n",
      "Power: 102 \n",
      "Cost: 1095\n"
     ]
    }
   ],
   "source": [
    "print(boot_lazy)"
   ]
  },
  {
   "cell_type": "code",
   "execution_count": 507,
   "id": "8ad367ae",
   "metadata": {},
   "outputs": [],
   "source": [
    "r2d2.add_extension(boot_lazy)"
   ]
  },
  {
   "cell_type": "code",
   "execution_count": 511,
   "id": "4d9c2b85",
   "metadata": {},
   "outputs": [
    {
     "data": {
      "text/plain": [
       "{<__main__.Extension at 0x7efd07deda90>, 'stron'}"
      ]
     },
     "execution_count": 511,
     "metadata": {},
     "output_type": "execute_result"
    }
   ],
   "source": [
    "r2d2.extensions"
   ]
  },
  {
   "cell_type": "code",
   "execution_count": 512,
   "id": "b588a29c",
   "metadata": {
    "scrolled": false
   },
   "outputs": [],
   "source": [
    "baby_r2d3 = r2d2 + r3d3"
   ]
  },
  {
   "cell_type": "code",
   "execution_count": 513,
   "id": "5815128c",
   "metadata": {},
   "outputs": [
    {
     "data": {
      "text/plain": [
       "2"
      ]
     },
     "execution_count": 513,
     "metadata": {},
     "output_type": "execute_result"
    }
   ],
   "source": [
    "len(baby_r2d3)"
   ]
  },
  {
   "cell_type": "code",
   "execution_count": 515,
   "id": "e8d3ac91",
   "metadata": {},
   "outputs": [
    {
     "data": {
      "text/plain": [
       "True"
      ]
     },
     "execution_count": 515,
     "metadata": {},
     "output_type": "execute_result"
    }
   ],
   "source": [
    "boot_lazy in baby_r2d3.extensions"
   ]
  }
 ],
 "metadata": {
  "kernelspec": {
   "display_name": "Python 3 (ipykernel)",
   "language": "python",
   "name": "python3"
  },
  "language_info": {
   "codemirror_mode": {
    "name": "ipython",
    "version": 3
   },
   "file_extension": ".py",
   "mimetype": "text/x-python",
   "name": "python",
   "nbconvert_exporter": "python",
   "pygments_lexer": "ipython3",
   "version": "3.8.10"
  },
  "toc": {
   "base_numbering": 1,
   "nav_menu": {},
   "number_sections": true,
   "sideBar": true,
   "skip_h1_title": false,
   "title_cell": "Table of Contents",
   "title_sidebar": "Contents",
   "toc_cell": false,
   "toc_position": {},
   "toc_section_display": true,
   "toc_window_display": false
  }
 },
 "nbformat": 4,
 "nbformat_minor": 5
}
