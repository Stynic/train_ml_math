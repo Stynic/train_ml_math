{
 "cells": [
  {
   "cell_type": "markdown",
   "id": "06213b9d",
   "metadata": {},
   "source": [
    "# The module 8 by analytics : Class in the python"
   ]
  },
  {
   "cell_type": "code",
   "execution_count": 46,
   "id": "9e9b87f1",
   "metadata": {},
   "outputs": [],
   "source": [
    "class Robot:\n",
    "    def __init__(self, name):\n",
    "        self.name = name\n",
    "        self.id = f'ID: {id(self.name)}'\n",
    "        self.price = '1000'\n",
    "        self.color = 'green'\n",
    "        self.speed = 0\n",
    "    \n",
    "    def go(self):\n",
    "        print('Start to go')\n",
    "        self.speed = 1\n",
    "        \n",
    "    def increase_speed(self):\n",
    "        print('Speed increased')\n",
    "        self.speed = 2\n",
    "        print(f'Speed equal to {self.speed}')\n",
    "    \n",
    "    def stop(self):\n",
    "        print('I am stoping')\n",
    "        self.speed = 0\n",
    "        print('My speed equal to 10')\n",
    "        \n",
    "    def set_name(self, new_name:str):\n",
    "        setattr(self, 'default_name', getattr(self, 'name'))\n",
    "        setattr(self, 'name', new_name)\n",
    "        \n",
    "    def revert_default_name(self):\n",
    "        setattr(self, 'name', self.default_name)\n",
    "        \n",
    "    def add_attr(self, name_attr:str, value_attr:str):\n",
    "        setattr(self, name_attr, value_attr)\n",
    "        \n",
    "    def del_attr(self, name_attr:str):\n",
    "        delattr(self, name_attr)\n",
    "    \n",
    "    def check_value_attr(self, name_attr, check_value):\n",
    "        if hasattr(self, name_attr):\n",
    "            return getattr(self, name_attr) == check_value\n",
    "        else:\n",
    "            print('Attribute not found')"
   ]
  },
  {
   "cell_type": "code",
   "execution_count": 47,
   "id": "8086b76c",
   "metadata": {},
   "outputs": [],
   "source": [
    "r2d2 = Robot('r2d2')"
   ]
  },
  {
   "cell_type": "code",
   "execution_count": 48,
   "id": "ec8c5533",
   "metadata": {},
   "outputs": [
    {
     "data": {
      "text/plain": [
       "'r2d2'"
      ]
     },
     "execution_count": 48,
     "metadata": {},
     "output_type": "execute_result"
    }
   ],
   "source": [
    "r2d2.name"
   ]
  },
  {
   "cell_type": "code",
   "execution_count": 49,
   "id": "31bdeb69",
   "metadata": {},
   "outputs": [
    {
     "data": {
      "text/plain": [
       "'ID: 140553082858864'"
      ]
     },
     "execution_count": 49,
     "metadata": {},
     "output_type": "execute_result"
    }
   ],
   "source": [
    "r2d2.id"
   ]
  },
  {
   "cell_type": "code",
   "execution_count": 50,
   "id": "2d5d3021",
   "metadata": {},
   "outputs": [],
   "source": [
    "r2d2.set_name('r2d3')"
   ]
  },
  {
   "cell_type": "code",
   "execution_count": 51,
   "id": "d4f4565d",
   "metadata": {},
   "outputs": [
    {
     "data": {
      "text/plain": [
       "'r2d3'"
      ]
     },
     "execution_count": 51,
     "metadata": {},
     "output_type": "execute_result"
    }
   ],
   "source": [
    "r2d2.name"
   ]
  },
  {
   "cell_type": "code",
   "execution_count": 52,
   "id": "595d25a4",
   "metadata": {},
   "outputs": [],
   "source": [
    "r2d2.revert_default_name()"
   ]
  },
  {
   "cell_type": "code",
   "execution_count": 53,
   "id": "c750d2a7",
   "metadata": {},
   "outputs": [
    {
     "data": {
      "text/plain": [
       "'r2d2'"
      ]
     },
     "execution_count": 53,
     "metadata": {},
     "output_type": "execute_result"
    }
   ],
   "source": [
    "r2d2.name"
   ]
  },
  {
   "cell_type": "code",
   "execution_count": 54,
   "id": "aa00137c",
   "metadata": {},
   "outputs": [],
   "source": [
    "r2d2.add_attr('mind', 'Dog')"
   ]
  },
  {
   "cell_type": "code",
   "execution_count": 55,
   "id": "ff761d98",
   "metadata": {},
   "outputs": [
    {
     "data": {
      "text/plain": [
       "'Dog'"
      ]
     },
     "execution_count": 55,
     "metadata": {},
     "output_type": "execute_result"
    }
   ],
   "source": [
    "r2d2.mind"
   ]
  },
  {
   "cell_type": "code",
   "execution_count": 63,
   "id": "f9f89514",
   "metadata": {},
   "outputs": [],
   "source": [
    "def say_hello(self):\n",
    "    print(f'Hello, my name {self.name}')"
   ]
  },
  {
   "cell_type": "code",
   "execution_count": 64,
   "id": "fbba370e",
   "metadata": {},
   "outputs": [],
   "source": [
    "r2d2.say_hello = say_hello"
   ]
  },
  {
   "cell_type": "code",
   "execution_count": 67,
   "id": "80862a5f",
   "metadata": {},
   "outputs": [
    {
     "data": {
      "text/plain": [
       "<function __main__.say_hello(self)>"
      ]
     },
     "execution_count": 67,
     "metadata": {},
     "output_type": "execute_result"
    }
   ],
   "source": [
    "r2d2.say_hello"
   ]
  },
  {
   "cell_type": "code",
   "execution_count": 66,
   "id": "b9955ed2",
   "metadata": {},
   "outputs": [
    {
     "name": "stdout",
     "output_type": "stream",
     "text": [
      "Hello, my name r2d2\n"
     ]
    }
   ],
   "source": [
    "r2d2.say_hello(r2d2)"
   ]
  },
  {
   "cell_type": "code",
   "execution_count": 68,
   "id": "14745819",
   "metadata": {},
   "outputs": [
    {
     "data": {
      "text/plain": [
       "True"
      ]
     },
     "execution_count": 68,
     "metadata": {},
     "output_type": "execute_result"
    }
   ],
   "source": [
    "r2d2.check_value_attr('say_hello', r2d2.say_hello)"
   ]
  },
  {
   "cell_type": "code",
   "execution_count": null,
   "id": "a2490894",
   "metadata": {},
   "outputs": [],
   "source": []
  }
 ],
 "metadata": {
  "kernelspec": {
   "display_name": "Python 3 (ipykernel)",
   "language": "python",
   "name": "python3"
  },
  "language_info": {
   "codemirror_mode": {
    "name": "ipython",
    "version": 3
   },
   "file_extension": ".py",
   "mimetype": "text/x-python",
   "name": "python",
   "nbconvert_exporter": "python",
   "pygments_lexer": "ipython3",
   "version": "3.8.10"
  },
  "toc": {
   "base_numbering": 1,
   "nav_menu": {},
   "number_sections": true,
   "sideBar": true,
   "skip_h1_title": false,
   "title_cell": "Table of Contents",
   "title_sidebar": "Contents",
   "toc_cell": false,
   "toc_position": {},
   "toc_section_display": true,
   "toc_window_display": false
  }
 },
 "nbformat": 4,
 "nbformat_minor": 5
}
