{
 "cells": [
  {
   "cell_type": "markdown",
   "id": "06213b9d",
   "metadata": {},
   "source": [
    "# The module 8 by analytics : Class in the python"
   ]
  },
  {
   "cell_type": "code",
   "execution_count": 274,
   "id": "9e9b87f1",
   "metadata": {},
   "outputs": [],
   "source": [
    "class Robot:\n",
    "    def __init__(self, name=None):\n",
    "        self.name = name\n",
    "        self.free = False\n",
    "        self.relatives = {}\n",
    "        self.id = f'ID: {id(self.name)}'\n",
    "        self.price = '1000'\n",
    "        self.color = 'green'\n",
    "        self.speed = 0\n",
    "        \n",
    "        \n",
    "    def __str__(self):\n",
    "        return f'My name is {self.name} and my id {self.id}'\n",
    "    \n",
    "    def __bool__(self):\n",
    "        return self.free == True \n",
    "    \n",
    "    def __len__(self):\n",
    "        return len(self.relatives)\n",
    "    \n",
    "    def __del__(self):\n",
    "        print(f'Believe in the world..Goodbye life')\n",
    "        \n",
    "    def __add__(self, other):\n",
    "        new_robot = Robot()\n",
    "        new_robot.relatives = {*self.relatives, *other.relatives}\n",
    "\n",
    "    def go(self):\n",
    "        print('Start to go')\n",
    "        self.speed = 1\n",
    "\n",
    "    def increase_speed(self):\n",
    "        print('Speed increased')\n",
    "        self.speed += 1\n",
    "        print(f'Speed equal to {self.speed}')\n",
    "\n",
    "    def stop(self):\n",
    "        print('I am stoping')\n",
    "        self.speed = 0\n",
    "        print('My speed equal to 10')\n",
    "\n",
    "    def set_name(self, new_name: str):\n",
    "        setattr(self, 'default_name', getattr(self, 'name'))\n",
    "        setattr(self, 'name', new_name)\n",
    "\n",
    "    def revert_default_name(self):\n",
    "        setattr(self, 'name', self.default_name)\n",
    "\n",
    "    def add_attr(self, name_attr: str, value_attr: str):\n",
    "        setattr(self, name_attr, value_attr)\n",
    "\n",
    "    def del_attr(self, name_attr: str):\n",
    "        delattr(self, name_attr)\n",
    "\n",
    "    def check_value_attr(self, name_attr, check_value):\n",
    "        if hasattr(self, name_attr):\n",
    "            return getattr(self, name_attr) == check_value\n",
    "        else:\n",
    "            print('Attribute not found')\n",
    "            \n",
    "    def add_relative(self, relative:Robot):\n",
    "        self.relatives.(relative)"
   ]
  },
  {
   "cell_type": "code",
   "execution_count": 275,
   "id": "787f104b",
   "metadata": {},
   "outputs": [],
   "source": [
    "r2d2 = Robot('r2d2')"
   ]
  },
  {
   "cell_type": "code",
   "execution_count": 276,
   "id": "c81026b9",
   "metadata": {},
   "outputs": [
    {
     "data": {
      "text/plain": [
       "'r2d2'"
      ]
     },
     "execution_count": 276,
     "metadata": {},
     "output_type": "execute_result"
    }
   ],
   "source": [
    "r2d2.name"
   ]
  },
  {
   "cell_type": "code",
   "execution_count": 277,
   "id": "b2927183",
   "metadata": {},
   "outputs": [
    {
     "data": {
      "text/plain": [
       "'ID: 140553082858864'"
      ]
     },
     "execution_count": 277,
     "metadata": {},
     "output_type": "execute_result"
    }
   ],
   "source": [
    "r2d2.id"
   ]
  },
  {
   "cell_type": "code",
   "execution_count": 278,
   "id": "15de8182",
   "metadata": {},
   "outputs": [
    {
     "name": "stdout",
     "output_type": "stream",
     "text": [
      "Start to go\n"
     ]
    }
   ],
   "source": [
    "r2d2.go()"
   ]
  },
  {
   "cell_type": "code",
   "execution_count": 279,
   "id": "ab3d3547",
   "metadata": {},
   "outputs": [
    {
     "name": "stdout",
     "output_type": "stream",
     "text": [
      "Speed increased\n",
      "Speed equal to 2\n"
     ]
    }
   ],
   "source": [
    "r2d2.increase_speed()"
   ]
  },
  {
   "cell_type": "code",
   "execution_count": 280,
   "id": "88ecceac",
   "metadata": {},
   "outputs": [],
   "source": [
    "r2d2.set_name('r2d3')"
   ]
  },
  {
   "cell_type": "code",
   "execution_count": 281,
   "id": "fb2454f3",
   "metadata": {},
   "outputs": [
    {
     "data": {
      "text/plain": [
       "'r2d3'"
      ]
     },
     "execution_count": 281,
     "metadata": {},
     "output_type": "execute_result"
    }
   ],
   "source": [
    "r2d2.name"
   ]
  },
  {
   "cell_type": "code",
   "execution_count": 282,
   "id": "92c2c8df",
   "metadata": {},
   "outputs": [],
   "source": [
    "r2d2.revert_default_name()"
   ]
  },
  {
   "cell_type": "code",
   "execution_count": 283,
   "id": "0fa811ef",
   "metadata": {},
   "outputs": [
    {
     "data": {
      "text/plain": [
       "'r2d2'"
      ]
     },
     "execution_count": 283,
     "metadata": {},
     "output_type": "execute_result"
    }
   ],
   "source": [
    "r2d2.name"
   ]
  },
  {
   "cell_type": "code",
   "execution_count": 284,
   "id": "38c4f2de",
   "metadata": {},
   "outputs": [],
   "source": [
    "r2d2.add_attr('mind', 'Dog')"
   ]
  },
  {
   "cell_type": "code",
   "execution_count": 285,
   "id": "bd8e7803",
   "metadata": {},
   "outputs": [
    {
     "data": {
      "text/plain": [
       "'Dog'"
      ]
     },
     "execution_count": 285,
     "metadata": {},
     "output_type": "execute_result"
    }
   ],
   "source": [
    "r2d2.mind"
   ]
  },
  {
   "cell_type": "code",
   "execution_count": 286,
   "id": "e02262c4",
   "metadata": {},
   "outputs": [],
   "source": [
    "def say_hello(self:object):\n",
    "    print(f'Hello, my name {self.name}')"
   ]
  },
  {
   "cell_type": "code",
   "execution_count": 287,
   "id": "ce0f82b5",
   "metadata": {},
   "outputs": [],
   "source": [
    "r2d2.say_hello = say_hello"
   ]
  },
  {
   "cell_type": "code",
   "execution_count": 288,
   "id": "9b7ab49f",
   "metadata": {},
   "outputs": [
    {
     "data": {
      "text/plain": [
       "<function __main__.say_hello(self: object)>"
      ]
     },
     "execution_count": 288,
     "metadata": {},
     "output_type": "execute_result"
    }
   ],
   "source": [
    "r2d2.say_hello"
   ]
  },
  {
   "cell_type": "code",
   "execution_count": 289,
   "id": "b5a6b289",
   "metadata": {},
   "outputs": [
    {
     "name": "stdout",
     "output_type": "stream",
     "text": [
      "Hello, my name r2d2\n"
     ]
    }
   ],
   "source": [
    "r2d2.say_hello(r2d2)"
   ]
  },
  {
   "cell_type": "code",
   "execution_count": 290,
   "id": "25c1be08",
   "metadata": {},
   "outputs": [
    {
     "data": {
      "text/plain": [
       "True"
      ]
     },
     "execution_count": 290,
     "metadata": {},
     "output_type": "execute_result"
    }
   ],
   "source": [
    "r2d2.check_value_attr('say_hello', r2d2.say_hello)"
   ]
  },
  {
   "cell_type": "code",
   "execution_count": 291,
   "id": "13d847f4",
   "metadata": {},
   "outputs": [
    {
     "name": "stdout",
     "output_type": "stream",
     "text": [
      "My name is r2d2 and my id ID: 140553082858864\n"
     ]
    }
   ],
   "source": [
    "print(r2d2)"
   ]
  },
  {
   "cell_type": "code",
   "execution_count": 292,
   "id": "3cc43ab6",
   "metadata": {},
   "outputs": [
    {
     "data": {
      "text/plain": [
       "'My name is r2d2 and my id ID: 140553082858864'"
      ]
     },
     "execution_count": 292,
     "metadata": {},
     "output_type": "execute_result"
    }
   ],
   "source": [
    "# explicit call\n",
    "r2d2.__str__()"
   ]
  },
  {
   "cell_type": "code",
   "execution_count": 293,
   "id": "f3377aa1",
   "metadata": {},
   "outputs": [
    {
     "data": {
      "text/plain": [
       "False"
      ]
     },
     "execution_count": 293,
     "metadata": {},
     "output_type": "execute_result"
    }
   ],
   "source": [
    "bool(r2d2)"
   ]
  },
  {
   "cell_type": "code",
   "execution_count": 294,
   "id": "4807e7f8",
   "metadata": {},
   "outputs": [],
   "source": [
    "r3d3 = Robot('r3d3')"
   ]
  },
  {
   "cell_type": "code",
   "execution_count": 295,
   "id": "66098d23",
   "metadata": {},
   "outputs": [
    {
     "name": "stdout",
     "output_type": "stream",
     "text": [
      "My name is r3d3 and my id ID: 140553079823152\n"
     ]
    }
   ],
   "source": [
    "print(r3d3)"
   ]
  },
  {
   "cell_type": "code",
   "execution_count": 296,
   "id": "de4848be",
   "metadata": {},
   "outputs": [
    {
     "ename": "AttributeError",
     "evalue": "'dict' object has no attribute 'append'",
     "output_type": "error",
     "traceback": [
      "\u001b[0;31m---------------------------------------------------------------------------\u001b[0m",
      "\u001b[0;31mAttributeError\u001b[0m                            Traceback (most recent call last)",
      "\u001b[0;32m/tmp/ipykernel_36917/2378594459.py\u001b[0m in \u001b[0;36m<module>\u001b[0;34m\u001b[0m\n\u001b[0;32m----> 1\u001b[0;31m \u001b[0mr2d2\u001b[0m\u001b[0;34m.\u001b[0m\u001b[0madd_relative\u001b[0m\u001b[0;34m(\u001b[0m\u001b[0mr3d3\u001b[0m\u001b[0;34m)\u001b[0m\u001b[0;34m\u001b[0m\u001b[0;34m\u001b[0m\u001b[0m\n\u001b[0m",
      "\u001b[0;32m/tmp/ipykernel_36917/282651667.py\u001b[0m in \u001b[0;36madd_relative\u001b[0;34m(self, relative)\u001b[0m\n\u001b[1;32m     60\u001b[0m \u001b[0;34m\u001b[0m\u001b[0m\n\u001b[1;32m     61\u001b[0m     \u001b[0;32mdef\u001b[0m \u001b[0madd_relative\u001b[0m\u001b[0;34m(\u001b[0m\u001b[0mself\u001b[0m\u001b[0;34m,\u001b[0m \u001b[0mrelative\u001b[0m\u001b[0;34m:\u001b[0m\u001b[0mRobot\u001b[0m\u001b[0;34m)\u001b[0m\u001b[0;34m:\u001b[0m\u001b[0;34m\u001b[0m\u001b[0;34m\u001b[0m\u001b[0m\n\u001b[0;32m---> 62\u001b[0;31m         \u001b[0mself\u001b[0m\u001b[0;34m.\u001b[0m\u001b[0mrelatives\u001b[0m\u001b[0;34m.\u001b[0m\u001b[0mappend\u001b[0m\u001b[0;34m(\u001b[0m\u001b[0mrelative\u001b[0m\u001b[0;34m)\u001b[0m\u001b[0;34m\u001b[0m\u001b[0;34m\u001b[0m\u001b[0m\n\u001b[0m",
      "\u001b[0;31mAttributeError\u001b[0m: 'dict' object has no attribute 'append'"
     ]
    }
   ],
   "source": [
    "r2d2.add_relative(r3d3)"
   ]
  },
  {
   "cell_type": "code",
   "execution_count": 271,
   "id": "cb48dd65",
   "metadata": {},
   "outputs": [
    {
     "data": {
      "text/plain": [
       "3"
      ]
     },
     "execution_count": 271,
     "metadata": {},
     "output_type": "execute_result"
    }
   ],
   "source": [
    "len(r2d2)"
   ]
  },
  {
   "cell_type": "code",
   "execution_count": 272,
   "id": "ee371e8f",
   "metadata": {},
   "outputs": [
    {
     "data": {
      "text/plain": [
       "[<__main__.Robot at 0x7fd510701eb0>,\n",
       " <__main__.Robot at 0x7fd510701eb0>,\n",
       " <__main__.Robot at 0x7fd510701eb0>]"
      ]
     },
     "execution_count": 272,
     "metadata": {},
     "output_type": "execute_result"
    }
   ],
   "source": [
    "r2d2.relatives"
   ]
  },
  {
   "cell_type": "code",
   "execution_count": 122,
   "id": "9abe363c",
   "metadata": {},
   "outputs": [
    {
     "name": "stdout",
     "output_type": "stream",
     "text": [
      "Believe in the world..Goodbye life\n"
     ]
    }
   ],
   "source": [
    "r2d2 = None"
   ]
  },
  {
   "cell_type": "code",
   "execution_count": null,
   "id": "f27ff8f1",
   "metadata": {},
   "outputs": [],
   "source": [
    "r2d2 + r2d"
   ]
  }
 ],
 "metadata": {
  "kernelspec": {
   "display_name": "Python 3 (ipykernel)",
   "language": "python",
   "name": "python3"
  },
  "language_info": {
   "codemirror_mode": {
    "name": "ipython",
    "version": 3
   },
   "file_extension": ".py",
   "mimetype": "text/x-python",
   "name": "python",
   "nbconvert_exporter": "python",
   "pygments_lexer": "ipython3",
   "version": "3.8.10"
  },
  "toc": {
   "base_numbering": 1,
   "nav_menu": {},
   "number_sections": true,
   "sideBar": true,
   "skip_h1_title": false,
   "title_cell": "Table of Contents",
   "title_sidebar": "Contents",
   "toc_cell": false,
   "toc_position": {},
   "toc_section_display": true,
   "toc_window_display": false
  }
 },
 "nbformat": 4,
 "nbformat_minor": 5
}
