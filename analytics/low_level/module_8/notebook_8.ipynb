{
 "cells": [
  {
   "cell_type": "markdown",
   "id": "06213b9d",
   "metadata": {},
   "source": [
    "# The module 8 by analytics : Class in the python"
   ]
  },
  {
   "cell_type": "code",
   "execution_count": 78,
   "id": "9e9b87f1",
   "metadata": {},
   "outputs": [],
   "source": [
    "from faker import Faker\n",
    "from random import randrange, choice\n",
    "\n",
    "# looked at relationship of the inheritance with help to overcall method(type rhomb) - say and __init__\n",
    "class CanSmth:\n",
    "    def say(self):\n",
    "        print('I am in the CanSmth')\n",
    "        print(self.__class__.__name__)\n",
    "\n",
    "class CanThink(CanSmth):\n",
    "    def __init__(self, mind=True):\n",
    "        self.mind = mind\n",
    "    \n",
    "    def say(self):\n",
    "        print('I am in the CanThink')\n",
    "        super().say()\n",
    "        print('I am in the CanThink')\n",
    "        print(self.__class__.__name__)\n",
    "\n",
    "\n",
    "class CanUseMagic(CanSmth):\n",
    "    def __init__(self, magic=True):\n",
    "        self.magic = magic\n",
    "        self.mind = None\n",
    "        \n",
    "    def say(self):\n",
    "        print('I am in the CanUseMagic')\n",
    "        super().say()\n",
    "        print('I am in the CanUseMagic')\n",
    "        print(self.__class__.__name__)\n",
    "\n",
    "\n",
    "class Extension(CanThink, CanUseMagic):\n",
    "    types_extension = ['boot', 'hat', 'body', 'arm', 'sword', 'amulet']\n",
    "    type_rerity = [{'common': 1}, {'rare': 4}, {'magical': 5}, {'mythical': 6}]\n",
    "\n",
    "    def __init__(self, name=None, extype=None, rarity=None, power=None, cost=None):\n",
    "        super().__init__(mind=choice([True, False]))\n",
    "        self.name = None or Faker().name()\n",
    "        self.extype = None or choice(Extension.types_extension)\n",
    "        self.rarity = None or choice(Extension.type_rerity)\n",
    "        self.power = None or randrange(\n",
    "            1000) * self.rarity[list(self.rarity)[0]]\n",
    "        self.cost = None or self.power * 10 + \\\n",
    "            randrange(1000) * self.rarity[list(self.rarity)[0]]\n",
    "        CanUseMagic.magic = True if list(self.rarity)[0] in (\n",
    "            'magical', 'mythical') else False\n",
    "\n",
    "    def __str__(self):\n",
    "        return f'{self.name.title()}' + \\\n",
    "               f'have \\nfollowing attribute: \\n' + \\\n",
    "               f'Type: {self.extype} \\n'\\\n",
    "               f'Rarity: {list(self.rarity)[0]} \\n'\\\n",
    "               f'Power: {self.power} \\n'\\\n",
    "               f'Cost: {self.cost} \\n'\\\n",
    "               f'Mind: {self.mind} \\n'\\\n",
    "               f'Magical: {self.magic} \\n'\\\n",
    "\n",
    "\n",
    "    def __repr__(self):\n",
    "        return f'{self.name.title()} is {self.extype}'\n",
    "    \n",
    "    def say(self):\n",
    "        print('I am in the Extension')\n",
    "        super().say()\n",
    "        print('I am in the Extension')\n",
    "        print(self.__class__.__name__)\n",
    "\n",
    "\n",
    "class Robot:\n",
    "    # attribute of class Robot, it is common.\n",
    "    strength = 100\n",
    "    price = '1000'\n",
    "    color = 'green'\n",
    "    total = 0\n",
    "    steps = 1\n",
    "\n",
    "    def __init__(self, name=None):\n",
    "        # increase the count for attr total\n",
    "        Robot.total += 1\n",
    "        self.name = name\n",
    "        self.free = False\n",
    "        self.extensions = set()\n",
    "        self.id = f'ID: {id(self.name)}'\n",
    "        self.speed = 0\n",
    "\n",
    "    def __repr__(self):\n",
    "        return f'{self.__class__.__name__} - {self.name},id {self.id}'\n",
    "\n",
    "    def __str__(self):\n",
    "        return f' {self.__class__.__name__} -{self.name},id {self.id}'\n",
    "\n",
    "    def __bool__(self):\n",
    "        return self.free == True\n",
    "\n",
    "    def __len__(self):\n",
    "        return len(self.extensions)\n",
    "\n",
    "    def __del__(self):\n",
    "        print(f'Believe in the world..Goodbye life')\n",
    "        self = None\n",
    "\n",
    "    def __add__(self, other):\n",
    "        new_robot = Robot()\n",
    "        new_robot.extensions.update({*self.extensions, *other.extensions})\n",
    "        return new_robot\n",
    "\n",
    "    def __iadd__(self, other):\n",
    "        self.extensions.update({*other.extensions})\n",
    "\n",
    "    def go(self, way='ahead'):\n",
    "        def go_ahead():\n",
    "            print(f'Go ahead by {self.steps} step')\n",
    "        print('Start to go')\n",
    "        if 'ahead':\n",
    "            go_ahead()\n",
    "        self.speed = 1\n",
    "\n",
    "    def action(self):\n",
    "        print('eplore the world')\n",
    "\n",
    "    def increase_speed(self):\n",
    "        print('Speed increased')\n",
    "        self.speed += 1\n",
    "        print(f'Speed equal to {self.speed}')\n",
    "\n",
    "    def stop(self):\n",
    "        print('I am stoping')\n",
    "        self.speed = 0\n",
    "        print('My speed equal to 10')\n",
    "\n",
    "    def set_name(self, new_name: str):\n",
    "        setattr(self, 'default_name', getattr(self, 'name'))\n",
    "        setattr(self, 'name', new_name)\n",
    "\n",
    "    def revert_default_name(self):\n",
    "        setattr(self, 'name', self.default_name)\n",
    "\n",
    "    def add_attr(self, name_attr: str, value_attr: str):\n",
    "        setattr(self, name_attr, value_attr)\n",
    "\n",
    "    def del_attr(self, name_attr: str):\n",
    "        delattr(self, name_attr)\n",
    "\n",
    "    def check_value_attr(self, name_attr, check_value):\n",
    "        if hasattr(self, name_attr):\n",
    "            return getattr(self, name_attr) == check_value\n",
    "        else:\n",
    "            print('Attribute not found')\n",
    "\n",
    "    def add_extension(self, extension: object):\n",
    "        self.extensions.add(extension)\n",
    "\n",
    "\n",
    "class WarRobot(Robot):\n",
    "    strength = 200\n",
    "    price = '5000'\n",
    "    color = 'black'\n",
    "\n",
    "    def go(self):\n",
    "        print('Start to go fast')\n",
    "        self.speed = 3\n",
    "\n",
    "    def attack(self, enemy: Robot):\n",
    "        enemy.strength -= 5\n",
    "        print(f'Attack this {enemy}')\n",
    "        if enemy.strength != 0:\n",
    "            print(f'Strength reduce - {enemy.strength}')\n",
    "        else:\n",
    "            print(f'Deat robot - {enemy}')\n",
    "            enemy.__del__()\n",
    "\n",
    "    def action(self, enemy: Robot):\n",
    "        self.attack(enemy)\n",
    "        print(f'Was be attacked - {enemy}')"
   ]
  },
  {
   "cell_type": "code",
   "execution_count": 76,
   "id": "05714c4c",
   "metadata": {
    "scrolled": false
   },
   "outputs": [
    {
     "name": "stdout",
     "output_type": "stream",
     "text": [
      "Ruth Knighthave \n",
      "following attribute: \n",
      "Type: arm \n",
      "Rarity: common \n",
      "Power: 661 \n",
      "Cost: 6882 \n",
      "Mind: False \n",
      "Magical: False \n",
      "\n",
      "(<class '__main__.Extension'>, <class '__main__.CanThink'>, <class '__main__.CanUseMagic'>, <class '__main__.CanSmth'>, <class 'object'>)\n"
     ]
    }
   ],
   "source": [
    "boot_lazy = Extension()\n",
    "print(boot_lazy)\n",
    "print(boot_lazy.__class__.__mro__)"
   ]
  },
  {
   "cell_type": "code",
   "execution_count": 77,
   "id": "0ac360a5",
   "metadata": {},
   "outputs": [
    {
     "name": "stdout",
     "output_type": "stream",
     "text": [
      "I am in the Extension\n",
      "I am in the CanThink\n",
      "I am in the CanUseMagic\n",
      "I am in the CanSmth\n",
      "Extension\n",
      "I am in the CanUseMagic\n",
      "Extension\n",
      "I am in the CanThink\n",
      "Extension\n",
      "I am in the Extension\n",
      "Extension\n"
     ]
    }
   ],
   "source": [
    "boot_lazy.say()"
   ]
  },
  {
   "cell_type": "code",
   "execution_count": 22,
   "id": "cb606444",
   "metadata": {},
   "outputs": [],
   "source": [
    "ward2 = WarRobot('ward2')"
   ]
  },
  {
   "cell_type": "code",
   "execution_count": 11,
   "id": "b036501a",
   "metadata": {},
   "outputs": [
    {
     "data": {
      "text/plain": [
       "WarRobot - ward2,id ID: 139665363645360"
      ]
     },
     "execution_count": 11,
     "metadata": {},
     "output_type": "execute_result"
    }
   ],
   "source": [
    "ward2"
   ]
  },
  {
   "cell_type": "code",
   "execution_count": 12,
   "id": "787f104b",
   "metadata": {},
   "outputs": [],
   "source": [
    "r2d2 = Robot('r2d2')"
   ]
  },
  {
   "cell_type": "code",
   "execution_count": 13,
   "id": "63f71f1c",
   "metadata": {},
   "outputs": [
    {
     "name": "stdout",
     "output_type": "stream",
     "text": [
      "Start to go\n",
      "Go ahead by 1 step\n"
     ]
    }
   ],
   "source": [
    "r2d2.go()"
   ]
  },
  {
   "cell_type": "code",
   "execution_count": 913,
   "id": "c81026b9",
   "metadata": {},
   "outputs": [
    {
     "name": "stdout",
     "output_type": "stream",
     "text": [
      "Attack this  Robot -r2d2,id ID: 139625901609712\n",
      "Deat robot -  Robot -r2d2,id ID: 139625901609712\n",
      "Believe in the world..Goodbye life\n",
      "Was be attacked -  Robot -r2d2,id ID: 139625901609712\n"
     ]
    }
   ],
   "source": [
    "ward2.action(r2d2)"
   ]
  },
  {
   "cell_type": "code",
   "execution_count": 916,
   "id": "c80cc3cb",
   "metadata": {},
   "outputs": [
    {
     "data": {
      "text/plain": [
       "0"
      ]
     },
     "execution_count": 916,
     "metadata": {},
     "output_type": "execute_result"
    }
   ],
   "source": [
    "r2d2.strength"
   ]
  },
  {
   "cell_type": "code",
   "execution_count": 9,
   "id": "74f6a99a",
   "metadata": {
    "scrolled": true
   },
   "outputs": [
    {
     "name": "stdout",
     "output_type": "stream",
     "text": [
      "0b101010\n"
     ]
    },
    {
     "ename": "AttributeError",
     "evalue": "'int' object has no attribute 'bit_count'",
     "output_type": "error",
     "traceback": [
      "\u001b[0;31m---------------------------------------------------------------------------\u001b[0m",
      "\u001b[0;31mAttributeError\u001b[0m                            Traceback (most recent call last)",
      "\u001b[0;32m/tmp/ipykernel_4491/834040142.py\u001b[0m in \u001b[0;36m<module>\u001b[0;34m\u001b[0m\n\u001b[1;32m      2\u001b[0m \u001b[0mprint\u001b[0m\u001b[0;34m(\u001b[0m\u001b[0mbin\u001b[0m\u001b[0;34m(\u001b[0m\u001b[0mvalue\u001b[0m\u001b[0;34m)\u001b[0m\u001b[0;34m)\u001b[0m\u001b[0;34m\u001b[0m\u001b[0;34m\u001b[0m\u001b[0m\n\u001b[1;32m      3\u001b[0m \u001b[0;31m# '0b101010'\u001b[0m\u001b[0;34m\u001b[0m\u001b[0;34m\u001b[0m\u001b[0;34m\u001b[0m\u001b[0m\n\u001b[0;32m----> 4\u001b[0;31m \u001b[0mprint\u001b[0m\u001b[0;34m(\u001b[0m\u001b[0mvalue\u001b[0m\u001b[0;34m.\u001b[0m\u001b[0mbit_count\u001b[0m\u001b[0;34m(\u001b[0m\u001b[0;34m)\u001b[0m\u001b[0;34m)\u001b[0m\u001b[0;34m\u001b[0m\u001b[0;34m\u001b[0m\u001b[0m\n\u001b[0m",
      "\u001b[0;31mAttributeError\u001b[0m: 'int' object has no attribute 'bit_count'"
     ]
    }
   ],
   "source": [
    ")"
   ]
  },
  {
   "cell_type": "code",
   "execution_count": 835,
   "id": "43387c34",
   "metadata": {
    "scrolled": true
   },
   "outputs": [
    {
     "data": {
      "text/plain": [
       "['__add__',\n",
       " '__bool__',\n",
       " '__class__',\n",
       " '__del__',\n",
       " '__delattr__',\n",
       " '__dict__',\n",
       " '__dir__',\n",
       " '__doc__',\n",
       " '__eq__',\n",
       " '__format__',\n",
       " '__ge__',\n",
       " '__getattribute__',\n",
       " '__gt__',\n",
       " '__hash__',\n",
       " '__iadd__',\n",
       " '__init__',\n",
       " '__init_subclass__',\n",
       " '__le__',\n",
       " '__len__',\n",
       " '__lt__',\n",
       " '__module__',\n",
       " '__ne__',\n",
       " '__new__',\n",
       " '__reduce__',\n",
       " '__reduce_ex__',\n",
       " '__repr__',\n",
       " '__setattr__',\n",
       " '__sizeof__',\n",
       " '__str__',\n",
       " '__subclasshook__',\n",
       " '__weakref__',\n",
       " 'action',\n",
       " 'add_attr',\n",
       " 'add_extension',\n",
       " 'check_value_attr',\n",
       " 'color',\n",
       " 'del_attr',\n",
       " 'extensions',\n",
       " 'free',\n",
       " 'go',\n",
       " 'id',\n",
       " 'increase_speed',\n",
       " 'name',\n",
       " 'price',\n",
       " 'revert_default_name',\n",
       " 'set_name',\n",
       " 'speed',\n",
       " 'stop',\n",
       " 'strength',\n",
       " 'total']"
      ]
     },
     "execution_count": 835,
     "metadata": {},
     "output_type": "execute_result"
    }
   ],
   "source": [
    "dir(r2d2)"
   ]
  },
  {
   "cell_type": "code",
   "execution_count": 632,
   "id": "b2927183",
   "metadata": {},
   "outputs": [
    {
     "data": {
      "text/plain": [
       "'ID: 139625901609712'"
      ]
     },
     "execution_count": 632,
     "metadata": {},
     "output_type": "execute_result"
    }
   ],
   "source": [
    "r2d2.id"
   ]
  },
  {
   "cell_type": "code",
   "execution_count": 633,
   "id": "15de8182",
   "metadata": {},
   "outputs": [
    {
     "name": "stdout",
     "output_type": "stream",
     "text": [
      "Start to go\n"
     ]
    }
   ],
   "source": [
    "r2d2.go()"
   ]
  },
  {
   "cell_type": "code",
   "execution_count": 634,
   "id": "ab3d3547",
   "metadata": {},
   "outputs": [
    {
     "name": "stdout",
     "output_type": "stream",
     "text": [
      "Speed increased\n",
      "Speed equal to 2\n"
     ]
    }
   ],
   "source": [
    "r2d2.increase_speed()"
   ]
  },
  {
   "cell_type": "code",
   "execution_count": 635,
   "id": "88ecceac",
   "metadata": {},
   "outputs": [],
   "source": [
    "r2d2.set_name('r2d3')"
   ]
  },
  {
   "cell_type": "code",
   "execution_count": 636,
   "id": "fb2454f3",
   "metadata": {},
   "outputs": [
    {
     "data": {
      "text/plain": [
       "'r2d3'"
      ]
     },
     "execution_count": 636,
     "metadata": {},
     "output_type": "execute_result"
    }
   ],
   "source": [
    "r2d2.name"
   ]
  },
  {
   "cell_type": "code",
   "execution_count": 637,
   "id": "92c2c8df",
   "metadata": {},
   "outputs": [],
   "source": [
    "r2d2.revert_default_name()"
   ]
  },
  {
   "cell_type": "code",
   "execution_count": 638,
   "id": "0fa811ef",
   "metadata": {},
   "outputs": [
    {
     "data": {
      "text/plain": [
       "'r2d2'"
      ]
     },
     "execution_count": 638,
     "metadata": {},
     "output_type": "execute_result"
    }
   ],
   "source": [
    "r2d2.name"
   ]
  },
  {
   "cell_type": "code",
   "execution_count": 639,
   "id": "38c4f2de",
   "metadata": {},
   "outputs": [],
   "source": [
    "r2d2.add_attr('mind', 'Dog')"
   ]
  },
  {
   "cell_type": "code",
   "execution_count": 640,
   "id": "bd8e7803",
   "metadata": {},
   "outputs": [
    {
     "data": {
      "text/plain": [
       "'Dog'"
      ]
     },
     "execution_count": 640,
     "metadata": {},
     "output_type": "execute_result"
    }
   ],
   "source": [
    "r2d2.mind"
   ]
  },
  {
   "cell_type": "code",
   "execution_count": 641,
   "id": "e02262c4",
   "metadata": {},
   "outputs": [],
   "source": [
    "def say_hello(self:object):\n",
    "    print(f'Hello, my name {self.name}')"
   ]
  },
  {
   "cell_type": "code",
   "execution_count": 642,
   "id": "ce0f82b5",
   "metadata": {},
   "outputs": [],
   "source": [
    "r2d2.say_hello = say_hello"
   ]
  },
  {
   "cell_type": "code",
   "execution_count": 643,
   "id": "9b7ab49f",
   "metadata": {},
   "outputs": [
    {
     "data": {
      "text/plain": [
       "<function __main__.say_hello(self: object)>"
      ]
     },
     "execution_count": 643,
     "metadata": {},
     "output_type": "execute_result"
    }
   ],
   "source": [
    "r2d2.say_hello"
   ]
  },
  {
   "cell_type": "code",
   "execution_count": 644,
   "id": "b5a6b289",
   "metadata": {},
   "outputs": [
    {
     "name": "stdout",
     "output_type": "stream",
     "text": [
      "Hello, my name r2d2\n"
     ]
    }
   ],
   "source": [
    "r2d2.say_hello(r2d2)"
   ]
  },
  {
   "cell_type": "code",
   "execution_count": 645,
   "id": "25c1be08",
   "metadata": {},
   "outputs": [
    {
     "data": {
      "text/plain": [
       "True"
      ]
     },
     "execution_count": 645,
     "metadata": {},
     "output_type": "execute_result"
    }
   ],
   "source": [
    "r2d2.check_value_attr('say_hello', r2d2.say_hello)"
   ]
  },
  {
   "cell_type": "code",
   "execution_count": 646,
   "id": "13d847f4",
   "metadata": {},
   "outputs": [
    {
     "name": "stdout",
     "output_type": "stream",
     "text": [
      "My name is r2d2 and my id ID: 139625901609712\n"
     ]
    }
   ],
   "source": [
    "print(r2d2)"
   ]
  },
  {
   "cell_type": "code",
   "execution_count": 647,
   "id": "3cc43ab6",
   "metadata": {},
   "outputs": [
    {
     "data": {
      "text/plain": [
       "'My name is r2d2 and my id ID: 139625901609712'"
      ]
     },
     "execution_count": 647,
     "metadata": {},
     "output_type": "execute_result"
    }
   ],
   "source": [
    "# explicit call\n",
    "r2d2.__str__()"
   ]
  },
  {
   "cell_type": "code",
   "execution_count": 648,
   "id": "f3377aa1",
   "metadata": {},
   "outputs": [
    {
     "data": {
      "text/plain": [
       "False"
      ]
     },
     "execution_count": 648,
     "metadata": {},
     "output_type": "execute_result"
    }
   ],
   "source": [
    "bool(r2d2)"
   ]
  },
  {
   "cell_type": "code",
   "execution_count": 649,
   "id": "4807e7f8",
   "metadata": {},
   "outputs": [],
   "source": [
    "r3d3 = Robot('r3d3')"
   ]
  },
  {
   "cell_type": "code",
   "execution_count": 650,
   "id": "66098d23",
   "metadata": {},
   "outputs": [
    {
     "name": "stdout",
     "output_type": "stream",
     "text": [
      "My name is r3d3 and my id ID: 139625901625200\n"
     ]
    }
   ],
   "source": [
    "print(r3d3)"
   ]
  },
  {
   "cell_type": "code",
   "execution_count": 651,
   "id": "22ad7063",
   "metadata": {},
   "outputs": [
    {
     "data": {
      "text/plain": [
       "set()"
      ]
     },
     "execution_count": 651,
     "metadata": {},
     "output_type": "execute_result"
    }
   ],
   "source": [
    "r2d2.extensions"
   ]
  },
  {
   "cell_type": "code",
   "execution_count": 652,
   "id": "de4848be",
   "metadata": {},
   "outputs": [],
   "source": [
    "# r2d2.add_relative(r3d3)"
   ]
  },
  {
   "cell_type": "code",
   "execution_count": 653,
   "id": "cb48dd65",
   "metadata": {
    "scrolled": true
   },
   "outputs": [
    {
     "data": {
      "text/plain": [
       "0"
      ]
     },
     "execution_count": 653,
     "metadata": {},
     "output_type": "execute_result"
    }
   ],
   "source": [
    "len(r2d2)"
   ]
  },
  {
   "cell_type": "code",
   "execution_count": 654,
   "id": "7e1e792c",
   "metadata": {
    "scrolled": true
   },
   "outputs": [],
   "source": [
    "boot_lazy = Extension()"
   ]
  },
  {
   "cell_type": "code",
   "execution_count": 655,
   "id": "d496fe22",
   "metadata": {
    "scrolled": false
   },
   "outputs": [
    {
     "name": "stdout",
     "output_type": "stream",
     "text": [
      "Jaime Robertshave following attribute: \n",
      "Type: amulet \n",
      "Rarity: {'rare': 4} \n",
      "Power: 622 \n",
      "Cost: 6255\n"
     ]
    }
   ],
   "source": [
    "print(boot_lazy)"
   ]
  },
  {
   "cell_type": "code",
   "execution_count": 670,
   "id": "5ed3a1e9",
   "metadata": {},
   "outputs": [
    {
     "data": {
      "text/plain": [
       "'543'"
      ]
     },
     "execution_count": 670,
     "metadata": {},
     "output_type": "execute_result"
    }
   ],
   "source": [
    "a2 = {\"543\": '424'}\n",
    "list(a2)[0]"
   ]
  },
  {
   "cell_type": "code",
   "execution_count": 594,
   "id": "fe81d2a7",
   "metadata": {},
   "outputs": [],
   "source": [
    "r2d2.add_extension(boot_lazy)"
   ]
  },
  {
   "cell_type": "code",
   "execution_count": 595,
   "id": "d47b616b",
   "metadata": {},
   "outputs": [
    {
     "data": {
      "text/plain": [
       "{Michael Griffith}"
      ]
     },
     "execution_count": 595,
     "metadata": {},
     "output_type": "execute_result"
    }
   ],
   "source": [
    "r2d2.extensions"
   ]
  },
  {
   "cell_type": "code",
   "execution_count": 563,
   "id": "a3798bb1",
   "metadata": {
    "scrolled": false
   },
   "outputs": [],
   "source": [
    "baby_r2d3 = r2d2 + r3d3"
   ]
  },
  {
   "cell_type": "code",
   "execution_count": 513,
   "id": "ce2af34e",
   "metadata": {},
   "outputs": [
    {
     "data": {
      "text/plain": [
       "2"
      ]
     },
     "execution_count": 513,
     "metadata": {},
     "output_type": "execute_result"
    }
   ],
   "source": [
    "len(baby_r2d3)"
   ]
  },
  {
   "cell_type": "code",
   "execution_count": 515,
   "id": "a7ecab82",
   "metadata": {},
   "outputs": [
    {
     "data": {
      "text/plain": [
       "True"
      ]
     },
     "execution_count": 515,
     "metadata": {},
     "output_type": "execute_result"
    }
   ],
   "source": [
    "boot_lazy in baby_r2d3.extensions"
   ]
  }
 ],
 "metadata": {
  "kernelspec": {
   "display_name": "Python 3 (ipykernel)",
   "language": "python",
   "name": "python3"
  },
  "language_info": {
   "codemirror_mode": {
    "name": "ipython",
    "version": 3
   },
   "file_extension": ".py",
   "mimetype": "text/x-python",
   "name": "python",
   "nbconvert_exporter": "python",
   "pygments_lexer": "ipython3",
   "version": "3.8.10"
  },
  "toc": {
   "base_numbering": 1,
   "nav_menu": {},
   "number_sections": true,
   "sideBar": true,
   "skip_h1_title": false,
   "title_cell": "Table of Contents",
   "title_sidebar": "Contents",
   "toc_cell": false,
   "toc_position": {},
   "toc_section_display": true,
   "toc_window_display": false
  }
 },
 "nbformat": 4,
 "nbformat_minor": 5
}
