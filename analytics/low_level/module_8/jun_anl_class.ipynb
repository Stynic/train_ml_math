{
 "cells": [
  {
   "cell_type": "markdown",
   "metadata": {
    "colab_type": "text",
    "id": "RbR5OTe50Za4"
   },
   "source": [
    "# Классы\n",
    "## Домашнее задание"
   ]
  },
  {
   "cell_type": "markdown",
   "metadata": {
    "colab_type": "text",
    "id": "Xh_DBCdu0Za5"
   },
   "source": [
    "### Вопросы по лекциям\n",
    "\n",
    "#### 1.\n",
    "\n",
    "Напишите название функции, которая является конструктором класса."
   ]
  },
  {
   "cell_type": "markdown",
   "metadata": {
    "colab_type": "text",
    "id": "8-Tj4AMg0Za6"
   },
   "source": [
    "**Ответ:**  init"
   ]
  },
  {
   "cell_type": "markdown",
   "metadata": {
    "colab_type": "text",
    "id": "lf14yx330Za7"
   },
   "source": [
    "#### 2.\n",
    "\n",
    "На что указывает переменная `self`?"
   ]
  },
  {
   "cell_type": "markdown",
   "metadata": {
    "colab_type": "text",
    "id": "wI-0FWlF0Za8"
   },
   "source": [
    "**Ответ:** On the instance"
   ]
  },
  {
   "cell_type": "markdown",
   "metadata": {
    "colab_type": "text",
    "id": "j_8_O_nl0Za8"
   },
   "source": [
    "#### 3.\n",
    "С помощью какой функции можно проверить, что некая строка является именем одного из атрибутов объекта?\n"
   ]
  },
  {
   "cell_type": "markdown",
   "metadata": {
    "colab_type": "text",
    "id": "5h8ASTrV0Za9"
   },
   "source": [
    "**Ответ:** hasattr(obj, name_row)"
   ]
  },
  {
   "cell_type": "markdown",
   "metadata": {
    "colab_type": "text",
    "id": "G104VWgj0Za-"
   },
   "source": [
    "#### 4.\n",
    "Когда вызывается метод `__del__`? (относительно события удаления объекта)"
   ]
  },
  {
   "cell_type": "markdown",
   "metadata": {
    "colab_type": "text",
    "id": "Ukzoyxkn0Za-"
   },
   "source": [
    "**Ответ:** before deliteon object"
   ]
  },
  {
   "cell_type": "markdown",
   "metadata": {
    "colab_type": "text",
    "id": "MkF-HyBM0ZbA"
   },
   "source": [
    "#### 5.\n",
    "Верно ли, что атрибут класса перекрывает атрибут объекта?\n",
    "\n",
    "No, vice versa"
   ]
  },
  {
   "cell_type": "markdown",
   "metadata": {
    "colab_type": "text",
    "id": "o7B52kVt0ZbC"
   },
   "source": [
    "**Ответ:**"
   ]
  },
  {
   "cell_type": "markdown",
   "metadata": {
    "colab_type": "text",
    "id": "kSwZWV2B0ZbC"
   },
   "source": [
    "#### 6.\n",
    "Можно ли атрибуты базового класса вызывать в дочернем классе? Если да, то напишите, нет ли исклчений?\n"
   ]
  },
  {
   "cell_type": "markdown",
   "metadata": {
    "colab_type": "text",
    "id": "6i74Koih0ZbE"
   },
   "source": [
    "**Ответ:** Yes, if before name attribute isn't __"
   ]
  },
  {
   "cell_type": "markdown",
   "metadata": {
    "colab_type": "text",
    "id": "tl1St2O20ZbE"
   },
   "source": [
    "#### 7.\n",
    "Объясните своими словами для чего нужен метод `super`."
   ]
  },
  {
   "cell_type": "markdown",
   "metadata": {
    "colab_type": "text",
    "id": "rg3u1PoY0ZbF"
   },
   "source": [
    "**Ответ:** In order to get attribute and method from class parents in the class child"
   ]
  },
  {
   "cell_type": "markdown",
   "metadata": {
    "colab_type": "text",
    "id": "5AiJn8ut0ZbG"
   },
   "source": [
    "### Практика\n",
    "\n",
    "1. Напишите класс `Fraction` для работы с дробями. Пусть дробь в нашем классе предстает в виде `числитель/знаменатель`. Дробное число должно создаваться по запросу `Fraction(a, b)`, где `a` – это числитель, а `b` – знаменатель дроби. \n",
    "2. Добавьте возможность сложения (сложения через оператор сложения) для дроби. Предполагается, что операция сложения может проводиться как только между дробями, так и между дробью и целым числом. Результат операции должен быть представлен в виде дроби.\n",
    "3. Добавьте возможность взятия разности (вычитания через оператор вычитания) для дробей. Предполагается, что операция вычитания может проводиться как только для двух дробей, так и для дроби и целого числа. Результат операции должен быть представлен в виде дроби.\n",
    "4. Добавьте возможность умножения (умножения через оператор умножения) для дробей. Предполагается, что операция умножения может проводиться как только для двух дробей, так и для дроби и целого числа. Результат операции должен быть представлен в виде дроби.\n",
    "5. Добавьте возможность приведения дроби к целому числу через стандартную функцию `int()`.\n",
    "6. Добавьте возможность приведения дроби к числу с плавающей точкой через стандартную функцию `float()`.\n",
    "7. Создайте дочерний класс `OperationsOnFraction` и добавьте туда собственные методы `getint` и `getfloat`, которые будут возвращать целую часть дроби и представление дроби в виде числа с плавающей точкой соответственно. \n",
    " "
   ]
  },
  {
   "cell_type": "code",
   "execution_count": 270,
   "metadata": {
    "colab": {},
    "colab_type": "code",
    "id": "ru3BJ52J0ZbG"
   },
   "outputs": [],
   "source": [
    "class Fraction:\n",
    "    def __init__(self, num: int or str, dem: int or str = 0):\n",
    "        self.fraction = num + dem / 10 if num > 0 else num - dem / 10\n",
    "\n",
    "    def __str__(self):\n",
    "        return str(self.fraction)\n",
    "\n",
    "    def __int__(self):\n",
    "        return int(self.fraction)\n",
    "\n",
    "    def __float__(self):\n",
    "        return self.fraction\n",
    "\n",
    "    def __repr__(self):\n",
    "        return str(self.fraction)\n",
    "\n",
    "    def __add__(self, other):\n",
    "        _num, _dem = self.expression('+', other)\n",
    "        return Fraction(int(_num), int(_dem))\n",
    "\n",
    "    def __sub__(self, other):\n",
    "        _num, _dem = self.expression('-', other)\n",
    "        return Fraction(int(_num), int(_dem))\n",
    "\n",
    "    def __mul__(self, other):\n",
    "        _num, _dem = self.expression('*', other)\n",
    "        return Fraction(int(_num), int(_dem))\n",
    "\n",
    "    def __truediv__(self, other):\n",
    "        _num, _dem = self.expression('/', other)\n",
    "        return Fraction(int(_num), int(_dem))\n",
    "\n",
    "    def expression(self, operator: str, other):\n",
    "        return eval(f\"str(round(self.fraction {operator} other.fraction, 1)).split('.')\")\n",
    "\n",
    "\n",
    "class OperationsOnFraction(Fraction):\n",
    "    def getint(self):\n",
    "        return int(self)\n",
    "\n",
    "    def getfloat(self):\n",
    "        return float(self)"
   ]
  },
  {
   "cell_type": "code",
   "execution_count": 271,
   "metadata": {},
   "outputs": [
    {
     "data": {
      "text/plain": [
       "(7.8, __main__.Fraction)"
      ]
     },
     "execution_count": 271,
     "metadata": {},
     "output_type": "execute_result"
    }
   ],
   "source": [
    "a1 = Fraction(4, 7) + Fraction(3, 1)\n",
    "a1, type(a1)"
   ]
  },
  {
   "cell_type": "code",
   "execution_count": 272,
   "metadata": {},
   "outputs": [
    {
     "data": {
      "text/plain": [
       "(7, 7.8, int, float)"
      ]
     },
     "execution_count": 272,
     "metadata": {},
     "output_type": "execute_result"
    }
   ],
   "source": [
    "int(a1), float(a1), type(int(a1)), type(float(a1))"
   ]
  },
  {
   "cell_type": "code",
   "execution_count": 273,
   "metadata": {},
   "outputs": [
    {
     "data": {
      "text/plain": [
       "-0.8"
      ]
     },
     "execution_count": 273,
     "metadata": {},
     "output_type": "execute_result"
    }
   ],
   "source": [
    "Fraction(10,7) - Fraction(11, 5)"
   ]
  },
  {
   "cell_type": "code",
   "execution_count": 274,
   "metadata": {},
   "outputs": [
    {
     "data": {
      "text/plain": [
       "(10.9, 10.920000000000002)"
      ]
     },
     "execution_count": 274,
     "metadata": {},
     "output_type": "execute_result"
    }
   ],
   "source": [
    "Fraction(5, 2) * Fraction(2, 1), 5.2 * 2.1"
   ]
  },
  {
   "cell_type": "code",
   "execution_count": 275,
   "metadata": {},
   "outputs": [
    {
     "data": {
      "text/plain": [
       "(2.5, 2.4761904761904763)"
      ]
     },
     "execution_count": 275,
     "metadata": {},
     "output_type": "execute_result"
    }
   ],
   "source": [
    "Fraction(5, 2) / Fraction(2, 1), 5.2 / 2.1"
   ]
  },
  {
   "cell_type": "code",
   "execution_count": 276,
   "metadata": {},
   "outputs": [
    {
     "data": {
      "text/plain": [
       "(7.1, 7)"
      ]
     },
     "execution_count": 276,
     "metadata": {},
     "output_type": "execute_result"
    }
   ],
   "source": [
    "OperationsOnFraction(7, 1).getfloat(), OperationsOnFraction(7, 1).getint()"
   ]
  },
  {
   "cell_type": "code",
   "execution_count": null,
   "metadata": {},
   "outputs": [],
   "source": []
  }
 ],
 "metadata": {
  "colab": {
   "collapsed_sections": [],
   "name": "jun_anl_class.ipynb",
   "provenance": []
  },
  "kernelspec": {
   "display_name": "Python 3 (ipykernel)",
   "language": "python",
   "name": "python3"
  },
  "language_info": {
   "codemirror_mode": {
    "name": "ipython",
    "version": 3
   },
   "file_extension": ".py",
   "mimetype": "text/x-python",
   "name": "python",
   "nbconvert_exporter": "python",
   "pygments_lexer": "ipython3",
   "version": "3.8.10"
  },
  "toc": {
   "base_numbering": 1,
   "nav_menu": {},
   "number_sections": true,
   "sideBar": true,
   "skip_h1_title": false,
   "title_cell": "Table of Contents",
   "title_sidebar": "Contents",
   "toc_cell": false,
   "toc_position": {},
   "toc_section_display": true,
   "toc_window_display": false
  }
 },
 "nbformat": 4,
 "nbformat_minor": 1
}
