{
 "cells": [
  {
   "cell_type": "markdown",
   "id": "06213b9d",
   "metadata": {},
   "source": [
    "# The module 6 by analytics : namespice"
   ]
  },
  {
   "cell_type": "code",
   "execution_count": 1,
   "id": "8a703922",
   "metadata": {},
   "outputs": [],
   "source": [
    "x = 5\n",
    "def f1(a, b=[]):\n",
    "    pass\n"
   ]
  },
  {
   "cell_type": "code",
   "execution_count": 4,
   "id": "0f796a46",
   "metadata": {},
   "outputs": [
    {
     "ename": "NameError",
     "evalue": "name 'b' is not defined",
     "output_type": "error",
     "traceback": [
      "\u001b[0;31m---------------------------------------------------------------------------\u001b[0m",
      "\u001b[0;31mNameError\u001b[0m                                 Traceback (most recent call last)",
      "\u001b[0;32m/tmp/ipykernel_36783/2189922574.py\u001b[0m in \u001b[0;36m<module>\u001b[0;34m\u001b[0m\n\u001b[1;32m      1\u001b[0m \u001b[0mf1\u001b[0m\u001b[0;34m(\u001b[0m\u001b[0;36m5\u001b[0m\u001b[0;34m)\u001b[0m\u001b[0;34m\u001b[0m\u001b[0;34m\u001b[0m\u001b[0m\n\u001b[0;32m----> 2\u001b[0;31m \u001b[0mb\u001b[0m\u001b[0;34m\u001b[0m\u001b[0;34m\u001b[0m\u001b[0m\n\u001b[0m",
      "\u001b[0;31mNameError\u001b[0m: name 'b' is not defined"
     ]
    }
   ],
   "source": [
    "f1(5)\n",
    "b"
   ]
  },
  {
   "cell_type": "code",
   "execution_count": 36,
   "id": "8e29bd47",
   "metadata": {},
   "outputs": [],
   "source": [
    "# create the function with arbitrary positional arguments \n",
    "\n",
    "def print_p(*args):\n",
    "    print(args)\n",
    "    print(type(args))\n",
    "    for i, arg in enumerate(args):\n",
    "        print(f'position agr {i}' + \\\n",
    "        f' is value {arg}')"
   ]
  },
  {
   "cell_type": "code",
   "execution_count": 37,
   "id": "02c93c96",
   "metadata": {},
   "outputs": [
    {
     "name": "stdout",
     "output_type": "stream",
     "text": [
      "(1, 2)\n",
      "<class 'tuple'>\n",
      "position agr 0 is value 1\n",
      "position agr 1 is value 2\n"
     ]
    }
   ],
   "source": [
    "print_p(1, 2)"
   ]
  },
  {
   "cell_type": "code",
   "execution_count": 38,
   "id": "7de49886",
   "metadata": {},
   "outputs": [
    {
     "name": "stdout",
     "output_type": "stream",
     "text": [
      "(1, 2, 3, 4, 5, 9391294, 'sgs')\n",
      "<class 'tuple'>\n",
      "position agr 0 is value 1\n",
      "position agr 1 is value 2\n",
      "position agr 2 is value 3\n",
      "position agr 3 is value 4\n",
      "position agr 4 is value 5\n",
      "position agr 5 is value 9391294\n",
      "position agr 6 is value sgs\n"
     ]
    }
   ],
   "source": [
    "print_p(1, 2, 3, 4, 5, 9391294, 'sgs')"
   ]
  },
  {
   "cell_type": "code",
   "execution_count": 39,
   "id": "d2359690",
   "metadata": {},
   "outputs": [],
   "source": [
    "# create the fuction with arbitrary named arguments:\n",
    "\n",
    "def print_n(**kwargs):\n",
    "    print(type(kwargs))\n",
    "    for index, value in kwargs.items():\n",
    "        print(f'class- {index} : {value}')"
   ]
  },
  {
   "cell_type": "code",
   "execution_count": 40,
   "id": "96106912",
   "metadata": {},
   "outputs": [
    {
     "name": "stdout",
     "output_type": "stream",
     "text": [
      "<class 'dict'>\n",
      "class- name : Dany\n",
      "class- City : New York\n"
     ]
    }
   ],
   "source": [
    "person1 ={'name': 'Dany', 'City': 'New York'}\n",
    "\n",
    "print_n(**person1)"
   ]
  },
  {
   "cell_type": "code",
   "execution_count": 41,
   "id": "f14432e5",
   "metadata": {},
   "outputs": [
    {
     "name": "stdout",
     "output_type": "stream",
     "text": [
      "<class 'dict'>\n",
      "class- name : Dany\n",
      "class- City : New York\n",
      "class- home : 9\n"
     ]
    }
   ],
   "source": [
    "print_n(name='Dany', City='New York', home='9')"
   ]
  },
  {
   "cell_type": "code",
   "execution_count": 43,
   "id": "0a955d88",
   "metadata": {},
   "outputs": [],
   "source": [
    "# often recursion use for find elemene in the tree\n",
    "html_dom = {\n",
    "    'html': {\n",
    "        'head': {\n",
    "            'title': 'Колобок',\n",
    "        },\n",
    "        'body': {\n",
    "            'h2': 'Привет!',\n",
    "            'div': 'Хочешь, я расскажу тебе сказку?',\n",
    "            'p': 'Жили-были старик со старухой...',\n",
    "        }\n",
    "    }\n",
    "}"
   ]
  },
  {
   "cell_type": "code",
   "execution_count": 44,
   "id": "73bf362b",
   "metadata": {},
   "outputs": [],
   "source": [
    "def find_element(tree, element_name):\n",
    "    if element_name in tree:\n",
    "        result = tree[element_name]\n",
    "    else:\n",
    "        for key, sub_tree in tree.items():\n",
    "            if isinstance(sub_tree, dict):\n",
    "                result = find_element(tree=sub_tree, element_name=element_name)\n",
    "                if result:\n",
    "                    break\n",
    "        else:\n",
    "            result = None\n",
    "    return result\n",
    "        "
   ]
  },
  {
   "cell_type": "code",
   "execution_count": 48,
   "id": "42d6afb3",
   "metadata": {},
   "outputs": [
    {
     "data": {
      "text/plain": [
       "{'h2': 'Привет!',\n",
       " 'div': 'Хочешь, я расскажу тебе сказку?',\n",
       " 'p': 'Жили-были старик со старухой...'}"
      ]
     },
     "execution_count": 48,
     "metadata": {},
     "output_type": "execute_result"
    }
   ],
   "source": [
    "find_element(html_dom, 'body')"
   ]
  },
  {
   "cell_type": "code",
   "execution_count": 50,
   "id": "a3562f31",
   "metadata": {},
   "outputs": [
    {
     "name": "stdout",
     "output_type": "stream",
     "text": [
      "Help on function linsolve in module sympy.solvers.solveset:\n",
      "\n",
      "linsolve(system, *symbols)\n",
      "    Solve system of N linear equations with M variables; both\n",
      "    underdetermined and overdetermined systems are supported.\n",
      "    The possible number of solutions is zero, one or infinite.\n",
      "    Zero solutions throws a ValueError, whereas infinite\n",
      "    solutions are represented parametrically in terms of the given\n",
      "    symbols. For unique solution a FiniteSet of ordered tuples\n",
      "    is returned.\n",
      "    \n",
      "    All Standard input formats are supported:\n",
      "    For the given set of Equations, the respective input types\n",
      "    are given below:\n",
      "    \n",
      "    .. math:: 3x + 2y -   z = 1\n",
      "    .. math:: 2x - 2y + 4z = -2\n",
      "    .. math:: 2x -   y + 2z = 0\n",
      "    \n",
      "    * Augmented Matrix Form, `system` given below:\n",
      "    \n",
      "    ::\n",
      "    \n",
      "              [3   2  -1  1]\n",
      "     system = [2  -2   4 -2]\n",
      "              [2  -1   2  0]\n",
      "    \n",
      "    * List Of Equations Form\n",
      "    \n",
      "    `system  =  [3x + 2y - z - 1, 2x - 2y + 4z + 2, 2x - y + 2z]`\n",
      "    \n",
      "    * Input A & b Matrix Form (from Ax = b) are given as below:\n",
      "    \n",
      "    ::\n",
      "    \n",
      "         [3   2  -1 ]         [  1 ]\n",
      "     A = [2  -2   4 ]    b =  [ -2 ]\n",
      "         [2  -1   2 ]         [  0 ]\n",
      "    \n",
      "    `system = (A, b)`\n",
      "    \n",
      "    Symbols can always be passed but are actually only needed\n",
      "    when 1) a system of equations is being passed and 2) the\n",
      "    system is passed as an underdetermined matrix and one wants\n",
      "    to control the name of the free variables in the result.\n",
      "    An error is raised if no symbols are used for case 1, but if\n",
      "    no symbols are provided for case 2, internally generated symbols\n",
      "    will be provided. When providing symbols for case 2, there should\n",
      "    be at least as many symbols are there are columns in matrix A.\n",
      "    \n",
      "    The algorithm used here is Gauss-Jordan elimination, which\n",
      "    results, after elimination, in a row echelon form matrix.\n",
      "    \n",
      "    Returns\n",
      "    =======\n",
      "    \n",
      "    A FiniteSet containing an ordered tuple of values for the\n",
      "    unknowns for which the `system` has a solution. (Wrapping\n",
      "    the tuple in FiniteSet is used to maintain a consistent\n",
      "    output format throughout solveset.)\n",
      "    \n",
      "    Returns EmptySet, if the linear system is inconsistent.\n",
      "    \n",
      "    Raises\n",
      "    ======\n",
      "    \n",
      "    ValueError\n",
      "        The input is not valid.\n",
      "        The symbols are not given.\n",
      "    \n",
      "    Examples\n",
      "    ========\n",
      "    \n",
      "    >>> from sympy import Matrix, linsolve, symbols\n",
      "    >>> x, y, z = symbols(\"x, y, z\")\n",
      "    >>> A = Matrix([[1, 2, 3], [4, 5, 6], [7, 8, 10]])\n",
      "    >>> b = Matrix([3, 6, 9])\n",
      "    >>> A\n",
      "    Matrix([\n",
      "    [1, 2,  3],\n",
      "    [4, 5,  6],\n",
      "    [7, 8, 10]])\n",
      "    >>> b\n",
      "    Matrix([\n",
      "    [3],\n",
      "    [6],\n",
      "    [9]])\n",
      "    >>> linsolve((A, b), [x, y, z])\n",
      "    {(-1, 2, 0)}\n",
      "    \n",
      "    * Parametric Solution: In case the system is underdetermined, the\n",
      "      function will return a parametric solution in terms of the given\n",
      "      symbols. Those that are free will be returned unchanged. e.g. in\n",
      "      the system below, `z` is returned as the solution for variable z;\n",
      "      it can take on any value.\n",
      "    \n",
      "    >>> A = Matrix([[1, 2, 3], [4, 5, 6], [7, 8, 9]])\n",
      "    >>> b = Matrix([3, 6, 9])\n",
      "    >>> linsolve((A, b), x, y, z)\n",
      "    {(z - 1, 2 - 2*z, z)}\n",
      "    \n",
      "    If no symbols are given, internally generated symbols will be used.\n",
      "    The `tau0` in the 3rd position indicates (as before) that the 3rd\n",
      "    variable -- whatever it's named -- can take on any value:\n",
      "    \n",
      "    >>> linsolve((A, b))\n",
      "    {(tau0 - 1, 2 - 2*tau0, tau0)}\n",
      "    \n",
      "    * List of Equations as input\n",
      "    \n",
      "    >>> Eqns = [3*x + 2*y - z - 1, 2*x - 2*y + 4*z + 2, - x + y/2 - z]\n",
      "    >>> linsolve(Eqns, x, y, z)\n",
      "    {(1, -2, -2)}\n",
      "    \n",
      "    * Augmented Matrix as input\n",
      "    \n",
      "    >>> aug = Matrix([[2, 1, 3, 1], [2, 6, 8, 3], [6, 8, 18, 5]])\n",
      "    >>> aug\n",
      "    Matrix([\n",
      "    [2, 1,  3, 1],\n",
      "    [2, 6,  8, 3],\n",
      "    [6, 8, 18, 5]])\n",
      "    >>> linsolve(aug, x, y, z)\n",
      "    {(3/10, 2/5, 0)}\n",
      "    \n",
      "    * Solve for symbolic coefficients\n",
      "    \n",
      "    >>> a, b, c, d, e, f = symbols('a, b, c, d, e, f')\n",
      "    >>> eqns = [a*x + b*y - c, d*x + e*y - f]\n",
      "    >>> linsolve(eqns, x, y)\n",
      "    {((-b*f + c*e)/(a*e - b*d), (a*f - c*d)/(a*e - b*d))}\n",
      "    \n",
      "    * A degenerate system returns solution as set of given\n",
      "      symbols.\n",
      "    \n",
      "    >>> system = Matrix(([0, 0, 0], [0, 0, 0], [0, 0, 0]))\n",
      "    >>> linsolve(system, x, y)\n",
      "    {(x, y)}\n",
      "    \n",
      "    * For an empty system linsolve returns empty set\n",
      "    \n",
      "    >>> linsolve([], x)\n",
      "    EmptySet\n",
      "    \n",
      "    * An error is raised if, after expansion, any nonlinearity\n",
      "      is detected:\n",
      "    \n",
      "    >>> linsolve([x*(1/x - 1), (y - 1)**2 - y**2 + 1], x, y)\n",
      "    {(1, 1)}\n",
      "    >>> linsolve([x**2 - 1], x)\n",
      "    Traceback (most recent call last):\n",
      "    ...\n",
      "    NonlinearError:\n",
      "    nonlinear term encountered: x**2\n",
      "\n"
     ]
    }
   ],
   "source": [
    "from sympy import *\n",
    "help(linsolve)"
   ]
  },
  {
   "cell_type": "code",
   "execution_count": 55,
   "id": "e1584128",
   "metadata": {},
   "outputs": [
    {
     "name": "stdout",
     "output_type": "stream",
     "text": [
      "Help on built-in function open in module io:\n",
      "\n",
      "open(file, mode='r', buffering=-1, encoding=None, errors=None, newline=None, closefd=True, opener=None)\n",
      "    Open file and return a stream.  Raise OSError upon failure.\n",
      "    \n",
      "    file is either a text or byte string giving the name (and the path\n",
      "    if the file isn't in the current working directory) of the file to\n",
      "    be opened or an integer file descriptor of the file to be\n",
      "    wrapped. (If a file descriptor is given, it is closed when the\n",
      "    returned I/O object is closed, unless closefd is set to False.)\n",
      "    \n",
      "    mode is an optional string that specifies the mode in which the file\n",
      "    is opened. It defaults to 'r' which means open for reading in text\n",
      "    mode.  Other common values are 'w' for writing (truncating the file if\n",
      "    it already exists), 'x' for creating and writing to a new file, and\n",
      "    'a' for appending (which on some Unix systems, means that all writes\n",
      "    append to the end of the file regardless of the current seek position).\n",
      "    In text mode, if encoding is not specified the encoding used is platform\n",
      "    dependent: locale.getpreferredencoding(False) is called to get the\n",
      "    current locale encoding. (For reading and writing raw bytes use binary\n",
      "    mode and leave encoding unspecified.) The available modes are:\n",
      "    \n",
      "    ========= ===============================================================\n",
      "    Character Meaning\n",
      "    --------- ---------------------------------------------------------------\n",
      "    'r'       open for reading (default)\n",
      "    'w'       open for writing, truncating the file first\n",
      "    'x'       create a new file and open it for writing\n",
      "    'a'       open for writing, appending to the end of the file if it exists\n",
      "    'b'       binary mode\n",
      "    't'       text mode (default)\n",
      "    '+'       open a disk file for updating (reading and writing)\n",
      "    'U'       universal newline mode (deprecated)\n",
      "    ========= ===============================================================\n",
      "    \n",
      "    The default mode is 'rt' (open for reading text). For binary random\n",
      "    access, the mode 'w+b' opens and truncates the file to 0 bytes, while\n",
      "    'r+b' opens the file without truncation. The 'x' mode implies 'w' and\n",
      "    raises an `FileExistsError` if the file already exists.\n",
      "    \n",
      "    Python distinguishes between files opened in binary and text modes,\n",
      "    even when the underlying operating system doesn't. Files opened in\n",
      "    binary mode (appending 'b' to the mode argument) return contents as\n",
      "    bytes objects without any decoding. In text mode (the default, or when\n",
      "    't' is appended to the mode argument), the contents of the file are\n",
      "    returned as strings, the bytes having been first decoded using a\n",
      "    platform-dependent encoding or using the specified encoding if given.\n",
      "    \n",
      "    'U' mode is deprecated and will raise an exception in future versions\n",
      "    of Python.  It has no effect in Python 3.  Use newline to control\n",
      "    universal newlines mode.\n",
      "    \n",
      "    buffering is an optional integer used to set the buffering policy.\n",
      "    Pass 0 to switch buffering off (only allowed in binary mode), 1 to select\n",
      "    line buffering (only usable in text mode), and an integer > 1 to indicate\n",
      "    the size of a fixed-size chunk buffer.  When no buffering argument is\n",
      "    given, the default buffering policy works as follows:\n",
      "    \n",
      "    * Binary files are buffered in fixed-size chunks; the size of the buffer\n",
      "      is chosen using a heuristic trying to determine the underlying device's\n",
      "      \"block size\" and falling back on `io.DEFAULT_BUFFER_SIZE`.\n",
      "      On many systems, the buffer will typically be 4096 or 8192 bytes long.\n",
      "    \n",
      "    * \"Interactive\" text files (files for which isatty() returns True)\n",
      "      use line buffering.  Other text files use the policy described above\n",
      "      for binary files.\n",
      "    \n",
      "    encoding is the name of the encoding used to decode or encode the\n",
      "    file. This should only be used in text mode. The default encoding is\n",
      "    platform dependent, but any encoding supported by Python can be\n",
      "    passed.  See the codecs module for the list of supported encodings.\n",
      "    \n",
      "    errors is an optional string that specifies how encoding errors are to\n",
      "    be handled---this argument should not be used in binary mode. Pass\n",
      "    'strict' to raise a ValueError exception if there is an encoding error\n",
      "    (the default of None has the same effect), or pass 'ignore' to ignore\n",
      "    errors. (Note that ignoring encoding errors can lead to data loss.)\n",
      "    See the documentation for codecs.register or run 'help(codecs.Codec)'\n",
      "    for a list of the permitted encoding error strings.\n",
      "    \n",
      "    newline controls how universal newlines works (it only applies to text\n",
      "    mode). It can be None, '', '\\n', '\\r', and '\\r\\n'.  It works as\n",
      "    follows:\n",
      "    \n",
      "    * On input, if newline is None, universal newlines mode is\n",
      "      enabled. Lines in the input can end in '\\n', '\\r', or '\\r\\n', and\n",
      "      these are translated into '\\n' before being returned to the\n",
      "      caller. If it is '', universal newline mode is enabled, but line\n",
      "      endings are returned to the caller untranslated. If it has any of\n",
      "      the other legal values, input lines are only terminated by the given\n",
      "      string, and the line ending is returned to the caller untranslated.\n",
      "    \n",
      "    * On output, if newline is None, any '\\n' characters written are\n",
      "      translated to the system default line separator, os.linesep. If\n",
      "      newline is '' or '\\n', no translation takes place. If newline is any\n",
      "      of the other legal values, any '\\n' characters written are translated\n",
      "      to the given string.\n",
      "    \n",
      "    If closefd is False, the underlying file descriptor will be kept open\n",
      "    when the file is closed. This does not work when a file name is given\n",
      "    and must be True in that case.\n",
      "    \n",
      "    A custom opener can be used by passing a callable as *opener*. The\n",
      "    underlying file descriptor for the file object is then obtained by\n",
      "    calling *opener* with (*file*, *flags*). *opener* must return an open\n",
      "    file descriptor (passing os.open as *opener* results in functionality\n",
      "    similar to passing None).\n",
      "    \n",
      "    open() returns a file object whose type depends on the mode, and\n",
      "    through which the standard file operations such as reading and writing\n",
      "    are performed. When open() is used to open a file in a text mode ('w',\n",
      "    'r', 'wt', 'rt', etc.), it returns a TextIOWrapper. When used to open\n",
      "    a file in a binary mode, the returned class varies: in read binary\n",
      "    mode, it returns a BufferedReader; in write binary and append binary\n",
      "    modes, it returns a BufferedWriter, and in read/write mode, it returns\n",
      "    a BufferedRandom.\n",
      "    \n",
      "    It is also possible to use a string or bytearray as a file for both\n",
      "    reading and writing. For strings StringIO can be used like a file\n",
      "    opened in a text mode, and for bytes a BytesIO can be used like a file\n",
      "    opened in a binary mode.\n",
      "\n"
     ]
    }
   ],
   "source": [
    "help(open)"
   ]
  },
  {
   "cell_type": "code",
   "execution_count": 1,
   "id": "a82b4de9",
   "metadata": {},
   "outputs": [
    {
     "data": {
      "text/plain": [
       "2"
      ]
     },
     "execution_count": 1,
     "metadata": {},
     "output_type": "execute_result"
    }
   ],
   "source": [
    "l1 = [1, 2, 3, 3]\n",
    "l1.count(3)"
   ]
  },
  {
   "cell_type": "code",
   "execution_count": 8,
   "id": "f6c25cee",
   "metadata": {},
   "outputs": [],
   "source": [
    "s1 = 'gDssj'"
   ]
  },
  {
   "cell_type": "code",
   "execution_count": 9,
   "id": "9e8412ed",
   "metadata": {},
   "outputs": [
    {
     "data": {
      "text/plain": [
       "'Gdssj'"
      ]
     },
     "execution_count": 9,
     "metadata": {},
     "output_type": "execute_result"
    }
   ],
   "source": [
    "s1.title()"
   ]
  },
  {
   "cell_type": "code",
   "execution_count": null,
   "id": "ead7ffa9",
   "metadata": {},
   "outputs": [],
   "source": []
  }
 ],
 "metadata": {
  "kernelspec": {
   "display_name": "Python 3 (ipykernel)",
   "language": "python",
   "name": "python3"
  },
  "language_info": {
   "codemirror_mode": {
    "name": "ipython",
    "version": 3
   },
   "file_extension": ".py",
   "mimetype": "text/x-python",
   "name": "python",
   "nbconvert_exporter": "python",
   "pygments_lexer": "ipython3",
   "version": "3.8.10"
  },
  "toc": {
   "base_numbering": 1,
   "nav_menu": {},
   "number_sections": true,
   "sideBar": true,
   "skip_h1_title": false,
   "title_cell": "Table of Contents",
   "title_sidebar": "Contents",
   "toc_cell": false,
   "toc_position": {},
   "toc_section_display": true,
   "toc_window_display": false
  }
 },
 "nbformat": 4,
 "nbformat_minor": 5
}
