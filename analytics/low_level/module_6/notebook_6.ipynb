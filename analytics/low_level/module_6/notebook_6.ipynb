{
 "cells": [
  {
   "cell_type": "markdown",
   "id": "06213b9d",
   "metadata": {},
   "source": [
    "# The module 6 by analytics : namespice"
   ]
  },
  {
   "cell_type": "code",
   "execution_count": 1,
   "id": "14b68170",
   "metadata": {},
   "outputs": [],
   "source": [
    "x = 5\n",
    "def f1(a, b=[]):\n",
    "    pass\n"
   ]
  },
  {
   "cell_type": "code",
   "execution_count": 4,
   "id": "07c59afe",
   "metadata": {},
   "outputs": [
    {
     "ename": "NameError",
     "evalue": "name 'b' is not defined",
     "output_type": "error",
     "traceback": [
      "\u001b[0;31m---------------------------------------------------------------------------\u001b[0m",
      "\u001b[0;31mNameError\u001b[0m                                 Traceback (most recent call last)",
      "\u001b[0;32m/tmp/ipykernel_36783/2189922574.py\u001b[0m in \u001b[0;36m<module>\u001b[0;34m\u001b[0m\n\u001b[1;32m      1\u001b[0m \u001b[0mf1\u001b[0m\u001b[0;34m(\u001b[0m\u001b[0;36m5\u001b[0m\u001b[0;34m)\u001b[0m\u001b[0;34m\u001b[0m\u001b[0;34m\u001b[0m\u001b[0m\n\u001b[0;32m----> 2\u001b[0;31m \u001b[0mb\u001b[0m\u001b[0;34m\u001b[0m\u001b[0;34m\u001b[0m\u001b[0m\n\u001b[0m",
      "\u001b[0;31mNameError\u001b[0m: name 'b' is not defined"
     ]
    }
   ],
   "source": [
    "f1(5)\n",
    "b"
   ]
  },
  {
   "cell_type": "code",
   "execution_count": 36,
   "id": "b6965317",
   "metadata": {},
   "outputs": [],
   "source": [
    "# create the function with arbitrary positional arguments \n",
    "\n",
    "def print_p(*args):\n",
    "    print(args)\n",
    "    print(type(args))\n",
    "    for i, arg in enumerate(args):\n",
    "        print(f'position agr {i}' + \\\n",
    "        f' is value {arg}')"
   ]
  },
  {
   "cell_type": "code",
   "execution_count": 37,
   "id": "e1ef7381",
   "metadata": {},
   "outputs": [
    {
     "name": "stdout",
     "output_type": "stream",
     "text": [
      "(1, 2)\n",
      "<class 'tuple'>\n",
      "position agr 0 is value 1\n",
      "position agr 1 is value 2\n"
     ]
    }
   ],
   "source": [
    "print_p(1, 2)"
   ]
  },
  {
   "cell_type": "code",
   "execution_count": 38,
   "id": "8ea5762e",
   "metadata": {},
   "outputs": [
    {
     "name": "stdout",
     "output_type": "stream",
     "text": [
      "(1, 2, 3, 4, 5, 9391294, 'sgs')\n",
      "<class 'tuple'>\n",
      "position agr 0 is value 1\n",
      "position agr 1 is value 2\n",
      "position agr 2 is value 3\n",
      "position agr 3 is value 4\n",
      "position agr 4 is value 5\n",
      "position agr 5 is value 9391294\n",
      "position agr 6 is value sgs\n"
     ]
    }
   ],
   "source": [
    "print_p(1, 2, 3, 4, 5, 9391294, 'sgs')"
   ]
  },
  {
   "cell_type": "code",
   "execution_count": 39,
   "id": "c18ccb46",
   "metadata": {},
   "outputs": [],
   "source": [
    "# create the fuction with arbitrary named arguments:\n",
    "\n",
    "def print_n(**kwargs):\n",
    "    print(type(kwargs))\n",
    "    for index, value in kwargs.items():\n",
    "        print(f'class- {index} : {value}')"
   ]
  },
  {
   "cell_type": "code",
   "execution_count": 40,
   "id": "1b7f6beb",
   "metadata": {},
   "outputs": [
    {
     "name": "stdout",
     "output_type": "stream",
     "text": [
      "<class 'dict'>\n",
      "class- name : Dany\n",
      "class- City : New York\n"
     ]
    }
   ],
   "source": [
    "person1 ={'name': 'Dany', 'City': 'New York'}\n",
    "\n",
    "print_n(**person1)"
   ]
  },
  {
   "cell_type": "code",
   "execution_count": 41,
   "id": "061de24f",
   "metadata": {},
   "outputs": [
    {
     "name": "stdout",
     "output_type": "stream",
     "text": [
      "<class 'dict'>\n",
      "class- name : Dany\n",
      "class- City : New York\n",
      "class- home : 9\n"
     ]
    }
   ],
   "source": [
    "print_n(name='Dany', City='New York', home='9')"
   ]
  },
  {
   "cell_type": "code",
   "execution_count": 43,
   "id": "1d55a93d",
   "metadata": {},
   "outputs": [],
   "source": [
    "# often recursion use for find elemene in the tree\n",
    "html_dom = {\n",
    "    'html': {\n",
    "        'head': {\n",
    "            'title': 'Колобок',\n",
    "        },\n",
    "        'body': {\n",
    "            'h2': 'Привет!',\n",
    "            'div': 'Хочешь, я расскажу тебе сказку?',\n",
    "            'p': 'Жили-были старик со старухой...',\n",
    "        }\n",
    "    }\n",
    "}"
   ]
  },
  {
   "cell_type": "code",
   "execution_count": 44,
   "id": "7962f1c8",
   "metadata": {},
   "outputs": [],
   "source": [
    "def find_element(tree, element_name):\n",
    "    if element_name in tree:\n",
    "        result = tree[element_name]\n",
    "    else:\n",
    "        for key, sub_tree in tree.items():\n",
    "            if isinstance(sub_tree, dict):\n",
    "                result = find_element(tree=sub_tree, element_name=element_name)\n",
    "                if result:\n",
    "                    break\n",
    "        else:\n",
    "            result = None\n",
    "    return result\n",
    "        "
   ]
  },
  {
   "cell_type": "code",
   "execution_count": 48,
   "id": "d64bb5f7",
   "metadata": {},
   "outputs": [
    {
     "data": {
      "text/plain": [
       "{'h2': 'Привет!',\n",
       " 'div': 'Хочешь, я расскажу тебе сказку?',\n",
       " 'p': 'Жили-были старик со старухой...'}"
      ]
     },
     "execution_count": 48,
     "metadata": {},
     "output_type": "execute_result"
    }
   ],
   "source": [
    "find_element(html_dom, 'body')"
   ]
  },
  {
   "cell_type": "code",
   "execution_count": null,
   "id": "afeb13d3",
   "metadata": {},
   "outputs": [],
   "source": []
  }
 ],
 "metadata": {
  "kernelspec": {
   "display_name": "Python 3 (ipykernel)",
   "language": "python",
   "name": "python3"
  },
  "language_info": {
   "codemirror_mode": {
    "name": "ipython",
    "version": 3
   },
   "file_extension": ".py",
   "mimetype": "text/x-python",
   "name": "python",
   "nbconvert_exporter": "python",
   "pygments_lexer": "ipython3",
   "version": "3.8.10"
  },
  "toc": {
   "base_numbering": 1,
   "nav_menu": {},
   "number_sections": true,
   "sideBar": true,
   "skip_h1_title": false,
   "title_cell": "Table of Contents",
   "title_sidebar": "Contents",
   "toc_cell": false,
   "toc_position": {},
   "toc_section_display": true,
   "toc_window_display": false
  }
 },
 "nbformat": 4,
 "nbformat_minor": 5
}
