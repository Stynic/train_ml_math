{
 "cells": [
  {
   "cell_type": "markdown",
   "id": "06213b9d",
   "metadata": {},
   "source": [
    "# The module 7 by analytics : "
   ]
  },
  {
   "cell_type": "code",
   "execution_count": 32,
   "id": "5a813924",
   "metadata": {},
   "outputs": [],
   "source": [
    "import csv"
   ]
  },
  {
   "cell_type": "code",
   "execution_count": 71,
   "id": "ff9d77eb",
   "metadata": {},
   "outputs": [],
   "source": [
    "file_path = 'click_stream3.csv'"
   ]
  },
  {
   "cell_type": "code",
   "execution_count": 72,
   "id": "05470fcc",
   "metadata": {},
   "outputs": [],
   "source": [
    "with open(file_path, mode='r') as csv_file:\n",
    "    csv_reader = csv.DictReader(csv_file,\n",
    "                                fieldnames=['ID', 'page', 'date'])\n",
    "    type_page = {}\n",
    "    for row in csv_reader:\n",
    "        page = list(row.items())[1][1]\n",
    "        if page not in type_page:\n",
    "            type_page[page] = 1\n",
    "        else:\n",
    "            type_page[page] += 1"
   ]
  },
  {
   "cell_type": "code",
   "execution_count": 73,
   "id": "8f387274",
   "metadata": {},
   "outputs": [
    {
     "data": {
      "text/plain": [
       "{'1_home_page': 90400,\n",
       " '2_search_page': 45200,\n",
       " '3_payment_page': 6030,\n",
       " '4_payment_confirmation_page': 452}"
      ]
     },
     "execution_count": 73,
     "metadata": {},
     "output_type": "execute_result"
    }
   ],
   "source": [
    "type_page"
   ]
  },
  {
   "cell_type": "code",
   "execution_count": 75,
   "id": "1d2f1d92",
   "metadata": {
    "scrolled": true
   },
   "outputs": [
    {
     "name": "stdout",
     "output_type": "stream",
     "text": [
      "Customers that was on the page 1_home_page: 90400 It is 1.0% \n",
      "Customers that was on the page 2_search_page: 45200 It is 0.5% \n",
      "Customers that was on the page 3_payment_page: 6030 It is 0.06670353982300885% \n",
      "Customers that was on the page 4_payment_confirmation_page: 452 It is 0.005% \n"
     ]
    }
   ],
   "source": [
    "def count_funnel(curr_p:int, init_p:int):\n",
    "    return curr_p / init_p\n",
    "init_position = type_page['1_home_page']\n",
    "for _type, _count in type_page.items():\n",
    "    print(f'Customers that was on the page {_type}: {_count} It is {count_funnel(_count, init_position)}% ')"
   ]
  },
  {
   "cell_type": "code",
   "execution_count": 36,
   "id": "9f05aa27",
   "metadata": {},
   "outputs": [],
   "source": [
    "import pandas as pd\n",
    "customers = pd.read_csv(file_path)"
   ]
  },
  {
   "cell_type": "code",
   "execution_count": 24,
   "id": "16ecd563",
   "metadata": {},
   "outputs": [
    {
     "data": {
      "text/html": [
       "<div>\n",
       "<style scoped>\n",
       "    .dataframe tbody tr th:only-of-type {\n",
       "        vertical-align: middle;\n",
       "    }\n",
       "\n",
       "    .dataframe tbody tr th {\n",
       "        vertical-align: top;\n",
       "    }\n",
       "\n",
       "    .dataframe thead th {\n",
       "        text-align: right;\n",
       "    }\n",
       "</style>\n",
       "<table border=\"1\" class=\"dataframe\">\n",
       "  <thead>\n",
       "    <tr style=\"text-align: right;\">\n",
       "      <th></th>\n",
       "      <th>id</th>\n",
       "      <th>page</th>\n",
       "      <th>date</th>\n",
       "      <th>os</th>\n",
       "      <th>sex</th>\n",
       "    </tr>\n",
       "  </thead>\n",
       "  <tbody>\n",
       "    <tr>\n",
       "      <th>0</th>\n",
       "      <td>313593</td>\n",
       "      <td>1_home_page</td>\n",
       "      <td>2015-02-26</td>\n",
       "      <td>Desktop</td>\n",
       "      <td>Female</td>\n",
       "    </tr>\n",
       "    <tr>\n",
       "      <th>1</th>\n",
       "      <td>468315</td>\n",
       "      <td>1_home_page</td>\n",
       "      <td>2015-02-21</td>\n",
       "      <td>Desktop</td>\n",
       "      <td>Male</td>\n",
       "    </tr>\n",
       "    <tr>\n",
       "      <th>2</th>\n",
       "      <td>264005</td>\n",
       "      <td>1_home_page</td>\n",
       "      <td>2015-03-25</td>\n",
       "      <td>Desktop</td>\n",
       "      <td>Female</td>\n",
       "    </tr>\n",
       "    <tr>\n",
       "      <th>3</th>\n",
       "      <td>290784</td>\n",
       "      <td>1_home_page</td>\n",
       "      <td>2015-03-14</td>\n",
       "      <td>Desktop</td>\n",
       "      <td>Male</td>\n",
       "    </tr>\n",
       "    <tr>\n",
       "      <th>4</th>\n",
       "      <td>639104</td>\n",
       "      <td>1_home_page</td>\n",
       "      <td>2015-01-03</td>\n",
       "      <td>Desktop</td>\n",
       "      <td>Female</td>\n",
       "    </tr>\n",
       "    <tr>\n",
       "      <th>...</th>\n",
       "      <td>...</td>\n",
       "      <td>...</td>\n",
       "      <td>...</td>\n",
       "      <td>...</td>\n",
       "      <td>...</td>\n",
       "    </tr>\n",
       "    <tr>\n",
       "      <th>142077</th>\n",
       "      <td>397473</td>\n",
       "      <td>4_payment_confirmation_page</td>\n",
       "      <td>2015-01-12</td>\n",
       "      <td>Mobile</td>\n",
       "      <td>Female</td>\n",
       "    </tr>\n",
       "    <tr>\n",
       "      <th>142078</th>\n",
       "      <td>860829</td>\n",
       "      <td>4_payment_confirmation_page</td>\n",
       "      <td>2015-02-07</td>\n",
       "      <td>Mobile</td>\n",
       "      <td>Female</td>\n",
       "    </tr>\n",
       "    <tr>\n",
       "      <th>142079</th>\n",
       "      <td>371291</td>\n",
       "      <td>4_payment_confirmation_page</td>\n",
       "      <td>2015-02-17</td>\n",
       "      <td>Mobile</td>\n",
       "      <td>Female</td>\n",
       "    </tr>\n",
       "    <tr>\n",
       "      <th>142080</th>\n",
       "      <td>263707</td>\n",
       "      <td>4_payment_confirmation_page</td>\n",
       "      <td>2015-03-20</td>\n",
       "      <td>Mobile</td>\n",
       "      <td>Female</td>\n",
       "    </tr>\n",
       "    <tr>\n",
       "      <th>142081</th>\n",
       "      <td>892101</td>\n",
       "      <td>4_payment_confirmation_page</td>\n",
       "      <td>2015-01-06</td>\n",
       "      <td>Desktop</td>\n",
       "      <td>Male</td>\n",
       "    </tr>\n",
       "  </tbody>\n",
       "</table>\n",
       "<p>142082 rows × 5 columns</p>\n",
       "</div>"
      ],
      "text/plain": [
       "            id                         page        date       os     sex\n",
       "0       313593                  1_home_page  2015-02-26  Desktop  Female\n",
       "1       468315                  1_home_page  2015-02-21  Desktop    Male\n",
       "2       264005                  1_home_page  2015-03-25  Desktop  Female\n",
       "3       290784                  1_home_page  2015-03-14  Desktop    Male\n",
       "4       639104                  1_home_page  2015-01-03  Desktop  Female\n",
       "...        ...                          ...         ...      ...     ...\n",
       "142077  397473  4_payment_confirmation_page  2015-01-12   Mobile  Female\n",
       "142078  860829  4_payment_confirmation_page  2015-02-07   Mobile  Female\n",
       "142079  371291  4_payment_confirmation_page  2015-02-17   Mobile  Female\n",
       "142080  263707  4_payment_confirmation_page  2015-03-20   Mobile  Female\n",
       "142081  892101  4_payment_confirmation_page  2015-01-06  Desktop    Male\n",
       "\n",
       "[142082 rows x 5 columns]"
      ]
     },
     "execution_count": 24,
     "metadata": {},
     "output_type": "execute_result"
    }
   ],
   "source": [
    "customers"
   ]
  },
  {
   "cell_type": "code",
   "execution_count": 31,
   "id": "8b2d98d0",
   "metadata": {},
   "outputs": [
    {
     "data": {
      "text/plain": [
       "1_home_page                    90400\n",
       "2_search_page                  45200\n",
       "3_payment_page                  6030\n",
       "4_payment_confirmation_page      452\n",
       "Name: page, dtype: int64"
      ]
     },
     "execution_count": 31,
     "metadata": {},
     "output_type": "execute_result"
    }
   ],
   "source": [
    "customers['page'].value_counts()"
   ]
  },
  {
   "cell_type": "code",
   "execution_count": 58,
   "id": "d0794f88",
   "metadata": {
    "scrolled": true
   },
   "outputs": [
    {
     "data": {
      "text/plain": [
       "0.005"
      ]
     },
     "execution_count": 58,
     "metadata": {},
     "output_type": "execute_result"
    }
   ],
   "source": [
    "customers_confirmation = customers['page'].value_counts()[3] / customers['page'].value_counts()[0]\n",
    "customers_confirmation"
   ]
  },
  {
   "cell_type": "code",
   "execution_count": null,
   "id": "f7d659f1",
   "metadata": {},
   "outputs": [],
   "source": []
  }
 ],
 "metadata": {
  "kernelspec": {
   "display_name": "Python 3 (ipykernel)",
   "language": "python",
   "name": "python3"
  },
  "language_info": {
   "codemirror_mode": {
    "name": "ipython",
    "version": 3
   },
   "file_extension": ".py",
   "mimetype": "text/x-python",
   "name": "python",
   "nbconvert_exporter": "python",
   "pygments_lexer": "ipython3",
   "version": "3.8.10"
  },
  "toc": {
   "base_numbering": 1,
   "nav_menu": {},
   "number_sections": true,
   "sideBar": true,
   "skip_h1_title": false,
   "title_cell": "Table of Contents",
   "title_sidebar": "Contents",
   "toc_cell": false,
   "toc_position": {},
   "toc_section_display": true,
   "toc_window_display": false
  }
 },
 "nbformat": 4,
 "nbformat_minor": 5
}
