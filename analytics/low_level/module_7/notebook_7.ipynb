{
 "cells": [
  {
   "cell_type": "markdown",
   "id": "06213b9d",
   "metadata": {},
   "source": [
    "# The module 7 by analytics : "
   ]
  },
  {
   "cell_type": "markdown",
   "id": "9b4d936b",
   "metadata": {},
   "source": [
    "## lesson 1 - 2"
   ]
  },
  {
   "cell_type": "code",
   "execution_count": 32,
   "id": "5a813924",
   "metadata": {},
   "outputs": [],
   "source": [
    "import csv"
   ]
  },
  {
   "cell_type": "code",
   "execution_count": 71,
   "id": "ff9d77eb",
   "metadata": {},
   "outputs": [],
   "source": [
    "file_path = 'click_stream3.csv'"
   ]
  },
  {
   "cell_type": "code",
   "execution_count": 72,
   "id": "05470fcc",
   "metadata": {},
   "outputs": [],
   "source": [
    "with open(file_path, mode='r') as csv_file:\n",
    "    csv_reader = csv.DictReader(csv_file,\n",
    "                                fieldnames=['ID', 'page', 'date'])\n",
    "    type_page = {}\n",
    "    for row in csv_reader:\n",
    "        page = list(row.items())[1][1]\n",
    "        if page not in type_page:\n",
    "            type_page[page] = 1\n",
    "        else:\n",
    "            type_page[page] += 1"
   ]
  },
  {
   "cell_type": "code",
   "execution_count": 126,
   "id": "492f1e38",
   "metadata": {},
   "outputs": [],
   "source": [
    "mounth = {'01': 'January',\n",
    "          '02': 'February',\n",
    "          '03': 'March',\n",
    "          '04': 'April'}"
   ]
  },
  {
   "cell_type": "code",
   "execution_count": 73,
   "id": "8f387274",
   "metadata": {},
   "outputs": [
    {
     "data": {
      "text/plain": [
       "{'1_home_page': 90400,\n",
       " '2_search_page': 45200,\n",
       " '3_payment_page': 6030,\n",
       " '4_payment_confirmation_page': 452}"
      ]
     },
     "execution_count": 73,
     "metadata": {},
     "output_type": "execute_result"
    }
   ],
   "source": [
    "type_page"
   ]
  },
  {
   "cell_type": "code",
   "execution_count": 75,
   "id": "1d2f1d92",
   "metadata": {
    "scrolled": true
   },
   "outputs": [
    {
     "name": "stdout",
     "output_type": "stream",
     "text": [
      "Customers that was on the page 1_home_page: 90400 It is 1.0% \n",
      "Customers that was on the page 2_search_page: 45200 It is 0.5% \n",
      "Customers that was on the page 3_payment_page: 6030 It is 0.06670353982300885% \n",
      "Customers that was on the page 4_payment_confirmation_page: 452 It is 0.005% \n"
     ]
    }
   ],
   "source": [
    "def count_funnel(curr_p:int, init_p:int):\n",
    "    return curr_p / init_p\n",
    "init_position = type_page['1_home_page']\n",
    "for _type, _count in type_page.items():\n",
    "    print(f'Customers that was on the page {_type}: {_count} It is {count_funnel(_count, init_position)}% ')"
   ]
  },
  {
   "cell_type": "code",
   "execution_count": 36,
   "id": "9f05aa27",
   "metadata": {},
   "outputs": [],
   "source": [
    "import pandas as pd\n",
    "customers = pd.read_csv(file_path)"
   ]
  },
  {
   "cell_type": "code",
   "execution_count": 24,
   "id": "16ecd563",
   "metadata": {},
   "outputs": [
    {
     "data": {
      "text/html": [
       "<div>\n",
       "<style scoped>\n",
       "    .dataframe tbody tr th:only-of-type {\n",
       "        vertical-align: middle;\n",
       "    }\n",
       "\n",
       "    .dataframe tbody tr th {\n",
       "        vertical-align: top;\n",
       "    }\n",
       "\n",
       "    .dataframe thead th {\n",
       "        text-align: right;\n",
       "    }\n",
       "</style>\n",
       "<table border=\"1\" class=\"dataframe\">\n",
       "  <thead>\n",
       "    <tr style=\"text-align: right;\">\n",
       "      <th></th>\n",
       "      <th>id</th>\n",
       "      <th>page</th>\n",
       "      <th>date</th>\n",
       "      <th>os</th>\n",
       "      <th>sex</th>\n",
       "    </tr>\n",
       "  </thead>\n",
       "  <tbody>\n",
       "    <tr>\n",
       "      <th>0</th>\n",
       "      <td>313593</td>\n",
       "      <td>1_home_page</td>\n",
       "      <td>2015-02-26</td>\n",
       "      <td>Desktop</td>\n",
       "      <td>Female</td>\n",
       "    </tr>\n",
       "    <tr>\n",
       "      <th>1</th>\n",
       "      <td>468315</td>\n",
       "      <td>1_home_page</td>\n",
       "      <td>2015-02-21</td>\n",
       "      <td>Desktop</td>\n",
       "      <td>Male</td>\n",
       "    </tr>\n",
       "    <tr>\n",
       "      <th>2</th>\n",
       "      <td>264005</td>\n",
       "      <td>1_home_page</td>\n",
       "      <td>2015-03-25</td>\n",
       "      <td>Desktop</td>\n",
       "      <td>Female</td>\n",
       "    </tr>\n",
       "    <tr>\n",
       "      <th>3</th>\n",
       "      <td>290784</td>\n",
       "      <td>1_home_page</td>\n",
       "      <td>2015-03-14</td>\n",
       "      <td>Desktop</td>\n",
       "      <td>Male</td>\n",
       "    </tr>\n",
       "    <tr>\n",
       "      <th>4</th>\n",
       "      <td>639104</td>\n",
       "      <td>1_home_page</td>\n",
       "      <td>2015-01-03</td>\n",
       "      <td>Desktop</td>\n",
       "      <td>Female</td>\n",
       "    </tr>\n",
       "    <tr>\n",
       "      <th>...</th>\n",
       "      <td>...</td>\n",
       "      <td>...</td>\n",
       "      <td>...</td>\n",
       "      <td>...</td>\n",
       "      <td>...</td>\n",
       "    </tr>\n",
       "    <tr>\n",
       "      <th>142077</th>\n",
       "      <td>397473</td>\n",
       "      <td>4_payment_confirmation_page</td>\n",
       "      <td>2015-01-12</td>\n",
       "      <td>Mobile</td>\n",
       "      <td>Female</td>\n",
       "    </tr>\n",
       "    <tr>\n",
       "      <th>142078</th>\n",
       "      <td>860829</td>\n",
       "      <td>4_payment_confirmation_page</td>\n",
       "      <td>2015-02-07</td>\n",
       "      <td>Mobile</td>\n",
       "      <td>Female</td>\n",
       "    </tr>\n",
       "    <tr>\n",
       "      <th>142079</th>\n",
       "      <td>371291</td>\n",
       "      <td>4_payment_confirmation_page</td>\n",
       "      <td>2015-02-17</td>\n",
       "      <td>Mobile</td>\n",
       "      <td>Female</td>\n",
       "    </tr>\n",
       "    <tr>\n",
       "      <th>142080</th>\n",
       "      <td>263707</td>\n",
       "      <td>4_payment_confirmation_page</td>\n",
       "      <td>2015-03-20</td>\n",
       "      <td>Mobile</td>\n",
       "      <td>Female</td>\n",
       "    </tr>\n",
       "    <tr>\n",
       "      <th>142081</th>\n",
       "      <td>892101</td>\n",
       "      <td>4_payment_confirmation_page</td>\n",
       "      <td>2015-01-06</td>\n",
       "      <td>Desktop</td>\n",
       "      <td>Male</td>\n",
       "    </tr>\n",
       "  </tbody>\n",
       "</table>\n",
       "<p>142082 rows × 5 columns</p>\n",
       "</div>"
      ],
      "text/plain": [
       "            id                         page        date       os     sex\n",
       "0       313593                  1_home_page  2015-02-26  Desktop  Female\n",
       "1       468315                  1_home_page  2015-02-21  Desktop    Male\n",
       "2       264005                  1_home_page  2015-03-25  Desktop  Female\n",
       "3       290784                  1_home_page  2015-03-14  Desktop    Male\n",
       "4       639104                  1_home_page  2015-01-03  Desktop  Female\n",
       "...        ...                          ...         ...      ...     ...\n",
       "142077  397473  4_payment_confirmation_page  2015-01-12   Mobile  Female\n",
       "142078  860829  4_payment_confirmation_page  2015-02-07   Mobile  Female\n",
       "142079  371291  4_payment_confirmation_page  2015-02-17   Mobile  Female\n",
       "142080  263707  4_payment_confirmation_page  2015-03-20   Mobile  Female\n",
       "142081  892101  4_payment_confirmation_page  2015-01-06  Desktop    Male\n",
       "\n",
       "[142082 rows x 5 columns]"
      ]
     },
     "execution_count": 24,
     "metadata": {},
     "output_type": "execute_result"
    }
   ],
   "source": [
    "customers"
   ]
  },
  {
   "cell_type": "code",
   "execution_count": 31,
   "id": "8b2d98d0",
   "metadata": {},
   "outputs": [
    {
     "data": {
      "text/plain": [
       "1_home_page                    90400\n",
       "2_search_page                  45200\n",
       "3_payment_page                  6030\n",
       "4_payment_confirmation_page      452\n",
       "Name: page, dtype: int64"
      ]
     },
     "execution_count": 31,
     "metadata": {},
     "output_type": "execute_result"
    }
   ],
   "source": [
    "customers['page'].value_counts()"
   ]
  },
  {
   "cell_type": "code",
   "execution_count": 58,
   "id": "d0794f88",
   "metadata": {
    "scrolled": true
   },
   "outputs": [
    {
     "data": {
      "text/plain": [
       "0.005"
      ]
     },
     "execution_count": 58,
     "metadata": {},
     "output_type": "execute_result"
    }
   ],
   "source": [
    "customers_confirmation = customers['page'].value_counts()[3] / customers['page'].value_counts()[0]\n",
    "customers_confirmation"
   ]
  },
  {
   "cell_type": "markdown",
   "id": "241bad2c",
   "metadata": {},
   "source": [
    "## lesson 3-4"
   ]
  },
  {
   "cell_type": "code",
   "execution_count": 145,
   "id": "df229749",
   "metadata": {},
   "outputs": [],
   "source": [
    "import pandas as pd\n",
    "import matplotlib\n",
    "import matplotlib.pyplot as plt"
   ]
  },
  {
   "cell_type": "code",
   "execution_count": 129,
   "id": "ff9d77eb",
   "metadata": {},
   "outputs": [],
   "source": [
    "file_path = 'click_stream3_wit_name_column.csv'"
   ]
  },
  {
   "cell_type": "code",
   "execution_count": 130,
   "id": "6487b80f",
   "metadata": {},
   "outputs": [],
   "source": [
    "df = pd.read_csv(file_path)"
   ]
  },
  {
   "cell_type": "code",
   "execution_count": 131,
   "id": "c2374f42",
   "metadata": {},
   "outputs": [
    {
     "data": {
      "text/html": [
       "<div>\n",
       "<style scoped>\n",
       "    .dataframe tbody tr th:only-of-type {\n",
       "        vertical-align: middle;\n",
       "    }\n",
       "\n",
       "    .dataframe tbody tr th {\n",
       "        vertical-align: top;\n",
       "    }\n",
       "\n",
       "    .dataframe thead th {\n",
       "        text-align: right;\n",
       "    }\n",
       "</style>\n",
       "<table border=\"1\" class=\"dataframe\">\n",
       "  <thead>\n",
       "    <tr style=\"text-align: right;\">\n",
       "      <th></th>\n",
       "      <th>id</th>\n",
       "      <th>page</th>\n",
       "      <th>date</th>\n",
       "      <th>os</th>\n",
       "      <th>sex</th>\n",
       "    </tr>\n",
       "  </thead>\n",
       "  <tbody>\n",
       "    <tr>\n",
       "      <th>0</th>\n",
       "      <td>313593</td>\n",
       "      <td>1_home_page</td>\n",
       "      <td>2015-02-26</td>\n",
       "      <td>Desktop</td>\n",
       "      <td>Female</td>\n",
       "    </tr>\n",
       "    <tr>\n",
       "      <th>1</th>\n",
       "      <td>468315</td>\n",
       "      <td>1_home_page</td>\n",
       "      <td>2015-02-21</td>\n",
       "      <td>Desktop</td>\n",
       "      <td>Male</td>\n",
       "    </tr>\n",
       "    <tr>\n",
       "      <th>2</th>\n",
       "      <td>264005</td>\n",
       "      <td>1_home_page</td>\n",
       "      <td>2015-03-25</td>\n",
       "      <td>Desktop</td>\n",
       "      <td>Female</td>\n",
       "    </tr>\n",
       "    <tr>\n",
       "      <th>3</th>\n",
       "      <td>290784</td>\n",
       "      <td>1_home_page</td>\n",
       "      <td>2015-03-14</td>\n",
       "      <td>Desktop</td>\n",
       "      <td>Male</td>\n",
       "    </tr>\n",
       "    <tr>\n",
       "      <th>4</th>\n",
       "      <td>639104</td>\n",
       "      <td>1_home_page</td>\n",
       "      <td>2015-01-03</td>\n",
       "      <td>Desktop</td>\n",
       "      <td>Female</td>\n",
       "    </tr>\n",
       "    <tr>\n",
       "      <th>5</th>\n",
       "      <td>262889</td>\n",
       "      <td>1_home_page</td>\n",
       "      <td>2015-01-10</td>\n",
       "      <td>Mobile</td>\n",
       "      <td>Male</td>\n",
       "    </tr>\n",
       "    <tr>\n",
       "      <th>6</th>\n",
       "      <td>708793</td>\n",
       "      <td>1_home_page</td>\n",
       "      <td>2015-04-24</td>\n",
       "      <td>Mobile</td>\n",
       "      <td>Female</td>\n",
       "    </tr>\n",
       "    <tr>\n",
       "      <th>7</th>\n",
       "      <td>943143</td>\n",
       "      <td>1_home_page</td>\n",
       "      <td>2015-04-10</td>\n",
       "      <td>Desktop</td>\n",
       "      <td>Male</td>\n",
       "    </tr>\n",
       "    <tr>\n",
       "      <th>8</th>\n",
       "      <td>417894</td>\n",
       "      <td>1_home_page</td>\n",
       "      <td>2015-04-02</td>\n",
       "      <td>Mobile</td>\n",
       "      <td>Female</td>\n",
       "    </tr>\n",
       "    <tr>\n",
       "      <th>9</th>\n",
       "      <td>729374</td>\n",
       "      <td>1_home_page</td>\n",
       "      <td>2015-04-12</td>\n",
       "      <td>Desktop</td>\n",
       "      <td>Male</td>\n",
       "    </tr>\n",
       "  </tbody>\n",
       "</table>\n",
       "</div>"
      ],
      "text/plain": [
       "       id         page        date       os     sex\n",
       "0  313593  1_home_page  2015-02-26  Desktop  Female\n",
       "1  468315  1_home_page  2015-02-21  Desktop    Male\n",
       "2  264005  1_home_page  2015-03-25  Desktop  Female\n",
       "3  290784  1_home_page  2015-03-14  Desktop    Male\n",
       "4  639104  1_home_page  2015-01-03  Desktop  Female\n",
       "5  262889  1_home_page  2015-01-10   Mobile    Male\n",
       "6  708793  1_home_page  2015-04-24   Mobile  Female\n",
       "7  943143  1_home_page  2015-04-10  Desktop    Male\n",
       "8  417894  1_home_page  2015-04-02   Mobile  Female\n",
       "9  729374  1_home_page  2015-04-12  Desktop    Male"
      ]
     },
     "execution_count": 131,
     "metadata": {},
     "output_type": "execute_result"
    }
   ],
   "source": [
    "df.head(10)"
   ]
  },
  {
   "cell_type": "code",
   "execution_count": 132,
   "id": "004d0991",
   "metadata": {},
   "outputs": [],
   "source": [
    "df['month'] = pd.to_datetime(df['date'], format=\"%Y-%m-%d\").dt.month_name()"
   ]
  },
  {
   "cell_type": "code",
   "execution_count": 133,
   "id": "7be0a20f",
   "metadata": {},
   "outputs": [
    {
     "data": {
      "text/html": [
       "<div>\n",
       "<style scoped>\n",
       "    .dataframe tbody tr th:only-of-type {\n",
       "        vertical-align: middle;\n",
       "    }\n",
       "\n",
       "    .dataframe tbody tr th {\n",
       "        vertical-align: top;\n",
       "    }\n",
       "\n",
       "    .dataframe thead th {\n",
       "        text-align: right;\n",
       "    }\n",
       "</style>\n",
       "<table border=\"1\" class=\"dataframe\">\n",
       "  <thead>\n",
       "    <tr style=\"text-align: right;\">\n",
       "      <th></th>\n",
       "      <th>id</th>\n",
       "      <th>page</th>\n",
       "      <th>date</th>\n",
       "      <th>os</th>\n",
       "      <th>sex</th>\n",
       "      <th>month</th>\n",
       "    </tr>\n",
       "  </thead>\n",
       "  <tbody>\n",
       "    <tr>\n",
       "      <th>0</th>\n",
       "      <td>313593</td>\n",
       "      <td>1_home_page</td>\n",
       "      <td>2015-02-26</td>\n",
       "      <td>Desktop</td>\n",
       "      <td>Female</td>\n",
       "      <td>February</td>\n",
       "    </tr>\n",
       "    <tr>\n",
       "      <th>1</th>\n",
       "      <td>468315</td>\n",
       "      <td>1_home_page</td>\n",
       "      <td>2015-02-21</td>\n",
       "      <td>Desktop</td>\n",
       "      <td>Male</td>\n",
       "      <td>February</td>\n",
       "    </tr>\n",
       "    <tr>\n",
       "      <th>2</th>\n",
       "      <td>264005</td>\n",
       "      <td>1_home_page</td>\n",
       "      <td>2015-03-25</td>\n",
       "      <td>Desktop</td>\n",
       "      <td>Female</td>\n",
       "      <td>March</td>\n",
       "    </tr>\n",
       "    <tr>\n",
       "      <th>3</th>\n",
       "      <td>290784</td>\n",
       "      <td>1_home_page</td>\n",
       "      <td>2015-03-14</td>\n",
       "      <td>Desktop</td>\n",
       "      <td>Male</td>\n",
       "      <td>March</td>\n",
       "    </tr>\n",
       "    <tr>\n",
       "      <th>4</th>\n",
       "      <td>639104</td>\n",
       "      <td>1_home_page</td>\n",
       "      <td>2015-01-03</td>\n",
       "      <td>Desktop</td>\n",
       "      <td>Female</td>\n",
       "      <td>January</td>\n",
       "    </tr>\n",
       "    <tr>\n",
       "      <th>5</th>\n",
       "      <td>262889</td>\n",
       "      <td>1_home_page</td>\n",
       "      <td>2015-01-10</td>\n",
       "      <td>Mobile</td>\n",
       "      <td>Male</td>\n",
       "      <td>January</td>\n",
       "    </tr>\n",
       "    <tr>\n",
       "      <th>6</th>\n",
       "      <td>708793</td>\n",
       "      <td>1_home_page</td>\n",
       "      <td>2015-04-24</td>\n",
       "      <td>Mobile</td>\n",
       "      <td>Female</td>\n",
       "      <td>April</td>\n",
       "    </tr>\n",
       "    <tr>\n",
       "      <th>7</th>\n",
       "      <td>943143</td>\n",
       "      <td>1_home_page</td>\n",
       "      <td>2015-04-10</td>\n",
       "      <td>Desktop</td>\n",
       "      <td>Male</td>\n",
       "      <td>April</td>\n",
       "    </tr>\n",
       "    <tr>\n",
       "      <th>8</th>\n",
       "      <td>417894</td>\n",
       "      <td>1_home_page</td>\n",
       "      <td>2015-04-02</td>\n",
       "      <td>Mobile</td>\n",
       "      <td>Female</td>\n",
       "      <td>April</td>\n",
       "    </tr>\n",
       "    <tr>\n",
       "      <th>9</th>\n",
       "      <td>729374</td>\n",
       "      <td>1_home_page</td>\n",
       "      <td>2015-04-12</td>\n",
       "      <td>Desktop</td>\n",
       "      <td>Male</td>\n",
       "      <td>April</td>\n",
       "    </tr>\n",
       "  </tbody>\n",
       "</table>\n",
       "</div>"
      ],
      "text/plain": [
       "       id         page        date       os     sex     month\n",
       "0  313593  1_home_page  2015-02-26  Desktop  Female  February\n",
       "1  468315  1_home_page  2015-02-21  Desktop    Male  February\n",
       "2  264005  1_home_page  2015-03-25  Desktop  Female     March\n",
       "3  290784  1_home_page  2015-03-14  Desktop    Male     March\n",
       "4  639104  1_home_page  2015-01-03  Desktop  Female   January\n",
       "5  262889  1_home_page  2015-01-10   Mobile    Male   January\n",
       "6  708793  1_home_page  2015-04-24   Mobile  Female     April\n",
       "7  943143  1_home_page  2015-04-10  Desktop    Male     April\n",
       "8  417894  1_home_page  2015-04-02   Mobile  Female     April\n",
       "9  729374  1_home_page  2015-04-12  Desktop    Male     April"
      ]
     },
     "execution_count": 133,
     "metadata": {},
     "output_type": "execute_result"
    }
   ],
   "source": [
    "df.head(10)"
   ]
  },
  {
   "cell_type": "code",
   "execution_count": 137,
   "id": "73fb0e29",
   "metadata": {},
   "outputs": [
    {
     "data": {
      "text/plain": [
       "<pandas.core.groupby.generic.DataFrameGroupBy object at 0x7f7f264f21c0>"
      ]
     },
     "execution_count": 137,
     "metadata": {},
     "output_type": "execute_result"
    }
   ],
   "source": [
    "df.groupby('month')"
   ]
  },
  {
   "cell_type": "code",
   "execution_count": 147,
   "id": "ef3bde49",
   "metadata": {},
   "outputs": [
    {
     "data": {
      "text/plain": [
       "month     page                       \n",
       "April     1_home_page                    22600\n",
       "          2_search_page                   9080\n",
       "          3_payment_page                   597\n",
       "          4_payment_confirmation_page       46\n",
       "February  1_home_page                    22600\n",
       "          2_search_page                  13687\n",
       "          3_payment_page                  2412\n",
       "          4_payment_confirmation_page      173\n",
       "January   1_home_page                    22600\n",
       "          2_search_page                  13554\n",
       "          3_payment_page                  2390\n",
       "          4_payment_confirmation_page      189\n",
       "March     1_home_page                    22600\n",
       "          2_search_page                   8879\n",
       "          3_payment_page                   631\n",
       "          4_payment_confirmation_page       44\n",
       "Name: page, dtype: int64"
      ]
     },
     "execution_count": 147,
     "metadata": {},
     "output_type": "execute_result"
    }
   ],
   "source": [
    "month_page = df.groupby('month')['page'].value_counts()\n",
    "month_page"
   ]
  },
  {
   "cell_type": "code",
   "execution_count": 151,
   "id": "b8930128",
   "metadata": {},
   "outputs": [
    {
     "data": {
      "text/plain": [
       "<AxesSubplot:xlabel='month,page'>"
      ]
     },
     "execution_count": 151,
     "metadata": {},
     "output_type": "execute_result"
    },
    {
     "data": {
      "image/png": "[encoded data removed]",
      "text/plain": [
       "<Figure size 432x288 with 1 Axes>"
      ]
     },
     "metadata": {
      "needs_background": "light"
     },
     "output_type": "display_data"
    }
   ],
   "source": [
    "month_page.plot(kind='bar')"
   ]
  },
  {
   "cell_type": "markdown",
   "id": "47222787",
   "metadata": {},
   "source": [
    "## lesson 5"
   ]
  },
  {
   "cell_type": "code",
   "execution_count": 205,
   "id": "f17ba287",
   "metadata": {},
   "outputs": [
    {
     "data": {
      "text/html": [
       "<div>\n",
       "<style scoped>\n",
       "    .dataframe tbody tr th:only-of-type {\n",
       "        vertical-align: middle;\n",
       "    }\n",
       "\n",
       "    .dataframe tbody tr th {\n",
       "        vertical-align: top;\n",
       "    }\n",
       "\n",
       "    .dataframe thead th {\n",
       "        text-align: right;\n",
       "    }\n",
       "</style>\n",
       "<table border=\"1\" class=\"dataframe\">\n",
       "  <thead>\n",
       "    <tr style=\"text-align: right;\">\n",
       "      <th></th>\n",
       "      <th>os</th>\n",
       "      <th>month</th>\n",
       "    </tr>\n",
       "  </thead>\n",
       "  <tbody>\n",
       "    <tr>\n",
       "      <th>0</th>\n",
       "      <td>Desktop</td>\n",
       "      <td>February</td>\n",
       "    </tr>\n",
       "    <tr>\n",
       "      <th>1</th>\n",
       "      <td>Desktop</td>\n",
       "      <td>February</td>\n",
       "    </tr>\n",
       "    <tr>\n",
       "      <th>2</th>\n",
       "      <td>Desktop</td>\n",
       "      <td>March</td>\n",
       "    </tr>\n",
       "    <tr>\n",
       "      <th>3</th>\n",
       "      <td>Desktop</td>\n",
       "      <td>March</td>\n",
       "    </tr>\n",
       "    <tr>\n",
       "      <th>4</th>\n",
       "      <td>Desktop</td>\n",
       "      <td>January</td>\n",
       "    </tr>\n",
       "    <tr>\n",
       "      <th>90400</th>\n",
       "      <td>Desktop</td>\n",
       "      <td>March</td>\n",
       "    </tr>\n",
       "    <tr>\n",
       "      <th>90401</th>\n",
       "      <td>Desktop</td>\n",
       "      <td>March</td>\n",
       "    </tr>\n",
       "    <tr>\n",
       "      <th>90402</th>\n",
       "      <td>Mobile</td>\n",
       "      <td>April</td>\n",
       "    </tr>\n",
       "    <tr>\n",
       "      <th>90403</th>\n",
       "      <td>Desktop</td>\n",
       "      <td>March</td>\n",
       "    </tr>\n",
       "    <tr>\n",
       "      <th>90404</th>\n",
       "      <td>Desktop</td>\n",
       "      <td>March</td>\n",
       "    </tr>\n",
       "    <tr>\n",
       "      <th>135600</th>\n",
       "      <td>Desktop</td>\n",
       "      <td>January</td>\n",
       "    </tr>\n",
       "    <tr>\n",
       "      <th>135601</th>\n",
       "      <td>Mobile</td>\n",
       "      <td>January</td>\n",
       "    </tr>\n",
       "    <tr>\n",
       "      <th>135602</th>\n",
       "      <td>Mobile</td>\n",
       "      <td>February</td>\n",
       "    </tr>\n",
       "    <tr>\n",
       "      <th>135603</th>\n",
       "      <td>Desktop</td>\n",
       "      <td>February</td>\n",
       "    </tr>\n",
       "    <tr>\n",
       "      <th>135604</th>\n",
       "      <td>Mobile</td>\n",
       "      <td>February</td>\n",
       "    </tr>\n",
       "    <tr>\n",
       "      <th>141630</th>\n",
       "      <td>Desktop</td>\n",
       "      <td>February</td>\n",
       "    </tr>\n",
       "    <tr>\n",
       "      <th>141631</th>\n",
       "      <td>Mobile</td>\n",
       "      <td>March</td>\n",
       "    </tr>\n",
       "    <tr>\n",
       "      <th>141632</th>\n",
       "      <td>Mobile</td>\n",
       "      <td>January</td>\n",
       "    </tr>\n",
       "    <tr>\n",
       "      <th>141633</th>\n",
       "      <td>Mobile</td>\n",
       "      <td>February</td>\n",
       "    </tr>\n",
       "    <tr>\n",
       "      <th>141634</th>\n",
       "      <td>Mobile</td>\n",
       "      <td>January</td>\n",
       "    </tr>\n",
       "  </tbody>\n",
       "</table>\n",
       "</div>"
      ],
      "text/plain": [
       "             os     month\n",
       "0       Desktop  February\n",
       "1       Desktop  February\n",
       "2       Desktop     March\n",
       "3       Desktop     March\n",
       "4       Desktop   January\n",
       "90400   Desktop     March\n",
       "90401   Desktop     March\n",
       "90402    Mobile     April\n",
       "90403   Desktop     March\n",
       "90404   Desktop     March\n",
       "135600  Desktop   January\n",
       "135601   Mobile   January\n",
       "135602   Mobile  February\n",
       "135603  Desktop  February\n",
       "135604   Mobile  February\n",
       "141630  Desktop  February\n",
       "141631   Mobile     March\n",
       "141632   Mobile   January\n",
       "141633   Mobile  February\n",
       "141634   Mobile   January"
      ]
     },
     "execution_count": 205,
     "metadata": {},
     "output_type": "execute_result"
    }
   ],
   "source": [
    "month_page = df.groupby('page')[['os', 'month']]\n",
    "month_page.head()"
   ]
  },
  {
   "cell_type": "code",
   "execution_count": 204,
   "id": "68fd99b3",
   "metadata": {},
   "outputs": [
    {
     "data": {
      "text/html": [
       "<div>\n",
       "<style scoped>\n",
       "    .dataframe tbody tr th:only-of-type {\n",
       "        vertical-align: middle;\n",
       "    }\n",
       "\n",
       "    .dataframe tbody tr th {\n",
       "        vertical-align: top;\n",
       "    }\n",
       "\n",
       "    .dataframe thead th {\n",
       "        text-align: right;\n",
       "    }\n",
       "</style>\n",
       "<table border=\"1\" class=\"dataframe\">\n",
       "  <thead>\n",
       "    <tr style=\"text-align: right;\">\n",
       "      <th></th>\n",
       "      <th>0</th>\n",
       "      <th>1</th>\n",
       "    </tr>\n",
       "  </thead>\n",
       "  <tbody>\n",
       "    <tr>\n",
       "      <th>0</th>\n",
       "      <td>1_home_page</td>\n",
       "      <td>id         page        date       o...</td>\n",
       "    </tr>\n",
       "    <tr>\n",
       "      <th>1</th>\n",
       "      <td>2_search_page</td>\n",
       "      <td>id           page        date     ...</td>\n",
       "    </tr>\n",
       "    <tr>\n",
       "      <th>2</th>\n",
       "      <td>3_payment_page</td>\n",
       "      <td>id            page        date    ...</td>\n",
       "    </tr>\n",
       "    <tr>\n",
       "      <th>3</th>\n",
       "      <td>4_payment_confirmation_page</td>\n",
       "      <td>id                         page   ...</td>\n",
       "    </tr>\n",
       "  </tbody>\n",
       "</table>\n",
       "</div>"
      ],
      "text/plain": [
       "                             0  \\\n",
       "0                  1_home_page   \n",
       "1                2_search_page   \n",
       "2               3_payment_page   \n",
       "3  4_payment_confirmation_page   \n",
       "\n",
       "                                                   1  \n",
       "0             id         page        date       o...  \n",
       "1              id           page        date     ...  \n",
       "2              id            page        date    ...  \n",
       "3              id                         page   ...  "
      ]
     },
     "execution_count": 204,
     "metadata": {},
     "output_type": "execute_result"
    }
   ],
   "source": [
    "pd.DataFrame()"
   ]
  },
  {
   "cell_type": "markdown",
   "id": "f36d49da",
   "metadata": {},
   "source": [
    " <b>home page</b> - no obvious problem<br>\n",
    " <b>search page</b> - no obvious problem<br>\n",
    " <b>payment page</b> - desktop version have a conversia 3010 / 30100 = 10% сompared with mobile - 3020 / 15100 = 20%<br>\n",
    " <b>payment confirmation page</b> - here is obvious problem look at desktop, too 150/3010 = 5% compared with mobile - 302/3020 = 10%\n",
    " "
   ]
  },
  {
   "cell_type": "code",
   "execution_count": null,
   "id": "9e9b87f1",
   "metadata": {},
   "outputs": [],
   "source": []
  }
 ],
 "metadata": {
  "kernelspec": {
   "display_name": "Python 3 (ipykernel)",
   "language": "python",
   "name": "python3"
  },
  "language_info": {
   "codemirror_mode": {
    "name": "ipython",
    "version": 3
   },
   "file_extension": ".py",
   "mimetype": "text/x-python",
   "name": "python",
   "nbconvert_exporter": "python",
   "pygments_lexer": "ipython3",
   "version": "3.8.10"
  },
  "toc": {
   "base_numbering": 1,
   "nav_menu": {},
   "number_sections": true,
   "sideBar": true,
   "skip_h1_title": false,
   "title_cell": "Table of Contents",
   "title_sidebar": "Contents",
   "toc_cell": false,
   "toc_position": {},
   "toc_section_display": true,
   "toc_window_display": false
  }
 },
 "nbformat": 4,
 "nbformat_minor": 5
}
