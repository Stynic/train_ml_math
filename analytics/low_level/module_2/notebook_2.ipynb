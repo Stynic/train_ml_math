{
 "cells": [
  {
   "cell_type": "markdown",
   "id": "06213b9d",
   "metadata": {},
   "source": [
    "# The module 2 by analytics : work in the jupytor notebook"
   ]
  },
  {
   "cell_type": "markdown",
   "id": "33025915",
   "metadata": {},
   "source": [
    "*cursive*"
   ]
  },
  {
   "cell_type": "markdown",
   "id": "85ed3aad",
   "metadata": {},
   "source": [
    "**bold text**"
   ]
  },
  {
   "cell_type": "markdown",
   "id": "48c7f1cc",
   "metadata": {},
   "source": [
    "* list 1:\n",
    " 1. point 1\n",
    " 2. point 2\n",
    " 3. point 3\n",
    "* list 2:\n",
    " 1. point 1\n",
    " 2. point 2"
   ]
  },
  {
   "cell_type": "markdown",
   "id": "0d4bc5d0",
   "metadata": {},
   "source": [
    "example link is slice:\n",
    "[jupytor](https://jupyter.org/)\n",
    "<br>\n",
    "example link isn't slice\n",
    "<https://jupyter.org/><br>\n",
    "https://jupyter.org/"
   ]
  },
  {
   "cell_type": "markdown",
   "id": "f6f80e20",
   "metadata": {},
   "source": [
    "LatexMath:\n",
    "\n",
    "$$\n",
    "y_i = \\beta_0 + \\beta_1 x_i\n",
    "$$"
   ]
  },
  {
   "cell_type": "code",
   "execution_count": 2,
   "id": "e0c5f3d2",
   "metadata": {},
   "outputs": [],
   "source": [
    "from decimal import Decimal"
   ]
  },
  {
   "cell_type": "code",
   "execution_count": 7,
   "id": "4ea43345",
   "metadata": {},
   "outputs": [],
   "source": [
    "x1 = Decimal(3.525)"
   ]
  },
  {
   "cell_type": "code",
   "execution_count": 11,
   "id": "a778f083",
   "metadata": {},
   "outputs": [
    {
     "data": {
      "text/plain": [
       "False"
      ]
     },
     "execution_count": 11,
     "metadata": {},
     "output_type": "execute_result"
    }
   ],
   "source": [
    "isinstance(x1, str)"
   ]
  },
  {
   "cell_type": "code",
   "execution_count": 12,
   "id": "c75e601d",
   "metadata": {},
   "outputs": [
    {
     "data": {
      "text/plain": [
       "140369841733168"
      ]
     },
     "execution_count": 12,
     "metadata": {},
     "output_type": "execute_result"
    }
   ],
   "source": [
    "id(x1)"
   ]
  },
  {
   "cell_type": "code",
   "execution_count": null,
   "id": "c9561466",
   "metadata": {},
   "outputs": [],
   "source": [
    "a, b = map(int, input().split())"
   ]
  },
  {
   "cell_type": "code",
   "execution_count": 18,
   "id": "b787b473",
   "metadata": {},
   "outputs": [],
   "source": [
    "c = [1, 2] * 2"
   ]
  },
  {
   "cell_type": "code",
   "execution_count": 19,
   "id": "6685619f",
   "metadata": {},
   "outputs": [
    {
     "data": {
      "text/plain": [
       "[1, 2, 1, 2]"
      ]
     },
     "execution_count": 19,
     "metadata": {},
     "output_type": "execute_result"
    }
   ],
   "source": [
    "c"
   ]
  },
  {
   "cell_type": "code",
   "execution_count": 29,
   "id": "975628e8",
   "metadata": {},
   "outputs": [
    {
     "data": {
      "text/plain": [
       "(1, 2, 3, 3)"
      ]
     },
     "execution_count": 29,
     "metadata": {},
     "output_type": "execute_result"
    }
   ],
   "source": [
    "c = tuple([1, 2, 3, 3])\n",
    "c"
   ]
  },
  {
   "cell_type": "code",
   "execution_count": 30,
   "id": "3b2072cf",
   "metadata": {},
   "outputs": [
    {
     "data": {
      "text/plain": [
       "2"
      ]
     },
     "execution_count": 30,
     "metadata": {},
     "output_type": "execute_result"
    }
   ],
   "source": [
    "c.count(3)"
   ]
  },
  {
   "cell_type": "code",
   "execution_count": 31,
   "id": "133a0f2e",
   "metadata": {},
   "outputs": [
    {
     "data": {
      "text/plain": [
       "1"
      ]
     },
     "execution_count": 31,
     "metadata": {},
     "output_type": "execute_result"
    }
   ],
   "source": [
    "c.index(2)"
   ]
  },
  {
   "cell_type": "code",
   "execution_count": null,
   "id": "ad86aeb3",
   "metadata": {},
   "outputs": [],
   "source": []
  }
 ],
 "metadata": {
  "kernelspec": {
   "display_name": "Python 3 (ipykernel)",
   "language": "python",
   "name": "python3"
  },
  "language_info": {
   "codemirror_mode": {
    "name": "ipython",
    "version": 3
   },
   "file_extension": ".py",
   "mimetype": "text/x-python",
   "name": "python",
   "nbconvert_exporter": "python",
   "pygments_lexer": "ipython3",
   "version": "3.8.10"
  },
  "toc": {
   "base_numbering": 1,
   "nav_menu": {},
   "number_sections": true,
   "sideBar": true,
   "skip_h1_title": false,
   "title_cell": "Table of Contents",
   "title_sidebar": "Contents",
   "toc_cell": false,
   "toc_position": {},
   "toc_section_display": true,
   "toc_window_display": false
  }
 },
 "nbformat": 4,
 "nbformat_minor": 5
}
