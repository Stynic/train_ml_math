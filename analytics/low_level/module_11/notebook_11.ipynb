{
 "cells": [
  {
   "cell_type": "markdown",
   "id": "06213b9d",
   "metadata": {},
   "source": [
    "# The module 11 by analytics : Numpy(2)"
   ]
  },
  {
   "cell_type": "markdown",
   "id": "8e1e8d17",
   "metadata": {},
   "source": [
    "## lesson 1 : change dimension in Ndarray"
   ]
  },
  {
   "cell_type": "code",
   "execution_count": 1,
   "id": "175d073f",
   "metadata": {},
   "outputs": [],
   "source": [
    "import numpy as np"
   ]
  },
  {
   "cell_type": "code",
   "execution_count": 2,
   "id": "eb62f120",
   "metadata": {},
   "outputs": [
    {
     "data": {
      "text/plain": [
       "array([ 2,  4,  6,  8, 10, 12, 14, 16, 18, 20, 22, 24, 26, 28])"
      ]
     },
     "execution_count": 2,
     "metadata": {},
     "output_type": "execute_result"
    }
   ],
   "source": [
    "a = np.arange(2, 30, 2)\n",
    "a"
   ]
  },
  {
   "cell_type": "code",
   "execution_count": 3,
   "id": "c9f5ddf3",
   "metadata": {},
   "outputs": [
    {
     "data": {
      "text/plain": [
       "1"
      ]
     },
     "execution_count": 3,
     "metadata": {},
     "output_type": "execute_result"
    }
   ],
   "source": [
    "a.ndim"
   ]
  },
  {
   "cell_type": "code",
   "execution_count": 4,
   "id": "e1ae76f7",
   "metadata": {},
   "outputs": [
    {
     "data": {
      "text/plain": [
       "(14,)"
      ]
     },
     "execution_count": 4,
     "metadata": {},
     "output_type": "execute_result"
    }
   ],
   "source": [
    "a.shape"
   ]
  },
  {
   "cell_type": "code",
   "execution_count": 5,
   "id": "d7137ffb",
   "metadata": {},
   "outputs": [
    {
     "data": {
      "text/plain": [
       "array([[ 2,  4],\n",
       "       [ 6,  8],\n",
       "       [10, 12],\n",
       "       [14, 16],\n",
       "       [18, 20],\n",
       "       [22, 24],\n",
       "       [26, 28]])"
      ]
     },
     "execution_count": 5,
     "metadata": {},
     "output_type": "execute_result"
    }
   ],
   "source": [
    "X = a.reshape(7, 2)\n",
    "X\n",
    "# used to the fuction by reshape for change the form of array"
   ]
  },
  {
   "cell_type": "code",
   "execution_count": 6,
   "id": "7e1fbfc0",
   "metadata": {},
   "outputs": [
    {
     "data": {
      "text/plain": [
       "array([[ 2,  6, 10, 14, 18, 22, 26],\n",
       "       [ 4,  8, 12, 16, 20, 24, 28]])"
      ]
     },
     "execution_count": 6,
     "metadata": {},
     "output_type": "execute_result"
    }
   ],
   "source": [
    "X_T = X.transpose() \n",
    "X_T\n",
    "\n",
    "# doing trasposition, or with help to the X.T"
   ]
  },
  {
   "cell_type": "code",
   "execution_count": 7,
   "id": "2d107632",
   "metadata": {},
   "outputs": [
    {
     "data": {
      "text/plain": [
       "True"
      ]
     },
     "execution_count": 7,
     "metadata": {},
     "output_type": "execute_result"
    }
   ],
   "source": [
    "np.array_equal(X.T, X.transpose())"
   ]
  },
  {
   "cell_type": "code",
   "execution_count": 8,
   "id": "54f8178f",
   "metadata": {},
   "outputs": [
    {
     "data": {
      "text/plain": [
       "array([ 2,  6, 10, 14, 18, 22, 26,  4,  8, 12, 16, 20, 24, 28])"
      ]
     },
     "execution_count": 8,
     "metadata": {},
     "output_type": "execute_result"
    }
   ],
   "source": [
    "#collapse to one row\n",
    "X_T.ravel()"
   ]
  },
  {
   "cell_type": "code",
   "execution_count": 9,
   "id": "ae19c633",
   "metadata": {},
   "outputs": [],
   "source": [
    "income = np.array([[10000, 20000, 40000, 950000],\n",
    "                   [30000, 40000, 50000, 10000]])"
   ]
  },
  {
   "cell_type": "code",
   "execution_count": 11,
   "id": "55ba4324",
   "metadata": {},
   "outputs": [
    {
     "data": {
      "text/plain": [
       "(2, 4)"
      ]
     },
     "execution_count": 11,
     "metadata": {},
     "output_type": "execute_result"
    }
   ],
   "source": [
    "income.shape"
   ]
  },
  {
   "cell_type": "code",
   "execution_count": 23,
   "id": "287a53a3",
   "metadata": {},
   "outputs": [
    {
     "data": {
      "text/plain": [
       "array([[ 9.21034037,  9.90348755, 10.59663473, 13.76421726],\n",
       "       [10.30895266, 10.59663473, 10.81977828,  9.21034037]])"
      ]
     },
     "execution_count": 23,
     "metadata": {},
     "output_type": "execute_result"
    }
   ],
   "source": [
    "np.log(income)"
   ]
  },
  {
   "cell_type": "code",
   "execution_count": 21,
   "id": "5b3d2f25",
   "metadata": {},
   "outputs": [],
   "source": [
    "income_list = [10000, 20000, 40000, 950000, 30000, 40000, 50000, 10000]"
   ]
  },
  {
   "cell_type": "code",
   "execution_count": 22,
   "id": "ef171f19",
   "metadata": {},
   "outputs": [
    {
     "data": {
      "text/plain": [
       "[9.210340371976184,\n",
       " 9.903487552536127,\n",
       " 10.596634733096073,\n",
       " 13.764217263576723,\n",
       " 10.308952660644293,\n",
       " 10.596634733096073,\n",
       " 10.819778284410283,\n",
       " 9.210340371976184]"
      ]
     },
     "execution_count": 22,
     "metadata": {},
     "output_type": "execute_result"
    }
   ],
   "source": [
    "# create and find log for every value from income list with help to the list comprehension\n",
    "import math\n",
    "comincome = [math.log(i) for i in income_list]\n",
    "comincome"
   ]
  },
  {
   "cell_type": "code",
   "execution_count": 24,
   "id": "a75e0a2a",
   "metadata": {},
   "outputs": [],
   "source": [
    "# create structing array\n",
    "info = np.array([('Anna', 19, 168), ('Sam', 33, 175.5), ('Pan', 23, 180)],\n",
    "                dtype=[('name', 'U10'), ('age', int), ('height', float)])"
   ]
  },
  {
   "cell_type": "code",
   "execution_count": 25,
   "id": "25442f85",
   "metadata": {},
   "outputs": [
    {
     "data": {
      "text/plain": [
       "array([('Anna', 19, 168. ), ('Sam', 33, 175.5), ('Pan', 23, 180. )],\n",
       "      dtype=[('name', '<U10'), ('age', '<i8'), ('height', '<f8')])"
      ]
     },
     "execution_count": 25,
     "metadata": {},
     "output_type": "execute_result"
    }
   ],
   "source": [
    "info"
   ]
  },
  {
   "cell_type": "code",
   "execution_count": 26,
   "id": "382fe957",
   "metadata": {},
   "outputs": [
    {
     "data": {
      "text/plain": [
       "array([('Anna', 19, 168. ), ('Sam', 33, 175.5)],\n",
       "      dtype=[('name', '<U10'), ('age', '<i8'), ('height', '<f8')])"
      ]
     },
     "execution_count": 26,
     "metadata": {},
     "output_type": "execute_result"
    }
   ],
   "source": [
    "info[0:2]"
   ]
  },
  {
   "cell_type": "code",
   "execution_count": 27,
   "id": "430c116a",
   "metadata": {},
   "outputs": [
    {
     "data": {
      "text/plain": [
       "array(['Anna', 'Sam', 'Pan'], dtype='<U10')"
      ]
     },
     "execution_count": 27,
     "metadata": {},
     "output_type": "execute_result"
    }
   ],
   "source": [
    "info['name']"
   ]
  },
  {
   "cell_type": "code",
   "execution_count": 28,
   "id": "46b62355",
   "metadata": {},
   "outputs": [
    {
     "data": {
      "text/plain": [
       "'Sam'"
      ]
     },
     "execution_count": 28,
     "metadata": {},
     "output_type": "execute_result"
    }
   ],
   "source": [
    "info['name'][1]"
   ]
  },
  {
   "cell_type": "code",
   "execution_count": 29,
   "id": "3cef4dcc",
   "metadata": {},
   "outputs": [],
   "source": [
    "np.save('info.npy', info)"
   ]
  },
  {
   "cell_type": "code",
   "execution_count": 31,
   "id": "7567a279",
   "metadata": {},
   "outputs": [
    {
     "data": {
      "text/plain": [
       "array([ True,  True,  True])"
      ]
     },
     "execution_count": 31,
     "metadata": {},
     "output_type": "execute_result"
    }
   ],
   "source": [
    "np.load('info.npy') == info"
   ]
  },
  {
   "cell_type": "code",
   "execution_count": 33,
   "id": "efb24e52",
   "metadata": {},
   "outputs": [
    {
     "data": {
      "text/plain": [
       "[('Anna', 19, 168.0), ('Sam', 33, 175.5), ('Pan', 23, 180.0)]"
      ]
     },
     "execution_count": 33,
     "metadata": {},
     "output_type": "execute_result"
    }
   ],
   "source": [
    "info.tolist()"
   ]
  },
  {
   "cell_type": "code",
   "execution_count": null,
   "id": "1703a66c",
   "metadata": {},
   "outputs": [],
   "source": []
  }
 ],
 "metadata": {
  "kernelspec": {
   "display_name": "Python 3 (ipykernel)",
   "language": "python",
   "name": "python3"
  },
  "language_info": {
   "codemirror_mode": {
    "name": "ipython",
    "version": 3
   },
   "file_extension": ".py",
   "mimetype": "text/x-python",
   "name": "python",
   "nbconvert_exporter": "python",
   "pygments_lexer": "ipython3",
   "version": "3.8.10"
  },
  "toc": {
   "base_numbering": 1,
   "nav_menu": {},
   "number_sections": true,
   "sideBar": true,
   "skip_h1_title": false,
   "title_cell": "Table of Contents",
   "title_sidebar": "Contents",
   "toc_cell": false,
   "toc_position": {},
   "toc_section_display": true,
   "toc_window_display": false
  }
 },
 "nbformat": 4,
 "nbformat_minor": 5
}
